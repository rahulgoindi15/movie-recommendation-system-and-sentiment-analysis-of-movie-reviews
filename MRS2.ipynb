{
  "nbformat": 4,
  "nbformat_minor": 0,
  "metadata": {
    "colab": {
      "name": " MRS2.ipynb",
      "provenance": [],
      "collapsed_sections": [],
      "machine_shape": "hm"
    },
    "kernelspec": {
      "name": "python3",
      "display_name": "Python 3"
    },
    "accelerator": "GPU"
  },
  "cells": [
    {
      "cell_type": "code",
      "metadata": {
        "id": "BiCfvkTk-2RS"
      },
      "source": [
        "import numpy as np\n",
        "import pandas as pd\n",
        "import matplotlib.pyplot as plt\n",
        "import sys\n",
        "import pickle"
      ],
      "execution_count": null,
      "outputs": []
    },
    {
      "cell_type": "code",
      "metadata": {
        "id": "qGkLLvC3BBBa",
        "colab": {
          "base_uri": "https://localhost:8080/",
          "height": 122
        },
        "outputId": "76e289df-aa34-4e61-dc78-95abdd514908"
      },
      "source": [
        " from google.colab import drive\n",
        "drive.mount('/content/drive')"
      ],
      "execution_count": null,
      "outputs": [
        {
          "output_type": "stream",
          "text": [
            "Go to this URL in a browser: https://accounts.google.com/o/oauth2/auth?client_id=947318989803-6bn6qk8qdgf4n4g3pfee6491hc0brc4i.apps.googleusercontent.com&redirect_uri=urn%3aietf%3awg%3aoauth%3a2.0%3aoob&response_type=code&scope=email%20https%3a%2f%2fwww.googleapis.com%2fauth%2fdocs.test%20https%3a%2f%2fwww.googleapis.com%2fauth%2fdrive%20https%3a%2f%2fwww.googleapis.com%2fauth%2fdrive.photos.readonly%20https%3a%2f%2fwww.googleapis.com%2fauth%2fpeopleapi.readonly\n",
            "\n",
            "Enter your authorization code:\n",
            "··········\n",
            "Mounted at /content/drive\n"
          ],
          "name": "stdout"
        }
      ]
    },
    {
      "cell_type": "code",
      "metadata": {
        "id": "EoFBNSRMrN9H",
        "colab": {
          "base_uri": "https://localhost:8080/",
          "height": 34
        },
        "outputId": "02f26ef4-a38b-4d37-e7c4-42baedc03ed3"
      },
      "source": [
        "cd/content/drive/My Drive/Movie Recommendation System"
      ],
      "execution_count": null,
      "outputs": [
        {
          "output_type": "stream",
          "text": [
            "/content/drive/.shortcut-targets-by-id/1Wh7IUBKZMN1Yx-I8qZwSWj09hC2VaZfl/Movie Recommendation System\n"
          ],
          "name": "stdout"
        }
      ]
    },
    {
      "cell_type": "code",
      "metadata": {
        "id": "EwQ5XhpCBIGR"
      },
      "source": [
        "ratings=pd.read_csv('ratings.csv')\n",
        "movies=pd.read_csv('movies.csv')\n",
        "tags=pd.read_csv('tags.csv')"
      ],
      "execution_count": null,
      "outputs": []
    },
    {
      "cell_type": "code",
      "metadata": {
        "id": "4BxgPiUBBLKE",
        "colab": {
          "base_uri": "https://localhost:8080/",
          "height": 136
        },
        "outputId": "e1205432-7a7e-475a-e0c4-45d5aeac6d8c"
      },
      "source": [
        "print(ratings.head())\n",
        "print(ratings.shape)"
      ],
      "execution_count": null,
      "outputs": [
        {
          "output_type": "stream",
          "text": [
            "   userId  movieId  rating  timestamp\n",
            "0       1        1     4.0  964982703\n",
            "1       1        3     4.0  964981247\n",
            "2       1        6     4.0  964982224\n",
            "3       1       47     5.0  964983815\n",
            "4       1       50     5.0  964982931\n",
            "(100836, 4)\n"
          ],
          "name": "stdout"
        }
      ]
    },
    {
      "cell_type": "code",
      "metadata": {
        "id": "mdoyjRqEBOsL",
        "colab": {
          "base_uri": "https://localhost:8080/",
          "height": 170
        },
        "outputId": "52a5ef17-719c-4a73-85b3-7167342d9b1b"
      },
      "source": [
        "print(movies.head())\n",
        "print(movies.shape)"
      ],
      "execution_count": null,
      "outputs": [
        {
          "output_type": "stream",
          "text": [
            "   movieId  ...                                       genres\n",
            "0        1  ...  Adventure|Animation|Children|Comedy|Fantasy\n",
            "1        2  ...                   Adventure|Children|Fantasy\n",
            "2        3  ...                               Comedy|Romance\n",
            "3        4  ...                         Comedy|Drama|Romance\n",
            "4        5  ...                                       Comedy\n",
            "\n",
            "[5 rows x 3 columns]\n",
            "(9742, 3)\n"
          ],
          "name": "stdout"
        }
      ]
    },
    {
      "cell_type": "code",
      "metadata": {
        "id": "awa-QKyCCpds",
        "colab": {
          "base_uri": "https://localhost:8080/",
          "height": 34
        },
        "outputId": "ba06ee09-b3b9-4f89-98ba-272de72aa740"
      },
      "source": [
        "print(movies.shape)"
      ],
      "execution_count": null,
      "outputs": [
        {
          "output_type": "stream",
          "text": [
            "(9742, 3)\n"
          ],
          "name": "stdout"
        }
      ]
    },
    {
      "cell_type": "code",
      "metadata": {
        "id": "9C1s6JMuBTgv",
        "colab": {
          "base_uri": "https://localhost:8080/",
          "height": 136
        },
        "outputId": "5938655e-d35c-47c2-feea-b9f1f433ca8f"
      },
      "source": [
        "print(tags.head())\n",
        "print(tags.shape)"
      ],
      "execution_count": null,
      "outputs": [
        {
          "output_type": "stream",
          "text": [
            "   userId  movieId              tag   timestamp\n",
            "0       2    60756            funny  1445714994\n",
            "1       2    60756  Highly quotable  1445714996\n",
            "2       2    60756     will ferrell  1445714992\n",
            "3       2    89774     Boxing story  1445715207\n",
            "4       2    89774              MMA  1445715200\n",
            "(3683, 4)\n"
          ],
          "name": "stdout"
        }
      ]
    },
    {
      "cell_type": "code",
      "metadata": {
        "id": "AQdfWQNTDFBa",
        "colab": {
          "base_uri": "https://localhost:8080/",
          "height": 33
        },
        "outputId": "fda2e2df-8bc3-4c64-ab39-ad38a13fede7"
      },
      "source": [
        "print(tags.shape)"
      ],
      "execution_count": null,
      "outputs": [
        {
          "output_type": "stream",
          "text": [
            "(3683, 4)\n"
          ],
          "name": "stdout"
        }
      ]
    },
    {
      "cell_type": "code",
      "metadata": {
        "id": "ka0ib-y1C7_l",
        "colab": {
          "base_uri": "https://localhost:8080/",
          "height": 466
        },
        "outputId": "78be3d01-8e7d-4600-eba4-b77cdede054e"
      },
      "source": [
        "# Import new libraries\n",
        "%matplotlib inline\n",
        "import wordcloud\n",
        "from wordcloud import WordCloud, STOPWORDS\n",
        "\n",
        "# Create a wordcloud of the movie titles\n",
        "movies['title'] = movies['title'].fillna(\"\").astype('str')\n",
        "title_corpus = ' '.join(movies['title'])\n",
        "title_wordcloud = WordCloud(stopwords=STOPWORDS, background_color='black', height=2000, width=4000).generate(title_corpus)\n",
        "\n",
        "# Plot the wordcloud\n",
        "plt.figure(figsize=(16,8))\n",
        "plt.imshow(title_wordcloud)\n",
        "plt.axis('off')\n",
        "plt.show()"
      ],
      "execution_count": null,
      "outputs": [
        {
          "output_type": "display_data",
          "data": {
            "image/png": "[encoded data removed]",
            "text/plain": [
              "<Figure size 1152x576 with 1 Axes>"
            ]
          },
          "metadata": {
            "tags": [],
            "needs_background": "light"
          }
        }
      ]
    },
    {
      "cell_type": "code",
      "metadata": {
        "id": "lHVaWUpODHNp",
        "colab": {
          "base_uri": "https://localhost:8080/",
          "height": 98
        },
        "outputId": "82703e88-f1ca-4dc1-b475-320a50f35418"
      },
      "source": [
        "# Make a census of the genre keywords\n",
        "genre_labels = set()\n",
        "for s in movies['genres'].str.split('|').values:\n",
        "    genre_labels = genre_labels.union(set(s))\n",
        "\n",
        "# Function that counts the number of times each of the genre keywords appear\n",
        "def count_word(dataset, ref_col, census):\n",
        "    keyword_count = dict()\n",
        "    for s in census: \n",
        "        keyword_count[s] = 0\n",
        "    for census_keywords in dataset[ref_col].str.split('|'):        \n",
        "        if type(census_keywords) == float and pd.isnull(census_keywords): \n",
        "            continue        \n",
        "        for s in [s for s in census_keywords if s in census]: \n",
        "            if pd.notnull(s): \n",
        "                keyword_count[s] += 1\n",
        "    #______________________________________________________________________\n",
        "    # convert the dictionary in a list to sort the keywords by frequency\n",
        "    keyword_occurences = []\n",
        "    for k,v in keyword_count.items():\n",
        "        keyword_occurences.append([k,v])\n",
        "    keyword_occurences.sort(key = lambda x:x[1], reverse = True)\n",
        "    return keyword_occurences, keyword_count\n",
        "\n",
        "# Calling this function gives access to a list of genre keywords which are sorted by decreasing frequency\n",
        "keyword_occurences, dum = count_word(movies, 'genres', genre_labels)\n",
        "keyword_occurences[:5]"
      ],
      "execution_count": null,
      "outputs": [
        {
          "output_type": "execute_result",
          "data": {
            "text/plain": [
              "[['Drama', 4361],\n",
              " ['Comedy', 3756],\n",
              " ['Thriller', 1894],\n",
              " ['Action', 1828],\n",
              " ['Romance', 1596]]"
            ]
          },
          "metadata": {
            "tags": []
          },
          "execution_count": 125
        }
      ]
    },
    {
      "cell_type": "code",
      "metadata": {
        "id": "KVyKOZrpDSop",
        "colab": {
          "base_uri": "https://localhost:8080/",
          "height": 387
        },
        "outputId": "3332d86f-8781-476f-b177-6c90660b0dd7"
      },
      "source": [
        "# Define the dictionary used to produce the genre wordcloud\n",
        "genres = dict()\n",
        "trunc_occurences = keyword_occurences[0:18]\n",
        "for s in trunc_occurences:\n",
        "    genres[s[0]] = s[1]\n",
        "\n",
        "# Create the wordcloud\n",
        "genre_wordcloud = WordCloud(width=1000,height=400, background_color='white')\n",
        "genre_wordcloud.generate_from_frequencies(genres)\n",
        "\n",
        "# Plot the wordcloud\n",
        "f, ax = plt.subplots(figsize=(16, 8))\n",
        "plt.imshow(genre_wordcloud, interpolation=\"bilinear\")\n",
        "plt.axis('off')\n",
        "plt.show()"
      ],
      "execution_count": null,
      "outputs": [
        {
          "output_type": "display_data",
          "data": {
            "image/png": "[encoded data removed]",
            "text/plain": [
              "<Figure size 1152x576 with 1 Axes>"
            ]
          },
          "metadata": {
            "tags": [],
            "needs_background": "light"
          }
        }
      ]
    },
    {
      "cell_type": "markdown",
      "metadata": {
        "id": "pmkSwGSXIAdC"
      },
      "source": [
        "DATA PREPROCESSING"
      ]
    },
    {
      "cell_type": "code",
      "metadata": {
        "id": "WP9EEG9uHGoC"
      },
      "source": [
        "movies['genres']=movies['genres'].str.replace('|',' ')"
      ],
      "execution_count": null,
      "outputs": []
    },
    {
      "cell_type": "code",
      "metadata": {
        "id": "eeptcVBDHPzV",
        "colab": {
          "base_uri": "https://localhost:8080/",
          "height": 191
        },
        "outputId": "e1dba935-f4a3-4a47-cae1-9658d8fb9848"
      },
      "source": [
        "movies.head()"
      ],
      "execution_count": null,
      "outputs": [
        {
          "output_type": "execute_result",
          "data": {
            "text/html": [
              "<div>\n",
              "<style scoped>\n",
              "    .dataframe tbody tr th:only-of-type {\n",
              "        vertical-align: middle;\n",
              "    }\n",
              "\n",
              "    .dataframe tbody tr th {\n",
              "        vertical-align: top;\n",
              "    }\n",
              "\n",
              "    .dataframe thead th {\n",
              "        text-align: right;\n",
              "    }\n",
              "</style>\n",
              "<table border=\"1\" class=\"dataframe\">\n",
              "  <thead>\n",
              "    <tr style=\"text-align: right;\">\n",
              "      <th></th>\n",
              "      <th>movieId</th>\n",
              "      <th>title</th>\n",
              "      <th>genres</th>\n",
              "    </tr>\n",
              "  </thead>\n",
              "  <tbody>\n",
              "    <tr>\n",
              "      <th>0</th>\n",
              "      <td>1</td>\n",
              "      <td>Toy Story (1995)</td>\n",
              "      <td>Adventure Animation Children Comedy Fantasy</td>\n",
              "    </tr>\n",
              "    <tr>\n",
              "      <th>1</th>\n",
              "      <td>2</td>\n",
              "      <td>Jumanji (1995)</td>\n",
              "      <td>Adventure Children Fantasy</td>\n",
              "    </tr>\n",
              "    <tr>\n",
              "      <th>2</th>\n",
              "      <td>3</td>\n",
              "      <td>Grumpier Old Men (1995)</td>\n",
              "      <td>Comedy Romance</td>\n",
              "    </tr>\n",
              "    <tr>\n",
              "      <th>3</th>\n",
              "      <td>4</td>\n",
              "      <td>Waiting to Exhale (1995)</td>\n",
              "      <td>Comedy Drama Romance</td>\n",
              "    </tr>\n",
              "    <tr>\n",
              "      <th>4</th>\n",
              "      <td>5</td>\n",
              "      <td>Father of the Bride Part II (1995)</td>\n",
              "      <td>Comedy</td>\n",
              "    </tr>\n",
              "  </tbody>\n",
              "</table>\n",
              "</div>"
            ],
            "text/plain": [
              "   movieId  ...                                       genres\n",
              "0        1  ...  Adventure Animation Children Comedy Fantasy\n",
              "1        2  ...                   Adventure Children Fantasy\n",
              "2        3  ...                               Comedy Romance\n",
              "3        4  ...                         Comedy Drama Romance\n",
              "4        5  ...                                       Comedy\n",
              "\n",
              "[5 rows x 3 columns]"
            ]
          },
          "metadata": {
            "tags": []
          },
          "execution_count": 128
        }
      ]
    },
    {
      "cell_type": "code",
      "metadata": {
        "id": "r_kgpSJfBx3e",
        "colab": {
          "base_uri": "https://localhost:8080/",
          "height": 33
        },
        "outputId": "54a1b53e-c1c0-4952-cacd-62c1f7d999bd"
      },
      "source": [
        "\n",
        "len(movies.movieId.unique())"
      ],
      "execution_count": null,
      "outputs": [
        {
          "output_type": "execute_result",
          "data": {
            "text/plain": [
              "9742"
            ]
          },
          "metadata": {
            "tags": []
          },
          "execution_count": 129
        }
      ]
    },
    {
      "cell_type": "code",
      "metadata": {
        "id": "wiISykzqB16N",
        "colab": {
          "base_uri": "https://localhost:8080/",
          "height": 33
        },
        "outputId": "bc939f86-58cb-4b4c-c1e5-f4b508c422ba"
      },
      "source": [
        "len(ratings.movieId.unique())"
      ],
      "execution_count": null,
      "outputs": [
        {
          "output_type": "execute_result",
          "data": {
            "text/plain": [
              "9724"
            ]
          },
          "metadata": {
            "tags": []
          },
          "execution_count": 130
        }
      ]
    },
    {
      "cell_type": "code",
      "metadata": {
        "id": "lH_88jT2B5Q4",
        "colab": {
          "base_uri": "https://localhost:8080/",
          "height": 33
        },
        "outputId": "2789fda6-e063-4ec0-f49e-488d64622912"
      },
      "source": [
        "len(tags.movieId.unique())"
      ],
      "execution_count": null,
      "outputs": [
        {
          "output_type": "execute_result",
          "data": {
            "text/plain": [
              "1572"
            ]
          },
          "metadata": {
            "tags": []
          },
          "execution_count": 131
        }
      ]
    },
    {
      "cell_type": "code",
      "metadata": {
        "id": "FopPaCv5B-2W"
      },
      "source": [
        "#limit ratings to user ratings that have rated more than 55 movies\n",
        "#Otherwise it becomes impossible to pivot the rating dataframe later for collaborative filtering\n",
        "\n",
        "ratings_f=ratings.groupby('userId').filter(lambda x: len(x)>=55)\n",
        "\n",
        "#list the movie titles that survive the filtering\n",
        "movie_list_rating =ratings_f.movieId.unique().tolist()"
      ],
      "execution_count": null,
      "outputs": []
    },
    {
      "cell_type": "code",
      "metadata": {
        "id": "ldaOZPAaCALP",
        "colab": {
          "base_uri": "https://localhost:8080/",
          "height": 33
        },
        "outputId": "2dad8f07-eaae-4375-e461-9037d11e5a34"
      },
      "source": [
        "len(ratings_f.movieId.unique())"
      ],
      "execution_count": null,
      "outputs": [
        {
          "output_type": "execute_result",
          "data": {
            "text/plain": [
              "9625"
            ]
          },
          "metadata": {
            "tags": []
          },
          "execution_count": 16
        }
      ]
    },
    {
      "cell_type": "code",
      "metadata": {
        "id": "yVr82-vNCGSV",
        "colab": {
          "base_uri": "https://localhost:8080/",
          "height": 33
        },
        "outputId": "85b04287-e623-4255-f60d-801a24617dfa"
      },
      "source": [
        "len (ratings_f.movieId.unique())/len (movies.movieId.unique())*100"
      ],
      "execution_count": null,
      "outputs": [
        {
          "output_type": "execute_result",
          "data": {
            "text/plain": [
              "98.7990145760624"
            ]
          },
          "metadata": {
            "tags": []
          },
          "execution_count": 18
        }
      ]
    },
    {
      "cell_type": "code",
      "metadata": {
        "id": "QjWZQXp_CNlg",
        "colab": {
          "base_uri": "https://localhost:8080/",
          "height": 33
        },
        "outputId": "4f5c5228-3230-4da7-d9c3-72003df4b148"
      },
      "source": [
        "len (ratings_f.userId.unique())/len (ratings.userId.unique())*100"
      ],
      "execution_count": null,
      "outputs": [
        {
          "output_type": "execute_result",
          "data": {
            "text/plain": [
              "59.67213114754099"
            ]
          },
          "metadata": {
            "tags": []
          },
          "execution_count": 19
        }
      ]
    },
    {
      "cell_type": "code",
      "metadata": {
        "id": "ZU87XNHQCQrI"
      },
      "source": [
        "movies=movies[movies.movieId.isin(movie_list_rating)]"
      ],
      "execution_count": null,
      "outputs": []
    },
    {
      "cell_type": "code",
      "metadata": {
        "id": "X6n1RFATCUSH",
        "colab": {
          "base_uri": "https://localhost:8080/",
          "height": 204
        },
        "outputId": "4b42b52b-bea7-42d0-ab17-ad104ff1582f"
      },
      "source": [
        "movies.head()"
      ],
      "execution_count": null,
      "outputs": [
        {
          "output_type": "execute_result",
          "data": {
            "text/html": [
              "<div>\n",
              "<style scoped>\n",
              "    .dataframe tbody tr th:only-of-type {\n",
              "        vertical-align: middle;\n",
              "    }\n",
              "\n",
              "    .dataframe tbody tr th {\n",
              "        vertical-align: top;\n",
              "    }\n",
              "\n",
              "    .dataframe thead th {\n",
              "        text-align: right;\n",
              "    }\n",
              "</style>\n",
              "<table border=\"1\" class=\"dataframe\">\n",
              "  <thead>\n",
              "    <tr style=\"text-align: right;\">\n",
              "      <th></th>\n",
              "      <th>movieId</th>\n",
              "      <th>title</th>\n",
              "      <th>genres</th>\n",
              "    </tr>\n",
              "  </thead>\n",
              "  <tbody>\n",
              "    <tr>\n",
              "      <th>0</th>\n",
              "      <td>1</td>\n",
              "      <td>Toy Story (1995)</td>\n",
              "      <td>Adventure Animation Children Comedy Fantasy</td>\n",
              "    </tr>\n",
              "    <tr>\n",
              "      <th>1</th>\n",
              "      <td>2</td>\n",
              "      <td>Jumanji (1995)</td>\n",
              "      <td>Adventure Children Fantasy</td>\n",
              "    </tr>\n",
              "    <tr>\n",
              "      <th>2</th>\n",
              "      <td>3</td>\n",
              "      <td>Grumpier Old Men (1995)</td>\n",
              "      <td>Comedy Romance</td>\n",
              "    </tr>\n",
              "    <tr>\n",
              "      <th>3</th>\n",
              "      <td>4</td>\n",
              "      <td>Waiting to Exhale (1995)</td>\n",
              "      <td>Comedy Drama Romance</td>\n",
              "    </tr>\n",
              "    <tr>\n",
              "      <th>4</th>\n",
              "      <td>5</td>\n",
              "      <td>Father of the Bride Part II (1995)</td>\n",
              "      <td>Comedy</td>\n",
              "    </tr>\n",
              "  </tbody>\n",
              "</table>\n",
              "</div>"
            ],
            "text/plain": [
              "   movieId  ...                                       genres\n",
              "0        1  ...  Adventure Animation Children Comedy Fantasy\n",
              "1        2  ...                   Adventure Children Fantasy\n",
              "2        3  ...                               Comedy Romance\n",
              "3        4  ...                         Comedy Drama Romance\n",
              "4        5  ...                                       Comedy\n",
              "\n",
              "[5 rows x 3 columns]"
            ]
          },
          "metadata": {
            "tags": []
          },
          "execution_count": 21
        }
      ]
    },
    {
      "cell_type": "code",
      "metadata": {
        "id": "3T3e9KSoCXr0"
      },
      "source": [
        "Mapping_file=dict(zip(movies.title.tolist(),movies.movieId.tolist()))"
      ],
      "execution_count": null,
      "outputs": []
    },
    {
      "cell_type": "code",
      "metadata": {
        "id": "7dlxWl3ZCblT"
      },
      "source": [
        "tags.drop(['timestamp'],1,inplace=True)\n",
        "ratings_f.drop(['timestamp'],1,inplace=True)"
      ],
      "execution_count": null,
      "outputs": []
    },
    {
      "cell_type": "code",
      "metadata": {
        "id": "Z-F3VMSlCdSd",
        "colab": {
          "base_uri": "https://localhost:8080/",
          "height": 191
        },
        "outputId": "e95270f4-b8ca-45c8-93a7-a3c73cdf0bef"
      },
      "source": [
        "tags.head()"
      ],
      "execution_count": null,
      "outputs": [
        {
          "output_type": "execute_result",
          "data": {
            "text/html": [
              "<div>\n",
              "<style scoped>\n",
              "    .dataframe tbody tr th:only-of-type {\n",
              "        vertical-align: middle;\n",
              "    }\n",
              "\n",
              "    .dataframe tbody tr th {\n",
              "        vertical-align: top;\n",
              "    }\n",
              "\n",
              "    .dataframe thead th {\n",
              "        text-align: right;\n",
              "    }\n",
              "</style>\n",
              "<table border=\"1\" class=\"dataframe\">\n",
              "  <thead>\n",
              "    <tr style=\"text-align: right;\">\n",
              "      <th></th>\n",
              "      <th>userId</th>\n",
              "      <th>movieId</th>\n",
              "      <th>tag</th>\n",
              "    </tr>\n",
              "  </thead>\n",
              "  <tbody>\n",
              "    <tr>\n",
              "      <th>0</th>\n",
              "      <td>2</td>\n",
              "      <td>60756</td>\n",
              "      <td>funny</td>\n",
              "    </tr>\n",
              "    <tr>\n",
              "      <th>1</th>\n",
              "      <td>2</td>\n",
              "      <td>60756</td>\n",
              "      <td>Highly quotable</td>\n",
              "    </tr>\n",
              "    <tr>\n",
              "      <th>2</th>\n",
              "      <td>2</td>\n",
              "      <td>60756</td>\n",
              "      <td>will ferrell</td>\n",
              "    </tr>\n",
              "    <tr>\n",
              "      <th>3</th>\n",
              "      <td>2</td>\n",
              "      <td>89774</td>\n",
              "      <td>Boxing story</td>\n",
              "    </tr>\n",
              "    <tr>\n",
              "      <th>4</th>\n",
              "      <td>2</td>\n",
              "      <td>89774</td>\n",
              "      <td>MMA</td>\n",
              "    </tr>\n",
              "  </tbody>\n",
              "</table>\n",
              "</div>"
            ],
            "text/plain": [
              "   userId  movieId              tag\n",
              "0       2    60756            funny\n",
              "1       2    60756  Highly quotable\n",
              "2       2    60756     will ferrell\n",
              "3       2    89774     Boxing story\n",
              "4       2    89774              MMA"
            ]
          },
          "metadata": {
            "tags": []
          },
          "execution_count": 24
        }
      ]
    },
    {
      "cell_type": "code",
      "metadata": {
        "id": "kOnqMhuLCmwK",
        "colab": {
          "base_uri": "https://localhost:8080/",
          "height": 191
        },
        "outputId": "2824456d-2ee2-49aa-866f-bbf2a53d1ae8"
      },
      "source": [
        "ratings_f.head()"
      ],
      "execution_count": null,
      "outputs": [
        {
          "output_type": "execute_result",
          "data": {
            "text/html": [
              "<div>\n",
              "<style scoped>\n",
              "    .dataframe tbody tr th:only-of-type {\n",
              "        vertical-align: middle;\n",
              "    }\n",
              "\n",
              "    .dataframe tbody tr th {\n",
              "        vertical-align: top;\n",
              "    }\n",
              "\n",
              "    .dataframe thead th {\n",
              "        text-align: right;\n",
              "    }\n",
              "</style>\n",
              "<table border=\"1\" class=\"dataframe\">\n",
              "  <thead>\n",
              "    <tr style=\"text-align: right;\">\n",
              "      <th></th>\n",
              "      <th>userId</th>\n",
              "      <th>movieId</th>\n",
              "      <th>rating</th>\n",
              "    </tr>\n",
              "  </thead>\n",
              "  <tbody>\n",
              "    <tr>\n",
              "      <th>0</th>\n",
              "      <td>1</td>\n",
              "      <td>1</td>\n",
              "      <td>4.0</td>\n",
              "    </tr>\n",
              "    <tr>\n",
              "      <th>1</th>\n",
              "      <td>1</td>\n",
              "      <td>3</td>\n",
              "      <td>4.0</td>\n",
              "    </tr>\n",
              "    <tr>\n",
              "      <th>2</th>\n",
              "      <td>1</td>\n",
              "      <td>6</td>\n",
              "      <td>4.0</td>\n",
              "    </tr>\n",
              "    <tr>\n",
              "      <th>3</th>\n",
              "      <td>1</td>\n",
              "      <td>47</td>\n",
              "      <td>5.0</td>\n",
              "    </tr>\n",
              "    <tr>\n",
              "      <th>4</th>\n",
              "      <td>1</td>\n",
              "      <td>50</td>\n",
              "      <td>5.0</td>\n",
              "    </tr>\n",
              "  </tbody>\n",
              "</table>\n",
              "</div>"
            ],
            "text/plain": [
              "   userId  movieId  rating\n",
              "0       1        1     4.0\n",
              "1       1        3     4.0\n",
              "2       1        6     4.0\n",
              "3       1       47     5.0\n",
              "4       1       50     5.0"
            ]
          },
          "metadata": {
            "tags": []
          },
          "execution_count": 25
        }
      ]
    },
    {
      "cell_type": "code",
      "metadata": {
        "id": "mp_qvlNTCtGo",
        "colab": {
          "base_uri": "https://localhost:8080/",
          "height": 191
        },
        "outputId": "ffdb15d6-9479-4023-a431-760a1cbc7b72"
      },
      "source": [
        "mixed = pd.merge(movies, tags, on='movieId', how='left')\n",
        "mixed.head()"
      ],
      "execution_count": null,
      "outputs": [
        {
          "output_type": "execute_result",
          "data": {
            "text/html": [
              "<div>\n",
              "<style scoped>\n",
              "    .dataframe tbody tr th:only-of-type {\n",
              "        vertical-align: middle;\n",
              "    }\n",
              "\n",
              "    .dataframe tbody tr th {\n",
              "        vertical-align: top;\n",
              "    }\n",
              "\n",
              "    .dataframe thead th {\n",
              "        text-align: right;\n",
              "    }\n",
              "</style>\n",
              "<table border=\"1\" class=\"dataframe\">\n",
              "  <thead>\n",
              "    <tr style=\"text-align: right;\">\n",
              "      <th></th>\n",
              "      <th>movieId</th>\n",
              "      <th>title</th>\n",
              "      <th>genres</th>\n",
              "      <th>userId</th>\n",
              "      <th>tag</th>\n",
              "    </tr>\n",
              "  </thead>\n",
              "  <tbody>\n",
              "    <tr>\n",
              "      <th>0</th>\n",
              "      <td>1</td>\n",
              "      <td>Toy Story (1995)</td>\n",
              "      <td>Adventure Animation Children Comedy Fantasy</td>\n",
              "      <td>336.0</td>\n",
              "      <td>pixar</td>\n",
              "    </tr>\n",
              "    <tr>\n",
              "      <th>1</th>\n",
              "      <td>1</td>\n",
              "      <td>Toy Story (1995)</td>\n",
              "      <td>Adventure Animation Children Comedy Fantasy</td>\n",
              "      <td>474.0</td>\n",
              "      <td>pixar</td>\n",
              "    </tr>\n",
              "    <tr>\n",
              "      <th>2</th>\n",
              "      <td>1</td>\n",
              "      <td>Toy Story (1995)</td>\n",
              "      <td>Adventure Animation Children Comedy Fantasy</td>\n",
              "      <td>567.0</td>\n",
              "      <td>fun</td>\n",
              "    </tr>\n",
              "    <tr>\n",
              "      <th>3</th>\n",
              "      <td>2</td>\n",
              "      <td>Jumanji (1995)</td>\n",
              "      <td>Adventure Children Fantasy</td>\n",
              "      <td>62.0</td>\n",
              "      <td>fantasy</td>\n",
              "    </tr>\n",
              "    <tr>\n",
              "      <th>4</th>\n",
              "      <td>2</td>\n",
              "      <td>Jumanji (1995)</td>\n",
              "      <td>Adventure Children Fantasy</td>\n",
              "      <td>62.0</td>\n",
              "      <td>magic board game</td>\n",
              "    </tr>\n",
              "  </tbody>\n",
              "</table>\n",
              "</div>"
            ],
            "text/plain": [
              "   movieId             title  ... userId               tag\n",
              "0        1  Toy Story (1995)  ...  336.0             pixar\n",
              "1        1  Toy Story (1995)  ...  474.0             pixar\n",
              "2        1  Toy Story (1995)  ...  567.0               fun\n",
              "3        2    Jumanji (1995)  ...   62.0           fantasy\n",
              "4        2    Jumanji (1995)  ...   62.0  magic board game\n",
              "\n",
              "[5 rows x 5 columns]"
            ]
          },
          "metadata": {
            "tags": []
          },
          "execution_count": 26
        }
      ]
    },
    {
      "cell_type": "code",
      "metadata": {
        "id": "uVF-2Yj2Cyh8",
        "colab": {
          "base_uri": "https://localhost:8080/",
          "height": 133
        },
        "outputId": "7a0d14e3-d559-4b20-f1cc-3bcd2eecfc93"
      },
      "source": [
        "mixed.fillna(\"\", inplace=True)\n",
        "mixed = pd.DataFrame(mixed.groupby('movieId')['tag'].apply(\n",
        "                             lambda x: \"%s\" % ' '.join(x)))\n",
        "Final = pd.merge(movies, mixed, on='movieId', how='left')\n",
        "Final ['metadata'] = Final[['tag', 'genres']].apply(\n",
        "                             lambda x: ' '.join(x), axis = 1)\n",
        "Final[['movieId','title','metadata']].head(3)"
      ],
      "execution_count": null,
      "outputs": [
        {
          "output_type": "execute_result",
          "data": {
            "text/html": [
              "<div>\n",
              "<style scoped>\n",
              "    .dataframe tbody tr th:only-of-type {\n",
              "        vertical-align: middle;\n",
              "    }\n",
              "\n",
              "    .dataframe tbody tr th {\n",
              "        vertical-align: top;\n",
              "    }\n",
              "\n",
              "    .dataframe thead th {\n",
              "        text-align: right;\n",
              "    }\n",
              "</style>\n",
              "<table border=\"1\" class=\"dataframe\">\n",
              "  <thead>\n",
              "    <tr style=\"text-align: right;\">\n",
              "      <th></th>\n",
              "      <th>movieId</th>\n",
              "      <th>title</th>\n",
              "      <th>metadata</th>\n",
              "    </tr>\n",
              "  </thead>\n",
              "  <tbody>\n",
              "    <tr>\n",
              "      <th>0</th>\n",
              "      <td>1</td>\n",
              "      <td>Toy Story (1995)</td>\n",
              "      <td>pixar pixar fun Adventure Animation Children C...</td>\n",
              "    </tr>\n",
              "    <tr>\n",
              "      <th>1</th>\n",
              "      <td>2</td>\n",
              "      <td>Jumanji (1995)</td>\n",
              "      <td>fantasy magic board game Robin Williams game A...</td>\n",
              "    </tr>\n",
              "    <tr>\n",
              "      <th>2</th>\n",
              "      <td>3</td>\n",
              "      <td>Grumpier Old Men (1995)</td>\n",
              "      <td>moldy old Comedy Romance</td>\n",
              "    </tr>\n",
              "  </tbody>\n",
              "</table>\n",
              "</div>"
            ],
            "text/plain": [
              "   movieId  ...                                           metadata\n",
              "0        1  ...  pixar pixar fun Adventure Animation Children C...\n",
              "1        2  ...  fantasy magic board game Robin Williams game A...\n",
              "2        3  ...                           moldy old Comedy Romance\n",
              "\n",
              "[3 rows x 3 columns]"
            ]
          },
          "metadata": {
            "tags": []
          },
          "execution_count": 27
        }
      ]
    },
    {
      "cell_type": "code",
      "metadata": {
        "id": "RjoMXJsTC2mm",
        "colab": {
          "base_uri": "https://localhost:8080/",
          "height": 33
        },
        "outputId": "4b6d0cf5-6622-41e4-fb35-bd1b98ec1f70"
      },
      "source": [
        "Final.shape"
      ],
      "execution_count": null,
      "outputs": [
        {
          "output_type": "execute_result",
          "data": {
            "text/plain": [
              "(9625, 5)"
            ]
          },
          "metadata": {
            "tags": []
          },
          "execution_count": 28
        }
      ]
    },
    {
      "cell_type": "markdown",
      "metadata": {
        "id": "Mti9cOjHC6jY"
      },
      "source": [
        "CONTENT BASED FILTERING"
      ]
    },
    {
      "cell_type": "code",
      "metadata": {
        "id": "IXFmnGxfC-ph"
      },
      "source": [
        "from sklearn.feature_extraction.text import TfidfVectorizer\n",
        "tfidf = TfidfVectorizer(stop_words='english')\n",
        "tfidf_matrix = tfidf.fit_transform(Final['metadata'])"
      ],
      "execution_count": null,
      "outputs": []
    },
    {
      "cell_type": "code",
      "metadata": {
        "id": "2kGIWFUhDDHL",
        "colab": {
          "base_uri": "https://localhost:8080/",
          "height": 33
        },
        "outputId": "d537179f-60f4-4778-fbee-c8d14add446a"
      },
      "source": [
        "tfidf_matrix.shape"
      ],
      "execution_count": null,
      "outputs": [
        {
          "output_type": "execute_result",
          "data": {
            "text/plain": [
              "(9625, 1675)"
            ]
          },
          "metadata": {
            "tags": []
          },
          "execution_count": 30
        }
      ]
    },
    {
      "cell_type": "code",
      "metadata": {
        "id": "Z6PWHnWSqDXr",
        "colab": {
          "base_uri": "https://localhost:8080/",
          "height": 82
        },
        "outputId": "6455ab4a-46ef-4775-91ca-3fbbd268cd4d"
      },
      "source": [
        "from sklearn.metrics.pairwise import linear_kernel\n",
        "cosine_sim = linear_kernel(tfidf_matrix, tfidf_matrix)\n",
        "cosine_sim[:4, :4]"
      ],
      "execution_count": null,
      "outputs": [
        {
          "output_type": "execute_result",
          "data": {
            "text/plain": [
              "array([[1.        , 0.08801192, 0.01347327, 0.04821012],\n",
              "       [0.08801192, 1.        , 0.        , 0.        ],\n",
              "       [0.01347327, 0.        , 1.        , 0.2186134 ],\n",
              "       [0.04821012, 0.        , 0.2186134 , 1.        ]])"
            ]
          },
          "metadata": {
            "tags": []
          },
          "execution_count": 31
        }
      ]
    },
    {
      "cell_type": "code",
      "metadata": {
        "id": "np3IN7uaPt68",
        "colab": {
          "base_uri": "https://localhost:8080/",
          "height": 33
        },
        "outputId": "e3313e91-3bdc-453a-b20f-733d3641d874"
      },
      "source": [
        "cosine_sim.shape"
      ],
      "execution_count": null,
      "outputs": [
        {
          "output_type": "execute_result",
          "data": {
            "text/plain": [
              "(9625, 9625)"
            ]
          },
          "metadata": {
            "tags": []
          },
          "execution_count": 134
        }
      ]
    },
    {
      "cell_type": "code",
      "metadata": {
        "id": "i7pNpit1uKLy"
      },
      "source": [
        "# Build a 1-dimensional array with movie titles\n",
        "titles = movies['title']\n",
        "indices = pd.Series(movies.index, index=movies['title'])\n",
        "\n",
        "# Function that get movie recommendations based on the cosine similarity score of movie genres\n",
        "def genre_recommendations(title):\n",
        "    idx = indices[title]\n",
        "    sim_scores = list(enumerate(cosine_sim[idx]))\n",
        "    sim_scores = sorted(sim_scores, key=lambda x: x[1], reverse=True)\n",
        "    sim_scores = sim_scores[1:21]\n",
        "    movie_indices = [i[0] for i in sim_scores]\n",
        "    return titles.iloc[movie_indices]"
      ],
      "execution_count": null,
      "outputs": []
    },
    {
      "cell_type": "code",
      "metadata": {
        "id": "mmkVVuDGRvpK",
        "colab": {
          "base_uri": "https://localhost:8080/",
          "height": 228
        },
        "outputId": "8b0bb614-b821-400e-887a-ececf20e2c69"
      },
      "source": [
        "indices"
      ],
      "execution_count": null,
      "outputs": [
        {
          "output_type": "execute_result",
          "data": {
            "text/plain": [
              "title\n",
              "Toy Story (1995)                                0\n",
              "Jumanji (1995)                                  1\n",
              "Grumpier Old Men (1995)                         2\n",
              "Waiting to Exhale (1995)                        3\n",
              "Father of the Bride Part II (1995)              4\n",
              "                                             ... \n",
              "Black Butler: Book of the Atlantic (2017)    9737\n",
              "No Game No Life: Zero (2017)                 9738\n",
              "Flint (2017)                                 9739\n",
              "Bungo Stray Dogs: Dead Apple (2018)          9740\n",
              "Andrew Dice Clay: Dice Rules (1991)          9741\n",
              "Length: 9742, dtype: int64"
            ]
          },
          "metadata": {
            "tags": []
          },
          "execution_count": 138
        }
      ]
    },
    {
      "cell_type": "code",
      "metadata": {
        "id": "Inqcf2VYuUGY",
        "colab": {
          "base_uri": "https://localhost:8080/",
          "height": 358
        },
        "outputId": "e1156fae-0676-4562-a774-904c91aa0562"
      },
      "source": [
        "genre_recommendations('Toy Story (1995)').head(20)"
      ],
      "execution_count": null,
      "outputs": [
        {
          "output_type": "execute_result",
          "data": {
            "text/plain": [
              "1757                                 Bug's Life, A (1998)\n",
              "2355                                   Toy Story 2 (1999)\n",
              "8695                     Guardians of the Galaxy 2 (2017)\n",
              "1706                                          Antz (1998)\n",
              "2809       Adventures of Rocky and Bullwinkle, The (2000)\n",
              "3000                     Emperor's New Groove, The (2000)\n",
              "3568                                Monsters, Inc. (2001)\n",
              "6194                                     Wild, The (2006)\n",
              "6486                               Shrek the Third (2007)\n",
              "6948                       Tale of Despereaux, The (2008)\n",
              "7760    Asterix and the Vikings (Astérix et les Viking...\n",
              "8219                                         Turbo (2013)\n",
              "8927                             The Good Dinosaur (2015)\n",
              "9430                                         Moana (2016)\n",
              "8900                                    Inside Out (2015)\n",
              "1505                           Black Cauldron, The (1985)\n",
              "2539                We're Back! A Dinosaur's Story (1993)\n",
              "3230                     Atlantis: The Lost Empire (2001)\n",
              "3336                         Land Before Time, The (1988)\n",
              "4014    Pokemon 4 Ever (a.k.a. Pokémon 4: The Movie) (...\n",
              "Name: title, dtype: object"
            ]
          },
          "metadata": {
            "tags": []
          },
          "execution_count": 33
        }
      ]
    },
    {
      "cell_type": "markdown",
      "metadata": {
        "id": "BmBS0TAHOqJN"
      },
      "source": [
        "MEMORY-BASED COLLABORATIVE FILTERING"
      ]
    },
    {
      "cell_type": "code",
      "metadata": {
        "id": "O5lz_XKfMi8c"
      },
      "source": [
        "ratings_f['userId'] = ratings_f['userId'].fillna(0)\n",
        "ratings_f['movieId'] = ratings_f['movieId'].fillna(0)\n",
        "\n",
        "# Replace NaN values in rating column with average of all values\n",
        "ratings_f['rating'] = ratings_f['rating'].fillna(ratings_f['rating'].mean())"
      ],
      "execution_count": null,
      "outputs": []
    },
    {
      "cell_type": "code",
      "metadata": {
        "id": "fHfQIeoaMkh4",
        "colab": {
          "base_uri": "https://localhost:8080/",
          "height": 196
        },
        "outputId": "967fa673-e632-4dd4-92c2-c53f3e87b32c"
      },
      "source": [
        "# Randomly sample 1% of the ratings dataset\n",
        "small_data = ratings_f.sample(frac=0.02)\n",
        "# Check the sample info\n",
        "print(small_data.info())"
      ],
      "execution_count": null,
      "outputs": [
        {
          "output_type": "stream",
          "text": [
            "<class 'pandas.core.frame.DataFrame'>\n",
            "Int64Index: 1855 entries, 88355 to 98544\n",
            "Data columns (total 3 columns):\n",
            " #   Column   Non-Null Count  Dtype  \n",
            "---  ------   --------------  -----  \n",
            " 0   userId   1855 non-null   int64  \n",
            " 1   movieId  1855 non-null   int64  \n",
            " 2   rating   1855 non-null   float64\n",
            "dtypes: float64(1), int64(2)\n",
            "memory usage: 58.0 KB\n",
            "None\n"
          ],
          "name": "stdout"
        }
      ]
    },
    {
      "cell_type": "code",
      "metadata": {
        "id": "t7rXlJSXMo27"
      },
      "source": [
        "from sklearn.model_selection import train_test_split\n",
        "X_train, X_test = train_test_split(small_data, test_size=0.3)"
      ],
      "execution_count": null,
      "outputs": []
    },
    {
      "cell_type": "code",
      "metadata": {
        "id": "tXT2wBfWMt5S"
      },
      "source": [
        "# Create two user-item matrices, one for training and another for testing\n",
        "train_data_matrix = X_train[['userId', 'movieId', 'rating']].values\n",
        "test_data_matrix = X_test[['userId', 'movieId', 'rating']].values\n",
        "\n",
        "# Check their shape\n",
        "print(train_data_matrix.shape)\n",
        "print(test_data_matrix.shape)"
      ],
      "execution_count": null,
      "outputs": []
    },
    {
      "cell_type": "code",
      "metadata": {
        "id": "26vjQNHjMyX1",
        "colab": {
          "base_uri": "https://localhost:8080/",
          "height": 98
        },
        "outputId": "8797c9be-5dae-4aff-a948-8bd9a71cf62d"
      },
      "source": [
        "from sklearn.metrics.pairwise import pairwise_distances\n",
        "\n",
        "# User Similarity Matrix\n",
        "user_correlation = 1 - pairwise_distances(X_train, metric='correlation')\n",
        "user_correlation[np.isnan(user_correlation)] = 0\n",
        "print(user_correlation[:5, :5])"
      ],
      "execution_count": null,
      "outputs": [
        {
          "output_type": "stream",
          "text": [
            "[[1.         0.99809735 0.99775847 0.99999998 0.99783047]\n",
            " [0.99809735 1.         0.99998611 0.99810901 0.99999124]\n",
            " [0.99775847 0.99998611 1.         0.99777113 0.99999941]\n",
            " [0.99999998 0.99810901 0.99777113 1.         0.99784293]\n",
            " [0.99783047 0.99999124 0.99999941 0.99784293 1.        ]]\n"
          ],
          "name": "stdout"
        }
      ]
    },
    {
      "cell_type": "code",
      "metadata": {
        "id": "DMINbrcOM4Ev",
        "colab": {
          "base_uri": "https://localhost:8080/",
          "height": 66
        },
        "outputId": "637b4772-6c48-4944-d72b-2901b1dbd6d4"
      },
      "source": [
        "# Item Similarity Matrix\n",
        "item_correlation = 1 - pairwise_distances(train_data_matrix.T, metric='correlation')\n",
        "item_correlation[np.isnan(item_correlation)] = 0\n",
        "print(item_correlation[:4, :4])"
      ],
      "execution_count": null,
      "outputs": [
        {
          "output_type": "stream",
          "text": [
            "[[ 1.         -0.0550535  -0.03378075]\n",
            " [-0.0550535   1.         -0.01719677]\n",
            " [-0.03378075 -0.01719677  1.        ]]\n"
          ],
          "name": "stdout"
        }
      ]
    },
    {
      "cell_type": "code",
      "metadata": {
        "id": "azymRKcmM-T5"
      },
      "source": [
        "# Function to predict ratings\n",
        "def predict(ratings, similarity, type='user'):\n",
        "    if type == 'user':\n",
        "        mean_user_rating = ratings.mean(axis=1)\n",
        "        # Use np.newaxis so that mean_user_rating has same format as ratings\n",
        "        ratings_diff = (ratings - mean_user_rating[:, np.newaxis])\n",
        "        pred = mean_user_rating[:, np.newaxis] + similarity.dot(ratings_diff) / np.array([np.abs(similarity).sum(axis=1)]).T\n",
        "    elif type == 'item':\n",
        "        pred = ratings.dot(similarity) / np.array([np.abs(similarity).sum(axis=1)])\n",
        "    return pred"
      ],
      "execution_count": null,
      "outputs": []
    },
    {
      "cell_type": "code",
      "metadata": {
        "id": "aJlx_7zENDHa"
      },
      "source": [
        "from sklearn.metrics import mean_squared_error\n",
        "from math import sqrt\n",
        "\n",
        "# Function to calculate RMSE\n",
        "def rmse(pred, actual):\n",
        "    # Ignore nonzero terms.\n",
        "    pred = pred[actual.nonzero()].flatten()\n",
        "    actual = actual[actual.nonzero()].flatten()\n",
        "    return sqrt(mean_squared_error(pred, actual))"
      ],
      "execution_count": null,
      "outputs": []
    },
    {
      "cell_type": "code",
      "metadata": {
        "id": "9L411y33y2yZ",
        "colab": {
          "base_uri": "https://localhost:8080/",
          "height": 50
        },
        "outputId": "610229c1-7a8d-47c1-b7fa-55d01c9bc5fe"
      },
      "source": [
        "# Predict ratings on the training data with both similarity score\n",
        "user_prediction = predict(train_data_matrix, user_correlation, type='user')\n",
        "item_prediction = predict(train_data_matrix, item_correlation, type='item')\n",
        "\n",
        "# RMSE on the test data\n",
        "print('User-based CF RMSE: ' + str(rmse(user_prediction, test_data_matrix)))\n",
        "print('Item-based CF RMSE: ' + str(rmse(item_prediction, test_data_matrix)))"
      ],
      "execution_count": null,
      "outputs": [
        {
          "output_type": "stream",
          "text": [
            "User-based CF RMSE: 24302.60912421354\n",
            "Item-based CF RMSE: 28551.805624700235\n"
          ],
          "name": "stdout"
        }
      ]
    },
    {
      "cell_type": "code",
      "metadata": {
        "id": "5VHkOCiCy-lz",
        "colab": {
          "base_uri": "https://localhost:8080/",
          "height": 50
        },
        "outputId": "6b5bb39e-e9b8-40b2-bfb4-e9874626ae06"
      },
      "source": [
        "# RMSE on the train data\n",
        "print('User-based CF RMSE: ' + str(rmse(user_prediction, train_data_matrix)))\n",
        "print('Item-based CF RMSE: ' + str(rmse(item_prediction, train_data_matrix)))"
      ],
      "execution_count": null,
      "outputs": [
        {
          "output_type": "stream",
          "text": [
            "User-based CF RMSE: 16802.365537123376\n",
            "Item-based CF RMSE: 2058.900974753146\n"
          ],
          "name": "stdout"
        }
      ]
    },
    {
      "cell_type": "markdown",
      "metadata": {
        "id": "i7T3pAGaz8m1"
      },
      "source": [
        "MODEL BASED COLLABORATIVE FILTERING"
      ]
    },
    {
      "cell_type": "code",
      "metadata": {
        "id": "4ovaCl9VzDIt",
        "colab": {
          "base_uri": "https://localhost:8080/",
          "height": 267
        },
        "outputId": "c2aa6555-94eb-4525-b104-b7710150aed6"
      },
      "source": [
        "Ratings = ratings.pivot(index = 'userId', columns ='movieId', values = 'rating').fillna(0)\n",
        "Ratings.head()"
      ],
      "execution_count": null,
      "outputs": [
        {
          "output_type": "execute_result",
          "data": {
            "text/html": [
              "<div>\n",
              "<style scoped>\n",
              "    .dataframe tbody tr th:only-of-type {\n",
              "        vertical-align: middle;\n",
              "    }\n",
              "\n",
              "    .dataframe tbody tr th {\n",
              "        vertical-align: top;\n",
              "    }\n",
              "\n",
              "    .dataframe thead th {\n",
              "        text-align: right;\n",
              "    }\n",
              "</style>\n",
              "<table border=\"1\" class=\"dataframe\">\n",
              "  <thead>\n",
              "    <tr style=\"text-align: right;\">\n",
              "      <th>movieId</th>\n",
              "      <th>1</th>\n",
              "      <th>2</th>\n",
              "      <th>3</th>\n",
              "      <th>4</th>\n",
              "      <th>5</th>\n",
              "      <th>6</th>\n",
              "      <th>7</th>\n",
              "      <th>8</th>\n",
              "      <th>9</th>\n",
              "      <th>10</th>\n",
              "      <th>11</th>\n",
              "      <th>12</th>\n",
              "      <th>13</th>\n",
              "      <th>14</th>\n",
              "      <th>15</th>\n",
              "      <th>16</th>\n",
              "      <th>17</th>\n",
              "      <th>18</th>\n",
              "      <th>19</th>\n",
              "      <th>20</th>\n",
              "      <th>21</th>\n",
              "      <th>22</th>\n",
              "      <th>23</th>\n",
              "      <th>24</th>\n",
              "      <th>25</th>\n",
              "      <th>26</th>\n",
              "      <th>27</th>\n",
              "      <th>28</th>\n",
              "      <th>29</th>\n",
              "      <th>30</th>\n",
              "      <th>31</th>\n",
              "      <th>32</th>\n",
              "      <th>34</th>\n",
              "      <th>36</th>\n",
              "      <th>38</th>\n",
              "      <th>39</th>\n",
              "      <th>40</th>\n",
              "      <th>41</th>\n",
              "      <th>42</th>\n",
              "      <th>43</th>\n",
              "      <th>...</th>\n",
              "      <th>185135</th>\n",
              "      <th>185435</th>\n",
              "      <th>185473</th>\n",
              "      <th>185585</th>\n",
              "      <th>186587</th>\n",
              "      <th>187031</th>\n",
              "      <th>187541</th>\n",
              "      <th>187593</th>\n",
              "      <th>187595</th>\n",
              "      <th>187717</th>\n",
              "      <th>188189</th>\n",
              "      <th>188301</th>\n",
              "      <th>188675</th>\n",
              "      <th>188751</th>\n",
              "      <th>188797</th>\n",
              "      <th>188833</th>\n",
              "      <th>189043</th>\n",
              "      <th>189111</th>\n",
              "      <th>189333</th>\n",
              "      <th>189381</th>\n",
              "      <th>189547</th>\n",
              "      <th>189713</th>\n",
              "      <th>190183</th>\n",
              "      <th>190207</th>\n",
              "      <th>190209</th>\n",
              "      <th>190213</th>\n",
              "      <th>190215</th>\n",
              "      <th>190219</th>\n",
              "      <th>190221</th>\n",
              "      <th>191005</th>\n",
              "      <th>193565</th>\n",
              "      <th>193567</th>\n",
              "      <th>193571</th>\n",
              "      <th>193573</th>\n",
              "      <th>193579</th>\n",
              "      <th>193581</th>\n",
              "      <th>193583</th>\n",
              "      <th>193585</th>\n",
              "      <th>193587</th>\n",
              "      <th>193609</th>\n",
              "    </tr>\n",
              "    <tr>\n",
              "      <th>userId</th>\n",
              "      <th></th>\n",
              "      <th></th>\n",
              "      <th></th>\n",
              "      <th></th>\n",
              "      <th></th>\n",
              "      <th></th>\n",
              "      <th></th>\n",
              "      <th></th>\n",
              "      <th></th>\n",
              "      <th></th>\n",
              "      <th></th>\n",
              "      <th></th>\n",
              "      <th></th>\n",
              "      <th></th>\n",
              "      <th></th>\n",
              "      <th></th>\n",
              "      <th></th>\n",
              "      <th></th>\n",
              "      <th></th>\n",
              "      <th></th>\n",
              "      <th></th>\n",
              "      <th></th>\n",
              "      <th></th>\n",
              "      <th></th>\n",
              "      <th></th>\n",
              "      <th></th>\n",
              "      <th></th>\n",
              "      <th></th>\n",
              "      <th></th>\n",
              "      <th></th>\n",
              "      <th></th>\n",
              "      <th></th>\n",
              "      <th></th>\n",
              "      <th></th>\n",
              "      <th></th>\n",
              "      <th></th>\n",
              "      <th></th>\n",
              "      <th></th>\n",
              "      <th></th>\n",
              "      <th></th>\n",
              "      <th></th>\n",
              "      <th></th>\n",
              "      <th></th>\n",
              "      <th></th>\n",
              "      <th></th>\n",
              "      <th></th>\n",
              "      <th></th>\n",
              "      <th></th>\n",
              "      <th></th>\n",
              "      <th></th>\n",
              "      <th></th>\n",
              "      <th></th>\n",
              "      <th></th>\n",
              "      <th></th>\n",
              "      <th></th>\n",
              "      <th></th>\n",
              "      <th></th>\n",
              "      <th></th>\n",
              "      <th></th>\n",
              "      <th></th>\n",
              "      <th></th>\n",
              "      <th></th>\n",
              "      <th></th>\n",
              "      <th></th>\n",
              "      <th></th>\n",
              "      <th></th>\n",
              "      <th></th>\n",
              "      <th></th>\n",
              "      <th></th>\n",
              "      <th></th>\n",
              "      <th></th>\n",
              "      <th></th>\n",
              "      <th></th>\n",
              "      <th></th>\n",
              "      <th></th>\n",
              "      <th></th>\n",
              "      <th></th>\n",
              "      <th></th>\n",
              "      <th></th>\n",
              "      <th></th>\n",
              "      <th></th>\n",
              "    </tr>\n",
              "  </thead>\n",
              "  <tbody>\n",
              "    <tr>\n",
              "      <th>1</th>\n",
              "      <td>4.0</td>\n",
              "      <td>0.0</td>\n",
              "      <td>4.0</td>\n",
              "      <td>0.0</td>\n",
              "      <td>0.0</td>\n",
              "      <td>4.0</td>\n",
              "      <td>0.0</td>\n",
              "      <td>0.0</td>\n",
              "      <td>0.0</td>\n",
              "      <td>0.0</td>\n",
              "      <td>0.0</td>\n",
              "      <td>0.0</td>\n",
              "      <td>0.0</td>\n",
              "      <td>0.0</td>\n",
              "      <td>0.0</td>\n",
              "      <td>0.0</td>\n",
              "      <td>0.0</td>\n",
              "      <td>0.0</td>\n",
              "      <td>0.0</td>\n",
              "      <td>0.0</td>\n",
              "      <td>0.0</td>\n",
              "      <td>0.0</td>\n",
              "      <td>0.0</td>\n",
              "      <td>0.0</td>\n",
              "      <td>0.0</td>\n",
              "      <td>0.0</td>\n",
              "      <td>0.0</td>\n",
              "      <td>0.0</td>\n",
              "      <td>0.0</td>\n",
              "      <td>0.0</td>\n",
              "      <td>0.0</td>\n",
              "      <td>0.0</td>\n",
              "      <td>0.0</td>\n",
              "      <td>0.0</td>\n",
              "      <td>0.0</td>\n",
              "      <td>0.0</td>\n",
              "      <td>0.0</td>\n",
              "      <td>0.0</td>\n",
              "      <td>0.0</td>\n",
              "      <td>0.0</td>\n",
              "      <td>...</td>\n",
              "      <td>0.0</td>\n",
              "      <td>0.0</td>\n",
              "      <td>0.0</td>\n",
              "      <td>0.0</td>\n",
              "      <td>0.0</td>\n",
              "      <td>0.0</td>\n",
              "      <td>0.0</td>\n",
              "      <td>0.0</td>\n",
              "      <td>0.0</td>\n",
              "      <td>0.0</td>\n",
              "      <td>0.0</td>\n",
              "      <td>0.0</td>\n",
              "      <td>0.0</td>\n",
              "      <td>0.0</td>\n",
              "      <td>0.0</td>\n",
              "      <td>0.0</td>\n",
              "      <td>0.0</td>\n",
              "      <td>0.0</td>\n",
              "      <td>0.0</td>\n",
              "      <td>0.0</td>\n",
              "      <td>0.0</td>\n",
              "      <td>0.0</td>\n",
              "      <td>0.0</td>\n",
              "      <td>0.0</td>\n",
              "      <td>0.0</td>\n",
              "      <td>0.0</td>\n",
              "      <td>0.0</td>\n",
              "      <td>0.0</td>\n",
              "      <td>0.0</td>\n",
              "      <td>0.0</td>\n",
              "      <td>0.0</td>\n",
              "      <td>0.0</td>\n",
              "      <td>0.0</td>\n",
              "      <td>0.0</td>\n",
              "      <td>0.0</td>\n",
              "      <td>0.0</td>\n",
              "      <td>0.0</td>\n",
              "      <td>0.0</td>\n",
              "      <td>0.0</td>\n",
              "      <td>0.0</td>\n",
              "    </tr>\n",
              "    <tr>\n",
              "      <th>2</th>\n",
              "      <td>0.0</td>\n",
              "      <td>0.0</td>\n",
              "      <td>0.0</td>\n",
              "      <td>0.0</td>\n",
              "      <td>0.0</td>\n",
              "      <td>0.0</td>\n",
              "      <td>0.0</td>\n",
              "      <td>0.0</td>\n",
              "      <td>0.0</td>\n",
              "      <td>0.0</td>\n",
              "      <td>0.0</td>\n",
              "      <td>0.0</td>\n",
              "      <td>0.0</td>\n",
              "      <td>0.0</td>\n",
              "      <td>0.0</td>\n",
              "      <td>0.0</td>\n",
              "      <td>0.0</td>\n",
              "      <td>0.0</td>\n",
              "      <td>0.0</td>\n",
              "      <td>0.0</td>\n",
              "      <td>0.0</td>\n",
              "      <td>0.0</td>\n",
              "      <td>0.0</td>\n",
              "      <td>0.0</td>\n",
              "      <td>0.0</td>\n",
              "      <td>0.0</td>\n",
              "      <td>0.0</td>\n",
              "      <td>0.0</td>\n",
              "      <td>0.0</td>\n",
              "      <td>0.0</td>\n",
              "      <td>0.0</td>\n",
              "      <td>0.0</td>\n",
              "      <td>0.0</td>\n",
              "      <td>0.0</td>\n",
              "      <td>0.0</td>\n",
              "      <td>0.0</td>\n",
              "      <td>0.0</td>\n",
              "      <td>0.0</td>\n",
              "      <td>0.0</td>\n",
              "      <td>0.0</td>\n",
              "      <td>...</td>\n",
              "      <td>0.0</td>\n",
              "      <td>0.0</td>\n",
              "      <td>0.0</td>\n",
              "      <td>0.0</td>\n",
              "      <td>0.0</td>\n",
              "      <td>0.0</td>\n",
              "      <td>0.0</td>\n",
              "      <td>0.0</td>\n",
              "      <td>0.0</td>\n",
              "      <td>0.0</td>\n",
              "      <td>0.0</td>\n",
              "      <td>0.0</td>\n",
              "      <td>0.0</td>\n",
              "      <td>0.0</td>\n",
              "      <td>0.0</td>\n",
              "      <td>0.0</td>\n",
              "      <td>0.0</td>\n",
              "      <td>0.0</td>\n",
              "      <td>0.0</td>\n",
              "      <td>0.0</td>\n",
              "      <td>0.0</td>\n",
              "      <td>0.0</td>\n",
              "      <td>0.0</td>\n",
              "      <td>0.0</td>\n",
              "      <td>0.0</td>\n",
              "      <td>0.0</td>\n",
              "      <td>0.0</td>\n",
              "      <td>0.0</td>\n",
              "      <td>0.0</td>\n",
              "      <td>0.0</td>\n",
              "      <td>0.0</td>\n",
              "      <td>0.0</td>\n",
              "      <td>0.0</td>\n",
              "      <td>0.0</td>\n",
              "      <td>0.0</td>\n",
              "      <td>0.0</td>\n",
              "      <td>0.0</td>\n",
              "      <td>0.0</td>\n",
              "      <td>0.0</td>\n",
              "      <td>0.0</td>\n",
              "    </tr>\n",
              "    <tr>\n",
              "      <th>3</th>\n",
              "      <td>0.0</td>\n",
              "      <td>0.0</td>\n",
              "      <td>0.0</td>\n",
              "      <td>0.0</td>\n",
              "      <td>0.0</td>\n",
              "      <td>0.0</td>\n",
              "      <td>0.0</td>\n",
              "      <td>0.0</td>\n",
              "      <td>0.0</td>\n",
              "      <td>0.0</td>\n",
              "      <td>0.0</td>\n",
              "      <td>0.0</td>\n",
              "      <td>0.0</td>\n",
              "      <td>0.0</td>\n",
              "      <td>0.0</td>\n",
              "      <td>0.0</td>\n",
              "      <td>0.0</td>\n",
              "      <td>0.0</td>\n",
              "      <td>0.0</td>\n",
              "      <td>0.0</td>\n",
              "      <td>0.0</td>\n",
              "      <td>0.0</td>\n",
              "      <td>0.0</td>\n",
              "      <td>0.0</td>\n",
              "      <td>0.0</td>\n",
              "      <td>0.0</td>\n",
              "      <td>0.0</td>\n",
              "      <td>0.0</td>\n",
              "      <td>0.0</td>\n",
              "      <td>0.0</td>\n",
              "      <td>0.5</td>\n",
              "      <td>0.0</td>\n",
              "      <td>0.0</td>\n",
              "      <td>0.0</td>\n",
              "      <td>0.0</td>\n",
              "      <td>0.0</td>\n",
              "      <td>0.0</td>\n",
              "      <td>0.0</td>\n",
              "      <td>0.0</td>\n",
              "      <td>0.0</td>\n",
              "      <td>...</td>\n",
              "      <td>0.0</td>\n",
              "      <td>0.0</td>\n",
              "      <td>0.0</td>\n",
              "      <td>0.0</td>\n",
              "      <td>0.0</td>\n",
              "      <td>0.0</td>\n",
              "      <td>0.0</td>\n",
              "      <td>0.0</td>\n",
              "      <td>0.0</td>\n",
              "      <td>0.0</td>\n",
              "      <td>0.0</td>\n",
              "      <td>0.0</td>\n",
              "      <td>0.0</td>\n",
              "      <td>0.0</td>\n",
              "      <td>0.0</td>\n",
              "      <td>0.0</td>\n",
              "      <td>0.0</td>\n",
              "      <td>0.0</td>\n",
              "      <td>0.0</td>\n",
              "      <td>0.0</td>\n",
              "      <td>0.0</td>\n",
              "      <td>0.0</td>\n",
              "      <td>0.0</td>\n",
              "      <td>0.0</td>\n",
              "      <td>0.0</td>\n",
              "      <td>0.0</td>\n",
              "      <td>0.0</td>\n",
              "      <td>0.0</td>\n",
              "      <td>0.0</td>\n",
              "      <td>0.0</td>\n",
              "      <td>0.0</td>\n",
              "      <td>0.0</td>\n",
              "      <td>0.0</td>\n",
              "      <td>0.0</td>\n",
              "      <td>0.0</td>\n",
              "      <td>0.0</td>\n",
              "      <td>0.0</td>\n",
              "      <td>0.0</td>\n",
              "      <td>0.0</td>\n",
              "      <td>0.0</td>\n",
              "    </tr>\n",
              "    <tr>\n",
              "      <th>4</th>\n",
              "      <td>0.0</td>\n",
              "      <td>0.0</td>\n",
              "      <td>0.0</td>\n",
              "      <td>0.0</td>\n",
              "      <td>0.0</td>\n",
              "      <td>0.0</td>\n",
              "      <td>0.0</td>\n",
              "      <td>0.0</td>\n",
              "      <td>0.0</td>\n",
              "      <td>0.0</td>\n",
              "      <td>0.0</td>\n",
              "      <td>0.0</td>\n",
              "      <td>0.0</td>\n",
              "      <td>0.0</td>\n",
              "      <td>0.0</td>\n",
              "      <td>0.0</td>\n",
              "      <td>0.0</td>\n",
              "      <td>0.0</td>\n",
              "      <td>0.0</td>\n",
              "      <td>0.0</td>\n",
              "      <td>3.0</td>\n",
              "      <td>0.0</td>\n",
              "      <td>0.0</td>\n",
              "      <td>0.0</td>\n",
              "      <td>0.0</td>\n",
              "      <td>0.0</td>\n",
              "      <td>0.0</td>\n",
              "      <td>0.0</td>\n",
              "      <td>0.0</td>\n",
              "      <td>0.0</td>\n",
              "      <td>0.0</td>\n",
              "      <td>2.0</td>\n",
              "      <td>0.0</td>\n",
              "      <td>0.0</td>\n",
              "      <td>0.0</td>\n",
              "      <td>0.0</td>\n",
              "      <td>0.0</td>\n",
              "      <td>0.0</td>\n",
              "      <td>0.0</td>\n",
              "      <td>0.0</td>\n",
              "      <td>...</td>\n",
              "      <td>0.0</td>\n",
              "      <td>0.0</td>\n",
              "      <td>0.0</td>\n",
              "      <td>0.0</td>\n",
              "      <td>0.0</td>\n",
              "      <td>0.0</td>\n",
              "      <td>0.0</td>\n",
              "      <td>0.0</td>\n",
              "      <td>0.0</td>\n",
              "      <td>0.0</td>\n",
              "      <td>0.0</td>\n",
              "      <td>0.0</td>\n",
              "      <td>0.0</td>\n",
              "      <td>0.0</td>\n",
              "      <td>0.0</td>\n",
              "      <td>0.0</td>\n",
              "      <td>0.0</td>\n",
              "      <td>0.0</td>\n",
              "      <td>0.0</td>\n",
              "      <td>0.0</td>\n",
              "      <td>0.0</td>\n",
              "      <td>0.0</td>\n",
              "      <td>0.0</td>\n",
              "      <td>0.0</td>\n",
              "      <td>0.0</td>\n",
              "      <td>0.0</td>\n",
              "      <td>0.0</td>\n",
              "      <td>0.0</td>\n",
              "      <td>0.0</td>\n",
              "      <td>0.0</td>\n",
              "      <td>0.0</td>\n",
              "      <td>0.0</td>\n",
              "      <td>0.0</td>\n",
              "      <td>0.0</td>\n",
              "      <td>0.0</td>\n",
              "      <td>0.0</td>\n",
              "      <td>0.0</td>\n",
              "      <td>0.0</td>\n",
              "      <td>0.0</td>\n",
              "      <td>0.0</td>\n",
              "    </tr>\n",
              "    <tr>\n",
              "      <th>5</th>\n",
              "      <td>4.0</td>\n",
              "      <td>0.0</td>\n",
              "      <td>0.0</td>\n",
              "      <td>0.0</td>\n",
              "      <td>0.0</td>\n",
              "      <td>0.0</td>\n",
              "      <td>0.0</td>\n",
              "      <td>0.0</td>\n",
              "      <td>0.0</td>\n",
              "      <td>0.0</td>\n",
              "      <td>0.0</td>\n",
              "      <td>0.0</td>\n",
              "      <td>0.0</td>\n",
              "      <td>0.0</td>\n",
              "      <td>0.0</td>\n",
              "      <td>0.0</td>\n",
              "      <td>0.0</td>\n",
              "      <td>0.0</td>\n",
              "      <td>0.0</td>\n",
              "      <td>0.0</td>\n",
              "      <td>4.0</td>\n",
              "      <td>0.0</td>\n",
              "      <td>0.0</td>\n",
              "      <td>0.0</td>\n",
              "      <td>0.0</td>\n",
              "      <td>0.0</td>\n",
              "      <td>0.0</td>\n",
              "      <td>0.0</td>\n",
              "      <td>0.0</td>\n",
              "      <td>0.0</td>\n",
              "      <td>0.0</td>\n",
              "      <td>0.0</td>\n",
              "      <td>4.0</td>\n",
              "      <td>4.0</td>\n",
              "      <td>0.0</td>\n",
              "      <td>3.0</td>\n",
              "      <td>0.0</td>\n",
              "      <td>0.0</td>\n",
              "      <td>0.0</td>\n",
              "      <td>0.0</td>\n",
              "      <td>...</td>\n",
              "      <td>0.0</td>\n",
              "      <td>0.0</td>\n",
              "      <td>0.0</td>\n",
              "      <td>0.0</td>\n",
              "      <td>0.0</td>\n",
              "      <td>0.0</td>\n",
              "      <td>0.0</td>\n",
              "      <td>0.0</td>\n",
              "      <td>0.0</td>\n",
              "      <td>0.0</td>\n",
              "      <td>0.0</td>\n",
              "      <td>0.0</td>\n",
              "      <td>0.0</td>\n",
              "      <td>0.0</td>\n",
              "      <td>0.0</td>\n",
              "      <td>0.0</td>\n",
              "      <td>0.0</td>\n",
              "      <td>0.0</td>\n",
              "      <td>0.0</td>\n",
              "      <td>0.0</td>\n",
              "      <td>0.0</td>\n",
              "      <td>0.0</td>\n",
              "      <td>0.0</td>\n",
              "      <td>0.0</td>\n",
              "      <td>0.0</td>\n",
              "      <td>0.0</td>\n",
              "      <td>0.0</td>\n",
              "      <td>0.0</td>\n",
              "      <td>0.0</td>\n",
              "      <td>0.0</td>\n",
              "      <td>0.0</td>\n",
              "      <td>0.0</td>\n",
              "      <td>0.0</td>\n",
              "      <td>0.0</td>\n",
              "      <td>0.0</td>\n",
              "      <td>0.0</td>\n",
              "      <td>0.0</td>\n",
              "      <td>0.0</td>\n",
              "      <td>0.0</td>\n",
              "      <td>0.0</td>\n",
              "    </tr>\n",
              "  </tbody>\n",
              "</table>\n",
              "<p>5 rows × 9724 columns</p>\n",
              "</div>"
            ],
            "text/plain": [
              "movieId  1       2       3       4       ...  193583  193585  193587  193609\n",
              "userId                                   ...                                \n",
              "1           4.0     0.0     4.0     0.0  ...     0.0     0.0     0.0     0.0\n",
              "2           0.0     0.0     0.0     0.0  ...     0.0     0.0     0.0     0.0\n",
              "3           0.0     0.0     0.0     0.0  ...     0.0     0.0     0.0     0.0\n",
              "4           0.0     0.0     0.0     0.0  ...     0.0     0.0     0.0     0.0\n",
              "5           4.0     0.0     0.0     0.0  ...     0.0     0.0     0.0     0.0\n",
              "\n",
              "[5 rows x 9724 columns]"
            ]
          },
          "metadata": {
            "tags": []
          },
          "execution_count": 174
        }
      ]
    },
    {
      "cell_type": "code",
      "metadata": {
        "id": "rUHXZhd6V8cC"
      },
      "source": [
        "R=Ratings.values\n",
        "user_ratings_mean= np.mean(R, axis=1)\n",
        "Ratings_demeaned = R - user_ratings_mean.reshape(-1, 1)"
      ],
      "execution_count": null,
      "outputs": []
    },
    {
      "cell_type": "code",
      "metadata": {
        "id": "-bqKmi3kVvkB",
        "colab": {
          "base_uri": "https://localhost:8080/",
          "height": 1000
        },
        "outputId": "1cc951c9-8a27-43e8-b943-a6ace6507cf9"
      },
      "source": [
        "user_ratings_mean"
      ],
      "execution_count": null,
      "outputs": [
        {
          "output_type": "execute_result",
          "data": {
            "text/plain": [
              "array([0.10417524, 0.01177499, 0.00976964, 0.07897984, 0.01645413,\n",
              "       0.11281366, 0.05049362, 0.01727684, 0.01542575, 0.0472028 ,\n",
              "       0.02488688, 0.01444879, 0.01162073, 0.01676265, 0.04787125,\n",
              "       0.03753599, 0.04545455, 0.19266763, 0.18850267, 0.08936652,\n",
              "       0.14854998, 0.03146853, 0.04540313, 0.04128959, 0.01285479,\n",
              "       0.00699301, 0.04925956, 0.1770362 , 0.03450226, 0.01655697,\n",
              "       0.02015631, 0.03938708, 0.06077746, 0.03023447, 0.0096668 ,\n",
              "       0.01624846, 0.00894694, 0.02581242, 0.04113534, 0.03990128,\n",
              "       0.07260387, 0.16135335, 0.0533731 , 0.01655697, 0.15903949,\n",
              "       0.01727684, 0.04396339, 0.0136775 , 0.00920403, 0.08864665,\n",
              "       0.13939737, 0.05985191, 0.01028383, 0.01028383, 0.00730152,\n",
              "       0.01799671, 0.16608392, 0.04494035, 0.04792267, 0.00843274,\n",
              "       0.01624846, 0.15364048, 0.10119292, 0.2003805 , 0.01408885,\n",
              "       0.14263677, 0.01470588, 0.41901481, 0.02067051, 0.02756067,\n",
              "       0.01295763, 0.01923077, 0.08016248, 0.07774578, 0.02293295,\n",
              "       0.03774167, 0.01192925, 0.0198478 , 0.02766351, 0.07316948,\n",
              "       0.00740436, 0.07892842, 0.04015837, 0.11116824, 0.01295763,\n",
              "       0.02828054, 0.00853558, 0.02324146, 0.18500617, 0.02262443,\n",
              "       0.20079186, 0.00971822, 0.04278075, 0.01748252, 0.07018717,\n",
              "       0.03116002, 0.01552859, 0.0370218 , 0.02108186, 0.06005759,\n",
              "       0.02231592, 0.01933361, 0.15148087, 0.09846771, 0.30563554,\n",
              "       0.01506582, 0.0136775 , 0.03116002, 0.04206088, 0.01953928,\n",
              "       0.22187371, 0.02401275, 0.05625257, 0.01095228, 0.04339778,\n",
              "       0.03074866, 0.05666392, 0.00863842, 0.09234883, 0.00771288,\n",
              "       0.01964212, 0.13651789, 0.02324146, 0.02051625, 0.14289387,\n",
              "       0.01285479, 0.00704443, 0.01480872, 0.05645825, 0.010181  ,\n",
              "       0.02442411, 0.10844303, 0.01079803, 0.01285479, 0.10417524,\n",
              "       0.03784451, 0.05769231, 0.00796997, 0.04278075, 0.21878856,\n",
              "       0.06113739, 0.01491156, 0.02426985, 0.04776841, 0.00791855,\n",
              "       0.01033525, 0.00694159, 0.01845948, 0.01624846, 0.00956397,\n",
              "       0.02149321, 0.02606952, 0.04082682, 0.01532291, 0.01707116,\n",
              "       0.15112094, 0.0075072 , 0.00915261, 0.03265117, 0.12170917,\n",
              "       0.01537433, 0.01655697, 0.00709585, 0.01573427, 0.02365282,\n",
              "       0.07959687, 0.06118881, 0.04314068, 0.11754422, 0.017174  ,\n",
              "       0.03907857, 0.01023241, 0.00894694, 0.02519539, 0.00874126,\n",
              "       0.0150144 , 0.31381119, 0.03239408, 0.02684081, 0.00879268,\n",
              "       0.0356849 , 0.35278692, 0.02241876, 0.05105923, 0.01707116,\n",
              "       0.09481695, 0.10016454, 0.02169889, 0.00843274, 0.02653229,\n",
              "       0.03270259, 0.00915261, 0.0136775 , 0.00714726, 0.0678733 ,\n",
              "       0.01295763, 0.01388318, 0.08257919, 0.12674825, 0.13086179,\n",
              "       0.04638009, 0.1582682 , 0.01779103, 0.03378239, 0.01074661,\n",
              "       0.01038667, 0.0059132 , 0.0088441 , 0.01527149, 0.05789798,\n",
              "       0.03573632, 0.09157754, 0.03306253, 0.00647882, 0.03938708,\n",
              "       0.06180584, 0.17410531, 0.00899835, 0.17189428, 0.08437886,\n",
              "       0.14047717, 0.08139654, 0.02524681, 0.02365282, 0.0281777 ,\n",
              "       0.18125257, 0.04062114, 0.00961538, 0.02498972, 0.04087824,\n",
              "       0.00951255, 0.28815302, 0.05090498, 0.07280954, 0.02437269,\n",
              "       0.01223776, 0.01727684, 0.01665981, 0.11553887, 0.05152201,\n",
              "       0.0311086 , 0.01295763, 0.01532291, 0.03609626, 0.00586179,\n",
              "       0.08921226, 0.05779515, 0.01964212, 0.39762443, 0.01172357,\n",
              "       0.01151789, 0.01640271, 0.02103044, 0.05198478, 0.01162073,\n",
              "       0.07059852, 0.00658165, 0.01079803, 0.00930687, 0.05877211,\n",
              "       0.02103044, 0.01820239, 0.08026532, 0.02051625, 0.05614973,\n",
              "       0.06478815, 0.02447552, 0.04339778, 0.01079803, 0.01316331,\n",
              "       0.01408885, 0.01156931, 0.02262443, 0.44791238, 0.16937474,\n",
              "       0.0185109 , 0.01028383, 0.00796997, 0.06602221, 0.07861991,\n",
              "       0.00694159, 0.09831345, 0.01192925, 0.03362814, 0.01465446,\n",
              "       0.04128959, 0.04098108, 0.34132044, 0.00894694, 0.1137392 ,\n",
              "       0.01357466, 0.15142945, 0.00565611, 0.11733854, 0.01578568,\n",
              "       0.01156931, 0.01923077, 0.22824969, 0.00863842, 0.01414027,\n",
              "       0.03892431, 0.01316331, 0.02128754, 0.08597285, 0.27324146,\n",
              "       0.03820444, 0.26727684, 0.0286919 , 0.04067256, 0.02324146,\n",
              "       0.00673591, 0.08504731, 0.12001234, 0.04010695, 0.01141506,\n",
              "       0.0163513 , 0.07250103, 0.33952077, 0.01593994, 0.0072501 ,\n",
              "       0.02056767, 0.03753599, 0.03198272, 0.00678733, 0.09841629,\n",
              "       0.06278281, 0.02025915, 0.08458453, 0.00678733, 0.09373715,\n",
              "       0.06267997, 0.09882764, 0.00678733, 0.05414439, 0.01059235,\n",
              "       0.02488688, 0.03331962, 0.01177499, 0.15528589, 0.01213492,\n",
              "       0.02031057, 0.01995064, 0.02462978, 0.02673797, 0.02488688,\n",
              "       0.06211436, 0.01645413, 0.02642945, 0.01419169, 0.01336898,\n",
              "       0.05316742, 0.11430481, 0.03229124, 0.08679556, 0.01038667,\n",
              "       0.11949815, 0.1558515 , 0.01372892, 0.0260181 , 0.00863842,\n",
              "       0.03172563, 0.04756273, 0.010181  , 0.00904977, 0.07836281,\n",
              "       0.0125977 , 0.07342657, 0.1370835 , 0.04499177, 0.03393665,\n",
              "       0.01917935, 0.08144796, 0.03280543, 0.0123406 , 0.01326615,\n",
              "       0.05558412, 0.05270465, 0.01974496, 0.01254628, 0.46009872,\n",
              "       0.17266557, 0.10499794, 0.01326615, 0.02221308, 0.07034142,\n",
              "       0.01923077, 0.3441485 , 0.01079803, 0.01439737, 0.03198272,\n",
              "       0.14747018, 0.00822707, 0.04859111, 0.00699301, 0.01912793,\n",
              "       0.00904977, 0.00935829, 0.0201049 , 0.01460304, 0.01995064,\n",
              "       0.02612094, 0.01902509, 0.01316331, 0.02097902, 0.04946524,\n",
              "       0.00668449, 0.00930687, 0.05933772, 0.04977376, 0.06972439,\n",
              "       0.04257507, 0.04082682, 0.02540107, 0.94112505, 0.03948992,\n",
              "       0.0160942 , 0.03074866, 0.03481078, 0.0606232 , 0.05542986,\n",
              "       0.01563143, 0.03177705, 0.00879268, 0.05213904, 0.11116824,\n",
              "       0.03331962, 0.02678939, 0.08144796, 0.02375566, 0.02231592,\n",
              "       0.00560469, 0.09749074, 0.00853558, 0.09060058, 0.01866516,\n",
              "       0.03465652, 0.04771699, 0.21909708, 0.00889552, 0.01321473,\n",
              "       0.0209276 , 0.00262238, 0.01568285, 0.01645413, 0.03054299,\n",
              "       0.02776635, 0.03105718, 0.54581448, 0.01285479, 0.02097902,\n",
              "       0.01326615, 0.09466269, 0.1260798 , 0.0174311 , 0.02025915,\n",
              "       0.01686549, 0.01779103, 0.02519539, 0.01162073, 0.03542781,\n",
              "       0.00817565, 0.15939942, 0.01285479, 0.05327026, 0.04915673,\n",
              "       0.04566022, 0.00771288, 0.01151789, 0.17564788, 0.02889757,\n",
              "       0.01115796, 0.01228918, 0.01300905, 0.73683669, 0.07029   ,\n",
              "       0.02612094, 0.23056355, 0.00637598, 0.06180584, 0.28157137,\n",
              "       0.00894694, 0.04483752, 0.2709276 , 0.10787742, 0.00915261,\n",
              "       0.02313863, 0.01809955, 0.04432332, 0.20110037, 0.03671329,\n",
              "       0.027355  , 0.04812834, 0.02313863, 0.00956397, 0.10926573,\n",
              "       0.010181  , 0.01871658, 0.01460304, 0.01064377, 0.0286919 ,\n",
              "       0.01480872, 0.0123406 , 0.03265117, 0.03419375, 0.01331756,\n",
              "       0.01408885, 0.00730152, 0.00529617, 0.15446318, 0.03223982,\n",
              "       0.02205882, 0.01943645, 0.01280337, 0.135181  , 0.01295763,\n",
              "       0.00987248, 0.09815919, 0.00874126, 0.01156931, 0.07424928,\n",
              "       0.01480872, 0.07877417, 0.0361991 , 0.04658577, 0.1821267 ,\n",
              "       0.02498972, 0.07075278, 0.02606952, 0.00822707, 0.01048951,\n",
              "       0.00853558, 0.0220074 , 0.01712258, 0.20346565, 0.00822707,\n",
              "       0.01398601, 0.01964212, 0.01701974, 0.01486014, 0.01727684,\n",
              "       0.03033731, 0.0407754 , 0.03481078, 0.00987248, 0.00796997,\n",
              "       0.02262443, 0.00894694, 0.01095228, 0.00791855, 0.01182641,\n",
              "       0.04699712, 0.06031469, 0.0370218 , 0.03661045, 0.20536816,\n",
              "       0.0134204 , 0.01069519, 0.02262443, 0.04730564, 0.16803784,\n",
              "       0.17513369, 0.09723365, 0.07229535, 0.05779515, 0.01090086,\n",
              "       0.02694364, 0.08890374, 0.00976964, 0.00822707, 0.06710202,\n",
              "       0.02961744, 0.0657137 , 0.12952489, 0.00935829, 0.01172357,\n",
              "       0.00637598, 0.05902921, 0.0110037 , 0.02982312, 0.1582682 ,\n",
              "       0.01799671, 0.02319005, 0.01897367, 0.03506787, 0.02720074,\n",
              "       0.09337721, 0.06746195, 0.01871658, 0.01655697, 0.25123406,\n",
              "       0.01820239, 0.03465652, 0.0346051 , 0.09363431, 0.00863842,\n",
              "       0.14772727, 0.18120115, 0.00822707, 0.6732826 , 0.23472851,\n",
              "       0.04596874, 0.04709996, 0.34018922, 0.03578774, 0.0729638 ,\n",
              "       0.41937474, 0.07280954, 0.26784245, 0.01244344, 0.49388112])"
            ]
          },
          "metadata": {
            "tags": []
          },
          "execution_count": 176
        }
      ]
    },
    {
      "cell_type": "code",
      "metadata": {
        "id": "qnhFDwmGZJau",
        "colab": {
          "base_uri": "https://localhost:8080/",
          "height": 228
        },
        "outputId": "4b08fdab-21ef-4a5b-9e40-ebd4d4250ed6"
      },
      "source": [
        "Ratings_demeaned"
      ],
      "execution_count": null,
      "outputs": [
        {
          "output_type": "execute_result",
          "data": {
            "text/plain": [
              "array([[ 3.89582476, -0.10417524,  3.89582476, ..., -0.10417524,\n",
              "        -0.10417524, -0.10417524],\n",
              "       [-0.01177499, -0.01177499, -0.01177499, ..., -0.01177499,\n",
              "        -0.01177499, -0.01177499],\n",
              "       [-0.00976964, -0.00976964, -0.00976964, ..., -0.00976964,\n",
              "        -0.00976964, -0.00976964],\n",
              "       ...,\n",
              "       [ 2.23215755,  1.73215755,  1.73215755, ..., -0.26784245,\n",
              "        -0.26784245, -0.26784245],\n",
              "       [ 2.98755656, -0.01244344, -0.01244344, ..., -0.01244344,\n",
              "        -0.01244344, -0.01244344],\n",
              "       [ 4.50611888, -0.49388112, -0.49388112, ..., -0.49388112,\n",
              "        -0.49388112, -0.49388112]])"
            ]
          },
          "metadata": {
            "tags": []
          },
          "execution_count": 177
        }
      ]
    },
    {
      "cell_type": "code",
      "metadata": {
        "id": "Nz_-HdwR48tW",
        "colab": {
          "base_uri": "https://localhost:8080/",
          "height": 33
        },
        "outputId": "6de8f42c-678b-4d2f-b591-8cf19a2fdc46"
      },
      "source": [
        "n_users = ratings.userId.unique().shape[0]\n",
        "n_movies = ratings.movieId.unique().shape[0]\n",
        "print ('Number of users = ' + str(n_users) + ' | Number of movies = ' + str(n_movies))"
      ],
      "execution_count": null,
      "outputs": [
        {
          "output_type": "stream",
          "text": [
            "Number of users = 610 | Number of movies = 9724\n"
          ],
          "name": "stdout"
        }
      ]
    },
    {
      "cell_type": "code",
      "metadata": {
        "id": "GOYwBUoj5KOw"
      },
      "source": [
        "from scipy.sparse.linalg import svds\n",
        "U, sigma, Vt = svds(Ratings_demeaned, k = 50)"
      ],
      "execution_count": null,
      "outputs": []
    },
    {
      "cell_type": "code",
      "metadata": {
        "id": "UxdmQxKSferZ"
      },
      "source": [
        "svds?\n"
      ],
      "execution_count": null,
      "outputs": []
    },
    {
      "cell_type": "code",
      "metadata": {
        "id": "qf3RRQB-5r4w"
      },
      "source": [
        "sigma = np.diag(sigma)"
      ],
      "execution_count": null,
      "outputs": []
    },
    {
      "cell_type": "code",
      "metadata": {
        "id": "ooeS53DI5wOz"
      },
      "source": [
        "all_user_predicted_ratings = np.dot(np.dot(U, sigma), Vt) + user_ratings_mean.reshape(-1, 1)"
      ],
      "execution_count": null,
      "outputs": []
    },
    {
      "cell_type": "code",
      "metadata": {
        "id": "UDAi69vq55BV",
        "colab": {
          "base_uri": "https://localhost:8080/",
          "height": 238
        },
        "outputId": "e8e45922-e8e6-469d-b24b-7fda014fea2e"
      },
      "source": [
        "preds = pd.DataFrame(all_user_predicted_ratings, columns = Ratings.columns)\n",
        "preds.head()"
      ],
      "execution_count": null,
      "outputs": [
        {
          "output_type": "execute_result",
          "data": {
            "text/html": [
              "<div>\n",
              "<style scoped>\n",
              "    .dataframe tbody tr th:only-of-type {\n",
              "        vertical-align: middle;\n",
              "    }\n",
              "\n",
              "    .dataframe tbody tr th {\n",
              "        vertical-align: top;\n",
              "    }\n",
              "\n",
              "    .dataframe thead th {\n",
              "        text-align: right;\n",
              "    }\n",
              "</style>\n",
              "<table border=\"1\" class=\"dataframe\">\n",
              "  <thead>\n",
              "    <tr style=\"text-align: right;\">\n",
              "      <th>movieId</th>\n",
              "      <th>1</th>\n",
              "      <th>2</th>\n",
              "      <th>3</th>\n",
              "      <th>4</th>\n",
              "      <th>5</th>\n",
              "      <th>6</th>\n",
              "      <th>7</th>\n",
              "      <th>8</th>\n",
              "      <th>9</th>\n",
              "      <th>10</th>\n",
              "      <th>11</th>\n",
              "      <th>12</th>\n",
              "      <th>13</th>\n",
              "      <th>14</th>\n",
              "      <th>15</th>\n",
              "      <th>16</th>\n",
              "      <th>17</th>\n",
              "      <th>18</th>\n",
              "      <th>19</th>\n",
              "      <th>20</th>\n",
              "      <th>21</th>\n",
              "      <th>22</th>\n",
              "      <th>23</th>\n",
              "      <th>24</th>\n",
              "      <th>25</th>\n",
              "      <th>26</th>\n",
              "      <th>27</th>\n",
              "      <th>28</th>\n",
              "      <th>29</th>\n",
              "      <th>30</th>\n",
              "      <th>31</th>\n",
              "      <th>32</th>\n",
              "      <th>34</th>\n",
              "      <th>36</th>\n",
              "      <th>38</th>\n",
              "      <th>39</th>\n",
              "      <th>40</th>\n",
              "      <th>41</th>\n",
              "      <th>42</th>\n",
              "      <th>43</th>\n",
              "      <th>...</th>\n",
              "      <th>185135</th>\n",
              "      <th>185435</th>\n",
              "      <th>185473</th>\n",
              "      <th>185585</th>\n",
              "      <th>186587</th>\n",
              "      <th>187031</th>\n",
              "      <th>187541</th>\n",
              "      <th>187593</th>\n",
              "      <th>187595</th>\n",
              "      <th>187717</th>\n",
              "      <th>188189</th>\n",
              "      <th>188301</th>\n",
              "      <th>188675</th>\n",
              "      <th>188751</th>\n",
              "      <th>188797</th>\n",
              "      <th>188833</th>\n",
              "      <th>189043</th>\n",
              "      <th>189111</th>\n",
              "      <th>189333</th>\n",
              "      <th>189381</th>\n",
              "      <th>189547</th>\n",
              "      <th>189713</th>\n",
              "      <th>190183</th>\n",
              "      <th>190207</th>\n",
              "      <th>190209</th>\n",
              "      <th>190213</th>\n",
              "      <th>190215</th>\n",
              "      <th>190219</th>\n",
              "      <th>190221</th>\n",
              "      <th>191005</th>\n",
              "      <th>193565</th>\n",
              "      <th>193567</th>\n",
              "      <th>193571</th>\n",
              "      <th>193573</th>\n",
              "      <th>193579</th>\n",
              "      <th>193581</th>\n",
              "      <th>193583</th>\n",
              "      <th>193585</th>\n",
              "      <th>193587</th>\n",
              "      <th>193609</th>\n",
              "    </tr>\n",
              "  </thead>\n",
              "  <tbody>\n",
              "    <tr>\n",
              "      <th>0</th>\n",
              "      <td>2.167328</td>\n",
              "      <td>0.402751</td>\n",
              "      <td>0.840184</td>\n",
              "      <td>-0.076281</td>\n",
              "      <td>-0.551337</td>\n",
              "      <td>2.504091</td>\n",
              "      <td>-0.890114</td>\n",
              "      <td>-0.026443</td>\n",
              "      <td>0.196974</td>\n",
              "      <td>1.593259</td>\n",
              "      <td>-0.474160</td>\n",
              "      <td>0.237581</td>\n",
              "      <td>0.346021</td>\n",
              "      <td>0.053504</td>\n",
              "      <td>-0.108999</td>\n",
              "      <td>1.355739</td>\n",
              "      <td>-0.426912</td>\n",
              "      <td>-0.077438</td>\n",
              "      <td>0.284485</td>\n",
              "      <td>0.417117</td>\n",
              "      <td>0.245054</td>\n",
              "      <td>0.362827</td>\n",
              "      <td>-0.139144</td>\n",
              "      <td>0.255003</td>\n",
              "      <td>0.067873</td>\n",
              "      <td>-0.220421</td>\n",
              "      <td>-0.033781</td>\n",
              "      <td>0.076522</td>\n",
              "      <td>-0.159481</td>\n",
              "      <td>-0.072023</td>\n",
              "      <td>-0.318595</td>\n",
              "      <td>0.774845</td>\n",
              "      <td>1.631756</td>\n",
              "      <td>-0.336022</td>\n",
              "      <td>0.139459</td>\n",
              "      <td>0.739682</td>\n",
              "      <td>-0.014906</td>\n",
              "      <td>0.084650</td>\n",
              "      <td>0.541279</td>\n",
              "      <td>0.134242</td>\n",
              "      <td>...</td>\n",
              "      <td>-0.178088</td>\n",
              "      <td>0.082812</td>\n",
              "      <td>0.039631</td>\n",
              "      <td>0.069620</td>\n",
              "      <td>0.039631</td>\n",
              "      <td>0.033760</td>\n",
              "      <td>0.016202</td>\n",
              "      <td>0.151717</td>\n",
              "      <td>0.036710</td>\n",
              "      <td>-0.172538</td>\n",
              "      <td>-0.155189</td>\n",
              "      <td>-0.121909</td>\n",
              "      <td>0.070459</td>\n",
              "      <td>0.038139</td>\n",
              "      <td>0.052525</td>\n",
              "      <td>0.090319</td>\n",
              "      <td>0.010978</td>\n",
              "      <td>0.012984</td>\n",
              "      <td>-0.018321</td>\n",
              "      <td>0.050599</td>\n",
              "      <td>-0.008879</td>\n",
              "      <td>-0.085795</td>\n",
              "      <td>-0.013370</td>\n",
              "      <td>0.006966</td>\n",
              "      <td>0.016995</td>\n",
              "      <td>0.004960</td>\n",
              "      <td>0.006966</td>\n",
              "      <td>0.004960</td>\n",
              "      <td>0.004960</td>\n",
              "      <td>-0.030425</td>\n",
              "      <td>-0.023453</td>\n",
              "      <td>-0.019967</td>\n",
              "      <td>-0.026939</td>\n",
              "      <td>-0.026939</td>\n",
              "      <td>-0.023453</td>\n",
              "      <td>-0.026939</td>\n",
              "      <td>-0.023453</td>\n",
              "      <td>-0.023453</td>\n",
              "      <td>-0.023453</td>\n",
              "      <td>-0.058732</td>\n",
              "    </tr>\n",
              "    <tr>\n",
              "      <th>1</th>\n",
              "      <td>0.211459</td>\n",
              "      <td>0.006658</td>\n",
              "      <td>0.033455</td>\n",
              "      <td>0.017419</td>\n",
              "      <td>0.183430</td>\n",
              "      <td>-0.062473</td>\n",
              "      <td>0.083037</td>\n",
              "      <td>0.024158</td>\n",
              "      <td>0.049330</td>\n",
              "      <td>-0.152530</td>\n",
              "      <td>0.077881</td>\n",
              "      <td>0.064805</td>\n",
              "      <td>0.005182</td>\n",
              "      <td>-0.001014</td>\n",
              "      <td>0.045648</td>\n",
              "      <td>0.096822</td>\n",
              "      <td>-0.027822</td>\n",
              "      <td>-0.004426</td>\n",
              "      <td>0.108646</td>\n",
              "      <td>-0.008286</td>\n",
              "      <td>-0.077978</td>\n",
              "      <td>0.016521</td>\n",
              "      <td>0.009482</td>\n",
              "      <td>0.023615</td>\n",
              "      <td>-0.212386</td>\n",
              "      <td>0.040676</td>\n",
              "      <td>-0.001671</td>\n",
              "      <td>-0.021906</td>\n",
              "      <td>-0.174248</td>\n",
              "      <td>0.013497</td>\n",
              "      <td>0.031743</td>\n",
              "      <td>-0.202221</td>\n",
              "      <td>-0.163632</td>\n",
              "      <td>0.030075</td>\n",
              "      <td>0.000392</td>\n",
              "      <td>-0.033238</td>\n",
              "      <td>0.000224</td>\n",
              "      <td>0.017713</td>\n",
              "      <td>0.009105</td>\n",
              "      <td>0.033852</td>\n",
              "      <td>...</td>\n",
              "      <td>0.107281</td>\n",
              "      <td>-0.026524</td>\n",
              "      <td>0.027091</td>\n",
              "      <td>0.011932</td>\n",
              "      <td>0.027091</td>\n",
              "      <td>0.016864</td>\n",
              "      <td>0.051425</td>\n",
              "      <td>0.069516</td>\n",
              "      <td>0.057564</td>\n",
              "      <td>-0.006654</td>\n",
              "      <td>-0.005944</td>\n",
              "      <td>0.014142</td>\n",
              "      <td>-0.002021</td>\n",
              "      <td>0.038409</td>\n",
              "      <td>0.035970</td>\n",
              "      <td>-0.002728</td>\n",
              "      <td>0.002845</td>\n",
              "      <td>0.003324</td>\n",
              "      <td>0.019168</td>\n",
              "      <td>-0.001314</td>\n",
              "      <td>-0.001049</td>\n",
              "      <td>-0.003101</td>\n",
              "      <td>0.009848</td>\n",
              "      <td>0.001888</td>\n",
              "      <td>0.004281</td>\n",
              "      <td>0.001410</td>\n",
              "      <td>0.001888</td>\n",
              "      <td>0.001410</td>\n",
              "      <td>0.001410</td>\n",
              "      <td>0.024940</td>\n",
              "      <td>0.019498</td>\n",
              "      <td>0.016777</td>\n",
              "      <td>0.022219</td>\n",
              "      <td>0.022219</td>\n",
              "      <td>0.019498</td>\n",
              "      <td>0.022219</td>\n",
              "      <td>0.019498</td>\n",
              "      <td>0.019498</td>\n",
              "      <td>0.019498</td>\n",
              "      <td>0.032281</td>\n",
              "    </tr>\n",
              "    <tr>\n",
              "      <th>2</th>\n",
              "      <td>0.003588</td>\n",
              "      <td>0.030518</td>\n",
              "      <td>0.046393</td>\n",
              "      <td>0.008176</td>\n",
              "      <td>-0.006247</td>\n",
              "      <td>0.107328</td>\n",
              "      <td>-0.012416</td>\n",
              "      <td>0.003779</td>\n",
              "      <td>0.007297</td>\n",
              "      <td>-0.059362</td>\n",
              "      <td>-0.005484</td>\n",
              "      <td>0.031175</td>\n",
              "      <td>0.019045</td>\n",
              "      <td>-0.008570</td>\n",
              "      <td>0.009015</td>\n",
              "      <td>0.029135</td>\n",
              "      <td>-0.021266</td>\n",
              "      <td>0.017135</td>\n",
              "      <td>-0.058321</td>\n",
              "      <td>-0.012562</td>\n",
              "      <td>-0.076699</td>\n",
              "      <td>0.011520</td>\n",
              "      <td>-0.014717</td>\n",
              "      <td>0.041779</td>\n",
              "      <td>-0.040655</td>\n",
              "      <td>-0.004429</td>\n",
              "      <td>-0.009282</td>\n",
              "      <td>-0.009510</td>\n",
              "      <td>0.071715</td>\n",
              "      <td>0.010940</td>\n",
              "      <td>0.023559</td>\n",
              "      <td>0.023674</td>\n",
              "      <td>-0.001701</td>\n",
              "      <td>0.006543</td>\n",
              "      <td>0.006831</td>\n",
              "      <td>0.067326</td>\n",
              "      <td>0.007865</td>\n",
              "      <td>-0.001794</td>\n",
              "      <td>0.011360</td>\n",
              "      <td>0.001821</td>\n",
              "      <td>...</td>\n",
              "      <td>0.010848</td>\n",
              "      <td>-0.005258</td>\n",
              "      <td>0.012808</td>\n",
              "      <td>0.017701</td>\n",
              "      <td>0.012808</td>\n",
              "      <td>0.012132</td>\n",
              "      <td>0.009292</td>\n",
              "      <td>0.002576</td>\n",
              "      <td>0.012102</td>\n",
              "      <td>-0.001268</td>\n",
              "      <td>-0.000341</td>\n",
              "      <td>0.020286</td>\n",
              "      <td>0.014689</td>\n",
              "      <td>0.004859</td>\n",
              "      <td>0.014408</td>\n",
              "      <td>0.016599</td>\n",
              "      <td>0.008085</td>\n",
              "      <td>0.008100</td>\n",
              "      <td>0.003702</td>\n",
              "      <td>0.012780</td>\n",
              "      <td>0.007564</td>\n",
              "      <td>0.003369</td>\n",
              "      <td>0.005910</td>\n",
              "      <td>0.008053</td>\n",
              "      <td>0.008131</td>\n",
              "      <td>0.008038</td>\n",
              "      <td>0.008053</td>\n",
              "      <td>0.008038</td>\n",
              "      <td>0.008038</td>\n",
              "      <td>0.005310</td>\n",
              "      <td>0.005909</td>\n",
              "      <td>0.006209</td>\n",
              "      <td>0.005610</td>\n",
              "      <td>0.005610</td>\n",
              "      <td>0.005909</td>\n",
              "      <td>0.005610</td>\n",
              "      <td>0.005909</td>\n",
              "      <td>0.005909</td>\n",
              "      <td>0.005909</td>\n",
              "      <td>0.008004</td>\n",
              "    </tr>\n",
              "    <tr>\n",
              "      <th>3</th>\n",
              "      <td>2.051549</td>\n",
              "      <td>-0.387104</td>\n",
              "      <td>-0.252199</td>\n",
              "      <td>0.087562</td>\n",
              "      <td>0.130465</td>\n",
              "      <td>0.270210</td>\n",
              "      <td>0.477835</td>\n",
              "      <td>0.040313</td>\n",
              "      <td>0.025858</td>\n",
              "      <td>-0.017365</td>\n",
              "      <td>0.637032</td>\n",
              "      <td>-0.092990</td>\n",
              "      <td>0.280611</td>\n",
              "      <td>0.268450</td>\n",
              "      <td>-0.027183</td>\n",
              "      <td>0.161275</td>\n",
              "      <td>1.801845</td>\n",
              "      <td>-0.258694</td>\n",
              "      <td>-0.035952</td>\n",
              "      <td>0.131731</td>\n",
              "      <td>1.912042</td>\n",
              "      <td>-0.169062</td>\n",
              "      <td>-0.034940</td>\n",
              "      <td>0.063111</td>\n",
              "      <td>1.661501</td>\n",
              "      <td>0.158679</td>\n",
              "      <td>0.026145</td>\n",
              "      <td>0.551609</td>\n",
              "      <td>0.492758</td>\n",
              "      <td>0.256954</td>\n",
              "      <td>-0.220697</td>\n",
              "      <td>2.094105</td>\n",
              "      <td>1.940568</td>\n",
              "      <td>0.880095</td>\n",
              "      <td>-0.077526</td>\n",
              "      <td>1.327586</td>\n",
              "      <td>0.003094</td>\n",
              "      <td>0.087768</td>\n",
              "      <td>0.102798</td>\n",
              "      <td>0.069933</td>\n",
              "      <td>...</td>\n",
              "      <td>-0.288689</td>\n",
              "      <td>0.111226</td>\n",
              "      <td>0.004181</td>\n",
              "      <td>0.059797</td>\n",
              "      <td>0.004181</td>\n",
              "      <td>0.006699</td>\n",
              "      <td>-0.011445</td>\n",
              "      <td>0.190691</td>\n",
              "      <td>-0.072316</td>\n",
              "      <td>0.121225</td>\n",
              "      <td>0.109122</td>\n",
              "      <td>-0.003448</td>\n",
              "      <td>-0.019439</td>\n",
              "      <td>0.049429</td>\n",
              "      <td>0.005512</td>\n",
              "      <td>-0.025047</td>\n",
              "      <td>-0.002677</td>\n",
              "      <td>-0.003250</td>\n",
              "      <td>0.010189</td>\n",
              "      <td>-0.013831</td>\n",
              "      <td>0.002714</td>\n",
              "      <td>0.060707</td>\n",
              "      <td>-0.022289</td>\n",
              "      <td>-0.001531</td>\n",
              "      <td>-0.004396</td>\n",
              "      <td>-0.000958</td>\n",
              "      <td>-0.001531</td>\n",
              "      <td>-0.000958</td>\n",
              "      <td>-0.000958</td>\n",
              "      <td>0.006164</td>\n",
              "      <td>0.004836</td>\n",
              "      <td>0.004172</td>\n",
              "      <td>0.005500</td>\n",
              "      <td>0.005500</td>\n",
              "      <td>0.004836</td>\n",
              "      <td>0.005500</td>\n",
              "      <td>0.004836</td>\n",
              "      <td>0.004836</td>\n",
              "      <td>0.004836</td>\n",
              "      <td>-0.023311</td>\n",
              "    </tr>\n",
              "    <tr>\n",
              "      <th>4</th>\n",
              "      <td>1.344738</td>\n",
              "      <td>0.778511</td>\n",
              "      <td>0.065749</td>\n",
              "      <td>0.111744</td>\n",
              "      <td>0.273144</td>\n",
              "      <td>0.584426</td>\n",
              "      <td>0.254930</td>\n",
              "      <td>0.128788</td>\n",
              "      <td>-0.085541</td>\n",
              "      <td>1.023455</td>\n",
              "      <td>0.974908</td>\n",
              "      <td>-0.070313</td>\n",
              "      <td>0.135688</td>\n",
              "      <td>0.237220</td>\n",
              "      <td>0.208138</td>\n",
              "      <td>0.552464</td>\n",
              "      <td>0.771266</td>\n",
              "      <td>-0.049298</td>\n",
              "      <td>0.326467</td>\n",
              "      <td>0.082279</td>\n",
              "      <td>1.158006</td>\n",
              "      <td>0.332666</td>\n",
              "      <td>0.156395</td>\n",
              "      <td>0.109681</td>\n",
              "      <td>0.861100</td>\n",
              "      <td>0.242800</td>\n",
              "      <td>0.033883</td>\n",
              "      <td>0.124262</td>\n",
              "      <td>0.044031</td>\n",
              "      <td>-0.000574</td>\n",
              "      <td>0.465793</td>\n",
              "      <td>1.254308</td>\n",
              "      <td>1.893785</td>\n",
              "      <td>0.999793</td>\n",
              "      <td>-0.017239</td>\n",
              "      <td>1.256341</td>\n",
              "      <td>-0.011412</td>\n",
              "      <td>0.111539</td>\n",
              "      <td>-0.012218</td>\n",
              "      <td>0.110956</td>\n",
              "      <td>...</td>\n",
              "      <td>-0.007826</td>\n",
              "      <td>0.023460</td>\n",
              "      <td>-0.006995</td>\n",
              "      <td>-0.012447</td>\n",
              "      <td>-0.006995</td>\n",
              "      <td>-0.004094</td>\n",
              "      <td>-0.009139</td>\n",
              "      <td>0.025778</td>\n",
              "      <td>0.004529</td>\n",
              "      <td>-0.017096</td>\n",
              "      <td>-0.015755</td>\n",
              "      <td>-0.002459</td>\n",
              "      <td>-0.006417</td>\n",
              "      <td>-0.003125</td>\n",
              "      <td>-0.008097</td>\n",
              "      <td>-0.007197</td>\n",
              "      <td>0.003527</td>\n",
              "      <td>0.004970</td>\n",
              "      <td>-0.009438</td>\n",
              "      <td>-0.005636</td>\n",
              "      <td>-0.003344</td>\n",
              "      <td>-0.010391</td>\n",
              "      <td>-0.018666</td>\n",
              "      <td>0.000642</td>\n",
              "      <td>0.007855</td>\n",
              "      <td>-0.000801</td>\n",
              "      <td>0.000642</td>\n",
              "      <td>-0.000801</td>\n",
              "      <td>-0.000801</td>\n",
              "      <td>-0.009286</td>\n",
              "      <td>-0.008042</td>\n",
              "      <td>-0.007419</td>\n",
              "      <td>-0.008664</td>\n",
              "      <td>-0.008664</td>\n",
              "      <td>-0.008042</td>\n",
              "      <td>-0.008664</td>\n",
              "      <td>-0.008042</td>\n",
              "      <td>-0.008042</td>\n",
              "      <td>-0.008042</td>\n",
              "      <td>-0.010127</td>\n",
              "    </tr>\n",
              "  </tbody>\n",
              "</table>\n",
              "<p>5 rows × 9724 columns</p>\n",
              "</div>"
            ],
            "text/plain": [
              "movieId    1         2         3       ...    193585    193587    193609\n",
              "0        2.167328  0.402751  0.840184  ... -0.023453 -0.023453 -0.058732\n",
              "1        0.211459  0.006658  0.033455  ...  0.019498  0.019498  0.032281\n",
              "2        0.003588  0.030518  0.046393  ...  0.005909  0.005909  0.008004\n",
              "3        2.051549 -0.387104 -0.252199  ...  0.004836  0.004836 -0.023311\n",
              "4        1.344738  0.778511  0.065749  ... -0.008042 -0.008042 -0.010127\n",
              "\n",
              "[5 rows x 9724 columns]"
            ]
          },
          "metadata": {
            "tags": []
          },
          "execution_count": 80
        }
      ]
    },
    {
      "cell_type": "code",
      "metadata": {
        "id": "U-pbgm3Z6CfX"
      },
      "source": [
        "\n",
        "def recommend_movies(predictions, userID, movies, original_ratings, num_recommendations):\n",
        "    \n",
        "    # Get and sort the user's predictions\n",
        "    user_row_number = userID - 1 # User ID starts at 1, not 0\n",
        "    sorted_user_predictions = preds.iloc[user_row_number].sort_values(ascending=False) # User ID starts at 1\n",
        "    \n",
        "    # Get the user's data and merge in the movie information.\n",
        "    user_data = original_ratings[original_ratings.userId == (userID)]\n",
        "    user_full = (user_data.merge(movies, how = 'left', left_on = 'movieId', right_on = 'movieId').\n",
        "                     sort_values(['rating'], ascending=False)\n",
        "                 )\n",
        "\n",
        "    print ('User {0} has already rated {1} movies.'.format(userID, user_full.shape[0]))\n",
        "    print ('Recommending highest {0} predicted ratings movies not already rated.'.format(num_recommendations))\n",
        "    \n",
        "    # Recommend the highest predicted rating movies that the user hasn't seen yet.\n",
        "    recommendations = (movies[~movies['movieId'].isin(user_full['movieId'])].\n",
        "         merge(pd.DataFrame(sorted_user_predictions).reset_index(), how = 'left',\n",
        "               left_on = 'movieId',\n",
        "               right_on = 'movieId').\n",
        "         rename(columns = {user_row_number: 'Predictions'}).\n",
        "         sort_values('Predictions', ascending = False).\n",
        "                       iloc[:num_recommendations, :-1]\n",
        "                      )\n",
        "\n",
        "    return user_full, recommendations"
      ],
      "execution_count": null,
      "outputs": []
    },
    {
      "cell_type": "code",
      "metadata": {
        "id": "CFRD9RZzh4JY",
        "colab": {
          "base_uri": "https://localhost:8080/",
          "height": 33
        },
        "outputId": "848c2904-adee-4ce7-85a6-d715f370399e"
      },
      "source": [
        "movies.columns"
      ],
      "execution_count": null,
      "outputs": [
        {
          "output_type": "execute_result",
          "data": {
            "text/plain": [
              "Index(['movieId', 'title', 'genres'], dtype='object')"
            ]
          },
          "metadata": {
            "tags": []
          },
          "execution_count": 82
        }
      ]
    },
    {
      "cell_type": "code",
      "metadata": {
        "id": "OawzN-kO6Wt3",
        "colab": {
          "base_uri": "https://localhost:8080/",
          "height": 50
        },
        "outputId": "64c58ade-0b53-4268-8a5f-192306c64b7b"
      },
      "source": [
        "already_rated, predictions = recommend_movies(preds, 5, movies, ratings, 5)"
      ],
      "execution_count": null,
      "outputs": [
        {
          "output_type": "stream",
          "text": [
            "User 5 has already rated 44 movies.\n",
            "Recommending highest 5 predicted ratings movies not already rated.\n"
          ],
          "name": "stdout"
        }
      ]
    },
    {
      "cell_type": "code",
      "metadata": {
        "id": "tD-ZGLXj60zJ",
        "colab": {
          "base_uri": "https://localhost:8080/",
          "height": 622
        },
        "outputId": "330022ac-79ed-4318-ec1f-5ef5738cbf11"
      },
      "source": [
        "\n",
        "# Top 20 movies that User 5 has rated \n",
        "already_rated.head(20)"
      ],
      "execution_count": null,
      "outputs": [
        {
          "output_type": "execute_result",
          "data": {
            "text/html": [
              "<div>\n",
              "<style scoped>\n",
              "    .dataframe tbody tr th:only-of-type {\n",
              "        vertical-align: middle;\n",
              "    }\n",
              "\n",
              "    .dataframe tbody tr th {\n",
              "        vertical-align: top;\n",
              "    }\n",
              "\n",
              "    .dataframe thead th {\n",
              "        text-align: right;\n",
              "    }\n",
              "</style>\n",
              "<table border=\"1\" class=\"dataframe\">\n",
              "  <thead>\n",
              "    <tr style=\"text-align: right;\">\n",
              "      <th></th>\n",
              "      <th>userId</th>\n",
              "      <th>movieId</th>\n",
              "      <th>rating</th>\n",
              "      <th>timestamp</th>\n",
              "      <th>title</th>\n",
              "      <th>genres</th>\n",
              "    </tr>\n",
              "  </thead>\n",
              "  <tbody>\n",
              "    <tr>\n",
              "      <th>37</th>\n",
              "      <td>5</td>\n",
              "      <td>590</td>\n",
              "      <td>5.0</td>\n",
              "      <td>847434747</td>\n",
              "      <td>Dances with Wolves (1990)</td>\n",
              "      <td>Adventure Drama Western</td>\n",
              "    </tr>\n",
              "    <tr>\n",
              "      <th>30</th>\n",
              "      <td>5</td>\n",
              "      <td>475</td>\n",
              "      <td>5.0</td>\n",
              "      <td>847435311</td>\n",
              "      <td>In the Name of the Father (1993)</td>\n",
              "      <td>Drama</td>\n",
              "    </tr>\n",
              "    <tr>\n",
              "      <th>32</th>\n",
              "      <td>5</td>\n",
              "      <td>527</td>\n",
              "      <td>5.0</td>\n",
              "      <td>847434960</td>\n",
              "      <td>Schindler's List (1993)</td>\n",
              "      <td>Drama War</td>\n",
              "    </tr>\n",
              "    <tr>\n",
              "      <th>6</th>\n",
              "      <td>5</td>\n",
              "      <td>58</td>\n",
              "      <td>5.0</td>\n",
              "      <td>847435238</td>\n",
              "      <td>Postman, The (Postino, Il) (1994)</td>\n",
              "      <td>Comedy Drama Romance</td>\n",
              "    </tr>\n",
              "    <tr>\n",
              "      <th>41</th>\n",
              "      <td>5</td>\n",
              "      <td>596</td>\n",
              "      <td>5.0</td>\n",
              "      <td>847435292</td>\n",
              "      <td>Pinocchio (1940)</td>\n",
              "      <td>Animation Children Fantasy Musical</td>\n",
              "    </tr>\n",
              "    <tr>\n",
              "      <th>40</th>\n",
              "      <td>5</td>\n",
              "      <td>595</td>\n",
              "      <td>5.0</td>\n",
              "      <td>847434832</td>\n",
              "      <td>Beauty and the Beast (1991)</td>\n",
              "      <td>Animation Children Fantasy Musical Romance IMAX</td>\n",
              "    </tr>\n",
              "    <tr>\n",
              "      <th>11</th>\n",
              "      <td>5</td>\n",
              "      <td>247</td>\n",
              "      <td>5.0</td>\n",
              "      <td>847435337</td>\n",
              "      <td>Heavenly Creatures (1994)</td>\n",
              "      <td>Crime Drama</td>\n",
              "    </tr>\n",
              "    <tr>\n",
              "      <th>39</th>\n",
              "      <td>5</td>\n",
              "      <td>594</td>\n",
              "      <td>5.0</td>\n",
              "      <td>847435238</td>\n",
              "      <td>Snow White and the Seven Dwarfs (1937)</td>\n",
              "      <td>Animation Children Drama Fantasy Musical</td>\n",
              "    </tr>\n",
              "    <tr>\n",
              "      <th>17</th>\n",
              "      <td>5</td>\n",
              "      <td>296</td>\n",
              "      <td>5.0</td>\n",
              "      <td>847434748</td>\n",
              "      <td>Pulp Fiction (1994)</td>\n",
              "      <td>Comedy Crime Drama Thriller</td>\n",
              "    </tr>\n",
              "    <tr>\n",
              "      <th>16</th>\n",
              "      <td>5</td>\n",
              "      <td>290</td>\n",
              "      <td>5.0</td>\n",
              "      <td>847435311</td>\n",
              "      <td>Once Were Warriors (1994)</td>\n",
              "      <td>Crime Drama</td>\n",
              "    </tr>\n",
              "    <tr>\n",
              "      <th>0</th>\n",
              "      <td>5</td>\n",
              "      <td>1</td>\n",
              "      <td>4.0</td>\n",
              "      <td>847434962</td>\n",
              "      <td>Toy Story (1995)</td>\n",
              "      <td>Adventure Animation Children Comedy Fantasy</td>\n",
              "    </tr>\n",
              "    <tr>\n",
              "      <th>25</th>\n",
              "      <td>5</td>\n",
              "      <td>367</td>\n",
              "      <td>4.0</td>\n",
              "      <td>847435129</td>\n",
              "      <td>Mask, The (1994)</td>\n",
              "      <td>Action Comedy Crime Fantasy</td>\n",
              "    </tr>\n",
              "    <tr>\n",
              "      <th>1</th>\n",
              "      <td>5</td>\n",
              "      <td>21</td>\n",
              "      <td>4.0</td>\n",
              "      <td>847435238</td>\n",
              "      <td>Get Shorty (1995)</td>\n",
              "      <td>Comedy Crime Thriller</td>\n",
              "    </tr>\n",
              "    <tr>\n",
              "      <th>33</th>\n",
              "      <td>5</td>\n",
              "      <td>531</td>\n",
              "      <td>4.0</td>\n",
              "      <td>847435258</td>\n",
              "      <td>Secret Garden, The (1993)</td>\n",
              "      <td>Children Drama</td>\n",
              "    </tr>\n",
              "    <tr>\n",
              "      <th>35</th>\n",
              "      <td>5</td>\n",
              "      <td>588</td>\n",
              "      <td>4.0</td>\n",
              "      <td>847434801</td>\n",
              "      <td>Aladdin (1992)</td>\n",
              "      <td>Adventure Animation Children Comedy Musical</td>\n",
              "    </tr>\n",
              "    <tr>\n",
              "      <th>29</th>\n",
              "      <td>5</td>\n",
              "      <td>474</td>\n",
              "      <td>4.0</td>\n",
              "      <td>847435337</td>\n",
              "      <td>In the Line of Fire (1993)</td>\n",
              "      <td>Action Thriller</td>\n",
              "    </tr>\n",
              "    <tr>\n",
              "      <th>28</th>\n",
              "      <td>5</td>\n",
              "      <td>457</td>\n",
              "      <td>4.0</td>\n",
              "      <td>847434801</td>\n",
              "      <td>Fugitive, The (1993)</td>\n",
              "      <td>Thriller</td>\n",
              "    </tr>\n",
              "    <tr>\n",
              "      <th>13</th>\n",
              "      <td>5</td>\n",
              "      <td>261</td>\n",
              "      <td>4.0</td>\n",
              "      <td>847435238</td>\n",
              "      <td>Little Women (1994)</td>\n",
              "      <td>Drama</td>\n",
              "    </tr>\n",
              "    <tr>\n",
              "      <th>10</th>\n",
              "      <td>5</td>\n",
              "      <td>232</td>\n",
              "      <td>4.0</td>\n",
              "      <td>847435292</td>\n",
              "      <td>Eat Drink Man Woman (Yin shi nan nu) (1994)</td>\n",
              "      <td>Comedy Drama Romance</td>\n",
              "    </tr>\n",
              "    <tr>\n",
              "      <th>7</th>\n",
              "      <td>5</td>\n",
              "      <td>110</td>\n",
              "      <td>4.0</td>\n",
              "      <td>847434880</td>\n",
              "      <td>Braveheart (1995)</td>\n",
              "      <td>Action Drama War</td>\n",
              "    </tr>\n",
              "  </tbody>\n",
              "</table>\n",
              "</div>"
            ],
            "text/plain": [
              "    userId  ...                                           genres\n",
              "37       5  ...                          Adventure Drama Western\n",
              "30       5  ...                                            Drama\n",
              "32       5  ...                                        Drama War\n",
              "6        5  ...                             Comedy Drama Romance\n",
              "41       5  ...               Animation Children Fantasy Musical\n",
              "40       5  ...  Animation Children Fantasy Musical Romance IMAX\n",
              "11       5  ...                                      Crime Drama\n",
              "39       5  ...         Animation Children Drama Fantasy Musical\n",
              "17       5  ...                      Comedy Crime Drama Thriller\n",
              "16       5  ...                                      Crime Drama\n",
              "0        5  ...      Adventure Animation Children Comedy Fantasy\n",
              "25       5  ...                      Action Comedy Crime Fantasy\n",
              "1        5  ...                            Comedy Crime Thriller\n",
              "33       5  ...                                   Children Drama\n",
              "35       5  ...      Adventure Animation Children Comedy Musical\n",
              "29       5  ...                                  Action Thriller\n",
              "28       5  ...                                         Thriller\n",
              "13       5  ...                                            Drama\n",
              "10       5  ...                             Comedy Drama Romance\n",
              "7        5  ...                                 Action Drama War\n",
              "\n",
              "[20 rows x 6 columns]"
            ]
          },
          "metadata": {
            "tags": []
          },
          "execution_count": 100
        }
      ]
    },
    {
      "cell_type": "code",
      "metadata": {
        "id": "0nwV4FZNoaVI",
        "colab": {
          "base_uri": "https://localhost:8080/",
          "height": 191
        },
        "outputId": "07bc5b17-1387-4b5f-c012-1e01768572b6"
      },
      "source": [
        "# Top 5 movies that User 5 hopefully will enjoy\n",
        "predictions"
      ],
      "execution_count": null,
      "outputs": [
        {
          "output_type": "execute_result",
          "data": {
            "text/html": [
              "<div>\n",
              "<style scoped>\n",
              "    .dataframe tbody tr th:only-of-type {\n",
              "        vertical-align: middle;\n",
              "    }\n",
              "\n",
              "    .dataframe tbody tr th {\n",
              "        vertical-align: top;\n",
              "    }\n",
              "\n",
              "    .dataframe thead th {\n",
              "        text-align: right;\n",
              "    }\n",
              "</style>\n",
              "<table border=\"1\" class=\"dataframe\">\n",
              "  <thead>\n",
              "    <tr style=\"text-align: right;\">\n",
              "      <th></th>\n",
              "      <th>movieId</th>\n",
              "      <th>title</th>\n",
              "      <th>genres</th>\n",
              "    </tr>\n",
              "  </thead>\n",
              "  <tbody>\n",
              "    <tr>\n",
              "      <th>288</th>\n",
              "      <td>356</td>\n",
              "      <td>Forrest Gump (1994)</td>\n",
              "      <td>Comedy Drama Romance War</td>\n",
              "    </tr>\n",
              "    <tr>\n",
              "      <th>468</th>\n",
              "      <td>593</td>\n",
              "      <td>Silence of the Lambs, The (1991)</td>\n",
              "      <td>Crime Horror Thriller</td>\n",
              "    </tr>\n",
              "    <tr>\n",
              "      <th>384</th>\n",
              "      <td>480</td>\n",
              "      <td>Jurassic Park (1993)</td>\n",
              "      <td>Action Adventure Sci-Fi Thriller</td>\n",
              "    </tr>\n",
              "    <tr>\n",
              "      <th>121</th>\n",
              "      <td>161</td>\n",
              "      <td>Crimson Tide (1995)</td>\n",
              "      <td>Drama Thriller War</td>\n",
              "    </tr>\n",
              "    <tr>\n",
              "      <th>305</th>\n",
              "      <td>377</td>\n",
              "      <td>Speed (1994)</td>\n",
              "      <td>Action Romance Thriller</td>\n",
              "    </tr>\n",
              "  </tbody>\n",
              "</table>\n",
              "</div>"
            ],
            "text/plain": [
              "     movieId  ...                            genres\n",
              "288      356  ...          Comedy Drama Romance War\n",
              "468      593  ...             Crime Horror Thriller\n",
              "384      480  ...  Action Adventure Sci-Fi Thriller\n",
              "121      161  ...                Drama Thriller War\n",
              "305      377  ...           Action Romance Thriller\n",
              "\n",
              "[5 rows x 3 columns]"
            ]
          },
          "metadata": {
            "tags": []
          },
          "execution_count": 101
        }
      ]
    },
    {
      "cell_type": "markdown",
      "metadata": {
        "id": "1BQhwHZJomA4"
      },
      "source": [
        "MODEL EVALUATION"
      ]
    },
    {
      "cell_type": "code",
      "metadata": {
        "id": "31kEeuoSwVbz",
        "colab": {
          "base_uri": "https://localhost:8080/",
          "height": 277
        },
        "outputId": "afd4fd9d-52ff-4cb8-8fbb-e37b208adad1"
      },
      "source": [
        "!pip install surprise\n"
      ],
      "execution_count": null,
      "outputs": [
        {
          "output_type": "stream",
          "text": [
            "Collecting surprise\n",
            "  Downloading https://files.pythonhosted.org/packages/61/de/e5cba8682201fcf9c3719a6fdda95693468ed061945493dea2dd37c5618b/surprise-0.1-py2.py3-none-any.whl\n",
            "Collecting scikit-surprise\n",
            "\u001b[?25l  Downloading https://files.pythonhosted.org/packages/97/37/5d334adaf5ddd65da99fc65f6507e0e4599d092ba048f4302fe8775619e8/scikit-surprise-1.1.1.tar.gz (11.8MB)\n",
            "\u001b[K     |████████████████████████████████| 11.8MB 255kB/s \n",
            "\u001b[?25hRequirement already satisfied: joblib>=0.11 in /usr/local/lib/python3.6/dist-packages (from scikit-surprise->surprise) (0.16.0)\n",
            "Requirement already satisfied: numpy>=1.11.2 in /usr/local/lib/python3.6/dist-packages (from scikit-surprise->surprise) (1.18.5)\n",
            "Requirement already satisfied: scipy>=1.0.0 in /usr/local/lib/python3.6/dist-packages (from scikit-surprise->surprise) (1.4.1)\n",
            "Requirement already satisfied: six>=1.10.0 in /usr/local/lib/python3.6/dist-packages (from scikit-surprise->surprise) (1.15.0)\n",
            "Building wheels for collected packages: scikit-surprise\n",
            "  Building wheel for scikit-surprise (setup.py) ... \u001b[?25l\u001b[?25hdone\n",
            "  Created wheel for scikit-surprise: filename=scikit_surprise-1.1.1-cp36-cp36m-linux_x86_64.whl size=1670972 sha256=87ef76b5c4bf7df70c40dad3dd4eb72937b5c2135c9b0e4532c6f013cc64fb20\n",
            "  Stored in directory: /root/.cache/pip/wheels/78/9c/3d/41b419c9d2aff5b6e2b4c0fc8d25c538202834058f9ed110d0\n",
            "Successfully built scikit-surprise\n",
            "Installing collected packages: scikit-surprise, surprise\n",
            "Successfully installed scikit-surprise-1.1.1 surprise-0.1\n"
          ],
          "name": "stdout"
        }
      ]
    },
    {
      "cell_type": "code",
      "metadata": {
        "id": "q3Q0sIlIouhg"
      },
      "source": [
        "# Import libraries from Surprise package\n",
        "from surprise import Reader, Dataset\n",
        "from surprise.model_selection import cross_validate\n",
        "from surprise import SVD\n",
        "# Load Reader library\n",
        "reader = Reader()\n",
        "\n",
        "# Load ratings dataset with Dataset library\n",
        "data = Dataset.load_from_df(ratings[['userId', 'movieId', 'rating']], reader)\n"
      ],
      "execution_count": null,
      "outputs": []
    },
    {
      "cell_type": "code",
      "metadata": {
        "id": "RVz_qssHqaZ6",
        "colab": {
          "base_uri": "https://localhost:8080/",
          "height": 196
        },
        "outputId": "b96155f9-97d6-4311-b9de-7dc5966e597f"
      },
      "source": [
        "svd = SVD()\n",
        "\n",
        "# Compute the RMSE of the SVD algorithm.\n",
        "cross_validate(svd, data, measures=['RMSE'])"
      ],
      "execution_count": null,
      "outputs": [
        {
          "output_type": "execute_result",
          "data": {
            "text/plain": [
              "{'fit_time': (4.51360011100769,\n",
              "  4.470064640045166,\n",
              "  4.476624250411987,\n",
              "  4.451500177383423,\n",
              "  4.517265319824219),\n",
              " 'test_rmse': array([0.8646863 , 0.87857759, 0.87694916, 0.86862668, 0.87553678]),\n",
              " 'test_time': (0.14348816871643066,\n",
              "  0.2385087013244629,\n",
              "  0.14977097511291504,\n",
              "  0.22945046424865723,\n",
              "  0.14820432662963867)}"
            ]
          },
          "metadata": {
            "tags": []
          },
          "execution_count": 95
        }
      ]
    },
    {
      "cell_type": "code",
      "metadata": {
        "id": "Jy8DM3Gl2EnH",
        "colab": {
          "base_uri": "https://localhost:8080/",
          "height": 33
        },
        "outputId": "6ccaaa0f-8813-4ff7-914e-9fd778cfe5e0"
      },
      "source": [
        "trainset = data.build_full_trainset()\n",
        "svd.fit(trainset)"
      ],
      "execution_count": null,
      "outputs": [
        {
          "output_type": "execute_result",
          "data": {
            "text/plain": [
              "<surprise.prediction_algorithms.matrix_factorization.SVD at 0x7f69439cfb00>"
            ]
          },
          "metadata": {
            "tags": []
          },
          "execution_count": 96
        }
      ]
    },
    {
      "cell_type": "code",
      "metadata": {
        "id": "ze2m33LP5ACG",
        "colab": {
          "base_uri": "https://localhost:8080/",
          "height": 881
        },
        "outputId": "d3f81a5e-f581-424d-8521-c071282d9794"
      },
      "source": [
        "ratings[ratings['userId'] == 2]"
      ],
      "execution_count": null,
      "outputs": [
        {
          "output_type": "execute_result",
          "data": {
            "text/html": [
              "<div>\n",
              "<style scoped>\n",
              "    .dataframe tbody tr th:only-of-type {\n",
              "        vertical-align: middle;\n",
              "    }\n",
              "\n",
              "    .dataframe tbody tr th {\n",
              "        vertical-align: top;\n",
              "    }\n",
              "\n",
              "    .dataframe thead th {\n",
              "        text-align: right;\n",
              "    }\n",
              "</style>\n",
              "<table border=\"1\" class=\"dataframe\">\n",
              "  <thead>\n",
              "    <tr style=\"text-align: right;\">\n",
              "      <th></th>\n",
              "      <th>userId</th>\n",
              "      <th>movieId</th>\n",
              "      <th>rating</th>\n",
              "      <th>timestamp</th>\n",
              "    </tr>\n",
              "  </thead>\n",
              "  <tbody>\n",
              "    <tr>\n",
              "      <th>232</th>\n",
              "      <td>2</td>\n",
              "      <td>318</td>\n",
              "      <td>3.0</td>\n",
              "      <td>1445714835</td>\n",
              "    </tr>\n",
              "    <tr>\n",
              "      <th>233</th>\n",
              "      <td>2</td>\n",
              "      <td>333</td>\n",
              "      <td>4.0</td>\n",
              "      <td>1445715029</td>\n",
              "    </tr>\n",
              "    <tr>\n",
              "      <th>234</th>\n",
              "      <td>2</td>\n",
              "      <td>1704</td>\n",
              "      <td>4.5</td>\n",
              "      <td>1445715228</td>\n",
              "    </tr>\n",
              "    <tr>\n",
              "      <th>235</th>\n",
              "      <td>2</td>\n",
              "      <td>3578</td>\n",
              "      <td>4.0</td>\n",
              "      <td>1445714885</td>\n",
              "    </tr>\n",
              "    <tr>\n",
              "      <th>236</th>\n",
              "      <td>2</td>\n",
              "      <td>6874</td>\n",
              "      <td>4.0</td>\n",
              "      <td>1445714952</td>\n",
              "    </tr>\n",
              "    <tr>\n",
              "      <th>237</th>\n",
              "      <td>2</td>\n",
              "      <td>8798</td>\n",
              "      <td>3.5</td>\n",
              "      <td>1445714960</td>\n",
              "    </tr>\n",
              "    <tr>\n",
              "      <th>238</th>\n",
              "      <td>2</td>\n",
              "      <td>46970</td>\n",
              "      <td>4.0</td>\n",
              "      <td>1445715013</td>\n",
              "    </tr>\n",
              "    <tr>\n",
              "      <th>239</th>\n",
              "      <td>2</td>\n",
              "      <td>48516</td>\n",
              "      <td>4.0</td>\n",
              "      <td>1445715064</td>\n",
              "    </tr>\n",
              "    <tr>\n",
              "      <th>240</th>\n",
              "      <td>2</td>\n",
              "      <td>58559</td>\n",
              "      <td>4.5</td>\n",
              "      <td>1445715141</td>\n",
              "    </tr>\n",
              "    <tr>\n",
              "      <th>241</th>\n",
              "      <td>2</td>\n",
              "      <td>60756</td>\n",
              "      <td>5.0</td>\n",
              "      <td>1445714980</td>\n",
              "    </tr>\n",
              "    <tr>\n",
              "      <th>242</th>\n",
              "      <td>2</td>\n",
              "      <td>68157</td>\n",
              "      <td>4.5</td>\n",
              "      <td>1445715154</td>\n",
              "    </tr>\n",
              "    <tr>\n",
              "      <th>243</th>\n",
              "      <td>2</td>\n",
              "      <td>71535</td>\n",
              "      <td>3.0</td>\n",
              "      <td>1445714974</td>\n",
              "    </tr>\n",
              "    <tr>\n",
              "      <th>244</th>\n",
              "      <td>2</td>\n",
              "      <td>74458</td>\n",
              "      <td>4.0</td>\n",
              "      <td>1445714926</td>\n",
              "    </tr>\n",
              "    <tr>\n",
              "      <th>245</th>\n",
              "      <td>2</td>\n",
              "      <td>77455</td>\n",
              "      <td>3.0</td>\n",
              "      <td>1445714941</td>\n",
              "    </tr>\n",
              "    <tr>\n",
              "      <th>246</th>\n",
              "      <td>2</td>\n",
              "      <td>79132</td>\n",
              "      <td>4.0</td>\n",
              "      <td>1445714841</td>\n",
              "    </tr>\n",
              "    <tr>\n",
              "      <th>247</th>\n",
              "      <td>2</td>\n",
              "      <td>80489</td>\n",
              "      <td>4.5</td>\n",
              "      <td>1445715340</td>\n",
              "    </tr>\n",
              "    <tr>\n",
              "      <th>248</th>\n",
              "      <td>2</td>\n",
              "      <td>80906</td>\n",
              "      <td>5.0</td>\n",
              "      <td>1445715172</td>\n",
              "    </tr>\n",
              "    <tr>\n",
              "      <th>249</th>\n",
              "      <td>2</td>\n",
              "      <td>86345</td>\n",
              "      <td>4.0</td>\n",
              "      <td>1445715166</td>\n",
              "    </tr>\n",
              "    <tr>\n",
              "      <th>250</th>\n",
              "      <td>2</td>\n",
              "      <td>89774</td>\n",
              "      <td>5.0</td>\n",
              "      <td>1445715189</td>\n",
              "    </tr>\n",
              "    <tr>\n",
              "      <th>251</th>\n",
              "      <td>2</td>\n",
              "      <td>91529</td>\n",
              "      <td>3.5</td>\n",
              "      <td>1445714891</td>\n",
              "    </tr>\n",
              "    <tr>\n",
              "      <th>252</th>\n",
              "      <td>2</td>\n",
              "      <td>91658</td>\n",
              "      <td>2.5</td>\n",
              "      <td>1445714938</td>\n",
              "    </tr>\n",
              "    <tr>\n",
              "      <th>253</th>\n",
              "      <td>2</td>\n",
              "      <td>99114</td>\n",
              "      <td>3.5</td>\n",
              "      <td>1445714874</td>\n",
              "    </tr>\n",
              "    <tr>\n",
              "      <th>254</th>\n",
              "      <td>2</td>\n",
              "      <td>106782</td>\n",
              "      <td>5.0</td>\n",
              "      <td>1445714966</td>\n",
              "    </tr>\n",
              "    <tr>\n",
              "      <th>255</th>\n",
              "      <td>2</td>\n",
              "      <td>109487</td>\n",
              "      <td>3.0</td>\n",
              "      <td>1445715145</td>\n",
              "    </tr>\n",
              "    <tr>\n",
              "      <th>256</th>\n",
              "      <td>2</td>\n",
              "      <td>112552</td>\n",
              "      <td>4.0</td>\n",
              "      <td>1445714882</td>\n",
              "    </tr>\n",
              "    <tr>\n",
              "      <th>257</th>\n",
              "      <td>2</td>\n",
              "      <td>114060</td>\n",
              "      <td>2.0</td>\n",
              "      <td>1445715276</td>\n",
              "    </tr>\n",
              "    <tr>\n",
              "      <th>258</th>\n",
              "      <td>2</td>\n",
              "      <td>115713</td>\n",
              "      <td>3.5</td>\n",
              "      <td>1445714854</td>\n",
              "    </tr>\n",
              "    <tr>\n",
              "      <th>259</th>\n",
              "      <td>2</td>\n",
              "      <td>122882</td>\n",
              "      <td>5.0</td>\n",
              "      <td>1445715272</td>\n",
              "    </tr>\n",
              "    <tr>\n",
              "      <th>260</th>\n",
              "      <td>2</td>\n",
              "      <td>131724</td>\n",
              "      <td>5.0</td>\n",
              "      <td>1445714851</td>\n",
              "    </tr>\n",
              "  </tbody>\n",
              "</table>\n",
              "</div>"
            ],
            "text/plain": [
              "     userId  movieId  rating   timestamp\n",
              "232       2      318     3.0  1445714835\n",
              "233       2      333     4.0  1445715029\n",
              "234       2     1704     4.5  1445715228\n",
              "235       2     3578     4.0  1445714885\n",
              "236       2     6874     4.0  1445714952\n",
              "237       2     8798     3.5  1445714960\n",
              "238       2    46970     4.0  1445715013\n",
              "239       2    48516     4.0  1445715064\n",
              "240       2    58559     4.5  1445715141\n",
              "241       2    60756     5.0  1445714980\n",
              "242       2    68157     4.5  1445715154\n",
              "243       2    71535     3.0  1445714974\n",
              "244       2    74458     4.0  1445714926\n",
              "245       2    77455     3.0  1445714941\n",
              "246       2    79132     4.0  1445714841\n",
              "247       2    80489     4.5  1445715340\n",
              "248       2    80906     5.0  1445715172\n",
              "249       2    86345     4.0  1445715166\n",
              "250       2    89774     5.0  1445715189\n",
              "251       2    91529     3.5  1445714891\n",
              "252       2    91658     2.5  1445714938\n",
              "253       2    99114     3.5  1445714874\n",
              "254       2   106782     5.0  1445714966\n",
              "255       2   109487     3.0  1445715145\n",
              "256       2   112552     4.0  1445714882\n",
              "257       2   114060     2.0  1445715276\n",
              "258       2   115713     3.5  1445714854\n",
              "259       2   122882     5.0  1445715272\n",
              "260       2   131724     5.0  1445714851"
            ]
          },
          "metadata": {
            "tags": []
          },
          "execution_count": 97
        }
      ]
    },
    {
      "cell_type": "code",
      "metadata": {
        "id": "AtZ42l1q2QAU",
        "colab": {
          "base_uri": "https://localhost:8080/",
          "height": 33
        },
        "outputId": "7e98707b-7d20-4309-b1cb-a93a30698024"
      },
      "source": [
        "svd.predict(2,1994)"
      ],
      "execution_count": null,
      "outputs": [
        {
          "output_type": "execute_result",
          "data": {
            "text/plain": [
              "Prediction(uid=2, iid=1994, r_ui=None, est=3.7050509295233933, details={'was_impossible': False})"
            ]
          },
          "metadata": {
            "tags": []
          },
          "execution_count": 98
        }
      ]
    },
    {
      "cell_type": "markdown",
      "metadata": {
        "id": "_Gyyx5EDTEAk"
      },
      "source": [
        "MOVIE REVIEW SENTIMENT ANALYSIS"
      ]
    },
    {
      "cell_type": "code",
      "metadata": {
        "id": "ssIuf2DwTKBn",
        "colab": {
          "base_uri": "https://localhost:8080/",
          "height": 118
        },
        "outputId": "e08e9356-3e54-4408-d72c-e76024886569"
      },
      "source": [
        "import pandas as pd\n",
        "import numpy as np\n",
        "from google.colab import drive\n",
        "drive.mount('/content/drive')\n"
      ],
      "execution_count": null,
      "outputs": [
        {
          "output_type": "stream",
          "text": [
            "Go to this URL in a browser: https://accounts.google.com/o/oauth2/auth?client_id=947318989803-6bn6qk8qdgf4n4g3pfee6491hc0brc4i.apps.googleusercontent.com&redirect_uri=urn%3aietf%3awg%3aoauth%3a2.0%3aoob&response_type=code&scope=email%20https%3a%2f%2fwww.googleapis.com%2fauth%2fdocs.test%20https%3a%2f%2fwww.googleapis.com%2fauth%2fdrive%20https%3a%2f%2fwww.googleapis.com%2fauth%2fdrive.photos.readonly%20https%3a%2f%2fwww.googleapis.com%2fauth%2fpeopleapi.readonly\n",
            "\n",
            "Enter your authorization code:\n",
            "··········\n",
            "Mounted at /content/drive\n"
          ],
          "name": "stdout"
        }
      ]
    },
    {
      "cell_type": "code",
      "metadata": {
        "id": "6dJlHtXed3Ig",
        "colab": {
          "base_uri": "https://localhost:8080/",
          "height": 33
        },
        "outputId": "4d9d5268-780e-422f-9ef6-cfea04a10ffa"
      },
      "source": [
        "cd/content/drive/My Drive/Movie Recommendation System"
      ],
      "execution_count": null,
      "outputs": [
        {
          "output_type": "stream",
          "text": [
            "/content/drive/My Drive/Movie Recommendation System\n"
          ],
          "name": "stdout"
        }
      ]
    },
    {
      "cell_type": "code",
      "metadata": {
        "id": "v9fzaEaudaZ6",
        "colab": {
          "base_uri": "https://localhost:8080/",
          "height": 33
        },
        "outputId": "3e13d09c-15b7-4961-cf6d-bc15c47944a7"
      },
      "source": [
        "data = pd.read_csv('/content/drive/My Drive/movie rating prediction/Train 4.csv')\n",
        "print(data.shape)\n",
        "x = data['review']\n",
        "y = data['label']"
      ],
      "execution_count": null,
      "outputs": [
        {
          "output_type": "stream",
          "text": [
            "(40000, 2)\n"
          ],
          "name": "stdout"
        }
      ]
    },
    {
      "cell_type": "code",
      "metadata": {
        "id": "dpLWAUQheMz5",
        "colab": {
          "base_uri": "https://localhost:8080/",
          "height": 207
        },
        "outputId": "169490f8-4ab1-4432-f27f-155027bb3c8b"
      },
      "source": [
        "print(data.shape)\n",
        "data.head()"
      ],
      "execution_count": null,
      "outputs": [
        {
          "output_type": "stream",
          "text": [
            "(40000, 2)\n"
          ],
          "name": "stdout"
        },
        {
          "output_type": "execute_result",
          "data": {
            "text/html": [
              "<div>\n",
              "<style scoped>\n",
              "    .dataframe tbody tr th:only-of-type {\n",
              "        vertical-align: middle;\n",
              "    }\n",
              "\n",
              "    .dataframe tbody tr th {\n",
              "        vertical-align: top;\n",
              "    }\n",
              "\n",
              "    .dataframe thead th {\n",
              "        text-align: right;\n",
              "    }\n",
              "</style>\n",
              "<table border=\"1\" class=\"dataframe\">\n",
              "  <thead>\n",
              "    <tr style=\"text-align: right;\">\n",
              "      <th></th>\n",
              "      <th>review</th>\n",
              "      <th>label</th>\n",
              "    </tr>\n",
              "  </thead>\n",
              "  <tbody>\n",
              "    <tr>\n",
              "      <th>0</th>\n",
              "      <td>mature intelligent and highly charged melodram...</td>\n",
              "      <td>pos</td>\n",
              "    </tr>\n",
              "    <tr>\n",
              "      <th>1</th>\n",
              "      <td>http://video.google.com/videoplay?docid=211772...</td>\n",
              "      <td>pos</td>\n",
              "    </tr>\n",
              "    <tr>\n",
              "      <th>2</th>\n",
              "      <td>Title: Opera (1987) Director: Dario Argento Ca...</td>\n",
              "      <td>pos</td>\n",
              "    </tr>\n",
              "    <tr>\n",
              "      <th>3</th>\n",
              "      <td>I think a lot of people just wrote this off as...</td>\n",
              "      <td>pos</td>\n",
              "    </tr>\n",
              "    <tr>\n",
              "      <th>4</th>\n",
              "      <td>This is a story of two dogs and a cat looking ...</td>\n",
              "      <td>pos</td>\n",
              "    </tr>\n",
              "  </tbody>\n",
              "</table>\n",
              "</div>"
            ],
            "text/plain": [
              "                                              review label\n",
              "0  mature intelligent and highly charged melodram...   pos\n",
              "1  http://video.google.com/videoplay?docid=211772...   pos\n",
              "2  Title: Opera (1987) Director: Dario Argento Ca...   pos\n",
              "3  I think a lot of people just wrote this off as...   pos\n",
              "4  This is a story of two dogs and a cat looking ...   pos"
            ]
          },
          "metadata": {
            "tags": []
          },
          "execution_count": 9
        }
      ]
    },
    {
      "cell_type": "code",
      "metadata": {
        "id": "iNS-YXQ5eXZS",
        "colab": {
          "base_uri": "https://localhost:8080/",
          "height": 33
        },
        "outputId": "ed401534-c767-4778-822c-11f67b669737"
      },
      "source": [
        "data.shape\n"
      ],
      "execution_count": null,
      "outputs": [
        {
          "output_type": "execute_result",
          "data": {
            "text/plain": [
              "(40000, 2)"
            ]
          },
          "metadata": {
            "tags": []
          },
          "execution_count": 10
        }
      ]
    },
    {
      "cell_type": "code",
      "metadata": {
        "id": "S16RPazoee8g",
        "colab": {
          "base_uri": "https://localhost:8080/",
          "height": 51
        },
        "outputId": "148fc32e-7283-46a7-b700-c04de2b5ea01"
      },
      "source": [
        "x[0]"
      ],
      "execution_count": null,
      "outputs": [
        {
          "output_type": "execute_result",
          "data": {
            "application/vnd.google.colaboratory.intrinsic+json": {
              "type": "string"
            },
            "text/plain": [
              "\"mature intelligent and highly charged melodrama unbelivebly filmed in China in 1948. wei wei's stunning performance as the catylast in a love triangle is simply stunning if you have the oppurunity to see this magnificent film take it\""
            ]
          },
          "metadata": {
            "tags": []
          },
          "execution_count": 12
        }
      ]
    },
    {
      "cell_type": "code",
      "metadata": {
        "id": "o-rDuv2TevBd",
        "colab": {
          "base_uri": "https://localhost:8080/",
          "height": 33
        },
        "outputId": "8cc7a6d9-d91c-4bd1-a7a3-9fa43a090685"
      },
      "source": [
        "test = pd.read_csv('/content/drive/My Drive/movie rating prediction/Test (3)/Test.csv')\n",
        "x_test = test['review']\n",
        "x_test.shape"
      ],
      "execution_count": null,
      "outputs": [
        {
          "output_type": "execute_result",
          "data": {
            "text/plain": [
              "(10000,)"
            ]
          },
          "metadata": {
            "tags": []
          },
          "execution_count": 13
        }
      ]
    },
    {
      "cell_type": "code",
      "metadata": {
        "id": "Vzsij9PAfW2f",
        "colab": {
          "base_uri": "https://localhost:8080/",
          "height": 66
        },
        "outputId": "c9344a2a-f0a8-45a2-9810-26d21850d434"
      },
      "source": [
        "import nltk\n",
        "nltk.download('stopwords')"
      ],
      "execution_count": null,
      "outputs": [
        {
          "output_type": "stream",
          "text": [
            "[nltk_data] Downloading package stopwords to /root/nltk_data...\n",
            "[nltk_data]   Unzipping corpora/stopwords.zip.\n"
          ],
          "name": "stdout"
        },
        {
          "output_type": "execute_result",
          "data": {
            "text/plain": [
              "True"
            ]
          },
          "metadata": {
            "tags": []
          },
          "execution_count": 17
        }
      ]
    },
    {
      "cell_type": "code",
      "metadata": {
        "id": "ET3HwSL9e8H_"
      },
      "source": [
        "from nltk.tokenize import RegexpTokenizer\n",
        "from nltk.stem.porter import PorterStemmer\n",
        "from nltk.corpus import stopwords\n",
        "import sys\n",
        "\n",
        "\n",
        "\n",
        "tokenizer = RegexpTokenizer(r'\\w+')\n",
        "en_stopwords = set(stopwords.words('english'))\n",
        "ps = PorterStemmer()\n",
        "\n",
        "\n",
        "\n",
        "\n",
        "def getCleanReview(reviews):\n",
        "    review = reviews.lower()\n",
        "    review = review.replace(\"<br/><br/>\",\" \")\n",
        "    \n",
        "    tokens = tokenizer.tokenize(review)\n",
        "    new_tokens = [token for token in tokens if token not in en_stopwords]\n",
        "    stemmed_tokens = [ps.stem(token) for token in new_tokens]\n",
        "    cleaned_review = ' '.join(stemmed_tokens)\n",
        "    \n",
        "    return cleaned_review"
      ],
      "execution_count": null,
      "outputs": []
    },
    {
      "cell_type": "code",
      "metadata": {
        "id": "vFPvR3BCfvDo"
      },
      "source": [
        "x_clean = [getCleanReview(i) for i in x[0:2000]] #ListComprehension"
      ],
      "execution_count": null,
      "outputs": []
    },
    {
      "cell_type": "code",
      "metadata": {
        "id": "uH4Q1P0yf6rA"
      },
      "source": [
        "xt_clean = [getCleanReview(i) for i in x[2000:4000]]"
      ],
      "execution_count": null,
      "outputs": []
    },
    {
      "cell_type": "code",
      "metadata": {
        "id": "LZcDwj0Uf_Zz",
        "colab": {
          "base_uri": "https://localhost:8080/",
          "height": 118
        },
        "outputId": "4d47434c-54ea-4110-ca40-f1e033a01c31"
      },
      "source": [
        "x_clean[0:5]"
      ],
      "execution_count": null,
      "outputs": [
        {
          "output_type": "execute_result",
          "data": {
            "text/plain": [
              "['matur intellig highli charg melodrama unbelivebl film china 1948 wei wei stun perform catylast love triangl simpli stun oppurun see magnific film take',\n",
              " 'http video googl com videoplay docid 211772166650071408 hl en distribut tri br br opt mass appeal br br want best possibl view rang forgo profit continu manual labor job gladli entertain work br br view texa tale pleas write like like alex like stuie texa texa tale write br br opinion rule',\n",
              " 'titl opera 1987 director dario argento cast cristina masillach ian charleson urbano barberini daria nicolodi review argento movi seen suspiria one blew away style color spooki stori line next decid go opera told one best man think discov ultim one favorit horror director br br opera young opera singer get big break main star creepi modern opera take mc beth get hit car betti understudi get part bad psycho make watch brutal murder friend co worker br br wow id heard good thing flick prepar level great film would take yeah movi shortcom ill get later part movi blew away br br first movi fill lot color suspiria expect bit like suspiria depart surpris look feel film somehow devoid color lot color certain scene like master kitchen live room sequenc argento fill screen lush green blue part film grayish black tone like distinct look br br real star show incred well orchestr death sequenc wow everi death scene like work art beauti destruct typic hack slash death sequenc death care construct shock get situat love everi second plenti blood mayhem style gonna spoil em though br br direct man realli origin beauti shot one love invent use camera one thought tarantino shot kill bill vol 1 see bullet come chamber gun origin well movi lift honestli believ tarantino heavili influenc specif movi certain scene kill bill vol 1 heck make featur mention whole scene beatrix hospit ell driver come kill influenc italian giallo friend proof anyhow tarantino refer asid movi amaz camera shot like scene crow fli crowd opera hous great stuff main reason argento becom one favorit br br act cast alright best far cristina marsillach tortur young opera singer betti look eye murder commit great rest cast littl wooden stiff noth would deter enjoy film br br thing like movi first logic thrown window certain scene special involv betti reaction she seen murder seem longest time went busi tell anyon whole thing even polic mean see someon brutal murder love one front eye walk away murder scene continu life someon would connect murder might even becom suspect also end bit anti climact see understand seem bit unnecessari way film end felt like could end earlier would felt redund that real big problem realli sinc enjoy rest beauti film br br still got lot argento territori cover devour everi step way like eat plate expens caviar guy realli good think film work art seen two em cant wait discov rest film argento man br br rate 41 2 5',\n",
              " 'think lot peopl wrote anoth one tom cruis weird movi magnolia eye wide shut vanilla sky definit movi mani peopl said weird differ confus weird weird stanley kubrick pauli shore differ truman show confus matrix game unlik kubrick movi conclus everyth make sens mayb immedi mayb even today make sens vanilla sky confus david aam tom cruis confus point call weird turn critic away came bother open eye origin 1997 spanish movi would seen enough reason see go see music cameron crow offer wonder soundtrack use set feel notori element mani movi lack song like beach boy good vibrat play dramat emot climax movi creat offbeat yet astoundingli right feel wonder film script music act imag vanilla sky sadli superfici bandwagon movi critic chide order appear intellig excel',\n",
              " 'stori two dog cat look way back home old wise golden retriev shadow young american bulldog chanc himalayan cat sassi flee ranch go wilder reunit famili homeward bound incred journey 1993 famili adventur direct duwayn dunham remak 1963 film movi got sequel three year later michael j fox perfect man voic chanc fox youth energi bring role salli field great voic work sassi amech fantast shadow veteran actor second last movi also visibl actor great kim greist play laura burnford seaver robert hay bob seaver benji thall play peter burnford veronica lauren hope burnford kevin chevalia jami seaver jean smart portray kate quit amaz watch pet tri surviv wilder see sassi taken river seem like goner bear scene exit funni chanc chanc big hungri bear meet porcupin look pain great fun whole famili']"
            ]
          },
          "metadata": {
            "tags": []
          },
          "execution_count": 21
        }
      ]
    },
    {
      "cell_type": "code",
      "metadata": {
        "id": "dEjFLnrrgELp"
      },
      "source": [
        "from sklearn .feature_extraction.text import CountVectorizer"
      ],
      "execution_count": null,
      "outputs": []
    },
    {
      "cell_type": "code",
      "metadata": {
        "id": "03JfhxLcgIxw",
        "colab": {
          "base_uri": "https://localhost:8080/",
          "height": 131
        },
        "outputId": "129b6fb2-1a09-40ad-f1c7-f7a7ba7df9c2"
      },
      "source": [
        "cv = CountVectorizer()\n",
        "x_vec = cv.fit_transform(x_clean).toarray()\n",
        "print(x_vec,x_vec.shape)"
      ],
      "execution_count": null,
      "outputs": [
        {
          "output_type": "stream",
          "text": [
            "[[0 0 0 ... 0 0 0]\n",
            " [0 0 0 ... 0 0 0]\n",
            " [0 0 0 ... 0 0 0]\n",
            " ...\n",
            " [0 0 0 ... 0 0 0]\n",
            " [0 0 0 ... 0 0 0]\n",
            " [0 0 0 ... 0 0 0]] (2000, 17760)\n"
          ],
          "name": "stdout"
        }
      ]
    },
    {
      "cell_type": "code",
      "metadata": {
        "id": "wJP-UXWkgOIW",
        "colab": {
          "base_uri": "https://localhost:8080/",
          "height": 53
        },
        "outputId": "fba586c0-77a2-463d-8b18-73ad08d6bc78"
      },
      "source": [
        "print(cv.get_feature_names())"
      ],
      "execution_count": null,
      "outputs": [
        {
          "output_type": "stream",
          "text": [
            "['00', '000', '001', '007', '01', '02', '039', '04', '06', '08', '10', '100', '1000', '10000', '10000th', '1001', '100yard', '101', '101st', '102', '103', '104', '1040', '1040a', '106', '1080p', '10ft', '10th', '11', '1100', '112', '116', '117', '118', '11th', '12', '120', '1201', '1202', '122', '125', '12a', '12th', '12â', '13', '131', '13itch', '13k', '13th', '14', '146', '149', '14iem', '14th', '15', '150', '1500', '150k', '158', '15th', '16', '1602', '162', '167', '168', '16mm', '16th', '17', '1790', '1798', '17th', '18', '180', '1800', '1837', '1850', '1853', '1860', '1871', '1890', '1895', '1899', '18th', '19', '1900', '1901', '1904', '1906', '1909', '1912', '1915', '1916', '1919', '1920', '1922', '1927', '1928', '1929', '1930', '1931', '1932', '1933', '1934', '1935', '1936', '1937', '1938', '1939', '1940', '1941', '1942', '1943', '1944', '1945', '1946', '1947', '1947â', '1948', '1949', '1950', '1951', '1953', '1954', '1955', '1956', '1957', '1958', '1959', '1960', '1962', '1963', '1964', '1965', '1966', '1967', '1968', '1969', '1970', '1971', '1972', '1973', '1974', '1975', '1976', '1977', '1978', '1979', '1980', '1981', '1982', '1983', '1984', '1985', '1986', '1987', '1988', '1989', '1990', '1991', '1992', '1993', '1994', '1995', '1996', '1997', '1998', '1999', '19th', '1ch', '1h30', '1s', '1st', '1â', '20', '200', '2000', '2001', '2002', '2003', '2004', '2005', '2006', '2007', '2008', '2009', '2010', '2019', '202', '2046', '2054', '2070', '2080', '20th', '21', '211772166650071408', '21st', '22', '23', '23rd', '24', '24p', '25', '250', '26', '26th', '27', '27th', '29', '2am', '2d', '2hr', '2k', '2nd', '2s', '30', '300', '3000', '30am', '30pm', '30th', '32', '332960073452', '34th', '35', '350', '35mm', '35yr', '36', '360', '37', '38k', '39', '39811', '3am', '3d', '3rd', '3rg', '3s', '3â', '40', '400', '4000', '401k', '41', '42', '43', '430', '44', '440', '45', '450', '45rpm', '46', '47', '48', '49', '4h', '4k', '4th', '50', '500', '502', '50p', '51', '52', '52000', '54', '55', '56', '57', '5min', '5th', '60', '608', '61', '618', '64', '65', '666', '68', '6f', '6k', '6th', '70', '70th', '71', '72', '73', '74', '747', '75', '750', '75m', '76', '77', '775', '78', '79', '7day', '7th', '80', '800', '81', '82', '83', '84', '85', '86', '87', '88', '89', '8mm', '8p', '8th', '90', '900', '90210', '91', '93', '94', '95', '96', '97', '978', '98', '99', '998', '9s', '9th', '____', '_____', '______', '____________________________________', '_absolut', '_am_', '_annie_', '_any_', '_dirti', '_napolean', '_not_', '_possible_', '_shock', '_starstruck_', '_the', '_waterdance_', 'aaa', 'aaliyah', 'aam', 'aamir', 'aardman', 'aargh', 'aaron', 'aback', 'abandon', 'abba', 'abbey', 'abbott', 'abbrevi', 'abc', 'abdoo', 'abduct', 'abductor', 'abecassi', 'abhorr', 'abid', 'abigail', 'abil', 'abject', 'abl', 'abli', 'abnorm', 'aboard', 'abod', 'abolish', 'abomin', 'aborigin', 'abort', 'abound', 'about', 'abr', 'abraham', 'abram', 'abril', 'abroad', 'abrupt', 'abruptli', 'abscond', 'absenc', 'absens', 'absent', 'absolut', 'absorb', 'abstain', 'abstract', 'abstrus', 'absurd', 'absurdli', 'abund', 'abus', 'abysm', 'abyss', 'acadami', 'academ', 'academi', 'acapulco', 'acc', 'accent', 'accentu', 'accept', 'access', 'accid', 'accident', 'acclaim', 'accolad', 'accommod', 'accompani', 'accomplic', 'accomplish', 'accord', 'accordingli', 'account', 'accumul', 'accur', 'accuraci', 'accus', 'accustom', 'ace', 'ach', 'acharya', 'acheiv', 'achiev', 'acid', 'ackland', 'acknowledg', 'acolyt', 'acoust', 'acquaint', 'acquart', 'acquir', 'acquit', 'acreag', 'acrobat', 'acrobatti', 'acronym', 'across', 'act', 'action', 'activ', 'activist', 'actor', 'actorsâ', 'actress', 'actual', 'acuna', 'acut', 'ad', 'ada', 'adam', 'adamson', 'adapt', 'adarsh', 'add', 'addam', 'addi', 'addict', 'addison', 'addit', 'addl', 'address', 'ade', 'adel', 'adelaid', 'adept', 'adequ', 'adibah', 'adieu', 'aditya', 'adjac', 'adject', 'adjust', 'administr', 'admir', 'admiss', 'admit', 'admitt', 'admittedli', 'admonit', 'ado', 'adoby', 'adolesc', 'adolf', 'adoni', 'adopt', 'ador', 'adr', 'adrenalin', 'adrian', 'adriana', 'adriano', 'adrienn', 'adrift', 'adul', 'adult', 'adulteri', 'adulthood', 'advanc', 'advantag', 'advent', 'adventur', 'advers', 'adversari', 'advert', 'adverter', 'advertis', 'advic', 'advis', 'advisor', 'advoc', 'ae', 'aeneid', 'aerial', 'aerob', 'aeroplan', 'aerosol', 'aesop', 'aesthet', 'afar', 'affabl', 'affair', 'affect', 'affection', 'affili', 'affin', 'affirm', 'affleck', 'afflect', 'afflict', 'afford', 'affront', 'affter', 'afgani', 'afghan', 'afghanistan', 'afi', 'aficionado', 'afloat', 'afoot', 'aforement', 'aforesaid', 'afoul', 'afraid', 'africa', 'african', 'afro', 'afteral', 'afterlif', 'aftermath', 'afternnon', 'afternoon', 'afterschool', 'aftershock', 'aftertast', 'afterthought', 'afterward', 'agatha', 'age', 'agenc', 'agenda', 'agent', 'agey', 'aggrav', 'aggravatingli', 'aggress', 'aggressor', 'aghast', 'agil', 'agit', 'agitprop', 'agn', 'agnisakshi', 'agnost', 'ago', 'agon', 'agoni', 'agonizingli', 'agrama', 'agre', 'agreeabl', 'agreement', 'agricultur', 'ah', 'aha', 'ahab', 'ahead', 'ahem', 'ahh', 'ahhhhhh', 'ahm', 'ahmad', 'aht', 'ai', 'aicha', 'aid', 'aiden', 'aiello', 'aihara', 'aiken', 'aikido', 'ail', 'ailment', 'aim', 'aimant', 'aime', 'aimless', 'aimlessli', 'aimã', 'aip', 'air', 'airbas', 'airborn', 'airbrush', 'aircraft', 'airforc', 'airhead', 'airi', 'airial', 'airlin', 'airlock', 'airmen', 'airplan', 'airplay', 'airport', 'airship', 'airsick', 'airspe', 'airstat', 'airstrip', 'airtim', 'aisl', 'ajith', 'aka', 'akasha', 'akeem', 'akerman', 'aki', 'akimbo', 'akin', 'akinshina', 'akosua', 'akshay', 'al', 'ala', 'alaba', 'alacr', 'alain', 'alamo', 'alan', 'alarm', 'alarmingli', 'alaska', 'alaskan', 'alastair', 'alba', 'albany234', 'albatross', 'albeit', 'albeniz', 'albert', 'alberto', 'albertson', 'albertâ', 'albi', 'album', 'alcohol', 'aldiss', 'aldo', 'aldrich', 'aldridg', 'alec', 'alegria', 'alejandro', 'aleksandra', 'alert', 'alex', 'alexand', 'alexandra', 'alexi', 'aleya', 'alfonso', 'alfr', 'algebra', 'algier', 'ali', 'alia', 'alibi', 'alic', 'alicia', 'alien', 'align', 'alik', 'alimoni', 'alin', 'alison', 'alistair', 'aliv', 'alix', 'alja', 'allain', 'allan', 'alleg', 'allegi', 'allegori', 'allen', 'allerg', 'alley', 'alli', 'allianc', 'allig', 'allison', 'allllllll', 'alloc', 'allot', 'allow', 'allud', 'allur', 'allus', 'allyc', 'almedia', 'almeida', 'almighti', 'almodovar', 'almodã³var', 'almost', 'aloha', 'aloi', 'alon', 'aloneâ', 'along', 'alongsid', 'alonzo', 'aloof', 'alot', 'aloud', 'alpha', 'alphavil', 'alreadi', 'alright', 'also', 'alt', 'altar', 'alter', 'alterio', 'altern', 'althoug', 'although', 'altitud', 'altman', 'alto', 'altogeth', 'altough', 'altruist', 'alum', 'aluminum', 'alumni', 'alun', 'alvarado', 'alvin', 'alway', 'alyn', 'amagula', 'amami', 'amanda', 'amani', 'amant', 'amargosa', 'amargosaoperahous', 'amateur', 'amateurish', 'amateurishli', 'amato', 'amaz', 'amazingli', 'amazon', 'amazonian', 'amber', 'amberson', 'ambianc', 'ambient', 'ambigu', 'ambit', 'ambiti', 'ambival', 'ambl', 'ambros', 'ambul', 'ambush', 'amc', 'ame', 'amech', 'ameli', 'amelod', 'amend', 'amenã', 'amer', 'america', 'americain', 'american', 'americana', 'americanâ', 'americian', 'amerindian', 'ametu', 'ami', 'amiabl', 'amicu', 'amid', 'amidst', 'amigo', 'amile', 'amin', 'amitabh', 'amiti', 'amityvil', 'amma', 'amman', 'amo', 'amok', 'among', 'amongst', 'amor', 'amorph', 'amount', 'amour', 'amp', 'amphibulo', 'amphitheatr', 'ampl', 'amplifi', 'ampute', 'amrita', 'amudha', 'amulet', 'amus', 'amusingli', 'amytvil', 'ana', 'anachron', 'anachronist', 'anaconda', 'anal', 'analysi', 'analyt', 'analyz', 'anand', 'ananka', 'anarchist', 'anatomi', 'ancestri', 'anchor', 'anchorman', 'anci', 'ancient', 'ancona', 'and', 'andal', 'andaz', 'ander', 'andersen', 'anderson', 'andersson', 'andi', 'andr', 'andrea', 'andrei', 'andreja', 'andrew', 'andrey', 'androgyn', 'android', 'andrã', 'andâ', 'anem', 'anesthesia', 'anesthesiologist', 'aneta', 'ang', 'angel', 'angela', 'angelica', 'angelina', 'angeliqu', 'angelo', 'anger', 'angina', 'angl', 'angri', 'angst', 'anguish', 'anil', 'anim', 'animaniac', 'animatrix', 'animatron', 'aniston', 'anita', 'aniversi', 'anjanett', 'anjelica', 'ankl', 'ann', 'anna', 'annabel', 'annakin', 'annal', 'annett', 'anni', 'anniversari', 'annouc', 'announc', 'annoy', 'annoyingli', 'annual', 'anomali', 'anonym', 'anorex', 'anoth', 'anouk', 'answer', 'ant', 'antagon', 'antagonist', 'anteced', 'antena', 'antenna', 'antholog', 'anthoni', 'anthropologist', 'anthropomorh', 'anthropomorph', 'anti', 'antic', 'anticip', 'anticlimact', 'antidepress', 'antidot', 'antipasto', 'antipod', 'antiqu', 'antisemit', 'antithesi', 'antitrust', 'antiwar', 'antoinett', 'anton', 'antonelli', 'antoni', 'antoniett', 'antonin', 'antonio', 'antonioni', 'antwerp', 'anu', 'anxieti', 'anxiou', 'anxious', 'anybodi', 'anyhow', 'anymor', 'anyon', 'anyth', 'anytim', 'anywa', 'anyway', 'anywher', 'ap', 'apach', 'apallonia', 'aparichit', 'aparna', 'apart', 'apatow', 'apc', 'ape', 'aplogis', 'aplomb', 'apna', 'apocalyps', 'apocalypt', 'apocryph', 'apolit', 'apollo', 'apolloniu', 'apolog', 'apoplect', 'apostl', 'appal', 'appallingli', 'appallonia', 'appar', 'apparit', 'appeal', 'appear', 'appeas', 'appendix', 'appet', 'appetit', 'appl', 'applaud', 'applaus', 'apple_', 'applebi', 'appleg', 'appli', 'applianc', 'applic', 'appoint', 'appollonia', 'apposit', 'apprais', 'appreci', 'apprehend', 'apprehens', 'apprentic', 'approach', 'appropri', 'approv', 'approxim', 'apretenti', 'april', 'apropo', 'apsion', 'apt', 'aptitud', 'aptli', 'aqua', 'aquariu', 'aquarium', 'arab', 'arabella', 'arabia', 'arado', 'arafat', 'aragami', 'aragorn', 'arama', 'arbaaz', 'arbitrari', 'arbitrarili', 'arbu', 'arbuckl', 'arc', 'arcad', 'arcan', 'archaeologist', 'archaic', 'archangel', 'archeri', 'archetyp', 'archi', 'archibald', 'architect', 'architectur', 'archiv', 'arci', 'arctic', 'ardala', 'ardelean', 'arden', 'ardolino', 'arduou', 'area', 'arena', 'arend', 'aretha', 'argeninian', 'argentin', 'argentina', 'argentinean', 'argentinian', 'argento', 'arggh', 'argh', 'argu', 'arguabl', 'argument', 'argyl', 'ariel', 'arik', 'aris', 'arisen', 'aristocat', 'aristocraci', 'aristocrat', 'aristotel', 'aristotelian', 'arizona', 'ark', 'arkham', 'arkin', 'arkoff', 'arli', 'arlington', 'arm', 'armageddon', 'armament', 'armand', 'armando', 'armband', 'armchair', 'armi', 'armor', 'armori', 'armour', 'armstrong', 'arndt', 'arni', 'arnold', 'around', 'arous', 'arquett', 'arrang', 'array', 'arrest', 'arriv', 'arrog', 'arrondiss', 'arrow', 'ars', 'arsan', 'arsen', 'arsonist', 'art', 'artefact', 'artemisia', 'arthi', 'arthous', 'arthrit', 'arthur', 'arthurian', 'arti', 'articl', 'articul', 'artifact', 'artific', 'artifici', 'artimisia', 'artist', 'artistri', 'artless', 'artlessli', 'artsi', 'artwork', 'arvidson', 'aryan', 'aryana', 'asambhav', 'asano', 'asap', 'ascent', 'aschenbach', 'ascot', 'ash', 'asham', 'asher', 'ashley', 'ashmith', 'ashor', 'ashton', 'ashura', 'asia', 'asian', 'asid', 'asinin', 'ask', 'askey', 'asleep', 'asmat', 'asner', 'aspect', 'aspir', 'aspx', 'ass', 'assail', 'assant', 'assassin', 'assault', 'assembl', 'assert', 'assess', 'asset', 'asshol', 'assign', 'assimil', 'assing', 'assist', 'associ', 'assort', 'assuag', 'assum', 'assumpt', 'assur', 'asterix', 'asthet', 'asthma', 'astin', 'astley', 'astonish', 'astonishingli', 'astound', 'astoundingli', 'astrid', 'astrolog', 'astronaut', 'astronom', 'astronomi', 'astut', 'astã', 'asund', 'asylum', 'atalant', 'atan', 'ate', 'atf', 'atheism', 'atheist', 'athlet', 'atkin', 'atkinson', 'atla', 'atlant', 'atlanta', 'atlanti', 'atleast', 'atmoshper', 'atmospher', 'atom', 'atop', 'ator', 'atroc', 'atroci', 'atroti', 'attach', 'attack', 'attain', 'attempt', 'attenborough', 'attend', 'attent', 'attic', 'attir', 'attitud', 'attorney', 'attract', 'attribut', 'attun', 'atwil', 'atyp', 'atã', 'auction', 'audac', 'audaci', 'audibl', 'audienc', 'audiencememb', 'audio', 'audiovisu', 'audit', 'auditorium', 'audrey', 'auer', 'augment', 'august', 'augusto', 'auh', 'aunt', 'aura', 'aural', 'ausent', 'ausino', 'aussi', 'austen', 'auster', 'austin', 'australia', 'australian', 'austreheim', 'austria', 'austrian', 'auteur', 'authent', 'author', 'authori', 'authoris', 'authorit', 'authoritarian', 'authorship', 'autist', 'auto', 'autobiograph', 'autobiographi', 'automan', 'automat', 'automobil', 'autopilot', 'autopsi', 'autri', 'autumn', 'avaibl', 'avail', 'avalanch', 'avalon', 'avant', 'aveng', 'avenu', 'averag', 'averagey', 'averagous', 'averi', 'avert', 'avi', 'aviat', 'avid', 'avildsen', 'avion', 'avni', 'avocado', 'avoid', 'avow', 'avp', 'aw', 'await', 'awak', 'awaken', 'awakeningli', 'awar', 'award', 'away', 'awb', 'awe', 'awesom', 'awhil', 'awkward', 'awkwardli', 'awol', 'awri', 'ax', 'axe', 'axel', 'aya', 'ayelet', 'ayer', 'aykroyd', 'ayn', 'ayr', 'az', 'azaleigh', 'azaria', 'azjazz', 'azmi', 'aztec', 'azumi', 'ba', 'baat', 'babaloo', 'babbag', 'babban', 'babbl', 'babe', 'babel', 'babett', 'babi', 'babylon', 'babysit', 'babysitt', 'bacal', 'baccarat', 'bach', 'bachelor', 'bachelorett', 'bacio', 'back', 'backbon', 'backdrop', 'backer', 'backfir', 'background', 'backlash', 'backproject', 'backseat', 'backslid', 'backstab', 'backstag', 'backstori', 'backula', 'backward', 'backwat', 'backwood', 'backyard', 'bacon', 'bad', 'badass', 'badder', 'baddi', 'badg', 'badger', 'badland', 'badli', 'baffl', 'bafflement', 'bafta', 'bag', 'bagel', 'baggi', 'baghdad', 'bagley', 'bagpip', 'baguett', 'bah', 'bahrani', 'bail', 'baili', 'bain', 'baio', 'bait', 'bake', 'baker', 'bakeri', 'bakewel', 'bakk', 'bakshi', 'bakula', 'balaguerã³', 'balanc', 'balboa', 'balcan', 'balconi', 'bald', 'baldwin', 'bale', 'balfour', 'balk', 'balkan', 'ball', 'ballad', 'ballantin', 'ballet', 'ballhau', 'ballist', 'balloon', 'ballot', 'ballroom', 'ballsi', 'baloney', 'baloo', 'baloop', 'balsam', 'balthasar', 'baltimor', 'balâ', 'bam', 'bama', 'bamako', 'bambi', 'ban', 'banal', 'banana', 'band', 'bandag', 'bandana', 'bandanna', 'bandera', 'bandini', 'bandit', 'bandwagon', 'bang', 'bangkok', 'bangladesh', 'banjo', 'bank', 'bankabl', 'banker', 'bankrupt', 'bankruptci', 'bannen', 'bannist', 'banter', 'banzai', 'banzi', 'baptist', 'baptiz', 'bar', 'barabba', 'barad', 'barb', 'barba', 'barbar', 'barbara', 'barbarash', 'barbarian', 'barber', 'barberini', 'barbershop', 'barbi', 'barbican', 'barbor', 'barbour', 'barbra', 'barcelona', 'barcod', 'barda', 'bardem', 'bardot', 'bare', 'barek', 'barf', 'barg', 'bargain', 'bargepol', 'barger', 'barin', 'barjatya', 'barker', 'barman', 'barn', 'barnard', 'barney', 'barnyard', 'baron', 'baronet', 'barr', 'barrack', 'barrag', 'barrel', 'barren', 'barri', 'barricad', 'barrier', 'barrymor', 'bart', 'bartend', 'barter', 'barthã', 'barton', 'basanti', 'base', 'basebal', 'baseketbal', 'baseless', 'basement', 'bash', 'bashki', 'basi', 'basic', 'basil', 'basildon', 'basilica', 'basing', 'bask', 'basket', 'basketbal', 'bass', 'basset', 'bassett', 'bassing', 'bastard', 'basterd', 'bastion', 'bat', 'batch', 'bate', 'bath', 'batho', 'bathroom', 'bathtub', 'batinkoff', 'batman', 'battalion', 'batter', 'batteri', 'battl', 'battlefield', 'battleship', 'bauer', 'baumann', 'bava', 'baxendal', 'bay', 'bayer', 'bayliss', 'bayonet', 'bayonn', 'bayou', 'baz', 'bazzoni', 'bbc', 'bbc2', 'bbq', 'bc', 'bdsm', 'be', 'bea', 'beach', 'beacon', 'bead', 'beal', 'beam', 'bean', 'beanstalk', 'bear', 'bearabl', 'beard', 'bearli', 'bearâ', 'beasley', 'beast', 'beastial', 'beat', 'beaten', 'beatl', 'beatrix', 'beatti', 'beau', 'beaut', 'beauti', 'beautifi', 'beaux', 'beaver', 'becam', 'bechtel', 'becket', 'beckett', 'beckham', 'becki', 'becom', 'becuas', 'bed', 'bedelia', 'bedfellow', 'bedroom', 'bee', 'beech', 'beef', 'beefcak', 'beefheart', 'beefi', 'beek', 'beep', 'beer', 'beerfest', 'beeri', 'beetl', 'befal', 'befallen', 'befit', 'beforehand', 'beforeâ', 'befriend', 'beg', 'bega', 'began', 'beggar', 'begin', 'beginn', 'beginners_', 'begotten', 'begrudg', 'beguil', 'begun', 'behalf', 'behav', 'behavior', 'behaviour', 'behead', 'behemoth', 'behest', 'behind', 'behold', 'behr', 'beij', 'beijing', 'bejarno', 'bejo', 'bekim', 'bekin', 'beko', 'bela', 'belaney', 'belatedli', 'belay', 'belfast', 'belgian', 'belgium', 'beli', 'belief', 'believ', 'belittl', 'beliv', 'bell', 'bellami', 'bellevil', 'belli', 'belliger', 'bello', 'bellochio', 'bellow', 'bellucci', 'belmondo', 'belmont', 'belong', 'belov', 'belphegor', 'belt', 'belushi', 'belveder', 'bemoan', 'bemus', 'ben', 'bench', 'bend', 'bender', 'bendingli', 'bene', 'beneath', 'benedict', 'benefici', 'benefit', 'benicio', 'benign', 'benito', 'benjamin', 'benji', 'benkei', 'bennett', 'benni', 'bent', 'bentley', 'benton', 'benward', 'beowulf', 'bequeath', 'berat', 'berber', 'bereng', 'berenic', 'beret', 'berg', 'bergdorf', 'bergen', 'berger', 'bergerac', 'bergman', 'bergmanesqu', 'bergstrom', 'berkeley', 'berkley', 'berlin', 'berlinal', 'berlusconi', 'bermuda', 'bernard', 'bernardo', 'bernini', 'bernsen', 'berra', 'berri', 'berrisford', 'berryman', 'bersen', 'berserk', 'bert', 'bertinelli', 'bertolucci', 'bertrand', 'bertucelli', 'beryl', 'besch', 'beset', 'besid', 'besieg', 'beslon', 'besot', 'bess', 'best', 'bestow', 'bestsel', 'bet', 'beta', 'beth', 'bethani', 'bethlehem', 'betray', 'betsey', 'betsi', 'bett', 'bettani', 'better', 'bettger', 'betti', 'beuti', 'beverli', 'bevi', 'bewar', 'bewild', 'bewilderingli', 'bewitch', 'beyond', 'bfi', 'bhasra', 'bhatt', 'bi', 'bia', 'biachi', 'bianchi', 'bianco', 'bias', 'bibi', 'bibl', 'biblic', 'bicep', 'bichir', 'bicker', 'bickford', 'bicycl', 'bid', 'bide', 'bie', 'bierko', 'big', 'bigelow', 'bigfoot', 'bigg', 'bigger', 'biggest', 'bigot', 'bike', 'biker', 'bikini', 'biko', 'bilg', 'bill', 'billboard', 'billet', 'billi', 'billiard', 'billion', 'billionair', 'bimbo', 'bin', 'binari', 'bind', 'binder', 'bing', 'bingham', 'bingo', 'bink', 'binni', 'binoch', 'binocular', 'bio', 'biograph', 'biographi', 'biohazard', 'biolog', 'biologist', 'biopic', 'bipolar', 'bird', 'birdcag', 'birmingham', 'birney', 'biroc', 'birth', 'birthday', 'biscuit', 'bisexu', 'bishop', 'bislan', 'bismarck', 'bismillahhirrahmannirrahim', 'bisto', 'bistro', 'bit', 'bitch', 'bitchi', 'bite', 'bitten', 'bitter', 'bitterli', 'bittersweet', 'bitti', 'biz', 'bizarr', 'bizarro', 'bizzaro', 'bjamin', 'bjm', 'bjã', 'bla', 'blabber', 'blacher', 'black', 'blackend', 'blacker', 'blackfac', 'blacki', 'blackish', 'blacklist', 'blackmail', 'blackman', 'blackout', 'blackwat', 'blacqu', 'blade', 'blah', 'blai', 'blain', 'blair', 'blais', 'blake', 'blakeney', 'blame', 'blanch', 'blanchett', 'bland', 'blander', 'blandli', 'blank', 'blanket', 'blankfield', 'blankman', 'blare', 'blasphem', 'blast', 'blaster', 'blasã', 'blatant', 'blatantli', 'blaxploit', 'blaxpoit', 'blaze', 'bleach', 'bleak', 'bleakli', 'bleat', 'bled', 'bleed', 'bleedin', 'bleep', 'blend', 'blender', 'bless', 'bleu', 'blew', 'blier', 'blight', 'blighti', 'blind', 'blinder', 'blindfold', 'blindli', 'blink', 'bliss', 'blitz', 'blitzstein', 'bloat', 'blob', 'block', 'blockbust', 'blog', 'blogspot', 'bloke', 'blond', 'blondel', 'blood', 'bloodbath', 'bloodi', 'bloodiest', 'bloodili', 'bloodless', 'bloodrayn', 'bloodsh', 'bloodshot', 'bloodsport', 'bloodston', 'bloodsuck', 'bloodsurf', 'bloodthirsti', 'bloom', 'bloomin', 'bloomingdal', 'bloss', 'blossom', 'blot', 'blous', 'blow', 'blower', 'blown', 'blowout', 'blu', 'blue', 'blueprint', 'bluest', 'blunt', 'bluntli', 'blur', 'bluray', 'blurb', 'blurri', 'blurt', 'bluster', 'blusteri', 'bluth', 'blvd', 'blyth', 'bmtg', 'bmw', 'bmx', 'bnl', 'bo', 'board', 'boarder', 'boast', 'boat', 'boatload', 'boatswain', 'boaz', 'bob', 'bobbi', 'bobcat', 'boca', 'bochner', 'bode', 'bodega', 'bodi', 'bodili', 'bodrov', 'bodyguard', 'bodysnatch', 'boe', 'boen', 'boesman', 'bog', 'bogard', 'bogart', 'bogdanavich', 'bogdanovich', 'boggi', 'boggl', 'bogosian', 'bohemian', 'bohnen', 'bohring', 'boil', 'boiler', 'boisia', 'boister', 'bolam', 'bold', 'boldfac', 'boleyn', 'bolivia', 'bolivian', 'bolkan', 'boll', 'bollywood', 'bolshevik', 'bolster', 'bolt', 'bomb', 'bombard', 'bombardi', 'bombast', 'bomber', 'bombshel', 'bon', 'bonaduc', 'bonanza', 'bonbon', 'bond', 'bondag', 'bondarchuk', 'bondian', 'bone', 'bonehead', 'boner', 'bonfir', 'bong', 'bonham', 'bonhoeff', 'boni', 'bonita', 'bonker', 'bonni', 'bono', 'bonsal', 'bonu', 'bonus', 'boo', 'boob', 'boobi', 'boogaloo', 'boogen', 'boogey', 'boogi', 'book', 'bookish', 'bookkeep', 'bookmak', 'bookshelv', 'bookshop', 'bookstor', 'boom', 'boondock', 'booooooooo', 'boop', 'boor', 'boorish', 'boorman', 'boost', 'boot', 'booth', 'booti', 'bootleg', 'bootstrap', 'booz', 'boozi', 'bop', 'bopper', 'borat', 'bordeaux', 'border', 'borderlin', 'bordoni', 'bore', 'boreanaz', 'boredom', 'borei', 'borer', 'borg', 'borgnin', 'bori', 'boricua', 'born', 'borrow', 'borstein', 'bose', 'bosnia', 'boss', 'bossi', 'bossman', 'boston', 'bot', 'botan', 'botch', 'bother', 'botkin', 'bottl', 'bottom', 'bouchet', 'bought', 'boulder', 'boult', 'bounc', 'bouncer', 'bound', 'boundari', 'boundless', 'bounti', 'bourgeoi', 'bourn', 'bourvier', 'bourvil', 'bout', 'boutiqu', 'bow', 'bowden', 'bowdleris', 'bowel', 'bowen', 'bowi', 'bowl', 'bowler', 'bowti', 'box', 'boxer', 'boxleitn', 'boy', 'boycot', 'boyd', 'boyer', 'boyfriend', 'boyl', 'boyz', 'bozo', 'bozz', 'bp', 'br', 'bra', 'bracco', 'brace', 'bracket', 'brackett', 'brad', 'bradburi', 'braden', 'bradi', 'bradley', 'bradshaw', 'brag', 'braga', 'bragana', 'braid', 'brain', 'brainchild', 'braindead', 'brainer', 'braini', 'brainless', 'brainscan', 'brainstorm', 'brainwash', 'brake', 'braley', 'bram', 'branagh', 'branaugh', 'branch', 'brand', 'brandauer', 'brando', 'brandon', 'branugh', 'brasco', 'brasel', 'brash', 'brass', 'brassi', 'brat', 'bratti', 'braugher', 'bravado', 'brave', 'braveheart', 'braveri', 'bravest', 'bravo', 'brawl', 'brawni', 'bray', 'brazen', 'brazil', 'brazilian', 'brea', 'bread', 'breadth', 'break', 'breakdanc', 'breakdown', 'breaker', 'breakfast', 'breakin', 'breakneck', 'breakthrough', 'breast', 'breath', 'breathabl', 'breather', 'breathless', 'breathlessli', 'breathtak', 'breathtakingli', 'brecht', 'breckin', 'breckinridg', 'bred', 'breed', 'breez', 'breezi', 'breezili', 'bremer', 'brenda', 'brendan', 'brennan', 'brenner', 'brent', 'breslin', 'bressani', 'bressart', 'bresson', 'breton', 'brett', 'brewer', 'brian', 'bribe', 'brick', 'brickman', 'bricuss', 'bridal', 'bride', 'bridg', 'bridget', 'bridgett', 'brief', 'briefcas', 'briefli', 'brien', 'brigad', 'brigadi', 'brigg', 'bright', 'brighten', 'brighter', 'brightest', 'brightli', 'brighton', 'brigitt', 'brillantin', 'brillianc', 'brilliant', 'brilliantli', 'brim', 'brinegar', 'bring', 'brini', 'brink', 'brio', 'brisk', 'briskli', 'brisson', 'brit', 'britain', 'brithish', 'britian', 'british', 'britney', 'brittani', 'brittl', 'bro', 'broad', 'broadbent', 'broadcast', 'broaden', 'broader', 'broadli', 'broadway', 'brock', 'brockwel', 'brogu', 'broinowski', 'broke', 'broken', 'broklynes', 'brolin', 'bronchiti', 'bronson', 'bronston', 'bront', 'brontean', 'bronx', 'bronz', 'brood', 'brook', 'brooklyn', 'broom', 'broomstick', 'brosnan', 'brothel', 'brother', 'brotherhood', 'brotherli', 'brought', 'brown', 'brows', 'brrr', 'brubak', 'bruce', 'bruckheim', 'bruckner', 'bruis', 'brummi', 'brunett', 'bruno', 'brunt', 'brush', 'brutal', 'brutalis', 'brute', 'bruti', 'brutu', 'bryan', 'bryant', 'brynner', 'bryson', 'bs', 'btk', 'btw', 'bu', 'bubba', 'bubbl', 'bucco', 'bucharest', 'buck', 'bucket', 'buckl', 'buckley', 'bud', 'buddi', 'budg', 'budget', 'budgetari', 'bueller', 'buerk', 'buff', 'buffalo', 'buffer', 'buffet', 'buffi', 'buffoon', 'bug', 'buggeri', 'build', 'builder', 'buildup', 'built', 'bukat', 'bukowski', 'bulba', 'bulbou', 'bulg', 'bulgaria', 'bulgarian', 'bulim', 'bulimia', 'bulk', 'bull', 'bulldog', 'bulldos', 'bullet', 'bulli', 'bullitt', 'bullock', 'bullshit', 'bulwark', 'bum', 'bumbl', 'bump', 'bumpkin', 'bun', 'bunch', 'bungl', 'bunker', 'bunni', 'bunta', 'bunuel', 'bunuellian', 'burbank', 'burbridg', 'burchil', 'burden', 'bure', 'bureau', 'bureaucraci', 'bureaucrat', 'burgeon', 'burger', 'burgess', 'burglar', 'burglari', 'buri', 'burial', 'burk', 'burkina', 'burli', 'burmes', 'burn', 'burner', 'burnford', 'burnham', 'burnt', 'burp', 'burr', 'burro', 'burrow', 'burst', 'burt', 'burton', 'busbi', 'busboy', 'buscemi', 'buse', 'busey', 'busfield', 'bush', 'bushco', 'bushi', 'bushido', 'bushwhack', 'busi', 'busia', 'busier', 'businessman', 'bust', 'buster', 'busti', 'bustingli', 'bustl', 'busybodi', 'butch', 'butcher', 'butler', 'butt', 'butter', 'butterfield', 'butterfli', 'butterick', 'buttermilk', 'butterworth', 'button', 'buxom', 'buy', 'buyer', 'buzz', 'bw', 'bye', 'bygon', 'byne', 'bypass', 'byplay', 'byrn', 'byron', 'bystand', 'byte', 'byw', 'c3p0', 'caan', 'cab', 'cabal', 'cabbag', 'cabbi', 'cabin', 'cabl', 'caca', 'cackl', 'cacophon', 'cad', 'cadav', 'cadbi', 'caddi', 'caddyshack', 'cadet', 'cadr', 'caesar', 'cafe', 'cafã', 'cage', 'cagili', 'cagney', 'cahn', 'cahoot', 'cain', 'cairo', 'cait', 'caitlin', 'cajol', 'cake', 'cal', 'calam', 'calamai', 'calamit', 'calcul', 'caleb', 'calf', 'cali', 'calib', 'calibr', 'california', 'californian', 'caligula', 'calista', 'calitri', 'calkin', 'call', 'callahan', 'callou', 'callow', 'calm', 'calmli', 'calparsoro', 'calvert', 'calvin', 'cam', 'cambodia', 'cambodian', 'camcord', 'came', 'camel', 'cameo', 'camera', 'cameraman', 'cameramen', 'camerlengo', 'cameron', 'camilla', 'camion', 'cammilla', 'camp', 'campaign', 'campbel', 'camper', 'campfir', 'campi', 'campsit', 'campu', 'can', 'canada', 'canadian', 'canal', 'canari', 'cancan', 'cancel', 'cancer', 'candac', 'candi', 'candic', 'candid', 'candl', 'cane', 'canist', 'cann', 'cannabi', 'cannib', 'cannibalist', 'cannon', 'cannonbal', 'cannot', 'cano', 'canon', 'cant', 'cantanker', 'cantrip', 'canva', 'canyon', 'cap', 'capabl', 'capac', 'capaldi', 'cape', 'caper', 'capit', 'capitalist', 'capon', 'capot', 'cappi', 'capra', 'capricorn', 'capsiz', 'capsul', 'capt', 'captain', 'captian', 'caption', 'captiv', 'captor', 'captur', 'capulet', 'car', 'caravan', 'carax', 'carbon', 'carcass', 'card', 'cardboard', 'cardellini', 'cardiac', 'cardin', 'cardo', 'care', 'careen', 'career', 'carefre', 'carel', 'caretak', 'carey', 'cargo', 'cari', 'caribbean', 'caricatur', 'carico', 'cariou', 'cark', 'carl', 'carla', 'carli', 'carlisl', 'carlito', 'carlo', 'carlton', 'carmack', 'carmen', 'carn', 'carnag', 'carnal', 'carniv', 'carnival', 'carnosaur', 'carnã', 'carol', 'carolin', 'carolina', 'caron', 'carousel', 'carp', 'carpathian', 'carpent', 'carpet', 'carr', 'carradin', 'carrasco', 'carraway', 'carrefour', 'carrel', 'carrey', 'carri', 'carriag', 'carrier', 'carrol', 'carrot', 'carrã', 'carson', 'cart', 'cartel', 'carter', 'cartoon', 'cartooni', 'cartoonish', 'cartridg', 'cartwright', 'carv', 'carver', 'casa', 'casablanca', 'casanova', 'casav', 'casbah', 'case', 'casey', 'cash', 'casino', 'casket', 'casper', 'cassandra', 'cassavet', 'cassavett', 'cassel', 'cassett', 'cassi', 'cassidi', 'cast', 'castaway', 'castellari', 'castl', 'castrat', 'castrati', 'castro', 'casual', 'casualti', 'cat', 'catacomb', 'catalina', 'catalog', 'catalogu', 'catalyst', 'catapult', 'catastroph', 'catboy', 'catcal', 'catch', 'catchi', 'cate', 'categor', 'categori', 'catepillar', 'cater', 'caterpillar', 'catfight', 'cathart', 'cather', 'catherin', 'cathol', 'catholic', 'catman', 'catogoricali', 'catti', 'cattl', 'catwoman', 'catylast', 'caucasian', 'caught', 'cauldron', 'cauliflow', 'caus', 'caution', 'cautiou', 'cavali', 'cavalier', 'cavanagh', 'cavanaugh', 'cave', 'cavedwel', 'caveman', 'cavemen', 'caver', 'cavern', 'cavewoman', 'caviar', 'cavil', 'caviti', 'cb', 'cc', 'ccthemovieman', 'cd', 'cdn', 'ceas', 'ceasar', 'ceausescu', 'cecil', 'cedric', 'ceil', 'ceilingmirror', 'cel', 'celeb', 'celebr', 'celeri', 'celest', 'celia', 'celin', 'cell', 'cellar', 'cellphon', 'celluloid', 'cement', 'cemeteri', 'censor', 'censorship', 'cent', 'center', 'centerfold', 'centr', 'central', 'centuri', 'ceo', 'cerchi', 'cercl', 'cereal', 'cerebr', 'ceremoni', 'certain', 'certainli', 'certainti', 'certif', 'certifi', 'certo', 'cessat', 'cg', 'cgi', 'ch', 'chabert', 'chabrol', 'chad', 'chadha', 'chagrin', 'chahin', 'chahract', 'chaillot', 'chain', 'chainsaw', 'chair', 'chalic', 'chalk', 'challeng', 'chamber', 'chamberlain', 'chameleon', 'champ', 'champaignbottl', 'champion', 'championship', 'champlain', 'chan', 'chanc', 'chancellor', 'chandeli', 'chandler', 'chandon', 'chandrasekhar', 'chaney', 'chang', 'changer', 'channel', 'chant', 'chanâ', 'chao', 'chaotic', 'chap', 'chapa', 'chapel', 'chaplin', 'chapman', 'chappel', 'chappi', 'chapter', 'char', 'charact', 'character', 'characteris', 'characterist', 'charad', 'charat', 'charg', 'charger', 'chariot', 'charisma', 'charismat', 'charit', 'chariti', 'charl', 'charlatan', 'charlen', 'charleson', 'charleston', 'charlez', 'charli', 'charlia', 'charlott', 'charlton', 'charm', 'charmingli', 'charrier', 'chart', 'chase', 'chaser', 'chasm', 'chast', 'chasten', 'chastis', 'chat', 'chatter', 'chauffeur', 'chauvelin', 'chauvin', 'chauvinist', 'chavez', 'chawla', 'chayefski', 'che', 'cheadl', 'cheang', 'cheap', 'cheapen', 'cheaper', 'cheapest', 'cheapi', 'cheapjack', 'cheapli', 'cheapo', 'cheapskat', 'cheat', 'cheater', 'chechen', 'check', 'checker', 'ched', 'cheech', 'cheek', 'cheeki', 'cheer', 'cheerful', 'cheeri', 'cheerlead', 'chees', 'cheesecak', 'cheesegrat', 'cheesi', 'cheesier', 'cheesiest', 'cheezi', 'chef', 'chekov', 'chemic', 'chemist', 'chemistri', 'chen', 'cheney', 'cheng', 'cheongsam', 'chequ', 'cher', 'cherbourg', 'cheri', 'cherish', 'cherri', 'cherub', 'cheryl', 'chess', 'chessboard', 'chest', 'chesterton', 'chet', 'cheung', 'chevalia', 'chevi', 'chew', 'chewbacca', 'chhoti', 'chi', 'chiaroscuro', 'chicago', 'chick', 'chicken', 'chide', 'chief', 'chiefli', 'chieftain', 'chien', 'child', 'childhood', 'childish', 'childishli', 'children', 'chile', 'chili', 'chill', 'chiller', 'chillingli', 'chimpanze', 'china', 'chinaski', 'chines', 'chink', 'chinoiseri', 'chip', 'chipmunk', 'chirila', 'chirp', 'chirpi', 'chisel', 'chisolm', 'chistina', 'chivalr', 'chock', 'chockablock', 'chocol', 'choic', 'choir', 'choirboy', 'choke', 'cholera', 'cholesterol', 'chomet', 'chomp', 'chomski', 'chong', 'choo', 'chooper', 'choos', 'chop', 'chopper', 'choppi', 'chord', 'chore', 'choreograph', 'choreographi', 'chorin', 'chortl', 'choru', 'chorus', 'chose', 'chosen', 'chri', 'chrisma', 'chrissi', 'christ', 'christen', 'christensen', 'christi', 'christian', 'christin', 'christina', 'christma', 'christmastim', 'christo', 'christoph', 'chronicl', 'chronolog', 'chrysanthemum', 'chubacabra', 'chubbi', 'chuck', 'chucki', 'chuckl', 'chug', 'chum', 'chungk', 'chunk', 'chupk', 'church', 'churchgoer', 'churchil', 'churchman', 'churchyard', 'churn', 'chute', 'chã', 'cia', 'ciano', 'cid', 'cigar', 'cigarett', 'cikabilir', 'cimarron', 'cinderella', 'cindi', 'cineast', 'cinecitta', 'cinema', 'cinemaniak', 'cinemark', 'cinemascop', 'cinemat', 'cinematograph', 'cinematographi', 'cinemax', 'cinevista', 'cineworld', 'cinncinatti', 'cipriani', 'circl', 'circu', 'circuitri', 'circul', 'circumcis', 'circumspect', 'circumst', 'ciro', 'cirqu', 'citat', 'cite', 'citi', 'citizen', 'citroen', 'ciudad', 'civic', 'civil', 'civilian', 'civilis', 'civiliz', 'ck', 'cki', 'clack', 'clackiti', 'clad', 'claim', 'clair', 'clairvoy', 'clamor', 'clan', 'clanci', 'clandestin', 'clank', 'clansmen', 'clap', 'clapton', 'claptrap', 'clara', 'clare', 'clarenc', 'clarif', 'clarifi', 'clariti', 'clark', 'clash', 'class', 'classi', 'classic', 'classier', 'classifi', 'classmat', 'classroom', 'clau', 'claud', 'claudett', 'claudia', 'claudiu', 'claus', 'claustrophob', 'claustrophobia', 'claw', 'clay', 'claymat', 'clayton', 'clean', 'cleaner', 'cleans', 'clear', 'clearer', 'clearli', 'cleavag', 'cleaver', 'cleef', 'clees', 'clement', 'cleolanta', 'cleopatra', 'cleric', 'clerk', 'cleve', 'cleveland', 'clever', 'cleverli', 'clevon', 'clich', 'clichã', 'click', 'client', 'clientã', 'cliff', 'cliffhang', 'clifford', 'climact', 'climat', 'climax', 'climb', 'climber', 'clinic', 'clint', 'clinton', 'clio', 'clip', 'clive', 'cloak', 'clock', 'clockstopp', 'clockwork', 'clone', 'clooney', 'clooni', 'clori', 'close', 'closer', 'closest', 'closet', 'closeup', 'closur', 'cloth', 'clotheslin', 'cloud', 'cloudi', 'cloudkick', 'clouseau', 'cloussou', 'clout', 'clovi', 'clown', 'cloy', 'club', 'clue', 'clueless', 'clumsi', 'clumsili', 'clunk', 'clunki', 'cluster', 'clutch', 'clutter', 'clyde', 'clã', 'cnn', 'cnnn', 'co', 'co2', 'coach', 'coal', 'coars', 'coast', 'coastal', 'coaster', 'coat', 'coathang', 'coax', 'cobb', 'cobbl', 'cobra', 'coburn', 'coca', 'cock', 'cockazilla', 'cocki', 'cockney', 'cockroach', 'cocktail', 'coco', 'coconut', 'coda', 'code', 'codepend', 'codi', 'codpiec', 'codswallop', 'coen', 'coerc', 'coffe', 'coffin', 'cogent', 'cohen', 'coher', 'cohes', 'cohn', 'cohort', 'coif', 'coin', 'coincid', 'coincident', 'coital', 'coke', 'col', 'cola', 'colbert', 'cold', 'cole', 'coleman', 'coleridg', 'colin', 'coliseum', 'coll', 'collabor', 'collag', 'collaps', 'collar', 'colleagu', 'collect', 'collector', 'colleen', 'colleg', 'collegi', 'collid', 'collin', 'collis', 'colloqui', 'collyer', 'colm', 'colman', 'colombo', 'colonel', 'coloni', 'color', 'colorado', 'coloss', 'colour', 'colourless', 'colton', 'columbia', 'columbian', 'columbo', 'column', 'com', 'coma', 'comanch', 'comatos', 'comb', 'combat', 'combin', 'combust', 'come', 'comeback', 'comed', 'comedi', 'comedian', 'comedienn', 'comer', 'comet', 'comeupp', 'comfi', 'comfort', 'comic', 'command', 'commando', 'commenc', 'commend', 'comment', 'commentari', 'commerci', 'commerici', 'commi', 'commiss', 'commit', 'committ', 'committe', 'commod', 'commodif', 'commoditis', 'commodor', 'commodu', 'common', 'commonli', 'commot', 'commun', 'communion', 'communist', 'communistophobia', 'commut', 'comon', 'compani', 'companion', 'companionship', 'compar', 'comparison', 'compass', 'compassion', 'compatriot', 'compel', 'compens', 'compet', 'competit', 'compil', 'complac', 'complain', 'complaint', 'complement', 'complementari', 'complet', 'completest', 'completist', 'complex', 'compli', 'complianc', 'complic', 'compliment', 'complimentari', 'compon', 'comport', 'compos', 'composit', 'compound', 'comprehend', 'comprehens', 'compress', 'compris', 'compromis', 'compuls', 'comput', 'computeri', 'comrad', 'con', 'conan', 'conceal', 'conceit', 'conceiv', 'concentr', 'concept', 'conceptu', 'concern', 'concert', 'concerto', 'concess', 'conchita', 'concho', 'conciev', 'concis', 'conclud', 'conclus', 'concoct', 'concord', 'concret', 'concubin', 'condemn', 'condens', 'condescend', 'condi', 'condieff', 'condit', 'condition', 'condoleezza', 'condom', 'conduct', 'conductor', 'confeder', 'confederaci', 'confer', 'confess', 'confession', 'confid', 'confidenti', 'configur', 'confin', 'confirm', 'conflict', 'conform', 'confound', 'confront', 'confus', 'confusingli', 'conga', 'congenit', 'conglomer', 'congo', 'congratul', 'congreg', 'congress', 'congressman', 'congressmen', 'conjunct', 'conjur', 'connect', 'connecticut', 'conneri', 'conni', 'conniv', 'connoisseur', 'connor', 'connori', 'conor', 'conquer', 'conquest', 'conrad', 'conran', 'conroy', 'conscienc', 'consciou', 'conscious', 'consecut', 'consensu', 'consequ', 'conserv', 'conservat', 'consid', 'consider', 'consist', 'consol', 'conspicu', 'conspir', 'conspiraci', 'conspiracist', 'constabl', 'constanc', 'constant', 'constantli', 'constitut', 'constrain', 'constraint', 'construct', 'consult', 'consum', 'consumm', 'contact', 'contagen', 'contagi', 'contain', 'contamin', 'contempl', 'contemporari', 'contempt', 'contend', 'content', 'contessa', 'contest', 'context', 'contextu', 'contin', 'conting', 'continu', 'continuum', 'contracept', 'contract', 'contractor', 'contractu', 'contradict', 'contradictori', 'contrapt', 'contrari', 'contrast', 'contribut', 'contrit', 'contriv', 'control', 'controversi', 'controversialist', 'convalesc', 'conveni', 'convent', 'convers', 'convert', 'convey', 'conveyor', 'convict', 'convinc', 'convincingli', 'convolut', 'convoy', 'convuls', 'conway', 'cook', 'cooker', 'cookeri', 'cooki', 'cool', 'cooler', 'coolest', 'cooley', 'coolio', 'coolli', 'coonhound', 'coop', 'cooper', 'coot', 'cooz', 'coozeman', 'cop', 'cope', 'copenhagen', 'copi', 'copiou', 'copper', 'copperfield', 'coppola', 'copter', 'copul', 'copyright', 'corbett', 'corbin', 'cord', 'cordel', 'core', 'corey', 'corker', 'corki', 'corleon', 'corley', 'corman', 'corn', 'cornbal', 'corner', 'corni', 'cornillac', 'corny', 'coron', 'coronado', 'corp', 'corpor', 'corps', 'corpseâ', 'corral', 'correct', 'correctli', 'correl', 'correspond', 'correspondingli', 'corridor', 'corrobor', 'corroborr', 'corros', 'corrupt', 'corsaut', 'corset', 'corusc', 'corvett', 'cosbi', 'cosmet', 'cosmic', 'cosmo', 'cosmologist', 'cosmopolitan', 'cosplay', 'cost', 'costanza', 'costar', 'costello', 'costigan', 'costli', 'costner', 'costum', 'cottag', 'cotton', 'couch', 'couco', 'cough', 'coulardeau', 'could', 'coulda', 'couleur', 'coulier', 'coulter', 'council', 'councilor', 'counsel', 'counselor', 'count', 'counter', 'counterbal', 'countercultur', 'countermeasur', 'counterpart', 'counterpoint', 'countess', 'counti', 'countless', 'countlessli', 'countoo', 'countri', 'countrysid', 'coup', 'coupl', 'courag', 'cours', 'court', 'courtenay', 'courtesi', 'courtier', 'courtli', 'courtroom', 'cousin', 'couthon', 'coven', 'cover', 'coverag', 'cow', 'coward', 'cowardic', 'cowardli', 'cowboy', 'cowgirl', 'cowork', 'cox', 'coxism', 'coy', 'cozi', 'cpusa', 'cr', 'cra', 'crab', 'crabb', 'crack', 'cracker', 'crackpot', 'cradl', 'craft', 'crafti', 'craftili', 'craftsman', 'craftsmanship', 'craftspeopl', 'craig', 'cram', 'cramp', 'crampton', 'crane', 'crank', 'cranki', 'crap', 'crapfest', 'crappi', 'crappier', 'crappiest', 'crapul', 'crash', 'crasher', 'crass', 'crate', 'crater', 'crave', 'craven', 'crawford', 'crawl', 'crawley', 'crayon', 'craze', 'crazi', 'craziest', 'creak', 'creaki', 'cream', 'creas', 'creasi', 'creat', 'creation', 'creativ', 'creator', 'creatur', 'cred', 'credibl', 'credit', 'creek', 'creep', 'creeper', 'creepi', 'creepier', 'creepiest', 'creepshow', 'cremat', 'crematori', 'crept', 'cretin', 'crew', 'cri', 'crichton', 'cricket', 'crime', 'crimin', 'crimmer', 'crimson', 'cring', 'cringeworthi', 'crippl', 'crisi', 'crisp', 'crispen', 'crispin', 'criss', 'cristiana', 'cristina', 'critcism', 'criteria', 'criterion', 'critic', 'criticis', 'critiqu', 'critter', 'croatia', 'croatian', 'croc', 'crock', 'crocket', 'crocki', 'crocodil', 'croft', 'croisett', 'croissant', 'croix', 'cronenberg', 'cronyn', 'crook', 'croon', 'crop', 'crosbi', 'cross', 'crossbow', 'crossfir', 'crossroad', 'crossword', 'crotch', 'crotcheti', 'crouch', 'crous', 'crow', 'crowd', 'crowel', 'crowley', 'crown', 'crowyn', 'crucial', 'crucifi', 'crucifixion', 'crud', 'cruddi', 'crude', 'cruditi', 'crue', 'cruel', 'cruelest', 'cruelli', 'cruelti', 'cruis', 'crumb', 'crumbl', 'crummi', 'crump', 'crunch', 'crusad', 'crush', 'crusti', 'crux', 'cruz', 'crypt', 'cryptic', 'crystal', 'csi', 'csupo', 'ct', 'ctv', 'cuaron', 'cuba', 'cuban', 'cube', 'cubic', 'cubitt', 'cuckoo', 'cucumb', 'cuddl', 'cuddli', 'cue', 'cuff', 'cukor', 'culinari', 'culkin', 'cull', 'cullen', 'culliton', 'culloden', 'culmin', 'culp', 'culprit', 'cult', 'cultur', 'culver', 'cum', 'cun', 'cunningham', 'cup', 'cupboard', 'curat', 'curb', 'curdl', 'cure', 'curios', 'curiou', 'curious', 'curl', 'curli', 'curlingli', 'current', 'curri', 'curriculum', 'curs', 'cursor', 'cursori', 'curt', 'curtain', 'curti', 'curtiz', 'curvac', 'cusack', 'cusak', 'cusamano', 'cush', 'cusp', 'cuss', 'custer', 'custom', 'customis', 'cut', 'cutaway', 'cutback', 'cute', 'cutesi', 'cutest', 'cuti', 'cutout', 'cutter', 'cv', 'cw', 'cybil', 'cyborg', 'cycl', 'cylind', 'cylon', 'cynic', 'cynthia', 'cypher', 'cyrano', 'cyst', 'czech', 'd2', 'da', 'dad', 'daddi', 'dae', 'daffi', 'dafo', 'daft', 'dagger', 'dahl', 'dahlia', 'dahmer', 'daili', 'daisey', 'daisi', 'dakota', 'dale', 'dall', 'dalla', 'dalli', 'dalmar', 'dalmat', 'dalton', 'dam', 'damag', 'dame', 'damian', 'damiani', 'damiano', 'damien', 'damm', 'dammit', 'damn', 'damndest', 'damon', 'dampen', 'damsel', 'dan', 'dana', 'danc', 'dancer', 'danci', 'dancing_', 'dandi', 'dandylion', 'dane', 'dang', 'danger', 'dangerfield', 'dangli', 'dani', 'daniel', 'danilo', 'danish', 'dank', 'danner', 'danni', 'danson', 'danton', 'danver', 'daphn', 'dapper', 'dar', 'daraar', 'daragh', 'dare', 'dareu', 'daria', 'dario', 'dark', 'darken', 'darker', 'darkest', 'darkl', 'darkli', 'darko', 'darkplac', 'darkw', 'darl', 'darn', 'darr', 'darren', 'darro', 'dart', 'darth', 'dasey', 'dash', 'dashiel', 'dastardli', 'dat', 'data', 'databas', 'date', 'datt', 'daughter', 'daulton', 'daumier', 'daunt', 'dauphin', 'dave', 'davi', 'david', 'davidson', 'davinci', 'dawkin', 'dawn', 'dawson', 'day', 'dayan', 'daydream', 'daylight', 'daytim', 'dayâ', 'daze', 'dazzi', 'dazzl', 'dc', 'ddt', 'de', 'dead', 'deadbeat', 'deaden', 'deadfal', 'deadli', 'deadlin', 'deadpan', 'deaf', 'deafen', 'deafâ', 'deal', 'dealer', 'dealt', 'deamon', 'dean', 'deana', 'deanna', 'dear', 'deari', 'dearth', 'dearwood', 'death', 'deathb', 'deathli', 'deathlin', 'deathrap', 'deathtrap', 'deb', 'debacl', 'debas', 'debat', 'debaucheri', 'debbi', 'debilit', 'deborah', 'debrale', 'debrief', 'debt', 'debunk', 'debut', 'decad', 'decamp', 'decapit', 'decarlo', 'decay', 'deceas', 'deceiv', 'decemb', 'decenc', 'decent', 'decept', 'decid', 'decidedli', 'deciph', 'decipher', 'decis', 'deck', 'declaim', 'declamatori', 'declar', 'declin', 'deco', 'decompos', 'decor', 'decoteau', 'decoy', 'decreas', 'decrepit', 'decri', 'dedic', 'deduc', 'deduct', 'dee', 'deed', 'deem', 'deep', 'deepen', 'deeper', 'deepest', 'deepli', 'deer', 'deez', 'deezen', 'def', 'defeat', 'defec', 'defenc', 'defend', 'defens', 'defi', 'defiantli', 'defic', 'defici', 'defin', 'definantley', 'definet', 'definetli', 'definit', 'definitley', 'deflect', 'defo', 'deform', 'deft', 'deftli', 'defunct', 'defus', 'degener', 'degrad', 'degre', 'dehuman', 'dehydr', 'deign', 'deiti', 'deja', 'deject', 'del', 'delanci', 'delay', 'delect', 'delenn', 'delet', 'deliber', 'delic', 'delicaci', 'delicatessen', 'delici', 'delight', 'delin', 'delinqu', 'deliri', 'deliv', 'deliver', 'deliveri', 'deliveryman', 'dell', 'della', 'dellamor', 'dellamort', 'dellestel', 'delmer', 'deloisel', 'delon', 'delpi', 'delroy', 'delta', 'deltaplan', 'deltoro', 'delud', 'delus', 'delusion', 'delux', 'delv', 'demand', 'demean', 'demeanor', 'dement', 'dementia', 'demerit', 'demet', 'demi', 'demian', 'demigod', 'demil', 'demis', 'demo', 'democraci', 'democrat', 'demograph', 'demolish', 'demolit', 'demon', 'demonoid', 'demonologist', 'demonstr', 'demostr', 'demot', 'dempsey', 'demur', 'dench', 'deneuv', 'denholm', 'deni', 'denial', 'deniro', 'denis', 'denisen', 'denmark', 'dennehi', 'denni', 'denomin', 'denouement', 'denounc', 'dens', 'dent', 'dental', 'dentist', 'dentur', 'denver', 'denzel', 'deodato', 'deol', 'depalm', 'depalma', 'depardieu', 'depart', 'depech', 'depend', 'depict', 'deplor', 'deploy', 'depp', 'deprav', 'deprec', 'depress', 'depressur', 'depth', 'deputi', 'der', 'deran', 'derang', 'derek', 'derelict', 'deris', 'deriv', 'dern', 'derrick', 'descend', 'descent', 'describ', 'descript', 'desegreg', 'desensit', 'desert', 'deserv', 'deservedli', 'desh', 'desi', 'design', 'desir', 'desk', 'desmond', 'desol', 'despair', 'desper', 'despic', 'despis', 'despit', 'dessert', 'destin', 'destini', 'destitut', 'destri', 'destroy', 'destruct', 'detach', 'detail', 'detain', 'detect', 'detector', 'detent', 'deter', 'deterior', 'determin', 'detest', 'detour', 'detract', 'detractor', 'detriment', 'detroit', 'deuc', 'dev', 'devan', 'devast', 'develop', 'deven', 'dever', 'devest', 'devgan', 'deviant', 'deviat', 'devic', 'devil', 'devilish', 'devilishli', 'devincenti', 'deviou', 'devis', 'devito', 'deviyan', 'devlop', 'devo', 'devoid', 'devolv', 'devon', 'devot', 'devote', 'devour', 'devout', 'dewaer', 'dewey', 'dewitt', 'dexter', 'dey', 'dez', 'dharma', 'dhoom', 'dhupia', 'di', 'dia', 'diabet', 'diabo', 'diabol', 'diaget', 'diagnos', 'diagnosi', 'diagnosis', 'dial', 'dialect', 'dialog', 'dialogu', 'dialoug', 'diamond', 'dian', 'diana', 'diann', 'diaper', 'diari', 'diatrib', 'diaz', 'dibias', 'dicamillo', 'dicaprio', 'dice', 'dicenzo', 'dichotomi', 'dick', 'dicken', 'dicker', 'dictat', 'dictatori', 'dictatorship', 'diction', 'didact', 'didgeridoo', 'didnt', 'didâ', 'die', 'diego', 'diem', 'dien', 'diesel', 'diet', 'dietrich', 'differ', 'differencesâ', 'differenti', 'difficult', 'difficulti', 'difford', 'diffus', 'dig', 'digest', 'digga', 'digger', 'diggler', 'diggstown', 'dighton', 'digit', 'dignifi', 'digniti', 'dikkat', 'dilemma', 'dilettant', 'dilig', 'diller', 'dilling', 'dillion', 'dillon', 'dilut', 'dim', 'dime', 'dimens', 'dimension', 'diminish', 'diminut', 'dimitri', 'dimitrio', 'dimli', 'dimmer', 'dimwit', 'din', 'dine', 'diner', 'ding', 'dinghi', 'dingi', 'dinklepuss', 'dinner', 'dino', 'dinocroc', 'dinosaur', 'dint', 'dio', 'dion', 'dip', 'diplomaci', 'diplomat', 'dippi', 'dippiti', 'dir', 'dire', 'direct', 'directionless', 'directli', 'director', 'directori', 'direst', 'dirig', 'dirk', 'dirossario', 'dirt', 'dirti', 'disabl', 'disabus', 'disadvantag', 'disagr', 'disagre', 'disappear', 'disappoint', 'disappointingli', 'disapprov', 'disarm', 'disarma', 'disarray', 'disast', 'disastr', 'disavow', 'disbelief', 'disbeliev', 'disc', 'discard', 'discern', 'discharg', 'discipl', 'disciplin', 'disclaim', 'disclos', 'disco', 'discomfort', 'disconnect', 'discontinu', 'discord', 'discount', 'discourag', 'discours', 'discov', 'discoveri', 'discoverâ', 'discredit', 'discrep', 'discret', 'discrimin', 'discriminatori', 'discuss', 'disdain', 'diseas', 'disembowel', 'disengag', 'disfigur', 'disgraaaaaaac', 'disgrac', 'disgruntl', 'disguis', 'disgust', 'dish', 'dishonest', 'dishonor', 'dishwash', 'disillus', 'disillusion', 'disinclin', 'disintegr', 'disinterest', 'disjoint', 'disjunct', 'disk', 'dislik', 'disloc', 'disloy', 'dismal', 'dismay', 'dismemb', 'dismember', 'dismiss', 'disney', 'disneyland', 'disobey', 'disord', 'disori', 'disown', 'dispar', 'dispassion', 'dispel', 'dispens', 'dispenza', 'display', 'displeas', 'displeasur', 'dispos', 'disposit', 'dispossess', 'disproportion', 'disprov', 'disput', 'disqualifi', 'disregard', 'disrespect', 'disrob', 'disrupt', 'diss', 'dissapoint', 'dissappear', 'dissappoint', 'dissect', 'dissent', 'dissert', 'dissid', 'dissip', 'dissolut', 'dissolv', 'disspoint', 'dissuad', 'distanc', 'distant', 'distast', 'distil', 'distinct', 'distinctli', 'distinguish', 'distort', 'distract', 'distraught', 'distress', 'distribut', 'distributor', 'district', 'disturb', 'disturbingli', 'disus', 'ditch', 'diva', 'dive', 'diver', 'diverg', 'divers', 'divert', 'divid', 'dividian', 'divin', 'divis', 'divorc', 'divorcã', 'divx', 'dix', 'dixon', 'diy', 'dizzi', 'dj', 'dm', 'dmytryk', 'dna', 'doa', 'doan', 'dobkin', 'dobler', 'dobson', 'doc', 'docid', 'dock', 'docksid', 'doco', 'doctor', 'doctrin', 'docu', 'docudrama', 'document', 'documentari', 'documentarian', 'documentray', 'dodd', 'dodg', 'dodgi', 'doe', 'doer', 'doesnt', 'doesnâ', 'dog', 'dogey', 'doggi', 'dogma', 'dogmat', 'dogood', 'dogvil', 'doherti', 'doi', 'dolbi', 'dolc', 'dole', 'dolittl', 'doll', 'dollar', 'dollarhid', 'dolman', 'dolph', 'dolphin', 'dolt', 'doltish', 'domain', 'dombasl', 'domergu', 'domest', 'domin', 'dominick', 'don', 'donaggio', 'donal', 'donald', 'donat', 'done', 'dong', 'donkey', 'donlevi', 'donna', 'donnelli', 'donner', 'donni', 'donnybrook', 'donovan', 'dont', 'donut', 'donâ', 'doo', 'doodl', 'doofu', 'doofus', 'dooley', 'doom', 'doon', 'door', 'doorstep', 'doorway', 'dope', 'dopey', 'doppelgang', 'dora', 'dorff', 'dori', 'doria', 'dork', 'dorkiest', 'dormant', 'dorn', 'dorothi', 'dorri', 'dosag', 'dose', 'dot', 'dote', 'dotti', 'dottor', 'doubl', 'doubli', 'doubt', 'doubtless', 'doubtlessli', 'douch', 'doug', 'dough', 'dougla', 'douglass', 'dour', 'dourif', 'dove', 'dowdi', 'down', 'downbeat', 'downer', 'downey', 'downfal', 'downgrad', 'downhil', 'download', 'downplay', 'downright', 'downsid', 'downstair', 'downtown', 'downward', 'doyl', 'doze', 'dozen', 'dp', 'dr', 'drab', 'dracula', 'draft', 'drafthous', 'drag', 'draggi', 'dragon', 'dragonfli', 'dragonlord', 'draht', 'drain', 'drake', 'drama', 'dramamin', 'dramat', 'dramatis', 'drastic', 'draw', 'drawback', 'drawl', 'drawn', 'drayton', 'dread', 'dream', 'dreamcatch', 'dreamer', 'dreamgirl', 'dreami', 'dreamin', 'dreamlik', 'dreamtim', 'dreamwork', 'dreari', 'dreck', 'dredg', 'drek', 'dress', 'dresser', 'dressler', 'drew', 'dreya', 'dreyfuss', 'dri', 'dribbl', 'drift', 'drifter', 'drili', 'drill', 'drillshaft', 'drink', 'drinker', 'drip', 'drive', 'drivel', 'driven', 'driver', 'drohi', 'droll', 'drone', 'drool', 'drop', 'dross', 'drought', 'drove', 'drown', 'drowsi', 'drug', 'druggi', 'drum', 'drummer', 'drummond', 'drummondâ', 'drunk', 'drunken', 'dryer', 'dt', 'du', 'dual', 'dub', 'dubba', 'dubiou', 'dublin', 'duce', 'duchess', 'duchovni', 'duck', 'duckburg', 'duckl', 'ducktal', 'duct', 'dud', 'dude', 'dudikoff', 'dudley', 'due', 'duel', 'duet', 'duff', 'duffi', 'dug', 'dugan', 'duggan', 'duh', 'duhanel', 'duigan', 'dujardin', 'dukaki', 'duke', 'duli', 'dull', 'dullest', 'dulli', 'dullish', 'dum', 'dumb', 'dumber', 'dumbest', 'dumbfoundingli', 'dummi', 'dump', 'dumpi', 'dumpti', 'dun', 'dunaway', 'dunc', 'duncan', 'dunde', 'dundeeâ', 'dune', 'dung', 'dungeon', 'dunham', 'dunk', 'dunlop', 'dunn', 'dunno', 'dunst', 'dunston', 'duo', 'duomo', 'dupe', 'duper', 'duplic', 'duplicit', 'durat', 'durbin', 'durn', 'durst', 'duryea', 'dushku', 'dusk', 'dust', 'dusti', 'dustin', 'dutch', 'dutchman', 'duti', 'dutta', 'duval', 'duwayn', 'dv', 'dvd', 'dvr', 'dwarf', 'dweeb', 'dwell', 'dweller', 'dwelt', 'dwier', 'dwight', 'dwindl', 'dx', 'dy', 'dyan', 'dyann', 'dyer', 'dyke', 'dylan', 'dynam', 'dynamit', 'dynamite_', 'dynasti', 'dysfunct', 'dã', 'eager', 'eagerli', 'eagl', 'eamon', 'eamonn', 'ear', 'eardrum', 'earl', 'earli', 'earlier', 'earliest', 'earmark', 'earn', 'earnest', 'earth', 'earthbound', 'earthi', 'earthl', 'earthli', 'earthman', 'earthquak', 'eas', 'easi', 'easier', 'easiest', 'easili', 'east', 'eastend', 'easter', 'eastern', 'eastwestdvd', 'eastwood', 'eat', 'eaten', 'eater', 'eaters_', 'ebay', 'ebb', 'ebenez', 'ebert', 'ebouaney', 'ebulli', 'eburn', 'ec', 'eccentr', 'eccleston', 'echanc', 'echo', 'echoey', 'echoy', 'eckhart', 'eclect', 'eclips', 'eco', 'ecolean', 'ecolog', 'econom', 'economi', 'ecstasi', 'ecstat', 'ed', 'edd', 'eddi', 'eden', 'edeson', 'edg', 'edgar', 'edgi', 'edi', 'edison', 'edit', 'edith', 'editor', 'editori', 'editorialis', 'edmednson', 'edmonton', 'edmund', 'edo', 'educ', 'edward', 'edwig', 'edwin', 'eek', 'eel', 'eeri', 'eerili', 'ef', 'effect', 'effemin', 'effet', 'effici', 'effigi', 'effin', 'effort', 'effortlessli', 'effus', 'eg', 'egad', 'egan', 'egg', 'eglantin', 'ego', 'egon', 'egot', 'egotist', 'egregi', 'egypt', 'egyptian', 'eh', 'ehren', 'eiffel', 'eight', 'eighteen', 'eighth', 'eighti', 'eikenberri', 'eileen', 'einstein', 'eisenberg', 'eisenhow', 'eisenstein', 'either', 'ejames6342', 'eke', 'ekin', 'el', 'elabor', 'elain', 'elaps', 'elat', 'elbaor', 'elder', 'elderli', 'eldon', 'eleanor', 'elect', 'electr', 'electrician', 'electrifi', 'electro', 'electrocut', 'electrod', 'electrolysi', 'electron', 'electrorock', 'eleg', 'elem', 'element', 'elementari', 'elena', 'eleniak', 'elenor', 'eleph', 'elev', 'eleven', 'elf', 'elfort', 'elfried', 'eli', 'elia', 'elicit', 'elig', 'elija', 'elijah', 'elimin', 'elio', 'eliot', 'elisabeth', 'elisha', 'elit', 'elitist', 'elixir', 'eliza', 'elizabeth', 'elizabethan', 'ell', 'ella', 'ellen', 'elleri', 'elliot', 'elliott', 'ellips', 'ellipt', 'ellison', 'elm', 'elmer', 'elo', 'elong', 'elop', 'eloqu', 'els', 'elsa', 'elsewher', 'elster', 'elton', 'elucid', 'elud', 'elus', 'elv', 'elvira', 'elw', 'em', 'email', 'eman', 'emancip', 'emanuel', 'emascul', 'embarassingli', 'embarcadero', 'embargo', 'embark', 'embarrass', 'embarrassingli', 'embassi', 'embattl', 'embed', 'embellish', 'embezzl', 'emblazon', 'embodi', 'embrac', 'emerald', 'emerg', 'emeri', 'emerson', 'emeut', 'emi', 'emigr', 'emigre', 'emil', 'emili', 'emin', 'emlyn', 'emma', 'emmanuel', 'emmi', 'emo', 'emot', 'emotionless', 'empath', 'empathi', 'emperor', 'emphas', 'emphasi', 'emphasis', 'empir', 'employ', 'employe', 'empti', 'emraan', 'emul', 'emuls', 'en', 'enabl', 'enact', 'enamor', 'enamour', 'encapsul', 'encas', 'enchant', 'encompass', 'encor', 'encount', 'encourag', 'encroach', 'encycloped', 'end', 'endang', 'endear', 'endeavor', 'endeavour', 'ended', 'endless', 'endlessli', 'endors', 'endur', 'eneid', 'enemi', 'energet', 'energi', 'enfant', 'enforc', 'engag', 'engelbert', 'engend', 'engin', 'engl', 'england', 'english', 'englishman', 'englishmen', 'englishwoman', 'englund', 'engross', 'engulf', 'enhanc', 'eniemi', 'enigma', 'enigmat', 'enjoy', 'enlarg', 'enlighten', 'enlist', 'enliven', 'ennio', 'ennui', 'enorm', 'enough', 'enrag', 'enraptur', 'enrich', 'enrol', 'enron', 'ensembl', 'ensign', 'ensnar', 'ensu', 'ensur', 'entail', 'entangl', 'entebb', 'enter', 'enterpris', 'entertain', 'enthral', 'enthusiasm', 'enthusiast', 'entic', 'entil', 'entir', 'entireti', 'entiti', 'entitl', 'entranc', 'entrepreneur', 'entri', 'entrust', 'entwin', 'enumer', 'enunci', 'envelop', 'envi', 'enviou', 'environ', 'environment', 'envis', 'envoy', 'enzo', 'eon', 'epatha', 'ephemer', 'epic', 'epidem', 'episdo', 'episod', 'epitom', 'epp', 'eq', 'equal', 'equat', 'equilibrium', 'equip', 'equival', 'er', 'era', 'erad', 'eras', 'eraserhead', 'erath', 'erb', 'ere', 'eric', 'erik', 'erika', 'eriq', 'erk', 'erm', 'erna', 'ernest', 'ernesto', 'erni', 'ernst', 'erot', 'erotic', 'err', 'errand', 'errant', 'errat', 'errol', 'erron', 'error', 'errr', 'erst', 'erupt', 'erwin', 'es', 'escal', 'escap', 'escapad', 'escape', 'escapist', 'escarol', 'escher', 'escul', 'ese', 'esha', 'eshley', 'esi', 'esk', 'eskimo', 'esm', 'esoter', 'esp', 'especi', 'espionag', 'espn', 'esqu', 'esquir', 'essay', 'essenc', 'essenti', 'est', 'establish', 'estat', 'esteban', 'esteem', 'estevez', 'estim', 'estrang', 'estuari', 'et', 'etat', 'etc', 'etcetera', 'etcâ', 'etern', 'ethan', 'ethel', 'ethic', 'ethnic', 'etienn', 'eton', 'ettor', 'eugen', 'eun', 'euopean', 'euphem', 'euro', 'europ', 'europa', 'european', 'eurovis', 'eustach', 'eva', 'evacue', 'evad', 'evalu', 'evan', 'evangel', 'evangelist', 'eve', 'evelyn', 'even', 'evenli', 'event', 'eventu', 'ever', 'everett', 'evergreen', 'everi', 'everlast', 'everybodi', 'everyday', 'everyman', 'everyon', 'everyth', 'everytim', 'everywher', 'evi', 'evid', 'evidenc', 'evil', 'evoc', 'evok', 'evolut', 'evolv', 'ewan', 'ewe', 'ewok', 'ex', 'exacerb', 'exact', 'exactli', 'exager', 'exagger', 'exalt', 'exam', 'examin', 'exampl', 'exasper', 'exce', 'exceed', 'exceedingli', 'excel', 'except', 'excerpt', 'excess', 'exchang', 'excis', 'excit', 'excitedli', 'exciti', 'exclud', 'exclus', 'excrement', 'excruci', 'excruciatingli', 'excurs', 'excus', 'exec', 'execr', 'execut', 'execution', 'exemplari', 'exemplifi', 'exept', 'exercis', 'exert', 'exhal', 'exhaust', 'exhibit', 'exhilar', 'exhum', 'exil', 'exist', 'existenti', 'existenz', 'exit', 'exobiologist', 'exorc', 'exorcist', 'exot', 'exp', 'expand', 'expans', 'expat', 'expect', 'expectationsâ', 'expedit', 'expel', 'expend', 'expens', 'experi', 'experienc', 'experiment', 'expert', 'expertis', 'expertli', 'expir', 'explain', 'explan', 'explanatori', 'explicit', 'explicitli', 'explit', 'explod', 'exploit', 'exploitist', 'explor', 'exploratori', 'explos', 'export', 'expos', 'exposit', 'exposur', 'expound', 'express', 'expressionist', 'expressionless', 'expuls', 'exquisit', 'extant', 'extend', 'extendedli', 'extens', 'extent', 'exterior', 'extermin', 'extern', 'extort', 'extra', 'extract', 'extran', 'extraordinari', 'extraordinarili', 'extrapol', 'extravag', 'extravaganza', 'extrem', 'extric', 'extrovert', 'exud', 'exxon', 'eye', 'eyebal', 'eyebrow', 'eyecandi', 'eyelid', 'eyewit', 'eyr', 'f903', 'faat', 'fab', 'fabian', 'fabiana', 'fabiani', 'fabl', 'fabric', 'fabul', 'facad', 'face', 'facebook', 'faceless', 'facet', 'facial', 'facil', 'facilit', 'facsimil', 'fact', 'faction', 'factoid', 'factor', 'factori', 'factotum', 'factual', 'faculti', 'fade', 'faec', 'faeri', 'fag', 'faggoti', 'fahey', 'fail', 'failur', 'faint', 'faintli', 'fair', 'fairbank', 'fairchild', 'fairgat', 'fairground', 'fairi', 'fairli', 'fairuza', 'fairview', 'fairytal', 'faith', 'fak', 'fake', 'falco', 'falcon', 'falk', 'falkon', 'fall', 'fallaci', 'fallen', 'fallibl', 'fallon', 'fals', 'falter', 'faludi', 'fam', 'fame', 'familar', 'famili', 'familiar', 'familyâ', 'famin', 'famou', 'fan', 'fanat', 'fanbas', 'fanboy', 'fanci', 'fandango', 'fanfar', 'fang', 'fangli', 'fanni', 'fant', 'fantaci', 'fantas', 'fantasi', 'fantasist', 'fantast', 'far', 'faraway', 'farc', 'farcic', 'fardeen', 'fare', 'farel', 'farewel', 'farga', 'fari', 'farina', 'farley', 'farm', 'farmer', 'farmwork', 'farnsworth', 'farquhar', 'farr', 'farrah', 'farrel', 'farrelli', 'farrow', 'farscap', 'fart', 'farther', 'farthest', 'fascin', 'fascinatingli', 'fascism', 'fascist', 'fashion', 'faso', 'fassbind', 'fast', 'fasten', 'faster', 'fastidi', 'fat', 'fata', 'fatal', 'fate', 'fateâ', 'father', 'fatherland', 'fathom', 'fatigu', 'fatten', 'fatter', 'faubourg', 'faulkland', 'faulkner', 'fault', 'faulti', 'faultless', 'faux', 'fave', 'favor', 'favorit', 'favour', 'favourit', 'fawcett', 'fawlti', 'fawn', 'fax', 'fay', 'fazal', 'fbi', 'fcc', 'fd', 'fear', 'fearless', 'fearsom', 'feast', 'feat', 'featur', 'featurett', 'fed', 'feder', 'fee', 'feebl', 'feed', 'feedback', 'feel', 'feeler', 'feelgood', 'feeli', 'feet', 'fehmiu', 'feign', 'feinston', 'feisti', 'felat', 'feldman', 'felin', 'felix', 'fell', 'fella', 'fellat', 'fellini', 'fellow', 'fellowship', 'felon', 'feloni', 'felt', 'felton', 'femal', 'feminin', 'feminist', 'femm', 'fenc', 'fend', 'fenech', 'fengler', 'fenton', 'fenway', 'ferdi', 'ferdinand', 'fergu', 'ferguson', 'fermat', 'ferment', 'fernando', 'feroc', 'feroci', 'ferrara', 'ferrari', 'ferrel', 'ferret', 'ferri', 'ferrigno', 'fertil', 'fest', 'festen', 'festiv', 'festu', 'fetal', 'fetch', 'fetishist', 'feud', 'feudal', 'fever', 'feverish', 'fewer', 'fey', 'fez', 'ffwd', 'fi', 'fialchi', 'fianc', 'fiance', 'fiancã', 'fiasco', 'fiber', 'fiberglass', 'fibreglass', 'fickl', 'fiction', 'fictiti', 'fiddl', 'fidel', 'fido', 'fiefdom', 'field', 'fiend', 'fiendish', 'fienn', 'fierc', 'fieri', 'fifteen', 'fifth', 'fifti', 'fight', 'fighter', 'fightfest', 'figur', 'fiji', 'file', 'fill', 'filler', 'fillet', 'film', 'filmabl', 'filmgo', 'filmgoer', 'filmic', 'filmmak', 'filmograph', 'filmographi', 'filter', 'filth', 'filthi', 'fim', 'fin', 'finac', 'final', 'financ', 'financi', 'fincher', 'finchley', 'find', 'fine', 'fineman', 'finer', 'finess', 'finest', 'finger', 'fingerl', 'fingernail', 'fingerprint', 'fingersmith', 'fini', 'finish', 'finland', 'finn', 'finney', 'finnish', 'finster', 'fiqu', 'fire', 'firearm', 'firebal', 'firebrand', 'firefight', 'firefli', 'firehous', 'firemen', 'fireplac', 'firepow', 'firework', 'firm', 'firmli', 'first', 'firstli', 'firth', 'fischer', 'fish', 'fishburn', 'fisher', 'fisherman', 'fist', 'fistfight', 'fit', 'fittest', 'fittingli', 'fitz', 'fitzcarraldo', 'fitzgerald', 'five', 'fix', 'fixat', 'fixer', 'fizzi', 'fizzl', 'flabbergastingli', 'flaccid', 'flag', 'flagpol', 'flagrant', 'flaherti', 'flail', 'flair', 'flaki', 'flamboy', 'flamboyantli', 'flame', 'flamenco', 'flamethrow', 'flanner', 'flap', 'flare', 'flash', 'flashback', 'flashdanc', 'flashi', 'flat', 'flatli', 'flatlin', 'flatter', 'flatteri', 'flatul', 'flavia', 'flaviu', 'flavor', 'flavorless', 'flavour', 'flaw', 'flawless', 'flawlessli', 'flea', 'fleabag', 'fleadh', 'fleapit', 'fled', 'flee', 'fleet', 'fleetingli', 'fleetwood', 'fleischer', 'flem', 'fleme', 'flender', 'flesh', 'fleshi', 'fletcher', 'flew', 'flex', 'flexibl', 'fli', 'flic', 'flick', 'flicker', 'flight', 'flighti', 'flik', 'flimsi', 'flimsiest', 'fling', 'flint', 'flip', 'flipper', 'flippeti', 'flirt', 'flirtat', 'flirtati', 'flirti', 'flit', 'float', 'flock', 'flockofduck', 'flood', 'floor', 'flop', 'flopper', 'floppi', 'flore', 'florenc', 'florey', 'florian', 'florida', 'florinda', 'floss', 'flounder', 'flourish', 'flow', 'flower', 'floweri', 'flown', 'floyd', 'flu', 'flub', 'flubber', 'fluf', 'fluff', 'fluffbal', 'fluffi', 'fluid', 'fluke', 'flung', 'fluoresc', 'flush', 'flynn', 'fn', 'foam', 'foamingli', 'focal', 'foch', 'focu', 'focus', 'fodder', 'foe', 'fog', 'fogelman', 'foggi', 'foibl', 'foil', 'foist', 'fold', 'foley', 'foliag', 'folk', 'folklor', 'folksi', 'follett', 'folli', 'follow', 'folow', 'fond', 'fonda', 'fondl', 'fondli', 'fong', 'font', 'fontain', 'food', 'fool', 'foolhardi', 'foolish', 'foolishli', 'foolproof', 'foot', 'footag', 'footbal', 'footloos', 'footnot', 'footpath', 'footstep', 'fop', 'foppish', 'for', 'foran', 'foray', 'forbid', 'forbidden', 'forc', 'forcibl', 'ford', 'fore', 'forebod', 'forecast', 'foreground', 'forehead', 'foreign', 'foreman', 'foremost', 'forens', 'foreshadow', 'forest', 'forethought', 'forev', 'foreward', 'forewarn', 'forfeit', 'forg', 'forget', 'forgett', 'forgiv', 'forgiven', 'forgo', 'forgot', 'forgotten', 'fork', 'forlani', 'forlorn', 'form', 'formal', 'format', 'former', 'formerli', 'formid', 'formul', 'formula', 'formula4', 'forrest', 'forsaken', 'forse', 'forster', 'forsyth', 'forth', 'forthcom', 'forti', 'fortun', 'fortunant', 'forum', 'forward', 'forã', 'fosca', 'fossil', 'foster', 'fought', 'foul', 'found', 'foundat', 'founder', 'fountain', 'fouquier', 'four', 'foursom', 'fourth', 'fourthli', 'fowler', 'fox', 'foxi', 'foxworthi', 'foxx', 'foy', 'fp', 'fr', 'fraction', 'fractur', 'fragil', 'fragment', 'fragmentari', 'frail', 'frailti', 'fraim', 'frake', 'frame', 'framework', 'franc', 'francesco', 'franchis', 'franchot', 'franci', 'francin', 'francisco', 'francisvil', 'franco', 'francoi', 'francorchamp', 'franjo', 'frank', 'franka', 'franken', 'frankenhook', 'frankenstein', 'frankfurt', 'franki', 'frankli', 'franklin', 'franklyn', 'frantic', 'frantz', 'franz', 'fraser', 'frasier', 'frat', 'fratern', 'fraud', 'fraught', 'frawley', 'frayn', 'freak', 'freaki', 'freakin', 'freakish', 'frear', 'frechett', 'freckl', 'freckley', 'fred', 'freddi', 'freder', 'frederick', 'fredrick', 'free', 'freedom', 'freeli', 'freeman', 'freeway', 'freez', 'freezer', 'freihof', 'frele', 'french', 'frenchman', 'frenet', 'frenzi', 'frequenc', 'frequent', 'fresh', 'freshman', 'freshmen', 'fret', 'freudian', 'fri', 'friar', 'frickin', 'friction', 'frida', 'friday', 'fridg', 'friedkin', 'friedrich', 'friel', 'friend', 'friendless', 'friendli', 'friendlier', 'friendship', 'friggen', 'friggin', 'fright', 'frighten', 'frighteningli', 'frightmar', 'fring', 'fripperi', 'frisch', 'frisson', 'fritz', 'friz', 'frizzi', 'fro', 'frock', 'frodo', 'frog', 'frogtown', 'fromag', 'front', 'frontal', 'frontier', 'frost', 'frostbit', 'froth', 'frothi', 'frown', 'frownland', 'frozen', 'fruit', 'fruitcak', 'fruiti', 'fruition', 'frustrat', 'frustratingli', 'frustrationfest', 'ft', 'fta', 'fu', 'fuckland', 'fuel', 'fuell', 'fugit', 'fugli', 'fuher', 'fuhrer', 'fuji', 'fujimoto', 'fulci', 'fulfil', 'full', 'fuller', 'fullest', 'fulli', 'fumbl', 'fume', 'fun', 'function', 'fund', 'fundament', 'fundamentalist', 'funer', 'fungi', 'funhous', 'funk', 'funki', 'funni', 'funnier', 'funniest', 'funnili', 'fur', 'furi', 'furiou', 'furious', 'furnish', 'furnitur', 'furri', 'furrow', 'furst', 'furstenburg', 'furthermor', 'fuse', 'fuss', 'futil', 'futur', 'futurist', 'fuzzi', 'fx', 'fyi', 'ga', 'gabbl', 'gabl', 'gabriel', 'gabriella', 'gadda', 'gadget', 'gaff', 'gaffer', 'gag', 'gaga', 'gaggl', 'gah', 'gahan', 'gaieti', 'gaijin', 'gaili', 'gaillardia', 'gain', 'gal', 'gala', 'galaxi', 'galaxina', 'galiano', 'galifianaki', 'galile', 'galileo', 'gall', 'gallagh', 'gallant', 'gallantli', 'galleon', 'galleri', 'galliffet', 'gallo', 'gallon', 'galloni', 'gallop', 'gallow', 'galor', 'galumph', 'galvez', 'galway', 'gambit', 'gambl', 'gambler', 'game', 'gameplay', 'gamer', 'gamin', 'gamut', 'gander', 'gandhi', 'gandolfini', 'gang', 'gangland', 'gangren', 'gangsta', 'gangster', 'gannex', 'ganz', 'gao', 'gap', 'gape', 'gaptooth', 'garag', 'garai', 'garam', 'garb', 'garbag', 'garbl', 'garbo', 'gard', 'garden', 'gardenia', 'garfield', 'gargantuan', 'gari', 'garibaldi', 'garish', 'garland', 'garlin', 'garma', 'garner', 'garofalo', 'garofolo', 'garou', 'garr', 'garrel', 'garrett', 'garri', 'garson', 'garth', 'garver', 'gase', 'gash', 'gasp', 'gass', 'gassman', 'gate', 'gatekeep', 'gather', 'gator', 'gattopardo', 'gaull', 'gauntlet', 'gautham', 'gauz', 'gave', 'gavin', 'gawd', 'gawk', 'gawp', 'gay', 'gazarra', 'gaze', 'gazecki', 'gazzara', 'gcse', 'gear', 'gebhardt', 'gedren', 'gee', 'geek', 'geeki', 'geena', 'geeta', 'geezer', 'geiger', 'gein', 'geisha', 'geist', 'gek', 'gel', 'gelatin', 'geld', 'gelin', 'gem', 'gemmel', 'gen', 'gena', 'gender', 'gene', 'gener', 'genera', 'generi', 'genesi', 'genet', 'geneva', 'geni', 'geniu', 'genius', 'geno', 'genocid', 'genr', 'gent', 'gentelmen', 'gentil', 'gentl', 'gentleman', 'gentlemen', 'gentler', 'gentli', 'genui', 'genuin', 'genuingli', 'geoffrey', 'geograph', 'geographi', 'geometri', 'geordi', 'georg', 'georgetown', 'georghiu', 'georgia', 'georgian', 'georgina', 'gerald', 'geraldin', 'gerard', 'gerasimov', 'gerda', 'gere', 'geriatr', 'germ', 'german', 'germani', 'gerog', 'gerrard', 'gershwin', 'gertrud', 'gervai', 'gest', 'gestapo', 'gestur', 'get', 'getaway', 'gettin', 'geyser', 'gft', 'ghandi', 'ghastli', 'ghetto', 'ghibli', 'ghost', 'ghosthous', 'ghostli', 'ghouli', 'ghoulish', 'gi', 'giallo', 'giamatti', 'gian', 'giancarlo', 'giancaspro', 'giannini', 'giant', 'gibberish', 'gibbet', 'gibson', 'giddi', 'giddili', 'gideon', 'gielgud', 'gift', 'gig', 'gigant', 'giggl', 'giggli', 'gigli', 'gigolo', 'gil', 'gilbert', 'gild', 'gile', 'gill', 'gilliam', 'gilligan', 'gimli', 'gimm', 'gimmick', 'gimmicki', 'gin', 'gina', 'ginger', 'gingko', 'gingold', 'gino', 'ginormu', 'giordano', 'giorgio', 'giornata', 'giovanna', 'giovanni', 'girardot', 'giraudeau', 'girder', 'girl', 'girlfirend', 'girlfriend', 'girli', 'girlish', 'girlishli', 'girolomo', 'girotti', 'girth', 'gisaburo', 'giss', 'gist', 'gitai', 'giusepp', 'give', 'giveaway', 'given', 'gizmo', 'glacial', 'glad', 'gladi', 'gladiat', 'gladli', 'gladston', 'glamor', 'glamour', 'glanc', 'glancingli', 'glare', 'glaringli', 'glass', 'glaze', 'gleason', 'glee', 'gleefulli', 'gleeson', 'glenco', 'glenda', 'glenist', 'glenn', 'glib', 'glide', 'glider', 'glimmer', 'glimps', 'glint', 'glitch', 'glitter', 'glitz', 'gloat', 'global', 'globe', 'globetrot', 'glom', 'gloom', 'gloomi', 'glori', 'gloria', 'glorifi', 'gloriou', 'gloss', 'glossi', 'glove', 'glover', 'glow', 'glu', 'glue', 'glut', 'glutton', 'glyllenhal', 'gm', 'gnaghi', 'gnarli', 'gnash', 'gnome', 'go', 'goad', 'goal', 'goat', 'gobbl', 'goblin', 'god', 'godard', 'godath', 'goddard', 'goddess', 'godfath', 'godfatherii', 'godfrey', 'godli', 'godzilla', 'goe', 'goeffrey', 'goer', 'goff', 'goggin', 'goggl', 'goin', 'gojo', 'gokbakar', 'gol', 'gold', 'goldberg', 'goldblum', 'golden', 'goldfield', 'goldfing', 'goldfish', 'goldi', 'goldsmith', 'goldthwait', 'goldwyn', 'golf', 'golli', 'gomez', 'gone', 'goner', 'gong', 'gonna', 'gonzalo', 'gonzo', 'gonzã', 'goo', 'good', 'goodby', 'goodfella', 'goodi', 'goodman', 'goodnight', 'gooey', 'goof', 'goofbal', 'goofi', 'googl', 'googlemail', 'gook', 'goombah', 'goon', 'gooni', 'goos', 'gopher', 'gordi', 'gordon', 'gore', 'gorgeou', 'gorgeous', 'gori', 'gorier', 'goriest', 'gorilla', 'gormless', 'gornick', 'gorshin', 'gosford', 'gosh', 'gosl', 'gospel', 'gossett', 'gossip', 'goswami', 'got', 'goth', 'gotham', 'gothic', 'gotta', 'gottdog', 'gotten', 'gouald', 'goudurix', 'goug', 'gough', 'gould', 'gourmet', 'gov', 'gover', 'govern', 'government', 'governor', 'govinda', 'gown', 'goy', 'gr88', 'graaf', 'grab', 'grace', 'graci', 'graciou', 'gracious', 'grad', 'grade', 'grader', 'gradual', 'graduat', 'graffiti', 'graham', 'grain', 'grainger', 'graini', 'grainyi', 'gram', 'grammar', 'grammer', 'grammi', 'gramophon', 'gramp', 'grampa', 'gran', 'grand', 'grandchildren', 'granddaught', 'grandest', 'grandfath', 'grandios', 'grandma', 'grandmast', 'grandmoth', 'grandpa', 'grandpar', 'grandson', 'grang', 'granger', 'granni', 'grant', 'grantchest', 'granvil', 'grape', 'graphic', 'grappl', 'grasp', 'grass', 'grasshopp', 'grassi', 'grate', 'gratif', 'gratuati', 'gratuit', 'gratuiti', 'grautvornix', 'grave', 'gravel', 'gravesit', 'graveyard', 'gravita', 'graviti', 'gray', 'grayish', 'grayson', 'graze', 'graziano', 'greas', 'greasi', 'great', 'greater', 'greatest', 'greatli', 'greav', 'grecian', 'greec', 'greed', 'greedi', 'greek', 'greeley', 'green', 'greendal', 'greener', 'greenfinch', 'greenland', 'greenlight', 'greenwood', 'greer', 'greet', 'greg', 'gregori', 'gregson', 'greist', 'gremlin', 'grenad', 'greta', 'grew', 'grey', 'greyfriar', 'grid', 'grieco', 'grief', 'grier', 'griev', 'griff', 'griffin', 'griffith', 'grim', 'grimac', 'grimi', 'grimm', 'grin', 'grinch', 'grinchi', 'grind', 'grinder', 'grindhous', 'grindingli', 'grint', 'grinter', 'grip', 'gripe', 'grisbi', 'grisli', 'grist', 'griswald', 'grit', 'gritti', 'grittier', 'grittiest', 'grizzl', 'groan', 'groceri', 'grodin', 'groenenda', 'grohl', 'gromit', 'groov', 'groovi', 'grope', 'gross', 'grossdeutschland', 'grossest', 'grossli', 'grossout', 'grot', 'grotesqu', 'groucho', 'ground', 'groundbreak', 'groundhog', 'groundwork', 'group', 'grous', 'grove', 'grow', 'grown', 'growth', 'grub', 'grubbi', 'grudg', 'gruel', 'gruell', 'gruesom', 'gruff', 'grumpi', 'grunberg', 'grunt', 'grusin', 'gse', 'gt', 'gu', 'guacamol', 'guadalcan', 'guantanamo', 'guarante', 'guard', 'guardian', 'guardsmen', 'gubra', 'gudalcan', 'guell', 'guerrilla', 'guess', 'guest', 'guetari', 'guevara', 'guffman', 'guid', 'guidanc', 'guignol', 'guil', 'guilt', 'guilti', 'guin', 'guinea', 'guinn', 'guir', 'guis', 'guisepp', 'guitar', 'guitarist', 'guldbagg', 'gulden', 'gulf', 'gullibl', 'gulliv', 'gulp', 'gulpilil', 'gulzar', 'gum', 'gun', 'gunboat', 'gunda', 'gundam', 'gunfight', 'gunfir', 'gung', 'gunga', 'guniea', 'gunman', 'gunmen', 'gunnar', 'gunner', 'gunplay', 'gunpoint', 'gunpowd', 'gunsan', 'gunshot', 'gunsmok', 'gunton', 'gurgl', 'guri', 'guru', 'gush', 'gushi', 'gustafsson', 'gustav', 'gusto', 'gut', 'gutless', 'gutsi', 'guttenberg', 'gutter', 'guttman', 'guy', 'guzzl', 'gwenn', 'gwenyth', 'gwtw', 'gwyneth', 'gwynn', 'gyllenha', 'gym', 'gymkata', 'gymnasium', 'gymnast', 'gynecolog', 'gypo', 'gypsi', 'gyrat', 'gã', 'h2', 'h20', 'h3', 'ha', 'haa', 'hab', 'habit', 'habitat', 'habitu', 'hacienda', 'hack', 'hackbarth', 'hackensack', 'hackenstein', 'hackenstien', 'hacker', 'hackett', 'hackford', 'hackman', 'hackney', 'hadley', 'hadzihalilov', 'haenel', 'haft', 'haggard', 'haggl', 'hagiographi', 'hahahaha', 'hahahahaha', 'hahk', 'haid', 'haig', 'hail', 'hain', 'hair', 'hairbal', 'haircut', 'hairdo', 'hairdress', 'hairi', 'hairspray', 'hairstyl', 'haj', 'haji', 'haka', 'hakuna', 'hal', 'halbert', 'hale', 'halestorm', 'haley', 'half', 'halfway', 'haliburton', 'halicki', 'hall', 'hallelujah', 'hallgren', 'halli', 'hallmark', 'halloran', 'halloween', 'hallucin', 'hallucinatori', 'hallway', 'halmi', 'halperin', 'halprin', 'halt', 'ham', 'hamari', 'hambon', 'hamburg', 'hamfistedli', 'hamil', 'hamilton', 'hamlet', 'hamlin', 'hammer', 'hammett', 'hammi', 'hammond', 'hamper', 'hampton', 'hamstrung', 'han', 'hand', 'handbil', 'handcuf', 'handed', 'handgun', 'handi', 'handicap', 'handkerchief', 'handl', 'handler', 'handpick', 'handsom', 'handsomest', 'handyman', 'hanek', 'hang', 'hanger', 'hangov', 'hank', 'hankerchief', 'hanki', 'hanley', 'hanlon', 'hannib', 'hansen', 'hanson', 'hap', 'haphazard', 'hapless', 'happen', 'happi', 'happier', 'happili', 'haq', 'har', 'hara', 'harald', 'harass', 'harbor', 'harbour', 'hard', 'hardbodi', 'hardcor', 'harddriv', 'harden', 'harder', 'hardest', 'hardesti', 'hardi', 'hardli', 'hardman', 'hardship', 'hardwar', 'hardwick', 'harem', 'hari', 'hark', 'harker', 'harlem', 'harlequin', 'harley', 'harm', 'harman', 'harmless', 'harmoni', 'harold', 'harp', 'harper', 'harpi', 'harpoon', 'harrelson', 'harri', 'harrington', 'harrison', 'harron', 'harrow', 'harryhausen', 'harsh', 'harshli', 'hart', 'hartley', 'hartman', 'hartmann', 'hartnett', 'haruko', 'harvest', 'harvey', 'harwood', 'hasbeen', 'hash', 'hashiguchi', 'hashmi', 'hassan', 'hasselhoff', 'hasten', 'hasti', 'hastili', 'hat', 'hatch', 'hatchet', 'hate', 'hateeeeeeedddd', 'hater', 'hatr', 'hatta', 'hatter', 'haughti', 'haul', 'haunt', 'havana', 'have', 'havent', 'haver', 'havoc', 'haw', 'hawai', 'hawaii', 'hawaiian', 'hawk', 'hawkin', 'hawn', 'hay', 'hayao', 'hayden', 'hayek', 'hayenga', 'hayn', 'haywood', 'hayworth', 'hazard', 'hazel', 'hazzard', 'hbo', 'hd', 'hdtv', 'he', 'head', 'headach', 'headband', 'headboard', 'headli', 'headlight', 'headlin', 'headphon', 'headquart', 'headset', 'headstrong', 'heal', 'heald', 'healer', 'health', 'healthi', 'heani', 'heap', 'hear', 'heard', 'hearken', 'hearn', 'heart', 'heartbeat', 'heartbreak', 'heartbroken', 'heartedli', 'heartfelt', 'hearti', 'heartili', 'heartless', 'heartstop', 'heartwarm', 'heat', 'heath', 'heather', 'heathrow', 'heaven', 'heavenli', 'heavi', 'heavili', 'heavyweight', 'heck', 'heckl', 'hectic', 'hedeman', 'heder', 'hedg', 'hedi', 'hedon', 'hee', 'heean', 'heed', 'heel', 'heenan', 'heffern', 'heffernan', 'heflin', 'heh', 'hehe', 'heheh', 'height', 'heighten', 'heigl', 'heimat', 'heinkel', 'heinou', 'heir', 'heiress', 'heist', 'held', 'helen', 'helicopt', 'hell', 'hella', 'hellbent', 'hellbound', 'heller', 'hellhol', 'hellion', 'hellish', 'hello', 'hellooooo', 'hellrais', 'helm', 'helmer', 'helmet', 'help', 'helper', 'helpless', 'helplessli', 'hels', 'hemispher', 'hemolyt', 'hemsley', 'henc', 'henchman', 'henchmen', 'henderson', 'hendrick', 'henni', 'henri', 'henriksen', 'hensema', 'hensen', 'hensley', 'henson', 'henstridg', 'hep', 'hepburn', 'hepitita', 'her', 'hera', 'herald', 'herapheri', 'herb', 'herbert', 'herbi', 'hercul', 'herd', 'hereditari', 'herein', 'heresi', 'heret', 'heritag', 'herman', 'hermann', 'hermaphrodit', 'hermin', 'hernandez', 'hero', 'heroic', 'heroin', 'heroism', 'herp', 'herrmann', 'hershel', 'hershey', 'hersholt', 'herzegowina', 'herzog', 'hesh', 'hesit', 'hess', 'hesseman', 'hessmann', 'heston', 'heterarch', 'hetero', 'heterosexu', 'heusein', 'hex', 'hey', 'heyday', 'hg', 'hh', 'hi', 'hiassen', 'hiccup', 'hick', 'hickman', 'hickock', 'hickox', 'hickson', 'hicksvil', 'hid', 'hidden', 'hide', 'hideaway', 'hideo', 'hideou', 'hideous', 'hierarch', 'hieroglyph', 'higashi', 'higgin', 'higginson', 'high', 'highbrow', 'higher', 'highest', 'highland', 'highli', 'highlight', 'highpoint', 'highsmith', 'hight', 'highwat', 'highway', 'higson', 'hijack', 'hike', 'hiker', 'hilar', 'hilarai', 'hilari', 'hill', 'hillari', 'hillbilli', 'hillsid', 'hillybilli', 'hillyer', 'hilt', 'hilton', 'himalaya', 'himalayan', 'himesh', 'hinckley', 'hindi', 'hindranc', 'hindsight', 'hine', 'hing', 'hingl', 'hint', 'hip', 'hiphop', 'hippest', 'hippi', 'hippo', 'hire', 'hiroki', 'hiromi', 'hiroshima', 'hiroshina', 'hirsch', 'hirsh', 'hispan', 'hiss', 'hisself', 'hissi', 'histor', 'histori', 'historian', 'historyâ', 'histrion', 'hit', 'hitch', 'hitchcock', 'hitchcockian', 'hitchcok', 'hitcher', 'hitchhik', 'hither', 'hitler', 'hitlerian', 'hitman', 'hitter', 'hitwoman', 'hiyoo', 'hk', 'hl', 'hm', 'hmm', 'hmmm', 'ho', 'hoard', 'hoax', 'hobart', 'hobbi', 'hobbit', 'hobgoblin', 'hobson', 'hoc', 'hock', 'hockey', 'hockley', 'hodder', 'hodg', 'hodgepodg', 'hoe', 'hoek', 'hoffman', 'hogan', 'hogg', 'hogwash', 'hoist', 'hoiti', 'hoke', 'hokey', 'hokum', 'hol', 'holbrook', 'hold', 'holden', 'holdridg', 'hole', 'holi', 'holiday', 'holland', 'holler', 'holli', 'holliman', 'hollist', 'hollow', 'hollyweird', 'hollywood', 'hollywoodian', 'hollywoodish', 'hollywoodland', 'holm', 'holo', 'holocaust', 'holoubek', 'holt', 'holten', 'homag', 'hombr', 'home', 'homeless', 'homem', 'homemad', 'homer', 'homesick', 'homespun', 'hometown', 'homeward', 'homework', 'homewreck', 'homicid', 'hommag', 'homo', 'homoerot', 'homoerotic', 'homogen', 'homophob', 'homophobia', 'homosexu', 'homunculi', 'honcho', 'honda', 'honest', 'honesti', 'honestli', 'honey', 'honeymoon', 'hong', 'honk', 'honki', 'honor', 'honorari', 'honour', 'hoo', 'hood', 'hoodlum', 'hoof', 'hook', 'hooker', 'hookup', 'hooligan', 'hoop', 'hooper', 'hoosier', 'hoot', 'hooter', 'hop', 'hope', 'hopeless', 'hopelessli', 'hopkin', 'hoplit', 'hopper', 'hoppiti', 'hord', 'horehound', 'horizon', 'hormon', 'horn', 'hornbi', 'horner', 'horni', 'horrend', 'horribl', 'horrid', 'horrif', 'horrifi', 'horrifyingli', 'horrigan', 'horror', 'horrormovi', 'hors', 'horseback', 'horsecoach4hir', 'horsefli', 'horseman', 'horsepow', 'horton', 'horu', 'hose', 'hospit', 'hospitalis', 'host', 'hostag', 'hostel', 'hostil', 'hot', 'hotel', 'hoteli', 'hotli', 'hotmail', 'hotrod', 'hotter', 'hottest', 'hound', 'hour', 'hourâ', 'hous', 'housefli', 'household', 'housekeep', 'housew', 'housewif', 'houston', 'hover', 'how', 'howard', 'howe', 'howel', 'howev', 'howl', 'howler', 'howlingli', 'howz', 'hoyberg', 'hp', 'hq', 'hr', 'hsiao', 'hssh', 'htm', 'http', 'huband', 'hubbi', 'hubert', 'huddleston', 'hudson', 'hue', 'huey', 'hug', 'huge', 'hugh', 'hugo', 'huh', 'hui', 'huit', 'hujan', 'hula', 'hulc', 'huldr', 'hulk', 'hum', 'human', 'humanis', 'humanit', 'humankind', 'humanli', 'humanoid', 'humanâ', 'humbl', 'humbug', 'humdrum', 'hume', 'humil', 'humili', 'humm', 'hummi', 'humor', 'humour', 'humourless', 'humperdink', 'humphrey', 'humpti', 'hunch', 'hundr', 'hundstag', 'hung', 'hungari', 'hungarian', 'hungri', 'hunh', 'hunk', 'hunki', 'hunt', 'hunter', 'huppert', 'hur', 'hurd', 'hurl', 'hurli', 'hurri', 'hurrican', 'hurriedli', 'hurst', 'hurt', 'hurtl', 'husband', 'hush', 'husk', 'hussar', 'hussein', 'hustl', 'hustler', 'huston', 'hutch', 'huzzah', 'huãªt', 'hwd', 'hyborian', 'hybrid', 'hyde', 'hydrogen', 'hye', 'hyeong', 'hyer', 'hymn', 'hype', 'hyper', 'hyperact', 'hyperbol', 'hypercub', 'hyperspac', 'hypest', 'hypnot', 'hypnotis', 'hypnotist', 'hypocrisi', 'hypocrit', 'hypotherm', 'hypothermia', 'hypothet', 'hyroglyph', 'hyster', 'hysteria', 'hyung', 'iamaseal2', 'iambic', 'ian', 'ibiza', 'ic', 'ice', 'iceberg', 'icf', 'ici', 'ick', 'icki', 'icon', 'id', 'ida', 'idaho', 'idea', 'ideal', 'idealist', 'ideat', 'ident', 'identif', 'identifi', 'ideolog', 'idioc', 'idioci', 'idiosi', 'idiosyncrasi', 'idiosyncrat', 'idiot', 'idiotern', 'idl', 'idol', 'idolis', 'idyl', 'ie', 'ifan', 'ifc', 'iff', 'iglesia', 'ignit', 'ignor', 'igor', 'iguana', 'ii', 'iii', 'iijima', 'iilana', 'ikea', 'il', 'ill', 'illeg', 'illegitim', 'illicit', 'illiter', 'illiteraci', 'illog', 'illumin', 'illuminati', 'illus', 'illusionist', 'illustr', 'illustri', 'ilona', 'ilu', 'ilyena', 'im', 'imag', 'imageri', 'imagin', 'imaginari', 'imax', 'imbecil', 'imbib', 'imbu', 'imdb', 'imelda', 'imf', 'imho', 'imhotep', 'imit', 'immacul', 'immateri', 'immatur', 'immedi', 'immediaci', 'immens', 'immers', 'immigr', 'immin', 'immol', 'immort', 'immun', 'imo', 'imovi', 'impact', 'impal', 'impart', 'imparti', 'impass', 'impati', 'impecc', 'impedi', 'impend', 'imperfect', 'imperi', 'imperil', 'imperson', 'impervi', 'impetu', 'imping', 'implac', 'implant', 'implaus', 'impli', 'implic', 'implod', 'implor', 'implos', 'imploy', 'import', 'importantli', 'impos', 'imposit', 'imposs', 'impostor', 'impot', 'impract', 'impregn', 'impresario', 'impress', 'impression', 'impressionist', 'imprest', 'imprison', 'improb', 'improp', 'improv', 'improvis', 'impud', 'impuls', 'imput', 'impã', 'in', 'inabl', 'inaccur', 'inaccuraci', 'inadequ', 'inadequaci', 'inadvert', 'inan', 'inanim', 'inappropri', 'inarritu', 'inarticul', 'inattent', 'inaud', 'inauspici', 'inauthent', 'inbetween', 'inbr', 'incandesc', 'incap', 'incapacit', 'incarcer', 'incarn', 'incauto', 'incent', 'incept', 'incessantli', 'incest', 'inch', 'incid', 'incident', 'incit', 'inclin', 'includ', 'inclus', 'incoher', 'incom', 'incompar', 'incompassion', 'incompet', 'incomplet', 'incomprehens', 'inconclus', 'incongru', 'inconsequenti', 'inconsist', 'incorpor', 'incorrect', 'incorrectli', 'increas', 'increasingli', 'incred', 'incredul', 'increment', 'incrimin', 'incuri', 'inde', 'indecipher', 'indefatig', 'indefinit', 'indemn', 'indendo', 'independ', 'indescrib', 'indestruct', 'indi', 'india', 'indian', 'indiana', 'indic', 'indict', 'indiffer', 'indign', 'indira', 'indiscern', 'indiscreet', 'indiscret', 'indiscrimin', 'indistinct', 'indistinguish', 'individu', 'indoctrin', 'indonesian', 'indoor', 'indra', 'induc', 'indulg', 'industri', 'ine', 'inebri', 'ineff', 'ineffect', 'ineffectu', 'ineleg', 'inept', 'ineptitud', 'inequ', 'inert', 'inescap', 'inevit', 'inexcus', 'inexhaust', 'inexperienc', 'inexplic', 'inextric', 'infam', 'infanc', 'infant', 'infantil', 'infantilis', 'infatu', 'infect', 'infecti', 'infer', 'inferior', 'inferno', 'infest', 'infidel', 'infin', 'infinit', 'infinitum', 'inflex', 'inflict', 'influenc', 'influenti', 'info', 'inform', 'infract', 'infring', 'infront', 'infuri', 'infus', 'ing', 'ingeni', 'ingenu', 'inglori', 'ingmar', 'ingrati', 'ingredi', 'ingrid', 'ingã', 'inhabit', 'inhal', 'inher', 'inherit', 'inhibit', 'inhuman', 'inimit', 'initi', 'inject', 'injun', 'injur', 'injuri', 'injustic', 'ink', 'inkl', 'inman', 'inmat', 'inmpuls', 'innappropri', 'innard', 'innat', 'inner', 'innermost', 'inning', 'innoc', 'innocencebut', 'innocu', 'innov', 'innuendo', 'innumer', 'inoffens', 'inom', 'inordin', 'input', 'inquisit', 'insan', 'inscrut', 'insect', 'insecur', 'insensit', 'insepar', 'insert', 'insid', 'insight', 'insignific', 'insinu', 'insipid', 'insipidli', 'insist', 'insle', 'insomnia', 'insomniac', 'insomniat', 'inspect', 'inspector', 'inspir', 'instabl', 'instal', 'instanc', 'instant', 'instantli', 'instead', 'instig', 'instil', 'instinct', 'instinctu', 'institut', 'institution', 'institutionalis', 'instruct', 'instrument', 'insuffer', 'insul', 'insult', 'insur', 'insurg', 'insurrect', 'int', 'intact', 'integr', 'intellect', 'intellectu', 'intelleg', 'intellig', 'intend', 'intens', 'intensifi', 'intensli', 'intent', 'inter', 'interact', 'interced', 'intercept', 'interchang', 'intercut', 'interest', 'interestingli', 'interfer', 'intergalact', 'interior', 'interject', 'interlud', 'intermin', 'intermiss', 'intermitt', 'intern', 'internet', 'interperson', 'interplay', 'interpol', 'interpret', 'interraci', 'interrelationship', 'interrog', 'interrupt', 'interspers', 'interst', 'intertitl', 'intertwin', 'interv', 'interven', 'intervent', 'interview', 'interwoven', 'intim', 'intimaci', 'intimid', 'intoler', 'inton', 'intox', 'intrepid', 'intric', 'intricaci', 'intrigu', 'intrins', 'intro', 'introduc', 'introduct', 'introspect', 'intru', 'intrud', 'intruig', 'intrus', 'intstoryid', 'inund', 'inuyasha', 'invad', 'invalid', 'invalu', 'invari', 'invas', 'invat', 'invent', 'inventor', 'inventori', 'invers', 'invert', 'invest', 'investig', 'invinc', 'invis', 'invisã', 'invit', 'invok', 'involuntari', 'involut', 'involv', 'inwardli', 'ion', 'ionesco', 'iowa', 'ip', 'iq', 'ir', 'ira', 'iranian', 'iraq', 'iraqi', 'ireland', 'iren', 'iri', 'irish', 'irishman', 'irishmen', 'irk', 'irksom', 'iron', 'ironi', 'ironsid', 'irrat', 'irredeem', 'irrelev', 'irreligi', 'irresist', 'irrespons', 'irrever', 'irrevers', 'irrit', 'irv', 'irwin', 'irã', 'isaac', 'isabel', 'isak', 'ish', 'ishkanani', 'ishtar', 'isiah', 'islam', 'island', 'ism', 'isol', 'isra', 'israel', 'isreali', 'issu', 'istanbul', 'itali', 'italia', 'italian', 'italianpseudo', 'italic', 'itch', 'item', 'ito', 'itti', 'ittttt', 'itud', 'itâ', 'iv', 'iva', 'ivan', 'ivanna', 'ive', 'ivi', 'ivor', 'ivori', 'izumo', 'iâ', 'iã', 'ja', 'jab', 'jabba', 'jabber', 'jack', 'jacka', 'jackal', 'jackass', 'jacket', 'jackhamm', 'jacki', 'jackman', 'jackon', 'jackpot', 'jackson', 'jacob', 'jacobi', 'jacobit', 'jacobson', 'jacqu', 'jacquelin', 'jada', 'jade', 'jaeckel', 'jaffa', 'jafri', 'jagdeep', 'jagger', 'jaid', 'jail', 'jaipur', 'jaja', 'jakarta', 'jake', 'jam', 'jame', 'jami', 'jan', 'jane', 'janean', 'janel', 'janetti', 'janic', 'janitor', 'jano', 'jansen', 'januari', 'jap', 'japan', 'japanes', 'japoteur', 'jar', 'jarhead', 'jarman', 'jarmusch', 'jason', 'jasper', 'jaum', 'jaundic', 'jaunti', 'javier', 'jaw', 'jay', 'jayaraj', 'jayn', 'jazz', 'jazzi', 'jb', 'jd', 'je', 'jealou', 'jealousi', 'jean', 'jeani', 'jeann', 'jeannet', 'jeanni', 'jedi', 'jeeper', 'jeer', 'jeez', 'jeff', 'jefferi', 'jefferson', 'jeffrey', 'jeffri', 'jehovah', 'jekyl', 'jell', 'jellinek', 'jello', 'jembã', 'jemison', 'jen', 'jenkin', 'jenni', 'jennif', 'jenniferb', 'jeon', 'jeopard', 'jeopardi', 'jeremi', 'jerk', 'jerker', 'jerki', 'jerom', 'jerri', 'jersey', 'jerusalem', 'jess', 'jessi', 'jessica', 'jest', 'jester', 'jesu', 'jet', 'jeter', 'jetson', 'jettison', 'jeu', 'jeunet', 'jeux', 'jew', 'jewel', 'jewelri', 'jewish', 'jewison', 'jezebel', 'jfk', 'ji', 'jiang', 'jibe', 'jiggl', 'jigsaw', 'jill', 'jilt', 'jim', 'jimmi', 'jin', 'jindabyn', 'jing', 'jinx', 'jitteri', 'jive', 'jj', 'jm', 'jo', 'joan', 'joann', 'joanna', 'joaquim', 'joaquin', 'job', 'jobbi', 'jock', 'jockey', 'jodhi', 'jodi', 'jodorowski', 'joe', 'joefro', 'joel', 'joergen', 'joey', 'jog', 'johann', 'johanna', 'johansson', 'john', 'johni', 'johnni', 'johnson', 'joi', 'joie', 'join', 'joint', 'joji', 'jojo', 'joke', 'joker', 'jokest', 'joli', 'jolin', 'jolli', 'jolson', 'jolt', 'jon', 'jona', 'jonathan', 'jone', 'jordan', 'jordanian', 'joscelyn', 'jose', 'joseph', 'josephu', 'josh', 'joshua', 'joshuatre', 'joslyn', 'joss', 'jostl', 'josã', 'jot', 'jourdan', 'journal', 'journalist', 'journey', 'journo', 'jovi', 'jowli', 'joy', 'joyc', 'joyless', 'joyou', 'joã', 'jr', 'jtcellphon', 'ju', 'juan', 'judd', 'jude', 'judg', 'judgment', 'judi', 'judith', 'judson', 'jugd', 'jugg', 'juggl', 'juhi', 'juic', 'juici', 'jule', 'juli', 'julia', 'julian', 'juliann', 'juliet', 'juliett', 'julio', 'juliu', 'jumbl', 'jumbo', 'jump', 'jumper', 'jumpi', 'jumpsuit', 'jun', 'june', 'jung', 'jungl', 'junior', 'junk', 'junki', 'junkyard', 'junta', 'jupit', 'jurass', 'juri', 'juror', 'justforkix', 'justic', 'justif', 'justifi', 'justin', 'justli', 'jut', 'juvenil', 'juxtapos', 'juxtaposit', 'jyothika', 'jã', 'jã¼rgen', 'kablooey', 'kabuki', 'kabul', 'kadosh', 'kael', 'kafka', 'kafkaesqu', 'kafkanian', 'kagom', 'kai', 'kak', 'kaley', 'kali', 'kalidor', 'kamal', 'kampala', 'kampf', 'kampung', 'kanakared', 'kane', 'kaneshiro', 'kanin', 'kansa', 'kant', 'kanti', 'kaplan', 'kapoor', 'kaput', 'kar', 'kara', 'karamazov', 'karaok', 'karat', 'kareena', 'karel', 'karen', 'kari', 'karin', 'karishma', 'karl', 'karla', 'karloff', 'karmic', 'kart', 'kashmir', 'kasi', 'kat', 'katanga', 'kate', 'kath', 'katharin', 'katharina', 'katherin', 'kathi', 'kathleen', 'kathryn', 'kati', 'katona', 'katsopoli', 'katt', 'kattan', 'katzman', 'kaufman', 'kaurismã', 'kavanagh', 'kay', 'kaya', 'kayo', 'kaza', 'kazan', 'kazuko', 'kazushig', 'kazzam', 'ke', 'keach', 'keanu', 'keat', 'keaton', 'keef', 'keehn', 'keeler', 'keeley', 'keen', 'keenan', 'keener', 'keenli', 'keep', 'keeper', 'keerthana', 'keg', 'keir', 'keira', 'keitel', 'keith', 'kel', 'kellerman', 'kelli', 'kelsey', 'kelso', 'kemp', 'ken', 'kenan', 'kennedi', 'kennel', 'kenneth', 'kent', 'kentucki', 'kenyatta', 'keppel', 'kept', 'kerchief', 'kermit', 'kerosin', 'kerr', 'kerri', 'kersey', 'kershaw', 'kerwin', 'kessler', 'kevin', 'key', 'keyboard', 'keyboardist', 'keyword', 'kg', 'kgb', 'khan', 'khari', 'khouri', 'ki', 'kibbe', 'kick', 'kickbox', 'kid', 'kidd', 'kiddi', 'kidman', 'kidnap', 'kidnapp', 'kidnappingâ', 'kiedi', 'kiefer', 'kieslowski', 'kil', 'kilbourn', 'kilgor', 'kill', 'killearn', 'killer', 'killjoy', 'kilmer', 'kilt', 'kilter', 'kim', 'kimbel', 'kimi', 'kin', 'kinbot', 'kind', 'kinda', 'kinder', 'kindergarten', 'kindest', 'kindli', 'kine', 'kinet', 'king', 'kingdom', 'kingpin', 'kingsley', 'kinjit', 'kinki', 'kinnear', 'kino', 'kinshasa', 'kinski', 'kinsman', 'kint', 'kipl', 'kipp', 'kirk', 'kirov', 'kisnki', 'kiss', 'kit', 'kitamura', 'kitano', 'kitch', 'kitchen', 'kite', 'kitten', 'kizh', 'kkk', 'klan', 'klara', 'klaski', 'klau', 'klaus', 'kleenex', 'klein', 'kleptomaniac', 'klimov', 'kline', 'klugman', 'klutzi', 'klux', 'knack', 'knapsack', 'knautz', 'knee', 'kneel', 'knew', 'knife', 'knight', 'knightley', 'knit', 'knock', 'knockoff', 'knockout', 'knot', 'knott', 'know', 'knowingli', 'knowledg', 'known', 'knox', 'knoxvil', 'knuckl', 'kobold', 'kodiak', 'koenig', 'kogan', 'kohala', 'kohner', 'kohut', 'koichi', 'koirala', 'koko', 'kolb', 'kolchak', 'kollek', 'kolpa', 'kolya', 'kombat', 'komodo', 'kondova', 'kong', 'kongwon', 'konkona', 'kook', 'kooki', 'kool', 'kopin', 'koran', 'korea', 'korean', 'koresh', 'koster', 'kotero', 'kotter', 'kotto', 'kovac', 'koyannisquatsi', 'krabappel', 'krabb', 'krabbã', 'krajnc', 'kralik', 'kramer', 'krantz', 'krasna', 'kri', 'kripsi', 'krishna', 'kristen', 'kristi', 'kristin', 'krueger', 'krull', 'krzysztof', 'ktma', 'ku', 'kubrick', 'kudo', 'kudoh', 'kudrow', 'kuhn', 'kumar', 'kung', 'kuni', 'kuroda', 'kurt', 'kurtz', 'kutcher', 'kuzco', 'kuzh', 'kwan', 'kwon', 'kwouk', 'kyeong', 'kyle', 'kyoto', 'kyrano', 'kyser', 'kyu', 'la', 'lab', 'label', 'labeouf', 'labor', 'laboratori', 'labori', 'labour', 'labraccio', 'labut', 'labyrinth', 'labyrinthian', 'labyrinthin', 'lace', 'lacey', 'laci', 'lack', 'lackey', 'lacki', 'lacklust', 'lacklustr', 'lacon', 'lad', 'ladder', 'laden', 'ladi', 'ladyfriend', 'ladykil', 'ladylov', 'ladysmith', 'laert', 'lag', 'lage', 'lagoon', 'lai', 'laid', 'lain', 'lair', 'lait', 'lake', 'lakesid', 'lakshya', 'lalla', 'lalo', 'lam', 'lamarr', 'lambast', 'lambert', 'lamberto', 'lame', 'lament', 'lamer', 'lamest', 'lamma', 'lamont', 'lamour', 'lamp', 'lampoon', 'lan', 'lanc', 'lancast', 'lancia', 'land', 'landa', 'landau', 'landi', 'landladi', 'landlord', 'landmark', 'landown', 'landscap', 'lane', 'lang', 'langa', 'langdon', 'languag', 'languor', 'lanka', 'lansburi', 'lantana', 'lantern', 'lap', 'laps', 'laptop', 'lar', 'lara', 'lard', 'lardass', 'larg', 'larger', 'largest', 'largo', 'larisa', 'lark', 'larki', 'laroch', 'larri', 'larsen', 'larva', 'larz', 'lascivi', 'laser', 'laserblast', 'laserdisc', 'lash', 'lass', 'lassal', 'lasser', 'lasset', 'lassi', 'last', 'lastli', 'latch', 'late', 'later', 'latest', 'latex', 'latham', 'lathan', 'latin', 'latino', 'latshaw', 'latt', 'latter', 'laud', 'laudenbach', 'lauderdal', 'laugh', 'laughabl', 'laughingli', 'laught', 'laughter', 'laughworthi', 'launch', 'launder', 'laundri', 'laupta', 'laur', 'laura', 'laurel', 'lauren', 'laurenc', 'laurent', 'lauri', 'lautrec', 'lava', 'lavinia', 'lavish', 'law', 'lawgiv', 'lawless', 'lawn', 'lawrenc', 'lawson', 'lawsuit', 'lawton', 'lawyer', 'lawyerli', 'lax', 'lay', 'layabout', 'layer', 'laynard', 'layout', 'layrac', 'lazaru', 'laze', 'lazi', 'lb', 'ld', 'le', 'lea', 'leachman', 'lead', 'leader', 'leadership', 'leaf', 'leafi', 'leagu', 'leah', 'leak', 'lean', 'leap', 'lear', 'leari', 'learn', 'learner', 'learnt', 'leas', 'least', 'leather', 'leatherfac', 'leav', 'lecarr', 'lectur', 'led', 'ledbett', 'ledger', 'lee', 'leeson', 'left', 'leftist', 'leftov', 'leg', 'legaci', 'legal', 'legalist', 'legd', 'legend', 'legendari', 'legion', 'legionnair', 'legit', 'legitim', 'legitimaci', 'lego', 'leguizamo', 'lehar', 'leia', 'leigh', 'leiji', 'leisur', 'leitmotif', 'lejano', 'leland', 'lemmon', 'lemon', 'len', 'lena', 'lend', 'length', 'lengthi', 'leninist', 'lenni', 'lennier', 'lennon', 'leno', 'lens', 'lensman', 'lent', 'leo', 'leon', 'leonard', 'leonardo', 'leong', 'leoni', 'leopard', 'leopold', 'leotard', 'lepord', 'leprechaun', 'leprosi', 'lerner', 'leroy', 'lesaffr', 'lesbian', 'lesli', 'less', 'lessen', 'lesser', 'lesson', 'lessor', 'lestat', 'lester', 'let', 'letdown', 'lethal', 'letharg', 'letourneau', 'letter', 'letterbox', 'letâ', 'levant', 'level', 'leven', 'levenstein', 'lever', 'leverag', 'levi', 'levinson', 'lew', 'lewbowski', 'lewd', 'lewi', 'lewton', 'lex', 'lez', 'li', 'liam', 'liang', 'liar', 'lib', 'libbi', 'liber', 'liberac', 'liberti', 'libeskind', 'libido', 'librari', 'librarian', 'licens', 'lick', 'lid', 'lie', 'liebman', 'lieuten', 'life', 'lifeboat', 'lifeless', 'lifelik', 'lifelong', 'lifestyl', 'lifetim', 'lift', 'light', 'lighten', 'lighter', 'lightheart', 'lighthous', 'lightli', 'lightn', 'lightner', 'lightsab', 'lightweight', 'likabl', 'like', 'likeabl', 'likelihood', 'liken', 'likewis', 'lil', 'lila', 'lili', 'lilith', 'lilli', 'lillian', 'limb', 'lime', 'limit', 'limitless', 'limn', 'limo', 'limp', 'limpli', 'lin', 'lincoln', 'linda', 'lindbergh', 'lindo', 'lindsay', 'lindsey', 'line', 'lineag', 'linear', 'linen', 'liner', 'lineup', 'lingenberri', 'linger', 'lingo', 'linguist', 'link', 'linnea', 'linnet', 'linney', 'lion', 'lionel', 'liotta', 'lip', 'lipson', 'lipstick', 'lipsync', 'liquid', 'liquor', 'lisa', 'lise', 'lisi', 'list', 'listen', 'lister', 'listless', 'lit', 'litani', 'lite', 'liter', 'literari', 'literatur', 'litin', 'litter', 'littl', 'littlesearch', 'litvak', 'liu', 'liv', 'live', 'liveli', 'livelihood', 'livelyâ', 'liven', 'liverpool', 'livingston', 'lix', 'liz', 'liza', 'lizard', 'lize', 'lizzi', 'liâ', 'lleyweln', 'lloyd', 'lo', 'loach', 'load', 'loaf', 'loafer', 'loan', 'loath', 'loathsom', 'lobbi', 'lobotom', 'local', 'locat', 'lochley', 'lock', 'locker', 'lockley', 'locomot', 'lodg', 'lodger', 'lodi', 'lodz', 'loft', 'lofti', 'log', 'logan', 'loggia', 'logic', 'logo', 'loha', 'lohan', 'loi', 'lol', 'lola', 'lollipop', 'lombard', 'lombardiesqu', 'lommel', 'lon', 'londo', 'london', 'lone', 'loneli', 'loner', 'lonesom', 'lonett', 'long', 'longeneck', 'longer', 'longest', 'longfellow', 'longoria', 'longtim', 'loof', 'look', 'lookalik', 'lookin', 'lookout', 'loom', 'loomi', 'loon', 'looney', 'looni', 'loooong', 'loop', 'loos', 'loosen', 'loot', 'lopez', 'lord', 'lore', 'loren', 'loretta', 'lori', 'loriga', 'lorn', 'lorna', 'lorr', 'lorrain', 'lose', 'loser', 'loss', 'lost', 'lot', 'lothario', 'lotr', 'lotsa', 'lotta', 'lotteri', 'lotu', 'lou', 'louch', 'loud', 'louder', 'loudest', 'loudli', 'loudon', 'loui', 'louie', 'louis', 'louisiana', 'louisianna', 'loulou', 'loup', 'louqu', 'lousi', 'lousier', 'lout', 'lovabl', 'love', 'loveabl', 'lovebird', 'lovejoy', 'lovelac', 'loveless', 'loveli', 'lovemak', 'lover', 'lovett', 'lovingli', 'low', 'lowbal', 'lowbrow', 'lowel', 'lower', 'lowest', 'lowli', 'loy', 'loyal', 'loyalti', 'lp', 'lq', 'lt', 'lube', 'lubitsch', 'lubtchanski', 'luc', 'luca', 'lucasart', 'luchino', 'luci', 'lucia', 'lucian', 'luciana', 'lucienn', 'lucil', 'lucinenn', 'lucio', 'luck', 'lucki', 'luckiest', 'luckili', 'luckless', 'ludicr', 'ludlum', 'luggag', 'lugosi', 'luhrmann', 'lui', 'luigi', 'luis', 'luke', 'lukewarm', 'lull', 'lullabi', 'lulu', 'lumber', 'lumet', 'lumier', 'lumin', 'luminos', 'lump', 'lumumba', 'luna', 'lunaci', 'lunar', 'lunat', 'lunch', 'luncheon', 'lunchroom', 'lundgren', 'lung', 'lunk', 'lupino', 'lupon', 'luppi', 'luqu', 'lurch', 'lure', 'lurid', 'lurk', 'lush', 'lusitania', 'lust', 'luster', 'luther', 'lutheran', 'luthor', 'lutt', 'lutz', 'luv', 'luxembourg', 'luxuri', 'luzhin', 'ly', 'lycanthrop', 'lyle', 'lyman', 'lynch', 'lyndeck', 'lyne', 'lynn', 'lyon', 'lyric', 'lyta', 'lyudmila', 'lã', 'maa', 'maal', 'mabel', 'mac', 'macabr', 'macarri', 'macaulay', 'macbeth', 'maccay', 'macchesney', 'macchio', 'maccullum', 'macdonald', 'macdowel', 'macedonia', 'macek', 'mach', 'machesney', 'machet', 'machiavellian', 'machin', 'machineri', 'machismo', 'macho', 'maci', 'maciara', 'macinn', 'mack', 'mackenna', 'mackenzi', 'mackintosh', 'maclain', 'macmahon', 'macmurray', 'macnicol', 'macpherson', 'macro', 'macross', 'mad', 'madcat', 'madden', 'maddi', 'maddin', 'made', 'madelein', 'madg', 'madhavan', 'madigan', 'madison', 'madli', 'madman', 'madmen', 'madonna', 'madrid', 'madsen', 'madtv', 'mae', 'maestro', 'mafia', 'mafioso', 'mag', 'magazin', 'magdelena', 'maggi', 'maggot', 'magic', 'magician', 'magillicutti', 'magnani', 'magnet', 'magnific', 'magnitud', 'magnolia', 'magoo', 'maguir', 'mah', 'mahan', 'mahatma', 'mahkmalbaf', 'mahler', 'mahmut', 'mai', 'maiden', 'mail', 'main', 'mainland', 'mainli', 'mainstay', 'mainstream', 'maintain', 'maitland', 'maiz', 'majest', 'majesti', 'major', 'majorli', 'mak', 'make', 'makepeac', 'maker', 'makeshift', 'makeup', 'makinen', 'mal', 'mala', 'malais', 'malaria', 'malaysia', 'malaysian', 'malco', 'malcolm', 'malden', 'malder', 'male', 'maledett', 'mali', 'malibu', 'malick', 'malign', 'maling', 'malkovich', 'mall', 'malley', 'malo', 'malon', 'maltin', 'malvolio', 'malã', 'mama', 'mamain', 'mambazo', 'mambo', 'mamet', 'mamma', 'mammarian', 'mammoth', 'mamoulian', 'man', 'manag', 'manchu', 'manchurian', 'mancoy', 'mancuso', 'mandatori', 'mandel', 'mandi', 'mandinga', 'mandingo', 'maneuv', 'manga', 'manger', 'mangl', 'mango', 'manhandl', 'manhattan', 'manhatten', 'manhood', 'manhunt', 'mani', 'mania', 'maniac', 'manic', 'manica', 'manicotti', 'manifest', 'manifesto', 'manigot', 'manim', 'manipul', 'manisha', 'mankind', 'manley', 'manli', 'mann', 'manna', 'mannequin', 'manner', 'mannerâ', 'manni', 'mano', 'manoeuvr', 'mansion', 'manslaught', 'manson', 'mantan', 'mantegna', 'manti', 'mantl', 'mantra', 'manual', 'manuel', 'manur', 'manuscript', 'maoist', 'maori', 'map', 'mar', 'mara', 'marbl', 'marc', 'marcel', 'marcello', 'marcellu', 'march', 'marchand', 'marcu', 'marcuzzo', 'marengi', 'marg', 'margaret', 'margarita', 'margera', 'margi', 'margin', 'marginalis', 'margo', 'margret', 'marguerit', 'mari', 'maria', 'mariah', 'marijuana', 'marilyn', 'marin', 'mario', 'marion', 'marisa', 'marit', 'mark', 'marker', 'market', 'marki', 'markov', 'marksman', 'marle', 'marlen', 'marley', 'marlin', 'marlon', 'marlow', 'maroccan', 'marolla', 'maropi', 'marpl', 'marque', 'marqui', 'marri', 'marriag', 'marseil', 'marsh', 'marsha', 'marshal', 'marshmallow', 'marsillach', 'mart', 'marta', 'martel', 'martha', 'marti', 'martial', 'martian', 'martin', 'martindal', 'martinez', 'martino', 'martyrdom', 'marvel', 'marvin', 'marx', 'marxist', 'maryland', 'maryle', 'masak', 'mascot', 'masculin', 'mash', 'masillach', 'mask', 'masoch', 'masochist', 'mason', 'masquerad', 'mass', 'massachusset', 'massacr', 'massag', 'massey', 'massiah', 'massimiliano', 'massimo', 'massiv', 'masssacr', 'mast', 'masten', 'master', 'masteri', 'mastermind', 'masterpiec', 'masterson', 'mastroianni', 'masturb', 'mat', 'mata', 'matador', 'matata', 'match', 'matchbox', 'matchless', 'mate', 'matei', 'mater', 'materi', 'materialist', 'matern', 'matey', 'math', 'mathemat', 'mathematician', 'matinã', 'matlin', 'matlock', 'matrix', 'matronli', 'matsumoto', 'matt', 'matter', 'matthau', 'matthew', 'matthia', 'matti', 'matur', 'matuschek', 'matuzak', 'matã', 'maud', 'maudlin', 'maupass', 'mauric', 'mausoleum', 'maven', 'maverick', 'max', 'maxim', 'maximilian', 'maximum', 'may', 'maya', 'mayal', 'mayan', 'mayb', 'mayer', 'mayhem', 'mayn', 'mayor', 'mayweath', 'mazda', 'maze', 'mazello', 'mazovia', 'mbarrass', 'mbv', 'mc', 'mcallist', 'mcbeak', 'mcbo', 'mcbride', 'mccain', 'mccall', 'mccann', 'mccarthi', 'mcclane', 'mcclaren', 'mcclure', 'mcconaughey', 'mccool', 'mccormack', 'mccormick', 'mccrae', 'mccurdi', 'mcdoak', 'mcdonald', 'mcdowel', 'mcduck', 'mcelhon', 'mcfarlan', 'mcgavin', 'mcgee', 'mcghehey', 'mcgilli', 'mcgovern', 'mcgregor', 'mcguir', 'mchmaon', 'mchugh', 'mcintir', 'mckay', 'mckee', 'mckellen', 'mckenna', 'mckimson', 'mckinney', 'mclaglen', 'mclean', 'mclellan', 'mcmahon', 'mcmartin', 'mcmaster', 'mcmovi', 'mcmurti', 'mcmurtri', 'mcmusicnot', 'mcneali', 'mcquack', 'mcquad', 'mcqueen', 'mcshane', 'mcteer', 'md', 'mdogg', 'mdogg20', 'meadow', 'meager', 'meal', 'mean', 'meander', 'meaner', 'meani', 'meaning', 'meaningless', 'meant', 'meantim', 'meanwhil', 'measur', 'meat', 'meatbal', 'meathead', 'meati', 'meatloaf', 'mecca', 'mecha', 'mechan', 'meckern', 'med', 'medal', 'medallion', 'meddl', 'media', 'mediaev', 'mediat', 'medic', 'medicin', 'mediev', 'mediocr', 'medit', 'mediterranean', 'medium', 'medley', 'meecham', 'meek', 'meekli', 'meela', 'meet', 'meg', 'mega', 'megachees', 'megahit', 'megalomaniac', 'megalung', 'megan', 'meghan', 'meghna', 'megumi', 'meh', 'meik', 'mein', 'meital', 'mel', 'melanchol', 'melani', 'melbourn', 'melchior', 'melenzana', 'melfi', 'melina', 'melinda', 'melissa', 'melod', 'melodrama', 'melodramat', 'melon', 'meloni', 'melt', 'melti', 'meltingli', 'melvil', 'melvyn', 'member', 'memoir', 'memor', 'memori', 'memphi', 'men', 'menac', 'mencia', 'mend', 'mendanasso', 'mendez', 'menendez', 'menial', 'menon', 'mensong', 'ment', 'mental', 'mention', 'menu', 'menzi', 'mepri', 'merced', 'mercenari', 'merchandis', 'merchant', 'merci', 'mercial', 'mercier', 'merciless', 'mercilessli', 'mere', 'meredith', 'merendino', 'merg', 'merhig', 'merino', 'merit', 'merk', 'merkerson', 'merkl', 'merlin', 'mermaid', 'merri', 'merril', 'merriman', 'mert', 'mertz', 'mervyn', 'meryl', 'mesa', 'mesh', 'mesmer', 'mesmeris', 'mess', 'messag', 'messang', 'messeng', 'messerschmitt', 'messi', 'messiah', 'met', 'metal', 'metamorphos', 'metaphor', 'metaphys', 'metasonix', 'metcalf', 'meteor', 'meter', 'method', 'meticul', 'metoo', 'metro', 'metropoli', 'metropolitan', 'mettl', 'metzler', 'meu', 'mexican', 'mexico', 'meyer', 'meyerl', 'mfg', 'mg', 'mgm', 'mgmâ', 'mi', 'mi3', 'mia', 'miami', 'mic', 'micahel', 'micallef', 'mice', 'michael', 'michaelson', 'micheal', 'michel', 'michelangelo', 'mick', 'mickey', 'micmac', 'microcosm', 'microcosmo', 'microphon', 'microsoft', 'microsystem', 'microwav', 'mid', 'mida', 'midair', 'midday', 'middl', 'middleton', 'midget', 'midian', 'midkiff', 'midler', 'midnight', 'midpoint', 'midst', 'midway', 'midwest', 'midwestern', 'mielophon', 'mifun', 'migen', 'might', 'mighti', 'mightili', 'migrain', 'migrat', 'miguel', 'miik', 'mike', 'mikey', 'miki', 'miklã³', 'mikshelt', 'mil', 'mila', 'milan', 'milanes', 'milbank', 'mild', 'mildli', 'mildr', 'mildread', 'mile', 'mileag', 'mileston', 'milf', 'milian', 'milit', 'militari', 'militia', 'milk', 'mill', 'milland', 'millard', 'millean', 'milleni', 'millenni', 'miller', 'milli', 'milligan', 'million', 'millionair', 'millisecond', 'milner', 'milo', 'milosev', 'milquetoast', 'milwal', 'milyang', 'mime', 'mimi', 'mimic', 'mimick', 'mimouni', 'min', 'mina', 'minc', 'mincemeat', 'minchen', 'mind', 'mindless', 'mindlessli', 'mindset', 'mine', 'minelli', 'miner', 'minett', 'ming', 'mingella', 'minghella', 'mingl', 'mini', 'miniatur', 'minigun', 'minim', 'minimalist', 'minimum', 'minion', 'miniscul', 'miniseri', 'minist', 'ministr', 'ministri', 'minnelli', 'minni', 'minogu', 'minor', 'minstrel', 'minu', 'minus', 'minut', 'miou', 'mira', 'miracl', 'miracul', 'miranda', 'mire', 'miriam', 'mirren', 'mirror', 'misadventur', 'misanthrop', 'misappli', 'misapprehens', 'misbegotten', 'misbehav', 'miscalcul', 'miscarri', 'miscarriag', 'miscast', 'mischa', 'mischiev', 'miscommun', 'misconcept', 'miscreant', 'misde', 'misdirect', 'miser', 'miseri', 'misfigur', 'misfir', 'misfit', 'misfortun', 'misguid', 'mish', 'mishap', 'mishima', 'misinterpret', 'misjudg', 'misl', 'mislead', 'mismanag', 'mismatch', 'misogyn', 'misogyni', 'misogynist', 'misplac', 'misreabl', 'misrepres', 'miss', 'misshapen', 'missil', 'mission', 'missionari', 'mississippi', 'missu', 'mist', 'mistak', 'mistaken', 'mistakenli', 'mister', 'misti', 'mistook', 'mistreat', 'mistress', 'misunderstand', 'misunderstood', 'misus', 'mitch', 'mitchel', 'mitchum', 'mithi', 'mithun', 'mix', 'mixtur', 'miyazaki', 'mj', 'mjh', 'mm', 'mmm', 'mn', 'mnemon', 'mo', 'moan', 'mob', 'mobi', 'mobil', 'mobster', 'mobutu', 'mocha', 'mochanian', 'mock', 'mockeri', 'mockingbird', 'mockumentari', 'mod', 'modail', 'mode', 'model', 'moder', 'modern', 'modernist', 'modest', 'modesti', 'modicum', 'modifi', 'modin', 'modu', 'modul', 'modular', 'moe', 'moeller', 'moggi', 'mogul', 'mohawk', 'mohd', 'mohr', 'moisturis', 'mojav', 'mojo', 'mold', 'mole', 'molest', 'moll', 'molli', 'mollifi', 'mollycoddl', 'mom', 'moment', 'momentari', 'momentarili', 'momento', 'momentum', 'momma', 'mommi', 'momsen', 'mon', 'mona', 'monaghan', 'monarchi', 'monasteri', 'mondavi', 'monday', 'mondo', 'monetari', 'monett', 'money', 'moneylend', 'moneymak', 'monger', 'mongillo', 'mongo', 'mongol', 'mongrel', 'monica', 'monik', 'moniqu', 'monitor', 'monk', 'monke', 'monkey', 'monochrom', 'monocolor', 'monogram', 'monolog', 'monologu', 'monopoli', 'monopolist', 'monoton', 'monotoni', 'monro', 'monster', 'monstros', 'monstrou', 'mont', 'montag', 'montagu', 'montana', 'montand', 'montegna', 'montel', 'montenegro', 'montez', 'montford', 'montgomeri', 'month', 'monti', 'montmartr', 'montreal', 'montros', 'monument', 'moo', 'mooch', 'moocow', 'mood', 'moodi', 'moon', 'moonlight', 'moonshin', 'moonston', 'moonwalk', 'moor', 'moorehead', 'moovi', 'mope', 'moral', 'moralist', 'morbid', 'more', 'morea', 'moreau', 'moreland', 'moreno', 'moreov', 'morgan', 'morgana', 'moritz', 'morley', 'mormon', 'morn', 'moroccan', 'morocco', 'moron', 'moros', 'morph', 'morphin', 'morri', 'morricon', 'morrissey', 'morroco', 'morrow', 'mors', 'mort', 'mortal', 'mortem', 'mortgag', 'morti', 'mortim', 'morton', 'moscow', 'mose', 'mosh', 'moshana', 'moskowitz', 'mospeada', 'mosquito', 'moss', 'mostli', 'motek', 'motel', 'mother', 'motherhood', 'mothman', 'motif', 'motion', 'motionless', 'motiv', 'motley', 'motor', 'motorama', 'motorbik', 'motorcycl', 'motormouth', 'motorway', 'motown', 'motto', 'mould', 'moulden', 'moulin', 'mount', 'mountain', 'mourn', 'mous', 'mousi', 'mouskouri', 'moustach', 'mouth', 'mouthpiec', 'move', 'movement', 'movi', 'moviego', 'moviemak', 'moviestar', 'movieâ', 'movin', 'mow', 'mower', 'moyer', 'moynahan', 'mph', 'mpk', 'mpkdh', 'mr', 'ms', 'msr', 'mst', 'mst3000', 'mst3k', 'mt', 'mti', 'mtv', 'much', 'mucho', 'mud', 'muddl', 'muerto', 'muff', 'muffin', 'muffler', 'mufla', 'mug', 'mugger', 'muir', 'muita', 'muito', 'mujahideen', 'mujh', 'mukhsin', 'mukshin', 'mulcher', 'mulder', 'mule', 'mulher', 'mulkurul', 'mull', 'muller', 'mullet', 'mulletrif', 'mullinyan', 'multi', 'multimedia', 'multimillion', 'multipl', 'multiplex', 'multitud', 'mum', 'mumbl', 'mumbo', 'mummi', 'munch', 'munchi', 'mundan', 'muni', 'munich', 'muniz', 'munnabhai', 'muppet', 'mural', 'murder', 'murderess', 'murdoch', 'muriel', 'murki', 'murmur', 'murnau', 'murph', 'murphi', 'murray', 'muscl', 'muse', 'muser', 'museum', 'mush', 'mushi', 'mushroom', 'music', 'musican', 'musician', 'muslim', 'muss', 'mussolini', 'must', 'mustach', 'mustachio', 'mustan', 'mustang', 'mustard', 'muster', 'musti', 'mutant', 'mutat', 'mute', 'mutil', 'mutini', 'mutt', 'mutter', 'mutual', 'muy', 'muzzl', 'myagi', 'myddleton', 'myer', 'myle', 'myra', 'myriad', 'myrna', 'myron', 'myrtl', 'mysteri', 'mystic', 'mystifyingli', 'mystiqu', 'myth', 'mythic', 'mytholog', 'myyyy', 'mã', 'nabokov', 'nabokovian', 'nac', 'nada', 'nadir', 'nadja', 'naff', 'nagai', 'nagasaki', 'nagashima', 'nagel', 'nagisa', 'nagra', 'naif', 'nail', 'nair', 'naish', 'naiv', 'naivetã', 'nake', 'nalla', 'name', 'nameless', 'nami', 'namoi', 'namoibuck', 'nan', 'nana', 'nananana', 'nanavati', 'nanci', 'nandita', 'nandjiwarra', 'nanni', 'nanosecond', 'naomi', 'nap', 'napalm', 'napier', 'napoleon', 'nara', 'naram', 'narc', 'narciss', 'narcissu', 'narcot', 'nari', 'narnia', 'narr', 'narrat', 'narrow', 'narrowli', 'nasa', 'nasal', 'nascar', 'nash', 'nasti', 'naswip', 'nat', 'natali', 'natascha', 'natasha', 'natgeo', 'nathan', 'nathani', 'nation', 'nationalist', 'nativ', 'natividad', 'natur', 'naturali', 'naturalist', 'naughti', 'naughton', 'nausea', 'nauseam', 'nauseat', 'nautic', 'nav', 'naval', 'navi', 'navig', 'navokov', 'nay', 'nazi', 'nazism', 'naã', 'nbc', 'nc', 'nc17', 'nd', 'ne', 'neal', 'neanderth', 'near', 'nearbi', 'nearby', 'nearer', 'nearest', 'nearli', 'nearsight', 'neat', 'neatli', 'neato', 'nebraska', 'nebul', 'necess', 'necessari', 'necessarili', 'necessit', 'neck', 'necklac', 'necrom', 'necromaniac', 'necron', 'necronomicon', 'necrophilia', 'ned', 'need', 'needl', 'needless', 'needlessli', 'neeson', 'nefari', 'neg', 'negat', 'neglect', 'neglig', 'negoti', 'negro', 'negrophil', 'negulesco', 'neha', 'neighbor', 'neighborhood', 'neighbour', 'neighbourhood', 'neil', 'neill', 'neither', 'nell', 'nella', 'nelligan', 'nelson', 'nemesi', 'neo', 'neon', 'neoreal', 'neorealist', 'nephew', 'nerd', 'nerdi', 'nero', 'nerv', 'nervou', 'nervous', 'nesher', 'ness', 'nest', 'net', 'netflix', 'netti', 'network', 'netzero', 'neul', 'neurologist', 'neurosi', 'neurot', 'neuter', 'neutral', 'neve', 'never', 'nevermind', 'nevertheless', 'new', 'newbern', 'newbi', 'newcom', 'newer', 'newest', 'newfound', 'newhart', 'newli', 'newlyw', 'newman', 'newport', 'news', 'newscast', 'newsflash', 'newshound', 'newspap', 'newsreel', 'newton', 'next', 'nfb', 'nfbc', 'nguyen', 'nic', 'nice', 'nicer', 'nich', 'nichol', 'nichola', 'nicholson', 'nick', 'nickel', 'nickelbi', 'nickelodean', 'nickelodeon', 'nicki', 'nicknam', 'nicol', 'nicola', 'nicolodi', 'nicotin', 'niec', 'nielsen', 'nielson', 'nietzsch', 'nifti', 'nigam', 'nigh', 'nighi', 'night', 'nightbre', 'nightclub', 'nightgown', 'nightingal', 'nightlif', 'nightmar', 'nightmarish', 'nighttim', 'nihil', 'nihilist', 'niki', 'nikla', 'nikolaj', 'nil', 'nilbog', 'nile', 'nilsson', 'nin', 'nina', 'nincompoop', 'nine', 'nineteenth', 'nineti', 'ninja', 'nintendo', 'ninth', 'nipper', 'nippl', 'niro', 'nitpick', 'nitroglycerin', 'nitti', 'nitwit', 'niven', 'nixflix', 'nixon', 'nj', 'njosnavelin', 'nkrumah', 'nm0281661', 'noah', 'noam', 'nob', 'nobel', 'nobil', 'nobl', 'nobleman', 'nobler', 'nobodi', 'nobu', 'nobuhiro', 'nod', 'noe', 'noel', 'nog', 'noir', 'noirish', 'noirâ', 'nois', 'noisi', 'noisier', 'nolan', 'noland', 'noll', 'nolt', 'nolti', 'nom', 'nomin', 'non', 'nonchal', 'nondescript', 'none', 'nonesens', 'nonetheless', 'nonexist', 'nono', 'nonpluss', 'nonprofession', 'nonsens', 'nonstop', 'nontheless', 'nonthreaten', 'noodl', 'noon', 'noooo', 'nooooooo', 'noor', 'noos', 'nope', 'nora', 'norberto', 'nord', 'nordic', 'nore', 'norm', 'norma', 'normal', 'norman', 'normandi', 'norri', 'north', 'northang', 'northen', 'northern', 'northland', 'northwest', 'norton', 'norwegian', 'nosdam', 'nose', 'nosferatu', 'nosi', 'nostalg', 'nostalgia', 'not', 'notabl', 'notat', 'notch', 'note', 'noteworthi', 'noth', 'nother', 'nothing', 'notic', 'notifi', 'notion', 'notori', 'notorieti', 'notoriu', 'notwithstand', 'nouement', 'nourish', 'nouvel', 'novak', 'novel', 'novelist', 'novella', 'novelti', 'novemb', 'novic', 'nowaday', 'nowher', 'npr', 'nt', 'nth', 'nu', 'nuanc', 'nube', 'nubil', 'nuclear', 'nucular', 'nude', 'nudg', 'nudi', 'nudist', 'nuditi', 'nue', 'nugget', 'nuit', 'nuke', 'nuld', 'null', 'nullifi', 'numb', 'number', 'numbingli', 'numer', 'numerolog', 'nun', 'nunez', 'nunn', 'nunsploit', 'nuremburg', 'nurs', 'nurseri', 'nurtur', 'nut', 'nutcas', 'nutcrack', 'nuther', 'nutshel', 'nutso', 'nuttbal', 'nutti', 'nwa', 'nwh', 'ny', 'nyc', 'nyerer', 'nykvist', 'nymph', 'nympho', 'nymphomania', 'nymphomaniac', 'nz', 'oaf', 'oakland', 'oakley', 'oakman', 'oat', 'oath', 'oatmeal', 'obe', 'obelix', 'ober', 'obes', 'obey', 'obfusc', 'obi', 'obici', 'obituari', 'object', 'oblig', 'obligatori', 'obliqu', 'obliter', 'oblivi', 'oblivion', 'obnoxi', 'obot', 'obrow', 'obscen', 'obscur', 'obscura', 'observ', 'obsess', 'obsession', 'obsolet', 'obstacl', 'obstin', 'obtain', 'obtrus', 'obtus', 'obviou', 'obvious', 'obã', 'occas', 'occasion', 'occasionlli', 'occult', 'occup', 'occupi', 'occur', 'occurr', 'ocean', 'octasack', 'octob', 'octogenarian', 'octopu', 'od', 'odd', 'odder', 'odditi', 'oddli', 'ode', 'odin', 'odyessi', 'odyssey', 'oedip', 'oedipu', 'oeuvr', 'of', 'off', 'offbeat', 'offend', 'offens', 'offer', 'offic', 'offici', 'officianado', 'offlist', 'offset', 'offshoot', 'offspr', 'oft', 'often', 'oftentim', 'oggi', 'ogl', 'oh', 'ohh', 'ohhh', 'ohio', 'oi', 'oil', 'oili', 'ointment', 'ojo', 'ok', 'okay', 'oklahoma', 'oksana', 'ol', 'olan', 'old', 'oldboy', 'older', 'oldest', 'oldi', 'oldman', 'oldsmobil', 'ole', 'oleg', 'olen', 'olga', 'olin', 'oliv', 'olivi', 'olivia', 'olli', 'olliv', 'olsen', 'olymp', 'olympia', 'olyph', 'om', 'omaha', 'omar', 'omega', 'omen', 'omigod', 'omin', 'omiss', 'omit', 'omni', 'omnibu', 'omnipres', 'one', 'oneself', 'onesided', 'oneâ', 'ongo', 'onion', 'onlin', 'onmyoji', 'onofrio', 'onscreen', 'onslaught', 'onstag', 'ontario', 'onto', 'ontogeni', 'ontolog', 'onu', 'onward', 'oo', 'ooga', 'ooh', 'ooherh', 'oooh', 'oooooh', 'oop', 'ooz', 'opaqu', 'open', 'openli', 'oper', 'opera', 'operandi', 'operat', 'operetta', 'ophelia', 'opinion', 'oppenheim', 'oppikoppi', 'oppon', 'opportun', 'opportunist', 'oppos', 'opposit', 'oppress', 'oppurun', 'oprah', 'opt', 'optim', 'optimist', 'option', 'opu', 'opã', 'oral', 'orang', 'orangapoid', 'orangutan', 'orat', 'orbit', 'orchestr', 'orchestra', 'orcist', 'ordeal', 'order', 'orderli', 'ordinari', 'ordwel', 'ore', 'oregon', 'organ', 'organis', 'orgi', 'orient', 'origin', 'ork', 'orlando', 'orlean', 'ormond', 'ormondroyd', 'ornament', 'orphan', 'orphanag', 'orri', 'orson', 'orthodox', 'ortolani', 'orwel', 'osaka', 'osama', 'oscar', 'oss', 'ossession', 'ossorio', 'ostens', 'othello', 'other', 'othersid', 'otherwis', 'otranto', 'ott', 'ottenbreit2', 'ou', 'ouch', 'ought', 'ounc', 'ouri', 'ousman', 'out', 'outag', 'outback', 'outbreak', 'outburst', 'outcast', 'outcom', 'outdat', 'outdid', 'outdo', 'outdoor', 'outer', 'outfield', 'outfit', 'outgo', 'outgrowth', 'outing', 'outlandish', 'outlaw', 'outlet', 'outlin', 'outlook', 'outnumb', 'outpac', 'outpow', 'output', 'outrag', 'outright', 'outset', 'outshin', 'outsid', 'outskirt', 'outsmart', 'outspoken', 'outstand', 'outstay', 'outta', 'outtak', 'outward', 'outweigh', 'outwit', 'oval', 'oven', 'over', 'overabund', 'overachiev', 'overact', 'overal', 'overbear', 'overblown', 'overboard', 'overcam', 'overcharg', 'overcoat', 'overcom', 'overdetermin', 'overdo', 'overdon', 'overdos', 'overdrawn', 'overenthusiast', 'overexpos', 'overhead', 'overhear', 'overheard', 'overington', 'overlaid', 'overlap', 'overli', 'overload', 'overlong', 'overlook', 'overnight', 'overplay', 'overpow', 'overpr', 'overr', 'overreact', 'overrip', 'overrul', 'overse', 'oversea', 'oversex', 'overshadow', 'overst', 'overstep', 'overstock', 'overstuf', 'overstyl', 'oversupport', 'overt', 'overtak', 'overtaken', 'overthrow', 'overthrown', 'overtim', 'overtli', 'overton', 'overtur', 'overturn', 'overus', 'overview', 'overweight', 'overwhelm', 'overwhelmingli', 'overwork', 'overwrought', 'overzeal', 'ovitz', 'ow', 'owe', 'owen', 'owl', 'own', 'owner', 'ownership', 'oxford', 'oxygen', 'oy', 'oyl', 'oyster', 'oz', 'ozawa', 'ozporn', 'ozu', 'pa', 'paalgard', 'pabst', 'pabulum', 'pace', 'pachabel', 'pacif', 'pacino', 'pack', 'packag', 'packer', 'packet', 'pacman', 'pact', 'pad', 'padayappa', 'paddi', 'paddock', 'padrino', 'padua', 'paedophilia', 'page', 'pagel', 'paha', 'pahalniuk', 'paid', 'pain', 'painless', 'painstakingli', 'paint', 'painter', 'pair', 'paixã', 'pajama', 'pak', 'pakistan', 'pakistani', 'pal', 'palac', 'palanc', 'palat', 'pale', 'palefac', 'paleontologist', 'palestinian', 'palett', 'pall', 'palm', 'palma', 'palmer', 'palo', 'palpabl', 'palsi', 'paltrow', 'paluzzi', 'pam', 'pamela', 'pan', 'panach', 'panama', 'pancho', 'pancrea', 'panda', 'pandora', 'panel', 'pang', 'pangborn', 'panic', 'panick', 'panicki', 'panino', 'panoram', 'panorama', 'pansi', 'pant', 'pantheon', 'panther', 'panti', 'pantomim', 'paolo', 'pap', 'papa', 'papal', 'paparazzi', 'paper', 'paperhous', 'papier', 'pappi', 'papua', 'paquin', 'par', 'parabl', 'parachut', 'parad', 'paradis', 'paradiso', 'paradox', 'paragon', 'paragraph', 'parallel', 'paralyz', 'paramet', 'paramount', 'paramour', 'paranoia', 'paranoiac', 'paranoid', 'paranorm', 'paraphras', 'paraplui', 'parasit', 'parasol', 'parc', 'pardner', 'pardon', 'parent', 'parenthesi', 'paresh', 'parfait', 'pari', 'parishion', 'parisi', 'parisian', 'park', 'parker', 'parkinson', 'parlor', 'parmind', 'parochi', 'parodi', 'parol', 'parrish', 'parrot', 'parson', 'part', 'part1', 'partak', 'parter', 'partha', 'parti', 'partial', 'particip', 'particl', 'particular', 'particulareâ', 'particularli', 'partisan', 'partit', 'partli', 'partner', 'partnership', 'partridg', 'partway', 'pasadena', 'pascal', 'pasco', 'pascow', 'pascualino', 'paso', 'pasolini', 'pasquesi', 'pass', 'passabl', 'passag', 'passageway', 'passeng', 'passer', 'passeri', 'passion', 'passiv', 'passov', 'passport', 'past', 'pasta', 'pasti', 'pastich', 'pastor', 'pastorella', 'pasttim', 'pat', 'patagonia', 'patagonian', 'pataki', 'patch', 'patchi', 'patchwork', 'patel', 'patent', 'patern', 'path', 'pathet', 'patho', 'pathogen', 'patholog', 'patienc', 'patient', 'patric', 'patricia', 'patrician', 'patrick', 'patriot', 'patriotâ', 'patrizia', 'patrol', 'patron', 'patronis', 'patt', 'patten', 'patter', 'pattern', 'patterson', 'patti', 'patton', 'patzu', 'paul', 'paula', 'paulett', 'pauli', 'paulin', 'paulson', 'paus', 'pave', 'pavement', 'pavilion', 'pavlinek', 'paw', 'pawn', 'pawnbrok', 'pax', 'paxton', 'pay', 'payback', 'paycheck', 'payday', 'payment', 'payn', 'payoff', 'payrol', 'paytv', 'paz', 'pazu', 'pb', 'pc', 'pdmoviereview', 'pe', 'peac', 'peacekeep', 'peacetim', 'peachi', 'peachum', 'peacock', 'peak', 'peanut', 'pearl', 'peas', 'peasant', 'pebbl', 'peck', 'peckinpah', 'pector', 'peculiar', 'peculiarli', 'pedal', 'pedant', 'peddl', 'pedest', 'pedestrian', 'pedigre', 'pedophil', 'pee', 'peebel', 'peebl', 'peek', 'peel', 'peep', 'peer', 'peerless', 'peet', 'pefect', 'pegasu', 'pejor', 'peke', 'pelt', 'pembleton', 'pen', 'penal', 'penanc', 'penchant', 'penelop', 'penetr', 'penguin', 'peni', 'penit', 'penitentiari', 'penn', 'pennebak', 'penni', 'penniless', 'pennington', 'pennsylvania', 'pension', 'pentamet', 'penthous', 'penultim', 'peopl', 'pepe', 'pepi', 'pepoir', 'pepper', 'pepperoni', 'pepsi', 'per', 'perceiv', 'percent', 'percentag', 'percept', 'perci', 'perciv', 'percuss', 'pere', 'perenni', 'peretti', 'perez', 'perf', 'perfect', 'perfectionist', 'perfectli', 'perfetta', 'perfidi', 'perform', 'perfunctori', 'perhap', 'peril', 'perillan', 'period', 'peripher', 'perk', 'perki', 'perkin', 'perlman', 'perman', 'permayb', 'permeat', 'permiss', 'permit', 'peroxid', 'perp', 'perpetr', 'perpetu', 'perplex', 'perri', 'persecut', 'persecutor', 'persev', 'persever', 'persist', 'person', 'persona', 'personif', 'personifi', 'personnel', 'perspect', 'persuad', 'persuas', 'pert', 'pertain', 'pertin', 'perturb', 'pertwe', 'peru', 'perv', 'pervad', 'pervas', 'pervers', 'pervert', 'pervi', 'perviou', 'pesci', 'peski', 'pessimist', 'pester', 'pestil', 'pestimist', 'pesto', 'pet', 'peta', 'petain', 'pete', 'peter', 'peterson', 'petesak', 'petit', 'petrifi', 'petrol', 'petronijev', 'petti', 'petto', 'petul', 'pew', 'peyton', 'peã', 'pf', 'pfeiffer', 'pfff', 'pflug', 'pg', 'ph', 'phallu', 'phantom', 'pharmacolog', 'phase', 'phaser', 'phenom', 'phenomen', 'phenomenon', 'pheri', 'phht', 'phil', 'philadelphia', 'philanthropist', 'philapdelphia', 'philbin', 'philip', 'philipp', 'philippin', 'philli', 'phillip', 'phillipin', 'phillipino', 'phillipp', 'phillippa', 'philo', 'philosoph', 'philosophi', 'philosophis', 'phineau', 'phipp', 'phobic', 'phoenix', 'phone', 'phoney', 'phoni', 'photo', 'photog', 'photograph', 'photographi', 'photojournalist', 'photosynthesi', 'phranc', 'phrase', 'phsycot', 'phylli', 'phylogeni', 'physic', 'physician', 'physicist', 'pi', 'pia', 'piaf', 'pianist', 'piano', 'pic', 'picasso', 'picerni', 'pick', 'picken', 'picker', 'pickford', 'pickin', 'pickl', 'picnic', 'pictur', 'picturesqu', 'picturis', 'picutr', 'pidgeon', 'pidgin', 'pie', 'piec', 'pier', 'pierc', 'pierr', 'pig', 'pigeon', 'piggi', 'pighead', 'piglet', 'pilat', 'pile', 'pilfer', 'pilgrim', 'pilgrimag', 'pill', 'pillag', 'pillar', 'pillow', 'pilot', 'piltdown', 'pimp', 'pimpernel', 'pin', 'pinch', 'pine', 'pink', 'pinkett', 'pinku', 'pinnacl', 'pino', 'pinocchio', 'pinpoint', 'pinski', 'pintili', 'pioneer', 'piou', 'pipe', 'piper', 'pirat', 'pirovitch', 'pisana', 'pise', 'piss', 'pistol', 'pistolero', 'pit', 'pita', 'pitch', 'pitchfork', 'piteou', 'pitfal', 'piti', 'pitiabl', 'pitt', 'pittsburgh', 'piu', 'pivot', 'pixar', 'pixil', 'pizazz', 'pizza', 'place', 'placement', 'placid', 'plagiar', 'plagu', 'plain', 'plainli', 'plan', 'plane', 'planet', 'planetari', 'plank', 'plankton', 'plant', 'plantat', 'plase', 'plastic', 'plasticin', 'plastron', 'plate', 'platform', 'platon', 'platoon', 'platt', 'platter', 'plaudit', 'plausibl', 'play', 'playa', 'playboy', 'player', 'playgirl', 'playground', 'playmat', 'playwright', 'plea', 'plead', 'pleanti', 'pleas', 'pleasanc', 'pleasant', 'pleasantli', 'pleaser', 'pleasur', 'plebeian', 'pledg', 'plenti', 'plethora', 'plex', 'plexiglass', 'plight', 'plimpton', 'plod', 'plonk', 'plot', 'plothol', 'plotlin', 'plow', 'ploy', 'plu', 'pluck', 'plucki', 'plug', 'plum', 'plumb', 'plumber', 'plummi', 'plump', 'plunder', 'plung', 'pluse', 'plush', 'plusth', 'pluto', 'plutonium', 'pm', 'po', 'pocahonta', 'pocket', 'pod', 'podg', 'poe', 'poehler', 'poem', 'poet', 'poetic', 'poetri', 'pogo', 'pogrom', 'poignanc', 'poignant', 'point', 'pointeblank', 'pointedli', 'pointi', 'pointless', 'pointlessli', 'poirot', 'pois', 'poison', 'poitier', 'poke', 'pokemon', 'poker', 'pokey', 'pol', 'pola', 'poland', 'polanski', 'polar', 'polaris', 'polarisdib', 'pole', 'polem', 'polemicist', 'polic', 'policeman', 'policemen', 'policeâ', 'polici', 'polish', 'polit', 'politician', 'poll', 'pollack', 'pollak', 'pollard', 'polli', 'pollin', 'pollut', 'polonski', 'poltergeist', 'pomegran', 'pompou', 'pond', 'ponder', 'poni', 'pont', 'pontiac', 'pontif', 'pontiu', 'ponto', 'ponyo', 'ponytail', 'poo', 'pooch', 'poodl', 'pooh', 'pookal', 'pool', 'poop', 'poor', 'poorest', 'poorli', 'pop', 'popcorn', 'pope', 'popey', 'popinjay', 'popol', 'poppa', 'poppen', 'poppin', 'popsicl', 'popul', 'populac', 'popular', 'populist', 'porch', 'porcupin', 'pore', 'porel', 'porgi', 'pork', 'porki', 'porn', 'porno', 'pornograph', 'pornographi', 'porretta', 'porsch', 'port', 'portal', 'porten', 'porter', 'porthol', 'portion', 'portman', 'portrait', 'portray', 'portrayel', 'pose', 'posey', 'posit', 'possess', 'possibl', 'post', 'postcard', 'poster', 'posthum', 'postman', 'postmodern', 'postpon', 'postul', 'postur', 'pot', 'pota', 'potato', 'potboil', 'potemkin', 'potent', 'potenti', 'potion', 'potocnik', 'pott', 'potter', 'pou', 'pounc', 'pound', 'pour', 'pout', 'poutili', 'pov', 'poverti', 'pow', 'powder', 'powel', 'power', 'powerhous', 'powerless', 'ppl', 'practic', 'practis', 'practition', 'prais', 'praiseworthi', 'pranc', 'pranci', 'prank', 'prat', 'pratfal', 'prattl', 'pray', 'prayer', 'prc', 'pre', 'preach', 'preacher', 'preachi', 'precari', 'precaut', 'preced', 'precinct', 'precios', 'preciou', 'precipit', 'precis', 'preclud', 'precoci', 'preconceiv', 'precursor', 'predat', 'predecessor', 'predetermin', 'predic', 'predica', 'predict', 'predispos', 'predjudic', 'prefabr', 'prefac', 'prefer', 'preform', 'pregnanc', 'pregnant', 'prehistor', 'prejud', 'prejudic', 'prejudici', 'prelat', 'prematur', 'premedit', 'premier', 'premis', 'premonit', 'prentic', 'prentiss', 'prepar', 'preposter', 'preppi', 'prequel', 'prerog', 'presag', 'prescient', 'prescrib', 'presenc', 'present', 'preserv', 'presid', 'press', 'pressur', 'prestigi', 'presto', 'preston', 'presum', 'presumpt', 'preteen', 'pretenc', 'pretend', 'pretens', 'pretenti', 'pretext', 'pretti', 'prettier', 'prettiest', 'prettili', 'prevail', 'preval', 'prevent', 'preview', 'previou', 'previous', 'prey', 'prez', 'price', 'priceless', 'prick', 'pride', 'priesner', 'priest', 'priesthood', 'priggish', 'prim', 'prima', 'primal', 'primari', 'primarili', 'primat', 'prime', 'primetim', 'primier', 'primit', 'primordi', 'princ', 'princess', 'princip', 'principl', 'priness', 'print', 'prior', 'prioriti', 'priscella', 'priscilla', 'prison', 'prissi', 'privaci', 'privat', 'privi', 'privileg', 'prix', 'prize', 'prizefight', 'prizzi', 'pro', 'probabl', 'probe', 'problem', 'problemat', 'proce', 'procedur', 'proceed', 'process', 'prochnow', 'proclaim', 'procur', 'procuror', 'prod', 'prodigi', 'produc', 'product', 'profan', 'profess', 'profession', 'professor', 'profici', 'profil', 'profit', 'profound', 'profoundli', 'profster', 'profund', 'profus', 'progenitor', 'program', 'programm', 'progress', 'prohibit', 'project', 'projectil', 'projector', 'projectâ', 'prokofiev', 'prolif', 'prolo', 'prologu', 'prolong', 'prom', 'promin', 'promis', 'promiscu', 'promo', 'promot', 'prompt', 'promptli', 'prone', 'pronounc', 'pronunci', 'proof', 'prop', 'propagand', 'propaganda', 'propel', 'propens', 'proper', 'properli', 'properti', 'prophet', 'propo', 'proport', 'propos', 'proposit', 'proprietor', 'prosecut', 'prosecutor', 'prospect', 'prosper', 'prospero', 'prosthet', 'prostitut', 'prot', 'protagonist', 'protect', 'proteg', 'protest', 'protocol', 'prototyp', 'protract', 'protã', 'proud', 'proudli', 'prove', 'proven', 'provid', 'providenti', 'provinci', 'provoc', 'provok', 'prowess', 'prowl', 'prt', 'prudish', 'prurient', 'prussia', 'prussian', 'pryor', 'ps', 'pseudo', 'pseudonym', 'pshyco', 'psychadel', 'psychedel', 'psychedelicrazi', 'psychiatr', 'psychiatri', 'psychiatrist', 'psychic', 'psycho', 'psychofrakul', 'psycholog', 'psychologist', 'psychopath', 'psychosexu', 'psychosi', 'psychot', 'psycot', 'ptsd', 'pub', 'pubesc', 'public', 'publicdomain', 'publicis', 'publicist', 'publicli', 'publish', 'puckoon', 'pud', 'puddi', 'puddl', 'pudgi', 'pueril', 'puerto', 'puf', 'puff', 'pugilist', 'pugninella', 'puke', 'puleez', 'pull', 'pullman', 'pulp', 'puls', 'pumaman', 'pumbaa', 'pummel', 'pump', 'pun', 'punch', 'punchlin', 'punctual', 'punctuat', 'punish', 'punjabi', 'punk', 'punki', 'punkish', 'punkri', 'punter', 'pupil', 'puppet', 'puppetri', 'puppi', 'purblind', 'purchas', 'purdom', 'pure', 'purer', 'purest', 'puri', 'purif', 'purist', 'puritan', 'puriti', 'purpl', 'purpos', 'purr', 'purs', 'pursu', 'pursuas', 'pursuer', 'pursuit', 'push', 'pusher', 'pushi', 'pussi', 'put', 'putain', 'putat', 'putin', 'putner', 'putz', 'puzzl', 'puzzlingli', 'pv', 'pvc', 'pyle', 'pynchon', 'pyrotechn', 'pyscho', 'python', 'pythonesqu', 'pyun', 'pã', 'qaeda', 'qin', 'qld', 'qt', 'qu', 'quack', 'quadrupl', 'quaid', 'quailiti', 'quaint', 'quak', 'qualifi', 'qualiti', 'qualm', 'quantiti', 'quantum', 'quarrelsom', 'quarter', 'quartet', 'quasi', 'quasirealist', 'que', 'quebec', 'quebecoi', 'queen', 'queensland', 'quench', 'quentin', 'querett', 'quest', 'questel', 'question', 'questionnair', 'queue', 'quibbl', 'quick', 'quicker', 'quicki', 'quickli', 'quicksand', 'quid', 'quida', 'quiet', 'quietli', 'quigley', 'quilt', 'quimet', 'quiney', 'quinn', 'quintana', 'quintess', 'quintessenti', 'quirk', 'quirki', 'quiroga', 'quisessenti', 'quit', 'quitt', 'quiver', 'quiz', 'qun', 'quo', 'quot', 'quota', 'quotabl', 'r2', 'ra', 'raab', 'rabbi', 'rabbit', 'rabi', 'rabid', 'rabidli', 'rabun', 'race', 'racer', 'rachael', 'rachel', 'raci', 'racial', 'racism', 'racist', 'rack', 'racket', 'radar', 'rade', 'radford', 'radiant', 'radiantli', 'radiat', 'radic', 'radio', 'radioact', 'radtha', 'radzoff', 'rae', 'rafe', 'raff', 'raft', 'rafter', 'rag', 'ragazza', 'rage', 'raggerti', 'rahman', 'raho', 'rahul', 'raid', 'rail', 'railbird', 'railli', 'railroad', 'railway', 'raimi', 'rain', 'rainbow', 'rainer', 'raini', 'rainier', 'rainâ', 'rais', 'raiser', 'raja', 'rajasthan', 'rajasthani', 'rajnik', 'rakeesha', 'rakoff', 'rakowski', 'raksha', 'rald', 'ralf', 'ralli', 'ralph', 'ralphi', 'ram', 'rambl', 'rambo', 'rambuncti', 'ramif', 'ramin', 'rammstein', 'ramo', 'ramon', 'ramp', 'rampag', 'rampant', 'rampart', 'rams', 'ramsay', 'ramsey', 'ramshackl', 'ramtha', 'ran', 'ranch', 'rancher', 'rancid', 'rand', 'randal', 'randi', 'randl', 'random', 'randomli', 'rang', 'ranger', 'rangoon', 'ranjeet', 'rank', 'ransom', 'rant', 'rao', 'raoul', 'rap', 'rape', 'raph', 'rapid', 'rapidli', 'rapist', 'rapper', 'rapport', 'raptor', 'raptur', 'raquel', 'rard', 'rare', 'rarefi', 'rariti', 'rascal', 'raspberri', 'rat', 'rataud', 'rate', 'rater', 'rathbon', 'rather', 'ratio', 'ration', 'ratman', 'ratnam', 'ratner', 'raton', 'rattenkrieg', 'rattl', 'ratzoff', 'raucou', 'raunchi', 'raunchier', 'ravag', 'rave', 'raveena', 'ravel', 'raven', 'ravin', 'ravish', 'raw', 'rawal', 'ray', 'raya', 'rayann', 'raygun', 'raymond', 'raze', 'razor', 'razzi', 'razzl', 'razzmatazz', 'rca', 'rcci', 'rd', 're', 'rea', 'reaaaaallli', 'reach', 'react', 'reaction', 'reactionari', 'reactor', 'read', 'reader', 'readi', 'readili', 'reagan', 'real', 'realis', 'realism', 'realist', 'realiti', 'realiz', 'realli', 'realm', 'realtor', 'ream', 'reanhauer', 'reanim', 'reap', 'reappear', 'rear', 'reason', 'reasonbali', 'reassess', 'reassur', 'reassuringli', 'reawaken', 'reb', 'reba', 'rebar', 'rebecca', 'rebel', 'rebeld', 'rebelli', 'rebellion', 'rebirth', 'reborn', 'rebound', 'rebroadcast', 'rebuf', 'rebuild', 'rebuk', 'rec', 'recal', 'recap', 'recapitul', 'recaptur', 'receipt', 'receiv', 'recent', 'recept', 'receptionist', 'recess', 'recherch', 'recip', 'recipi', 'recit', 'reckless', 'reckon', 'reclaim', 'reclin', 'recogn', 'recognis', 'recognit', 'recogniz', 'recollect', 'recommend', 'reconcil', 'reconcili', 'reconsid', 'reconstruct', 'record', 'recount', 'recov', 'recoveri', 'recreat', 'recruit', 'rectifi', 'rectitud', 'recur', 'recurr', 'recycl', 'red', 'reda', 'redd', 'redeem', 'redefin', 'redempt', 'redford', 'redgrav', 'redhead', 'redknapp', 'redlin', 'redman', 'redneck', 'redo', 'redon', 'redub', 'reduc', 'redund', 'redux', 'ree', 'reed', 'reefer', 'reek', 'reel', 'reeler', 'reenberg', 'rees', 'reestablish', 'reev', 'refer', 'referenc', 'referenti', 'refin', 'reflect', 'reflex', 'refocu', 'reform', 'refract', 'refrain', 'refresh', 'refriger', 'refug', 'refuge', 'refund', 'refus', 'refut', 'regain', 'regard', 'regardless', 'regent', 'reggi', 'reggiani', 'regim', 'regiment', 'regina', 'region', 'regist', 'registr', 'regress', 'regret', 'regrett', 'regul', 'regular', 'regularli', 'reguli', 'regurgit', 'regã', 'rehab', 'rehabilit', 'rehash', 'rehears', 'rehydr', 'reid', 'reign', 'reilli', 'reincarn', 'reiner', 'reinforc', 'reinvent', 'reiser', 'reissu', 'reiter', 'reitz', 'reject', 'rejoic', 'rejuven', 'rel', 'relaps', 'relat', 'relationship', 'relax', 'relay', 'releas', 'releg', 'relentless', 'relentlessi', 'relentlessli', 'relev', 'relgiou', 'reli', 'reliabl', 'relianc', 'relic', 'relief', 'reliev', 'religi', 'religion', 'relish', 'reliv', 'reloc', 'reluct', 'reluctantli', 'remad', 'remain', 'remaind', 'remak', 'remark', 'remarri', 'remast', 'rematch', 'rembrandt', 'remedi', 'rememb', 'remembr', 'remind', 'remini', 'reminisc', 'remiss', 'remix', 'remnant', 'remonstr', 'remors', 'remot', 'remov', 'ren', 'renaiss', 'renam', 'rend', 'render', 'rendevoux', 'rendez', 'rendit', 'rene', 'renegad', 'renew', 'renfro', 'reni', 'renni', 'renoir', 'renounc', 'renov', 'renown', 'rent', 'rentabl', 'rental', 'renter', 'renumb', 'renã', 'repackag', 'repaid', 'repair', 'repairman', 'reparte', 'repay', 'repeat', 'repeatedli', 'repeatâ', 'repel', 'repent', 'repercuss', 'repertoir', 'repetit', 'repetiti', 'replac', 'replay', 'repli', 'replica', 'repo', 'report', 'reportedli', 'repos', 'repositori', 'reprehens', 'repres', 'represent', 'repress', 'repris', 'reproduc', 'reproduct', 'reprogram', 'reptil', 'reptilian', 'republ', 'republican', 'repugn', 'repuls', 'reput', 'reputedli', 'request', 'requiem', 'requir', 'requisit', 'rerun', 'rescu', 'rescuer', 'research', 'resemberl', 'resembl', 'resent', 'reserv', 'reservior', 'resid', 'residu', 'resign', 'resist', 'resolut', 'resolv', 'reson', 'resort', 'resound', 'resourc', 'respect', 'respond', 'respons', 'rest', 'restaur', 'restless', 'restor', 'restrain', 'restraint', 'restrict', 'result', 'resum', 'resurrect', 'retain', 'retali', 'retard', 'retel', 'retent', 'rethink', 'rethought', 'retic', 'retir', 'retold', 'retort', 'retract', 'retread', 'retreat', 'retribut', 'retriev', 'retromedia', 'retrospect', 'return', 'reuben', 'reunion', 'reunit', 'reus', 'rev', 'revamp', 'reveal', 'revel', 'reveng', 'rever', 'reverend', 'revers', 'revert', 'review', 'revil', 'revisionist', 'revisit', 'revit', 'reviv', 'revolt', 'revolut', 'revolution', 'revolutionari', 'revolv', 'revu', 'revuls', 'reward', 'rewind', 'rework', 'rewound', 'rewrit', 'rewritten', 'rex', 'rexal', 'rey', 'reynold', 'rgen', 'rhapsodi', 'rhetor', 'rhett', 'rhi', 'rhino', 'rhinocero', 'rhode', 'rhonda', 'rhumba', 'rhyme', 'rhythm', 'rhythmic', 'ri', 'rib', 'ribbon', 'ribisi', 'rican', 'ricci', 'rice', 'rich', 'richard', 'richardson', 'richer', 'richi', 'richli', 'richman', 'richter', 'rick', 'ricketi', 'ricki', 'rickman', 'rickshaw', 'rid', 'riddanc', 'ridden', 'riddick', 'riddl', 'riddler', 'ride', 'rider', 'ridicul', 'ridley', 'riel', 'rif', 'riff', 'rififi', 'rifl', 'rift', 'rig', 'rigamorti', 'rigg', 'right', 'righteou', 'righteous', 'righteousâ', 'rightli', 'rightw', 'rightâ', 'rigid', 'rigor', 'rigsbi', 'rihanna', 'rik', 'riley', 'rim', 'rime', 'rinaldi', 'rinaldo', 'ring', 'ringlead', 'ringmast', 'ringu', 'ringwald', 'rio', 'riot', 'riotou', 'rip', 'ripe', 'ripley', 'ripoff', 'ripost', 'ripper', 'rise', 'risen', 'riser', 'rishi', 'risibl', 'risk', 'riski', 'riso', 'risorgimento', 'risqu', 'risquã', 'rita', 'ritchi', 'ritson', 'ritter', 'ritual', 'ritã', 'rival', 'rivalri', 'river', 'rivet', 'rivett', 'rivit', 'rix', 'riz', 'rko', 'rl', 'rm', 'rn', 'rnrh', 'rnstrand', 'ro', 'roach', 'road', 'roadblock', 'roadi', 'roadkil', 'roadshow', 'roadsid', 'roam', 'roar', 'roast', 'rob', 'robard', 'robb', 'robber', 'robberi', 'robbin', 'robe', 'rober', 'robert', 'roberta', 'roberto', 'robespierr', 'robillard', 'robin', 'robinson', 'robocop', 'robot', 'robotech', 'robust', 'robyn', 'rochest', 'rock', 'rocker', 'rocket', 'rocki', 'rockin', 'rockwel', 'rod', 'rodanth', 'roddenberri', 'rodder', 'roddi', 'rode', 'rodeo', 'rodman', 'rodney', 'rodriguez', 'roebuck', 'roeg', 'rogen', 'roger', 'rogu', 'rohmer', 'rohtenburg', 'roland', 'role', 'rolex', 'rolf', 'roll', 'rolland', 'roller', 'rollercoast', 'rollick', 'rollin', 'rollo', 'rom', 'roman', 'romanc', 'romand', 'romani', 'romania', 'romanian', 'romant', 'romantic', 'rome', 'romeo', 'romero', 'romola', 'romp', 'ron', 'ronald', 'ronni', 'roof', 'rooftop', 'rooker', 'rooki', 'room', 'roommat', 'rooney', 'roosevelt', 'root', 'ropa', 'rope', 'roper', 'ropey', 'ropier', 'rori', 'rorschach', 'rosali', 'rosalind', 'rosann', 'rosanna', 'rosario', 'rosco', 'rose', 'roseann', 'rosemari', 'rosenberg', 'rosey', 'rosi', 'ross', 'rosselini', 'rossi', 'rossit', 'rostenberg', 'roster', 'roswel', 'rot', 'rotat', 'rotflmao', 'roth', 'rothrock', 'rothschild', 'rotoscop', 'rotten', 'rotterdam', 'rottingham', 'rotton', 'roug', 'rough', 'rougher', 'roughli', 'roulett', 'round', 'rounder', 'rourk', 'rous', 'rout', 'routin', 'rove', 'row', 'rowan', 'rowdi', 'rowel', 'rowland', 'roxborough', 'roy', 'royal', 'royalti', 'royc', 'rozel', 'rpg', 'rritu', 'rse', 'rte1', 'rub', 'rubber', 'rubbish', 'rubbl', 'ruben', 'rubi', 'rubin', 'ruck', 'rudd', 'rudden', 'rude', 'rudi', 'rudimentari', 'rudnick', 'rudyard', 'rueful', 'ruehl', 'ruffl', 'rufo', 'rufu', 'rug', 'rugbi', 'ruggero', 'rugrat', 'ruin', 'ruiz', 'rule', 'ruler', 'rum', 'rumah', 'rumbl', 'rumin', 'rumor', 'rumour', 'rump', 'run', 'runaway', 'rundown', 'rung', 'runner', 'runtim', 'runway', 'runyonesqu', 'rupert', 'rural', 'rush', 'rushmor', 'ruski', 'russ', 'russel', 'russia', 'russian', 'russo', 'rust', 'rusti', 'rustl', 'rut', 'ruth', 'rutherford', 'ruthless', 'ruthlessli', 'rv', 'ryan', 'ryecart', 'ryuhei', 'rã³zsa', 's7', 'sa', 'saalistajat', 'sabato', 'sabe', 'saber', 'sabertooth', 'sabotag', 'saboteur', 'sach', 'sacha', 'sack', 'sacr', 'sacrif', 'sacrific', 'sacrilegi', 'sad', 'saddam', 'sadden', 'sadder', 'saddest', 'saddl', 'sadism', 'sadist', 'sadler', 'sadli', 'sado', 'sadomasochist', 'safe', 'safer', 'safeti', 'sag', 'saga', 'sagamor', 'sagan', 'sage', 'sagemil', 'saget', 'saggi', 'saggier', 'sahan', 'sahara', 'sai', 'said', 'saif', 'sail', 'sailboat', 'sailor', 'saint', 'sair', 'sake', 'sala', 'salaci', 'salari', 'salava', 'sale', 'saleen', 'salesgirl', 'salesman', 'salesperson', 'saliv', 'sall', 'salli', 'salma', 'salman', 'salom', 'salon', 'saloon', 'salt', 'salut', 'salva', 'salvag', 'salvat', 'sam', 'samantha', 'same', 'samn', 'samourai', 'sampl', 'samuel', 'samurai', 'san', 'sanctifi', 'sanction', 'sanctuari', 'sand', 'sandburg', 'sander', 'sandi', 'sandino', 'sandler', 'sandpap', 'sandpit', 'sandra', 'sandwich', 'sane', 'sanfran', 'sang', 'sanit', 'saniti', 'sank', 'sanomi', 'sanpro', 'sanskrit', 'sant', 'santa', 'santana', 'santi', 'sap', 'sapien', 'sapir', 'sapphir', 'sappi', 'sar', 'sara', 'sarafian', 'sarah', 'sarandon', 'sarcasm', 'sarcast', 'sardin', 'sardinia', 'sardon', 'sargasso', 'sarin', 'sarsgaard', 'sasaki', 'sasquatch', 'sassi', 'sat', 'satan', 'satana', 'satanist', 'satellit', 'satiat', 'satin', 'satir', 'satiris', 'satisfact', 'satisfactori', 'satisfactorili', 'satisfi', 'satr', 'satur', 'saturday', 'saturn', 'satyr', 'sauci', 'saudi', 'saunter', 'saura', 'savag', 'savageri', 'savala', 'savannah', 'save', 'savelyeva', 'savini', 'savior', 'savor', 'savour', 'saw', 'sawdust', 'sawn', 'sawyer', 'sax', 'saxaphon', 'saxophon', 'say', 'sayer', 'sayonara', 'sb', 'sc', 'scaffold', 'scale', 'scalli', 'scalp', 'scam', 'scan', 'scandal', 'scandanavia', 'scandanavian', 'scandinavia', 'scandinavian', 'scanner', 'scant', 'scantili', 'scape', 'scar', 'scarc', 'scare', 'scarecrow', 'scarf', 'scarfac', 'scari', 'scarier', 'scariest', 'scarili', 'scarlet', 'scarlett', 'scarol', 'scarymovi', 'scatalog', 'scatolog', 'scatter', 'scattergun', 'scatti', 'scaveng', 'scenario', 'scenarist', 'scene', 'sceneri', 'scenic', 'scent', 'schaffer', 'schawez', 'schedul', 'scheider', 'scheiã', 'schell', 'schemat', 'scheme', 'schemer', 'scherler', 'schieder', 'schiel', 'schifrin', 'schildkraut', 'schindler', 'schitzoid', 'schizophren', 'schizophreniac', 'schlatter', 'schlock', 'schlocki', 'schlockmeist', 'schmaltz', 'schmid', 'schmidt', 'schmoe', 'schmoeller', 'schmuck', 'schneebaum', 'schneider', 'schnook', 'scholar', 'scholarli', 'scholarship', 'school', 'schoolboy', 'schooler', 'schoolgirl', 'schooli', 'schoolish', 'schoolmast', 'schoolmat', 'schoolteach', 'schooner', 'schrage', 'schreck', 'schreiner', 'schriffin', 'schroeder', 'schtick', 'schubert', 'schultz', 'schumach', 'schwarzanegg', 'schwarzenegg', 'schweiger', 'schã¼rer', 'sci', 'sciamma', 'scienc', 'scientif', 'scientist', 'scifi', 'scintil', 'scintilla', 'scion', 'sciorra', 'scissorhand', 'scoff', 'scola', 'scoobi', 'scoop', 'scope', 'scorces', 'score', 'scoreboard', 'scoreâ', 'scorn', 'scorpion', 'scorses', 'scot', 'scotch', 'scotland', 'scotsman', 'scott', 'scotti', 'scottish', 'scour', 'scout', 'scowl', 'scrabbl', 'scrambl', 'scrap', 'scrape', 'scrappi', 'scratch', 'scream', 'screech', 'screen', 'screendaili', 'screendailyarticl', 'screenplay', 'screenwrit', 'screw', 'screwbal', 'screwi', 'screwier', 'script', 'scriptur', 'scriptwrit', 'scroll', 'scroog', 'scrub', 'scrupul', 'sctv', 'scuffl', 'sculli', 'sculpt', 'sculptur', 'scum', 'scumbag', 'scummi', 'scupper', 'scuzzi', 'scuzziest', 'se', 'se7en', 'sea', 'seacoast', 'seafood', 'seagal', 'seal', 'seaman', 'seamless', 'seamlessli', 'sean', 'seanc', 'search', 'searcher', 'seasick', 'seasid', 'season', 'seat', 'seattl', 'seaver', 'seaview', 'sebastian', 'seclud', 'second', 'secondari', 'secondli', 'secreci', 'secret', 'secretari', 'secreteri', 'secretli', 'sect', 'section', 'sector', 'secular', 'secur', 'sedat', 'sedit', 'sediti', 'seduc', 'seduct', 'seductress', 'see', 'seed', 'seedi', 'seedpeopl', 'seek', 'seeker', 'seem', 'seemingli', 'seen', 'seenâ', 'seep', 'seeth', 'segal', 'segment', 'segreg', 'seidl', 'seild', 'sein', 'seinfeld', 'seismic', 'seiz', 'seizur', 'seizureif', 'seki', 'seldom', 'select', 'selena', 'self', 'selfish', 'selfishli', 'selina', 'sell', 'sellam', 'selldal', 'selleck', 'seller', 'sellout', 'selma', 'selv', 'sematari', 'semben', 'semblanc', 'semeben', 'semi', 'semin', 'seminar', 'seminari', 'semit', 'semper', 'semra', 'sen', 'sena', 'senat', 'send', 'sendback', 'senil', 'senior', 'sennett', 'sens', 'sensat', 'sensation', 'senseless', 'sensibl', 'sensit', 'senso', 'sensual', 'sensuou', 'sent', 'sentenc', 'sentient', 'sentiment', 'sentinel', 'seoul', 'separ', 'sepet', 'sepoy', 'sept', 'septemb', 'septic', 'septuplet', 'sequal', 'sequel', 'sequenc', 'sequenti', 'sequitur', 'sera', 'serbedzia', 'serbia', 'serbian', 'seren', 'serena', 'serets', 'serg', 'sergeant', 'sergei', 'sergio', 'sergiocastellittoaparticular', 'seri', 'seria', 'serial', 'seriesâ', 'seriou', 'serious', 'sermon', 'serpent', 'serpico', 'serv', 'servant', 'servent', 'server', 'servic', 'servicemen', 'servillo', 'servo', 'sesam', 'sesshomiru', 'session', 'set', 'seth', 'setpiec', 'settl', 'settlement', 'setup', 'seuss', 'seussian', 'seven', 'seventh', 'seventi', 'sever', 'severli', 'sevil', 'sew', 'sewel', 'sewer', 'sex', 'sexegenarian', 'sexi', 'sexier', 'sexism', 'sexist', 'sexploit', 'sexpot', 'sexshoot', 'sexton', 'sexual', 'seymour', 'sf', 'sfx', 'sg', 'sgt', 'sh', 'shaadi', 'shabana', 'shabbi', 'shack', 'shade', 'shadi', 'shadier', 'shadow', 'shadowi', 'shadyac', 'shaft', 'shag', 'shagger', 'shaggi', 'shah', 'shahid', 'shahrukh', 'shake', 'shaken', 'shaker', 'shakespear', 'shakespearean', 'shakespearian', 'shaki', 'shakti', 'shall', 'shallow', 'shalt', 'sham', 'shaman', 'shambl', 'shame', 'shameless', 'shamelessli', 'shampoo', 'shane', 'shanghai', 'shank', 'shanley', 'shannon', 'shantytown', 'shape', 'shapeless', 'shaq', 'shard', 'share', 'sharifah', 'shark', 'sharki', 'sharma', 'sharon', 'sharp', 'sharpen', 'sharper', 'sharpli', 'shatner', 'shatter', 'shave', 'shaw', 'shawn', 'shawshank', 'she', 'shear', 'shearer', 'sheb', 'sheban', 'shed', 'sheeba', 'sheeesh', 'sheen', 'sheena', 'sheep', 'sheepl', 'sheepman', 'sheepskin', 'sheer', 'sheesh', 'sheet', 'sheffer', 'sheffield', 'sheik', 'sheila', 'shekhar', 'sheldon', 'shelf', 'shell', 'shelley', 'shelter', 'shelv', 'shemp', 'shenanigan', 'shenar', 'shepard', 'sheperd', 'shepherd', 'shepherdess', 'shepitko', 'sheppherd', 'sheri', 'sheridan', 'sheriff', 'sherlock', 'sherri', 'sherrif', 'shi', 'shia', 'shielah', 'shift', 'shifti', 'shihito', 'shiloh', 'shim', 'shimmer', 'shin', 'shindobaddo', 'shine', 'shini', 'shinjuku', 'ship', 'shipload', 'shipment', 'shipyard', 'shirley', 'shirt', 'shirtless', 'shite', 'shitti', 'shiver', 'shlater', 'shlocki', 'shock', 'shocker', 'shockingli', 'shoddi', 'shoddier', 'shoddili', 'shoe', 'shoebat', 'shoehorn', 'shoestr', 'shone', 'shoo', 'shook', 'shoot', 'shooter', 'shootout', 'shop', 'shopkeep', 'shoplift', 'shopworn', 'shore', 'short', 'shortag', 'shortcom', 'shorten', 'shorter', 'shortest', 'shorti', 'shortli', 'shot', 'shotgun', 'shoulder', 'shout', 'shove', 'shovel', 'show', 'showalt', 'showbiz', 'showcas', 'showdown', 'shower', 'showgirl', 'showi', 'showmanship', 'shown', 'showtim', 'shreck', 'shred', 'shredder', 'shrek', 'shrewdli', 'shriek', 'shrieker', 'shrill', 'shrine', 'shrink', 'shroud', 'shroyer', 'shrug', 'shshsh', 'shtewart', 'shtick', 'shuai', 'shuck', 'shue', 'shuffl', 'shun', 'shunt', 'shut', 'shuttl', 'shyama', 'shyamalan', 'shylock', 'shyster', 'si', 'siberia', 'sibl', 'sic', 'sica', 'sichuan', 'sicili', 'sicilian', 'sick', 'sicken', 'sickeningli', 'sickli', 'sid', 'side', 'sidebar', 'sidekick', 'sidelin', 'sidetrack', 'sideway', 'sidl', 'sidney', 'sieg', 'siegel', 'sig', 'sigh', 'sight', 'sightse', 'sign', 'signal', 'signatur', 'signboard', 'signifi', 'signific', 'significantli', 'signpost', 'sigrid', 'sigur', 'sikh', 'silag', 'silenc', 'silent', 'silhouet', 'silhouett', 'silk', 'sill', 'silli', 'silsbi', 'silva', 'silver', 'silverman', 'silverstein', 'silverston', 'silverwar', 'silvio', 'sim', 'simarik', 'simian', 'simil', 'similar', 'similarli', 'similiar', 'simmer', 'simmon', 'simon', 'simona', 'simp', 'simpl', 'simplemind', 'simpler', 'simplest', 'simpleton', 'simpli', 'simplic', 'simplifi', 'simplist', 'simpson', 'simran', 'simultan', 'sin', 'sinai', 'sinatra', 'sinbad', 'sinc', 'sincer', 'sincerest', 'sinclair', 'sing', 'singabl', 'singer', 'singin', 'singl', 'singlet', 'singleton', 'singular', 'singularli', 'sinist', 'sink', 'sinker', 'siodmak', 'siodmark', 'sioux', 'sip', 'sir', 'sire', 'sirin', 'sisabl', 'sissi', 'sister', 'sisterli', 'sistin', 'sisto', 'sit', 'sitcom', 'site', 'sith', 'situat', 'siv', 'sivaji', 'six', 'sixteenth', 'sixth', 'sixti', 'size', 'sizzl', 'skagway', 'skank', 'skanki', 'skate', 'skateboard', 'skater', 'skeet', 'skelet', 'skeleton', 'skelton', 'skeptic', 'sketch', 'sketchi', 'skewer', 'ski', 'skid', 'skier', 'skill', 'skimp', 'skimpi', 'skimpier', 'skin', 'skinamax', 'skinner', 'skinni', 'skinniest', 'skip', 'skirt', 'skit', 'skookum', 'skulk', 'skull', 'skunk', 'sky', 'skye', 'skyler', 'skylight', 'skynet', 'skywalk', 'sl', 'slack', 'slam', 'slang', 'slant', 'slap', 'slapper', 'slapstick', 'slash', 'slasher', 'slat', 'slate', 'slater', 'slaughter', 'slaughterhous', 'slave', 'slaver', 'slaveri', 'slavic', 'slay', 'slayer', 'slc', 'sleaz', 'sleazi', 'sleaziest', 'sledgehamm', 'sleek', 'sleekli', 'sleep', 'sleeper', 'sleepi', 'sleepili', 'sleepless', 'sleepov', 'sleepwalk', 'sleev', 'sleeveless', 'sleigh', 'slender', 'slept', 'slesing', 'sleuth', 'slew', 'slewfoot', 'sli', 'slice', 'slick', 'slickest', 'slickster', 'slid', 'slide', 'slight', 'slight1i', 'slightest', 'slightless', 'slightli', 'slim', 'slime', 'slimi', 'sling', 'slingshot', 'slink', 'slip', 'slipperi', 'slipstream', 'slit', 'slo', 'sloan', 'slob', 'slobber', 'slobbi', 'slobodan', 'slog', 'slogan', 'slop', 'slope', 'sloppi', 'sloppiest', 'sloppili', 'slot', 'slotnick', 'slouch', 'slovenia', 'slovenian', 'slovenli', 'slow', 'slower', 'slowli', 'slowwwwww', 'sludg', 'slug', 'sluggish', 'slum', 'slumber', 'slump', 'slur', 'slurp', 'slushi', 'slut', 'slutti', 'smack', 'small', 'smaller', 'smallest', 'smallpox', 'smarmi', 'smarmiest', 'smart', 'smarta', 'smarter', 'smartest', 'smarti', 'smartli', 'smash', 'smear', 'smell', 'smelt', 'smidgen', 'smile', 'smirk', 'smith', 'smithereen', 'smitten', 'smog', 'smoke', 'smokey', 'smoki', 'smooth', 'smoothli', 'smother', 'smtm', 'smug', 'smuggl', 'smuggler', 'smutti', 'snack', 'snail', 'snake', 'snap', 'snappi', 'snapshot', 'snark', 'snarl', 'snatch', 'snatcher', 'snazzi', 'sne', 'sneak', 'sneaker', 'sneakili', 'sneer', 'sneez', 'snif', 'snigger', 'snipe', 'sniper', 'snippet', 'snippi', 'snit', 'snitch', 'snivel', 'snl', 'snob', 'snobbi', 'snodgress', 'snooker', 'snoop', 'snoozer', 'snore', 'snot', 'snotti', 'snow', 'snowbal', 'snowboard', 'snowi', 'snowman', 'snowmen', 'snuck', 'snuff', 'snuka', 'so', 'soak', 'soap', 'soapdish', 'soapi', 'soar', 'soavi', 'sob', 'sober', 'soccer', 'social', 'socialist', 'socialit', 'societ', 'societi', 'sociolog', 'sociopath', 'sociopathi', 'sock', 'socorro', 'sod', 'soderbergh', 'sodium', 'sodom', 'soetman', 'sofa', 'sofia', 'soft', 'softcor', 'soften', 'softli', 'softwar', 'soho', 'sohpi', 'soi', 'soil', 'sol', 'solar', 'solari', 'sold', 'soldier', 'sole', 'solec', 'soleil', 'solemn', 'solid', 'solidifi', 'soliloqui', 'soliloquy', 'solino', 'solitari', 'solo', 'soloman', 'solomon', 'solter', 'solut', 'solv', 'somber', 'sombr', 'somebodi', 'someday', 'somehow', 'someom', 'someon', 'someonels', 'someplac', 'somer', 'someth', 'sometim', 'somewhat', 'somewher', 'somg', 'sommar', 'somnambul', 'son', 'sondheim', 'song', 'songwrit', 'soni', 'sonia', 'sonic', 'sonja', 'sonni', 'sonte', 'soo', 'sooki', 'soon', 'sooner', 'soong', 'sooo', 'sooooo', 'soooooooooooo', 'soorya', 'sooth', 'sophia', 'sophist', 'sophomor', 'soppi', 'soprano', 'sorbonn', 'sorceri', 'sordid', 'sore', 'soror', 'sorrel', 'sorrentino', 'sorri', 'sorrow', 'sort', 'sorta', 'sosa', 'sosuk', 'sot', 'soth', 'sotto', 'sought', 'soul', 'soulhunt', 'sound', 'soundtrack', 'soup', 'sour', 'sourc', 'south', 'southampton', 'southern', 'southwest', 'soviet', 'sow', 'sowhil', 'soylent', 'soâ', 'sp', 'spa', 'space', 'spacebal', 'spacecamp', 'spacecraft', 'spacek', 'spaceship', 'spacey', 'spade', 'spagetti', 'spaghetti', 'spagnolo', 'spain', 'spall', 'span', 'spandex', 'spangl', 'spanish', 'spanki', 'spanner', 'spar', 'spare', 'spark', 'sparkl', 'sparkuhl', 'sparrow', 'spars', 'spasm', 'spastic', 'spat', 'spatial', 'spawn', 'spay', 'spaz', 'speach', 'speak', 'speakeasi', 'speaker', 'spear', 'speci', 'special', 'specialist', 'specialti', 'specif', 'specimen', 'speciou', 'spectacl', 'spectacular', 'spectacularli', 'spectat', 'spectr', 'spectrum', 'specul', 'sped', 'speech', 'speed', 'speedi', 'spelberg', 'spell', 'spellbind', 'spellbound', 'spencer', 'spend', 'spent', 'sperm', 'spew', 'spheeri', 'sphere', 'spheric', 'sphinx', 'spi', 'spice', 'spicier', 'spider', 'spiderman', 'spielberg', 'spielmann', 'spier', 'spike', 'spill', 'spin', 'spinal', 'spindli', 'spine', 'spinner', 'spinoff', 'spinster', 'spiral', 'spirit', 'spiritless', 'spiritu', 'spit', 'spite', 'splash', 'splatter', 'splatteri', 'spleen', 'splendid', 'splendifer', 'splice', 'splinter', 'split', 'spock', 'spoil', 'spoiler', 'spoilt', 'spoke', 'spoken', 'spong', 'sponser', 'sponsor', 'spontan', 'spoof', 'spook', 'spooki', 'spookili', 'spoon', 'spooner', 'spoor', 'spoorloo', 'sporad', 'sport', 'sporti', 'sportsman', 'spot', 'spotless', 'spotlight', 'spotti', 'spous', 'spout', 'sprawl', 'spray', 'spread', 'spree', 'sprightli', 'spring', 'springer', 'springfield', 'springwood', 'sprinkl', 'sprint', 'sprite', 'sprout', 'spun', 'spunk', 'spurn', 'spurt', 'sputnik', 'sputter', 'squad', 'squalid', 'squalor', 'squar', 'squash', 'squatter', 'squawk', 'squeak', 'squeaki', 'squeal', 'squeamish', 'squeez', 'squelch', 'squib', 'squirm', 'squirt', 'squish', 'squishi', 'sr', 'sri', 'ss', 'st', 'stab', 'stabil', 'stabl', 'stablemen', 'stacey', 'staci', 'stack', 'staden', 'stadium', 'stadvec', 'staff', 'stage', 'stagecoach', 'stagehand', 'stager', 'stagger', 'staggeringli', 'stahl', 'stai', 'stain', 'stair', 'staircas', 'stairway', 'stake', 'stakehold', 'stale', 'stalin', 'stalingrad', 'stalk', 'stalker', 'stalki', 'stall', 'stallion', 'stallon', 'stalwart', 'stamina', 'stamo', 'stamp', 'stamped', 'stan', 'stanc', 'stand', 'standalon', 'standard', 'standoff', 'standout', 'standpoint', 'stanford', 'stanhop', 'stanisla', 'stank', 'stanley', 'stanton', 'stanwyck', 'stanwyk', 'stapl', 'stapleton', 'star', 'starbuck', 'stardom', 'stare', 'starewicz', 'stargat', 'stark', 'starkli', 'starlet', 'starman', 'starr', 'starrer', 'starri', 'starsailor', 'starship', 'start', 'starter', 'startl', 'starv', 'starz', 'stat', 'state', 'statement', 'static', 'station', 'statist', 'statistician', 'statu', 'statur', 'statutori', 'stauffer', 'staunton', 'stay', 'std', 'stead', 'steadi', 'steadili', 'steak', 'steal', 'stealer', 'steam', 'steamboat', 'steami', 'steckl', 'steel', 'steenburgen', 'steep', 'steepl', 'steer', 'steerag', 'stefan', 'stefani', 'steiger', 'steiner', 'stella', 'stellar', 'stelvio', 'stem', 'stembridg', 'stench', 'step', 'stepdad', 'stepfath', 'stepford', 'steph', 'stephani', 'stephen', 'stepmoth', 'steppenwolf', 'stereo', 'stereotyp', 'steril', 'sterl', 'stern', 'steroid', 'stethoscop', 'steve', 'steven', 'stevenson', 'stevi', 'stew', 'steward', 'stewart', 'stewi', 'sti', 'stick', 'stif', 'stiff', 'stifl', 'stifler', 'stig', 'stiglitz', 'stigma', 'stigmata', 'still', 'stillcouldn', 'stiller', 'stillm', 'stilt', 'stimul', 'sting', 'stinger', 'stingi', 'stink', 'stinker', 'stinki', 'stinkin', 'stint', 'stir', 'stitch', 'stitzer', 'stivaletti', 'stivic', 'stock', 'stockbrok', 'stockholm', 'stodgi', 'stoic', 'stoke', 'stoker', 'stokowski', 'stole', 'stolen', 'stolid', 'stomach', 'stomp', 'stone', 'stoner', 'stoni', 'stoniest', 'stood', 'stoog', 'stoop', 'stop', 'stopov', 'stopper', 'stopwatch', 'storag', 'storaro', 'store', 'stori', 'storm', 'stormbreak', 'stormi', 'storyboard', 'storylin', 'storytel', 'stott', 'stow', 'stowaway', 'strada', 'straddl', 'straight', 'straighten', 'straightforward', 'strain', 'strait', 'straitjacket', 'strand', 'strang', 'strangeland', 'strangelov', 'stranger', 'strangest', 'strangl', 'strangler', 'strap', 'strata', 'strateg', 'strategi', 'strategist', 'stratten', 'straw', 'stray', 'streak', 'stream', 'streamlin', 'streep', 'street', 'streetcar', 'streetfight', 'streethawk', 'streetwalk', 'streetwis', 'streisand', 'strength', 'strengthen', 'stress', 'stretch', 'stricken', 'strict', 'strictli', 'strident', 'strife', 'strike', 'strikingli', 'string', 'strip', 'stripper', 'strive', 'strobe', 'strode', 'stroke', 'stroll', 'strong', 'stronger', 'strongest', 'stronghold', 'strongli', 'stroup', 'struck', 'structur', 'struggl', 'strung', 'strut', 'struther', 'stu', 'stuart', 'stub', 'stubbi', 'stubborn', 'stuck', 'stud', 'student', 'studi', 'studio', 'stuey', 'stuf', 'stuff', 'stuffi', 'stuie', 'stumbl', 'stump', 'stun', 'stunk', 'stunningli', 'stunt', 'stuntman', 'stuntwoman', 'stuntwork', 'stupefi', 'stupend', 'stupid', 'stupidest', 'stupiditiy', 'stupidli', 'stupor', 'sturdi', 'stutter', 'stv', 'style', 'stylis', 'stylish', 'stylist', 'styliz', 'stymi', 'su', 'suav', 'suaviti', 'sub', 'subconsci', 'subdu', 'subgenr', 'subgroup', 'subhuman', 'subject', 'sublim', 'sublimin', 'submarin', 'submit', 'subor', 'subordin', 'subplot', 'subsequ', 'subsid', 'substanc', 'substandard', 'substant', 'substanti', 'substitut', 'substori', 'subsum', 'subterfug', 'subterranean', 'subtext', 'subtitl', 'subtl', 'subtler', 'subtleti', 'subtli', 'subtract', 'suburb', 'suburban', 'subvers', 'subvert', 'subway', 'succe', 'succeed', 'success', 'successor', 'succinct', 'succumb', 'suchet', 'suck', 'sucker', 'suckfest', 'suckiest', 'sucksbi', 'sudden', 'suddenli', 'sudern', 'sudsi', 'sue', 'suffer', 'suffic', 'suffici', 'suffoc', 'suffus', 'sugar', 'sugarcoat', 'sugari', 'suggest', 'sugimura', 'sui', 'suicid', 'suit', 'suitabl', 'suitcas', 'suitor', 'suk', 'sukowa', 'sulk', 'sullavan', 'sulley', 'sulli', 'sullivan', 'sultri', 'sum', 'summa', 'summar', 'summari', 'summarili', 'summaris', 'summer', 'summon', 'sumptuou', 'sumter', 'sun', 'sunburst', 'sundanc', 'sunday', 'sung', 'sunglass', 'sunk', 'sunken', 'sunni', 'sunris', 'sunset', 'sunshin', 'super', 'superb', 'superbl', 'superbowl', 'supercharg', 'supercool', 'superdom', 'superdupercharg', 'superfici', 'superflu', 'superfluo', 'superfluous', 'superhero', 'superhuman', 'superimpos', 'superintend', 'superior', 'superl', 'superman', 'supermarket', 'supermodel', 'supernatur', 'supernova', 'superpow', 'superprostitut', 'superson', 'superstar', 'superstardom', 'superstit', 'superstiti', 'supervillain', 'supervillian', 'supervis', 'supervisor', 'supplant', 'supplement', 'suppli', 'support', 'suppos', 'supposedli', 'suppress', 'suprem', 'supremaci', 'supremacist', 'supris', 'suprisingli', 'surann', 'sure', 'surest', 'surf', 'surfac', 'surfboard', 'surfer', 'surfin', 'surgeon', 'surgeri', 'surgic', 'surmount', 'surnam', 'surpass', 'surplu', 'surpris', 'surpriseâ', 'surprisingli', 'surreal', 'surrealist', 'surrend', 'surrog', 'surround', 'surte', 'surveil', 'survey', 'surviv', 'survivor', 'susan', 'susann', 'suscept', 'susi', 'suspect', 'suspectsâ', 'suspend', 'suspens', 'suspici', 'suspicion', 'suspiria', 'suss', 'sustain', 'sutherland', 'sutra', 'suuuuuuuuuuur', 'suv', 'suwa', 'suxor', 'suzann', 'suze', 'suzi', 'sven', 'svet', 'svu', 'swabbi', 'swagger', 'swallow', 'swamp', 'swampi', 'swan', 'swank', 'swanson', 'swap', 'swarm', 'swartz', 'swashbuckl', 'swastika', 'swat', 'swayz', 'swd', 'swear', 'sweat', 'sweati', 'swede', 'sweden', 'swedish', 'sweeney', 'sweep', 'sweepstak', 'sweet', 'sweetest', 'sweetheart', 'sweetin', 'sweetli', 'swell', 'swelter', 'swept', 'swift', 'swiftli', 'swig', 'swim', 'swimmer', 'swindl', 'swindler', 'swing', 'swink', 'swinton', 'swirl', 'swiss', 'swit', 'switch', 'switzerland', 'swoon', 'swoop', 'sword', 'swordfight', 'swordplay', 'swordsman', 'swordsmen', 'swore', 'sworn', 'swte', 'sxsw', 'syafi', 'sybil', 'sycoph', 'syd', 'sydney', 'sydow', 'syfi', 'syllabl', 'sylvain', 'sylvan', 'sylvest', 'sylvi', 'sylvia', 'symbol', 'symbologist', 'symmetr', 'symmetri', 'sympath', 'sympathet', 'sympathi', 'sympathis', 'symphoni', 'symposium', 'symptom', 'syn', 'synagogu', 'sync', 'syncer', 'synch', 'synchro', 'synchron', 'syndrom', 'synerg', 'synonym', 'synopsi', 'synth', 'synthes', 'synthet', 'syrewicz', 'syrup', 'syrupi', 'system', 'systemat', 'szifrã³n', 'sâ', 'tabernacl', 'tabl', 'tablewar', 'tabloid', 'taboo', 'tack', 'tacki', 'tackier', 'tackl', 'tacon', 'tactic', 'tactil', 'tad', 'tadanobu', 'tag', 'tagger', 'taglin', 'taho', 'tai', 'tail', 'tailor', 'taint', 'taiwan', 'takahashi', 'takahiro', 'takashi', 'take', 'taken', 'takeoff', 'takeshi', 'takita', 'taktarov', 'talalay', 'talbot', 'talbott', 'tale', 'talent', 'talentless', 'talespin', 'talisman', 'talk', 'talker', 'talki', 'tall', 'talley', 'tallien', 'talsania', 'taltan', 'tama', 'tamara', 'tambor', 'tame', 'tamer', 'tamerlan', 'tamlyn', 'tammi', 'tamper', 'tamura', 'tan', 'tanak', 'tandi', 'tang', 'tangent', 'tangibl', 'tangier', 'tangl', 'tango', 'tanja', 'tank', 'tanner', 'tanov', 'tansi', 'tantal', 'tantalis', 'tantoo', 'tantrapur', 'tantrum', 'tanushre', 'tanya', 'tap', 'tape', 'tapestri', 'tappin', 'tar', 'tara', 'taran', 'tarantino', 'tarantula', 'tard', 'target', 'tarintino', 'tarkan', 'tarkovski', 'tarmac', 'tarn', 'tarnish', 'tarpaulin', 'tart', 'tarzan', 'tasca', 'tashan', 'task', 'tassi', 'tast', 'tasteless', 'tasti', 'tasuiev', 'tat', 'tatami', 'tatou', 'tatsuhito', 'tatsuya', 'tatti', 'tattoo', 'tatum', 'taught', 'taunt', 'taurean', 'taut', 'tautou', 'tavern', 'tawdri', 'tax', 'taxat', 'taxi', 'taylor', 'tb', 'tbh', 'tchaikovski', 'tchch', 'tcm', 'tdc', 'tea', 'teabag', 'teach', 'teacher', 'teagu', 'teahous', 'teal', 'team', 'teammat', 'tear', 'tearjerk', 'teas', 'teaser', 'tech', 'techi', 'technic', 'technicolor', 'techniqu', 'techno', 'technolog', 'tecnic', 'ted', 'teddi', 'tediou', 'tedious', 'tedium', 'tee', 'teem', 'teen', 'teenag', 'teeni', 'teenybopp', 'teeth', 'teetot', 'tejada', 'telecast', 'telegraph', 'telepath', 'telephon', 'teleplay', 'teleport', 'telescop', 'telet', 'televis', 'tell', 'teller', 'telli', 'tellingli', 'temper', 'tempera', 'temperament', 'temperatur', 'tempest', 'templ', 'templar', 'templat', 'templer', 'tempo', 'temporari', 'temporarili', 'tempt', 'temptress', 'tempura', 'ten', 'tenac', 'tenaci', 'tenant', 'tenaru', 'tend', 'tendenc', 'tender', 'tenebra', 'tenement', 'tenenbaum', 'tenet', 'tenfold', 'tennesse', 'tenney', 'tenni', 'tennison', 'tenor', 'tens', 'tenser', 'tenshu', 'tension', 'tent', 'tentacl', 'tenuou', 'tenur', 'tepidli', 'terenc', 'teresa', 'teri', 'term', 'termin', 'terminolog', 'terrac', 'terrain', 'terrenc', 'terrestri', 'terri', 'terribl', 'terrif', 'terrifi', 'terrifyingli', 'territori', 'terror', 'terroris', 'terrorist', 'ters', 'terzieff', 'tesich', 'tess', 'test', 'testament', 'tester', 'testicl', 'testifi', 'testimoni', 'testosteron', 'testuo', 'tetanu', 'tetchili', 'tether', 'tetsuo', 'teuton', 'tew', 'texa', 'texan', 'text', 'textur', 'tftc', 'tgv', 'th', 'tha', 'thai', 'thailand', 'thalberg', 'thall', 'thalman', 'thank', 'thankless', 'thanksgiv', 'thankyou', 'tharp', 'that', 'thatâ', 'thaw', 'theater', 'theatr', 'theatric', 'thee', 'theft', 'thelan', 'themat', 'theme', 'thenewamerican', 'theobald', 'theodor', 'theolog', 'theoret', 'theori', 'theorist', 'ther', 'therapi', 'therapist', 'thereaft', 'thereat', 'therebi', 'therefor', 'therein', 'theresa', 'thermo', 'theron', 'thesi', 'thespian', 'thestarmak', 'thew', 'thi', 'thick', 'thicken', 'thickli', 'thief', 'thiev', 'thieveri', 'thigh', 'thin', 'thing', 'thinge', 'thingi', 'think', 'thinker', 'thinli', 'thinn', 'thinnest', 'third', 'thirdli', 'thirst', 'thirsti', 'thirteen', 'thirteenth', 'thirti', 'thiru', 'tho', 'thoma', 'thompson', 'thomsett', 'thomson', 'thon', 'thong', 'thorn', 'thornton', 'thorough', 'thoroughli', 'those', 'thou', 'though', 'thought', 'thoughtlessli', 'thourough', 'thousand', 'thrall', 'thrash', 'thread', 'threadbar', 'threat', 'threaten', 'three', 'threw', 'thrill', 'thriller', 'thrive', 'throat', 'throe', 'throll', 'throne', 'throttl', 'throughli', 'throughout', 'throw', 'throwaway', 'throwback', 'thrown', 'thru', 'thrust', 'thu', 'thud', 'thug', 'thuge', 'thuggish', 'thumb', 'thumbtack', 'thumper', 'thun', 'thunder', 'thunderbird', 'thunderbolt', 'thunderchild', 'thunderstorm', 'thurman', 'thursday', 'thusli', 'thwart', 'ti', 'tiana', 'tiberiu', 'tibet', 'tibetan', 'tick', 'ticket', 'tickl', 'ticlaw', 'tide', 'tidi', 'tie', 'tier', 'tiff', 'tiffani', 'tiger', 'tigerland', 'tight', 'tighten', 'tighter', 'tightli', 'tightrop', 'tightwad', 'tigra', 'tigron', 'tiku', 'til', 'tilda', 'till', 'tilli', 'tilt', 'tim', 'timberlak', 'timbrook', 'timbuktu', 'time', 'timeless', 'timer', 'timeâ', 'timid', 'timon', 'timothi', 'timpani', 'tin', 'tina', 'tingl', 'tini', 'tiniest', 'tint', 'tinvil', 'tip', 'tipsi', 'tipto', 'tire', 'tiresom', 'tisserand', 'tissu', 'tist', 'tit', 'titan', 'titil', 'titl', 'tito', 'titta', 'titular', 'tivo', 'tkoq', 'tlw', 'tm', 'tmnt', 'tmp', 'tna', 'toast', 'toaster', 'tobacco', 'tobe', 'tobi', 'tobia', 'tod', 'today', 'todd', 'toddler', 'toe', 'toga', 'togan', 'togeth', 'toi', 'toil', 'toilet', 'toiti', 'token', 'toko', 'tokoro', 'tokyo', 'told', 'toler', 'tolkien', 'toll', 'tolstoy', 'tom', 'toma', 'tomato', 'tomb', 'tomboy', 'tomboyish', 'tomcat', 'tome', 'tomei', 'tomeiher', 'tomilson', 'tomita', 'tommi', 'tomoko', 'tomorrow', 'ton', 'tone', 'toneless', 'tong', 'tongu', 'toni', 'tonight', 'tonk', 'tonn', 'toodl', 'took', 'tool', 'toolbox', 'toon', 'tooooo', 'tooth', 'toothach', 'toothbrush', 'toothi', 'toothpast', 'tootsi', 'top', 'topic', 'topless', 'topnotch', 'topper', 'toppl', 'toppsi', 'topsoil', 'tor', 'tora', 'torch', 'tori', 'torment', 'tormento', 'torn', 'tornator', 'toro', 'toronto', 'torpedo', 'torranc', 'torrelson', 'torrid', 'tortuou', 'tortuous', 'tortur', 'tosh', 'toshiro', 'toss', 'tot', 'total', 'totalitarian', 'tote', 'toto', 'totoro', 'touch', 'touchi', 'touchingli', 'tough', 'tougher', 'toughest', 'tour', 'tourism', 'tourist', 'touristi', 'tournament', 'tourneur', 'tournier', 'tout', 'tow', 'toward', 'towel', 'tower', 'town', 'towner', 'townfolk', 'townsend', 'townsfolk', 'toxi', 'toxic', 'toy', 'toyiji', 'toymak', 'toytown', 'tra', 'trace', 'traceabl', 'tracey', 'traci', 'track', 'tracker', 'traction', 'trade', 'trademark', 'trader', 'tradesmen', 'tradit', 'traffic', 'traffick', 'tragedi', 'tragic', 'trail', 'trailer', 'traill', 'train', 'trainer', 'trait', 'traitor', 'tramp', 'trampl', 'trampolin', 'tran', 'tranc', 'tranquil', 'transcend', 'transfer', 'transfix', 'transform', 'transfus', 'transit', 'translat', 'transluc', 'transmit', 'transmogrifi', 'transpar', 'transpir', 'transplant', 'transport', 'transvestit', 'trap', 'trapez', 'trapper', 'trash', 'trashi', 'trashiest', 'trauma', 'traumat', 'traumatis', 'travel', 'travers', 'travesti', 'travi', 'travolta', 'trawl', 'traynor', 'treacher', 'treacheri', 'tread', 'treason', 'treasur', 'treat', 'treati', 'treatis', 'treatment', 'treatment_', 'tree', 'trek', 'trelayn', 'trelkovski', 'tremain', 'trembl', 'tremend', 'tremor', 'trench', 'trend', 'trendi', 'trepid', 'treshold', 'trevor', 'trey', 'tri', 'triad', 'trial', 'triangl', 'triangul', 'tribal', 'tribe', 'tribeca', 'tribun', 'tribut', 'tricia', 'trick', 'tricki', 'trickl', 'tricksi', 'trier', 'triffid', 'trifl', 'trigger', 'trilateralist', 'trill', 'trilog', 'trim', 'trini', 'triniti', 'trintign', 'trio', 'trip', 'tripe', 'tripl', 'triplett', 'tripp', 'tripplehorn', 'triptych', 'trish', 'trite', 'triumph', 'triumphant', 'triumphantli', 'trivia', 'trivial', 'trodden', 'troi', 'troika', 'troll', 'troma', 'tromavil', 'tron', 'troop', 'trooper', 'trophi', 'tropic', 'trot', 'trotter', 'trotti', 'troubl', 'troublingli', 'troup', 'trout', 'trovajoli', 'trower', 'troy', 'truck', 'truckload', 'trudg', 'true', 'trueli', 'truffaut', 'truglio', 'truli', 'truman', 'trumpet', 'trunk', 'trust', 'trusti', 'trustworthi', 'truth', 'tryst', 'ts', 'tsar', 'tse', 'tshomb', 'tsiang', 'tsubaki', 'tsukamoto', 'tsunami', 'tsutomu', 'tu', 'tub', 'tubb', 'tube', 'tucci', 'tuck', 'tudjman', 'tudor', 'tuff', 'tug', 'tugge', 'tuition', 'tukur', 'tumblewe', 'tumour', 'tumpangan', 'tumultu', 'tun', 'tune', 'tungsten', 'tunnah', 'tunnel', 'tuohi', 'tura', 'turakistan', 'turan', 'turbo', 'turbul', 'turd', 'ture', 'turf', 'turgid', 'turkey', 'turkish', 'turmoil', 'turn', 'turner', 'turnout', 'turnup', 'turret', 'turtl', 'turturro', 'tuscan', 'tuscani', 'tusk', 'tuska', 'tussl', 'tutor', 'tuxedo', 'tv', 'tvamomodrã½', 'tvm', 'tw', 'twain', 'tweak', 'tweed', 'tweedi', 'tweeti', 'twelfth', 'twelv', 'twenti', 'twentieth', 'twice', 'twig', 'twila', 'twilight', 'twin', 'twing', 'twinkl', 'twirl', 'twist', 'two', 'twoddl', 'twomey', 'tx', 'tybalt', 'tykwer', 'tyler', 'type', 'typecast', 'typeâ', 'typhoon', 'typic', 'typo', 'typograph', 'tyranni', 'tyrant', 'tyron', 'tzigan', 'tâ', 'ua', 'uber', 'udder', 'udenio', 'udita', 'ufo', 'ug', 'uganda', 'ugh', 'ugli', 'ugliest', 'uh', 'uhh', 'uhhh', 'uhm', 'ui', 'uk', 'ule', 'ulf', 'ulli', 'ullman', 'ullmann', 'ulrich', 'ulterior', 'ultim', 'ultimatum', 'ultra', 'ultraviol', 'ulyss', 'um', 'uma', 'umbil', 'umbrag', 'umbrella', 'umm', 'ummm', 'umpteen', 'umpteenth', 'un', 'una', 'unabl', 'unaccount', 'unachiev', 'unadulter', 'unaffect', 'unamerican', 'unansw', 'unapologet', 'unapp', 'unapreci', 'unashamedli', 'unattract', 'unauthor', 'unavail', 'unawar', 'unbalanc', 'unbear', 'unbefit', 'unbeknownst', 'unbelief', 'unbeliev', 'unbelivebl', 'unbias', 'unborn', 'unbreak', 'uncal', 'uncanni', 'uncar', 'unceremoni', 'uncertain', 'unchalleng', 'unchoreograph', 'uncl', 'unclear', 'uncomfort', 'uncommon', 'uncommonli', 'uncompromis', 'uncondit', 'unconnect', 'unconsci', 'unconstitut', 'uncontrol', 'unconvent', 'unconvention', 'unconvinc', 'unconvincingli', 'uncool', 'uncouth', 'uncov', 'uncr', 'uncredit', 'uncrit', 'uncultur', 'uncut', 'undaunt', 'undead', 'undecid', 'undecipher', 'undemand', 'undeni', 'underag', 'underclass', 'undercov', 'undercut', 'underdevelop', 'underdog', 'underestim', 'undergo', 'undergon', 'underground', 'underl', 'underli', 'underlight', 'underlin', 'undermin', 'underneath', 'underp', 'underplay', 'underr', 'underscor', 'underst', 'understand', 'understat', 'understood', 'understudi', 'undertak', 'underton', 'underus', 'underwat', 'underway', 'underwear', 'underwhelm', 'underworld', 'underwritten', 'undeserv', 'undesir', 'undet', 'undetect', 'undevelop', 'undi', 'undisciplin', 'undiscov', 'undisput', 'undivid', 'undo', 'undon', 'undoubtedli', 'undress', 'unearth', 'uneas', 'uneasi', 'uneasili', 'unedit', 'unemot', 'unemploy', 'unend', 'unenjoy', 'unentertain', 'unequivoc', 'uneth', 'unev', 'uneven', 'unexcept', 'unexcit', 'unexpect', 'unexpectedli', 'unexplain', 'unexplor', 'unfabul', 'unfair', 'unfairli', 'unfaith', 'unfamiliar', 'unfasten', 'unfathom', 'unfinish', 'unflatt', 'unflinch', 'unflinchinglyâ', 'unfocus', 'unfocuss', 'unfold', 'unforc', 'unforgett', 'unforgiv', 'unfortun', 'unfound', 'unfriendli', 'unfruit', 'unfulfil', 'unfunni', 'unfunnili', 'ungar', 'unglamor', 'ungrat', 'unhappi', 'unharm', 'unharvest', 'unhealthi', 'unheard', 'unhing', 'unholi', 'unhook', 'unhurt', 'unidentifi', 'uniform', 'uniformli', 'unimagin', 'unimaginari', 'unimport', 'unimpress', 'uninhibit', 'uniniti', 'uninspir', 'uninspiringli', 'unintellig', 'unintelligbl', 'unintend', 'unintent', 'uninterest', 'uninvit', 'uninvolv', 'union', 'uniqu', 'uniron', 'unison', 'unit', 'univer', 'univers', 'unjust', 'unjustli', 'unkempt', 'unknowingli', 'unknown', 'unleash', 'unless', 'unlik', 'unlikelihood', 'unlock', 'unlov', 'unlucki', 'unluckili', 'unmask', 'unmatch', 'unmemor', 'unmiss', 'unmistak', 'unmotiv', 'unnatur', 'unnecessari', 'unnecessarili', 'unnerv', 'unnot', 'unobtrus', 'unoffici', 'unorigin', 'unorthodox', 'unpalat', 'unparallel', 'unpatriot', 'unpleas', 'unpleasantli', 'unplug', 'unpolish', 'unpopular', 'unpreced', 'unpredict', 'unprepar', 'unpretenti', 'unprincipl', 'unquestion', 'unquot', 'unrat', 'unravel', 'unreal', 'unrealist', 'unreason', 'unrecognis', 'unrecogniz', 'unredeem', 'unrefin', 'unrel', 'unreleas', 'unrelentingli', 'unreli', 'unremark', 'unremittingli', 'unrepent', 'unresolv', 'unromant', 'unsaid', 'unsatisfi', 'unsavori', 'unsavouri', 'unscariest', 'unscath', 'unscript', 'unscrupul', 'unseen', 'unselfish', 'unsentiment', 'unsettel', 'unsettl', 'unshav', 'unsightli', 'unskil', 'unsolv', 'unsophist', 'unspeak', 'unspecifi', 'unstabl', 'unstopp', 'unsubtitl', 'unsubtl', 'unsuccess', 'unsuit', 'unsur', 'unsurpass', 'unsurprisingli', 'unsuspect', 'unswerv', 'unsympathet', 'untal', 'untap', 'unten', 'unthink', 'untim', 'unto', 'untold', 'untouch', 'untrain', 'untroubl', 'untru', 'untrustworthi', 'untruth', 'untyp', 'unusu', 'unveil', 'unwant', 'unwarr', 'unwash', 'unwatch', 'unwav', 'unwaveringli', 'unwelcom', 'unwieldi', 'unwil', 'unwilling', 'unwis', 'unwit', 'unwittingli', 'unwlecom', 'unworthi', 'unwrap', 'uomo', 'up', 'upa', 'upbeat', 'upbring', 'upcom', 'upconvert', 'updat', 'upend', 'upfront', 'upgrad', 'upheav', 'uphold', 'upholsteri', 'uplift', 'upmanship', 'upn', 'upon', 'upper', 'upris', 'uproari', 'upset', 'upsid', 'upstair', 'upstart', 'upswept', 'uptight', 'upward', 'upâ', 'ur', 'uranium', 'urban', 'urbano', 'urg', 'urgenc', 'urgent', 'urich', 'urin', 'ursula', 'uruguayan', 'us', 'usa', 'usabl', 'usag', 'usc', 'uscg', 'use', 'useless', 'user', 'usher', 'ushpizin', 'uso', 'ussr', 'ustinov', 'usual', 'usurp', 'usus', 'uswa', 'ut', 'utah', 'util', 'utmost', 'utopian', 'utter', 'utterli', 'uunivers', 'uv', 'uwe', 'vacant', 'vacat', 'vaccaro', 'vacil', 'vacuou', 'vacuous', 'vacuum', 'vada', 'vadar', 'vader', 'vadi', 'vagabond', 'vagin', 'vagina', 'vagu', 'vail', 'vain', 'val', 'valco', 'valedictorian', 'valentin', 'valereon', 'valeri', 'valet', 'valiant', 'valid', 'valium', 'valkyri', 'valle', 'valleta', 'valley', 'valmar', 'valor', 'vals', 'valseus', 'valu', 'valuabl', 'valv', 'vampir', 'van', 'vanc', 'vancouv', 'vanderbeek', 'vandross', 'vanessa', 'vanilla', 'vanina', 'vanini', 'vanish', 'vaniti', 'vanquish', 'vantag', 'vapid', 'vapoor', 'vapor', 'varden', 'varenn', 'vari', 'variat', 'varieti', 'variou', 'varney', 'vast', 'vastli', 'vat', 'vatican', 'vaudevil', 'vaughn', 'vaugn', 'vault', 'vaunt', 'vc', 'vcr', 'veer', 'vega', 'veget', 'vehement', 'vehicl', 'veil', 'vein', 'veiw', 'vel', 'velais', 'velasquez', 'vellai', 'velociraptor', 'velvet', 'vena', 'venezia', 'veng', 'vengeanc', 'vengenc', 'venic', 'venom', 'ventur', 'ventura', 'venu', 'ver', 'vera', 'verbal', 'verbos', 'verdict', 'verducci', 'verfremdung', 'verg', 'vergonha', 'verhoeven', 'verisimilitud', 'verit', 'verma', 'verneuil', 'vernon', 'veronica', 'veroniqu', 'vers', 'versa', 'versatil', 'version', 'versu', 'vertigo', 'vessel', 'vest', 'vestron', 'vet', 'veteran', 'vh', 'vh1', 'vi', 'via', 'viabl', 'vibe', 'vibrant', 'vibrat', 'vic', 'vicar', 'vicarag', 'vicari', 'vice', 'vicin', 'viciou', 'vicious', 'victim', 'victimless', 'victor', 'victori', 'victoria', 'victorian', 'vida', 'video', 'videoasia', 'videogam', 'videoplay', 'videotap', 'vidor', 'vie', 'vienna', 'viennes', 'vietnam', 'vietnames', 'view', 'viewer', 'viewpoint', 'vigilant', 'vignett', 'vigo', 'vigor', 'vii', 'viii', 'vijay', 'vike', 'vile', 'vili', 'vilif', 'villa', 'villag', 'villain', 'villaini', 'villian', 'vilnach', 'vin', 'vinc', 'vincent', 'vinci', 'vindic', 'vineyard', 'ving', 'vinni', 'vintag', 'viola', 'violat', 'violenc', 'violent', 'violet', 'violin', 'vip', 'vir', 'viral', 'virgil', 'virgin', 'virginia', 'virginya', 'viril', 'virna', 'virtu', 'virtual', 'virtuou', 'viru', 'visa', 'visag', 'viscer', 'vischonti', 'visconti', 'viscous', 'vishal', 'visibil', 'visibl', 'vision', 'visionari', 'visionist', 'visit', 'visitor', 'vista', 'visual', 'visualis', 'vita', 'vital', 'vito', 'vittoria', 'vittorio', 'viva', 'vivaci', 'vivan', 'vivian', 'vivid', 'vividli', 'vivien', 'vivr', 'vo12no18', 'vo12no18_mccarthi', 'vocabulari', 'vocal', 'voce', 'vodka', 'vogel', 'voic', 'voiceov', 'void', 'voight', 'vol', 'volatil', 'volcan', 'volcano', 'volckman', 'volkswagen', 'volkswagon', 'volleybal', 'volnay', 'volontã', 'volt', 'voltag', 'volum', 'volumin', 'volunt', 'voluntarili', 'voluptu', 'vomit', 'von', 'voodoo', 'voorhe', 'vortex', 'vote', 'voter', 'vou', 'vouch', 'vow', 'voyag', 'voyeur', 'voyeurist', 'voz', 'vr', 'vs', 'vu', 'vuh', 'vulgar', 'vulgarli', 'vulner', 'vultan', 'vw', 'vã', 'waaaaay', 'waaaay', 'wachowski', 'wacki', 'wackier', 'wacko', 'waco', 'wadsworth', 'wafer', 'waffl', 'wag', 'wage', 'wager', 'wagner', 'wagnerian', 'wagon', 'wagter', 'wahlberg', 'wai', 'wain', 'waist', 'wait', 'waiter', 'waitress', 'wake', 'wal', 'walchek', 'wald', 'waldau', 'walid', 'walk', 'walken', 'walker', 'walkley', 'wall', 'wallac', 'wallet', 'wallflow', 'walli', 'wallop', 'wallow', 'wallpap', 'walmart', 'walsh', 'walt', 'walter', 'walton', 'waltz', 'wan', 'wanda', 'wander', 'wanderlust', 'wane', 'wang', 'wanna', 'wannab', 'want', 'wantonli', 'war', 'warburton', 'ward', 'warden', 'wardrob', 'ware', 'warehous', 'warfar', 'warhol', 'wari', 'warlord', 'warm', 'warmth', 'warn', 'warner', 'warp', 'warrant', 'warrantless', 'warren', 'warrior', 'wart', 'warthog', 'wartim', 'wash', 'washington', 'washout', 'wasnt', 'wasnâ', 'wasson', 'wast', 'wasteland', 'watc', 'watch', 'watchabl', 'watchdog', 'watcher', 'watchstand', 'watchword', 'water', 'waterd', 'waterfal', 'waterfront', 'waterloo', 'waterman', 'waterproof', 'waterston', 'wath', 'watkin', 'watl', 'watro', 'watson', 'watt', 'waugh', 'wave', 'wavelength', 'waver', 'waw', 'wax', 'way', 'wayan', 'waylaid', 'wayn', 'waysid', 'wayward', 'wayâ', 'wazoo', 'wb', 'wcw', 'we', 'weak', 'weaken', 'weaker', 'weakest', 'weakli', 'wealth', 'wealthi', 'wealthyâ', 'weapon', 'wear', 'weari', 'wearili', 'weas', 'weasel', 'weather', 'weav', 'weaver', 'web', 'webb', 'weber', 'websit', 'webster', 'wed', 'wedgi', 'wedlock', 'wednesday', 'wee', 'weed', 'week', 'weekday', 'weekend', 'weekli', 'weep', 'weepi', 'weezil', 'wei', 'weigh', 'weight', 'wein', 'weinberg', 'weir', 'weird', 'weirdest', 'weirdli', 'weirdo', 'weiss', 'weisz', 'weitz', 'welch', 'welcom', 'weld', 'welder', 'weldon', 'welfar', 'well', 'weller', 'wellington', 'wellspr', 'wellâ', 'welsh', 'welt', 'wen', 'wenatche', 'wench', 'wender', 'wendi', 'wendt', 'went', 'werecat', 'werewolf', 'werewolv', 'werid', 'werner', 'wesley', 'wesson', 'west', 'western', 'wet', 'wexler', 'whack', 'whacki', 'whaddya', 'whale', 'whalley', 'whallop', 'wham', 'whammi', 'what', 'whatev', 'whatnot', 'whatsoev', 'whatwashethink', 'whatâ', 'wheat', 'wheel', 'wheelchair', 'wheeler', 'whenev', 'wherea', 'whereabout', 'wherebi', 'wherein', 'wherev', 'whether', 'whew', 'whi', 'whichev', 'whiff', 'while', 'whilst', 'whimsic', 'whine', 'whini', 'whip', 'whippet', 'whirlwind', 'whisk', 'whisper', 'whistl', 'whistlestop', 'whit', 'whitak', 'white', 'whitehead', 'whitehous', 'whiter', 'whitewash', 'whitney', 'whittington', 'whiz', 'who', 'whoa', 'whodunit', 'whodunnit', 'whoever', 'whole', 'wholeheartedli', 'wholesom', 'wholli', 'whomev', 'whoop', 'whoopi', 'whoosh', 'whore', 'whorehous', 'whose', 'whpat', 'whuppin', 'whyâ', 'wicca', 'wick', 'wickedli', 'wicker', 'wide', 'wideboy', 'wider', 'widescreen', 'widespread', 'widow', 'wield', 'wienberg', 'wife', 'wig', 'wiggin', 'wiggl', 'wikipedia', 'wil', 'wilcox', 'wild', 'wilder', 'wildli', 'wildlif', 'wildmon', 'wilhelm', 'wili', 'wilkinson', 'wilkison', 'wilkson', 'will', 'willa', 'willaim', 'willard', 'willem', 'willi', 'william', 'williamson', 'willing', 'willingli', 'willit', 'willow', 'willpow', 'wilsey', 'wilson', 'wimp', 'wimpi', 'wimpiest', 'win', 'winc', 'winch', 'winchel', 'winchest', 'winckler', 'wincott', 'wind', 'windfal', 'windmil', 'window', 'windscar', 'windshield', 'wine', 'winemak', 'winfrey', 'wing', 'wingnut', 'wink', 'winki', 'winkster', 'winn', 'winner', 'winni', 'winning', 'winningli', 'wino', 'winslet', 'winsom', 'winsor', 'winston', 'winter', 'wintri', 'wip', 'wipe', 'wire', 'wirey', 'wiri', 'wisconsin', 'wisdom', 'wise', 'wisecrack', 'wiser', 'wish', 'wishbon', 'wisher', 'wist', 'wit', 'witch', 'witchcraft', 'witcheri', 'witchi', 'withdraw', 'wither', 'witherspoon', 'withhold', 'within', 'without', 'withstand', 'withstood', 'witless', 'witti', 'wittier', 'wive', 'wizard', 'wizardri', 'wkrp', 'wkw', 'wladyslaw', 'wll', 'woeful', 'woefulli', 'wog', 'wok', 'woke', 'wolf', 'wolfit', 'wolfman', 'wollter', 'wolv', 'woman', 'womanis', 'womb', 'women', 'wonder', 'wonderfal', 'wonderland', 'wonderâ', 'wondrou', 'wong', 'wont', 'woo', 'wood', 'woodbridg', 'wooden', 'woodenhead', 'woodgrain', 'woodi', 'woodrow', 'woodward', 'woodwork', 'woof', 'wook', 'wooley', 'woop', 'wopat', 'word', 'wordi', 'wordier', 'wordless', 'wordplay', 'wore', 'work', 'workahol', 'worker', 'workgroup', 'workmanlik', 'workmanship', 'workmen', 'workout', 'workshop', 'workâ', 'world', 'worldli', 'worldwid', 'worm', 'wormhol', 'worn', 'worrel', 'worri', 'worringli', 'wors', 'worship', 'worshipp', 'worst', 'worth', 'worthi', 'worthless', 'worthwhil', 'would', 'wound', 'woven', 'wow', 'wpix', 'wqasn', 'wrack', 'wrap', 'wraparound', 'wrath', 'wreak', 'wreck', 'wreckag', 'wrench', 'wrest', 'wrestl', 'wrestlemania', 'wrestler', 'wretch', 'wretched', 'wri', 'wright', 'wring', 'wrinkl', 'wrinkli', 'wrist', 'writ', 'write', 'writer', 'writh', 'written', 'writtern', 'wrong', 'wronghead', 'wrongli', 'wrote', 'wtf', 'wuhl', 'wuhrer', 'wuss', 'wussi', 'wuxia', 'ww', 'ww2', 'ww3', 'wwd', 'wwe', 'wwf', 'wwi', 'wwii', 'wwiiâ', 'www', 'wyler', 'wyngard', 'wynn', 'xavier', 'xd', 'xenophob', 'xenophobia', 'xian', 'xii', 'xtro', 'xu', 'xvi', 'xxx', 'xylophon', 'ya', 'yaarana', 'yacht', 'yael', 'yagher', 'yah', 'yahoo', 'yahweh', 'yak', 'yakuza', 'yam', 'yamaguchi', 'yank', 'yanke', 'yap', 'yaphet', 'yard', 'yardley', 'yardstick', 'yarn', 'yasbeck', 'yashiro', 'yashraj', 'yasmin', 'yasser', 'yasuko', 'yate', 'yawn', 'yay', 'yd', 'ye', 'yea', 'yeah', 'year', 'yearl', 'yearli', 'yearn', 'yeeee', 'yelchin', 'yell', 'yellow', 'yeo', 'yeon', 'yep', 'yer', 'yesterday', 'yesteryear', 'yet', 'yeti', 'yield', 'yike', 'yimou', 'ylva', 'yo', 'yoda', 'yogi', 'yojiro', 'yokai', 'yoke', 'yoko', 'yoland', 'yolanda', 'yon', 'yoo', 'yootha', 'york', 'yorker', 'yoshida', 'yoshimi', 'yoshiyuki', 'yosimit', 'yossi', 'youki', 'young', 'youngblood', 'younger', 'youngest', 'youngster', 'your', 'youth', 'youtub', 'youâ', 'yowza', 'yr', 'yu', 'yuan', 'yuen', 'yugoslavia', 'yugoslavian', 'yuk', 'yuki', 'yukio', 'yul', 'yuletid', 'yung', 'yungme', 'yup', 'yuppi', 'yuria', 'yusuf', 'yuzna', 'yve', 'yvonn', 'zabriski', 'zach', 'zachari', 'zack', 'zadora', 'zair', 'zambibwia', 'zana', 'zane', 'zani', 'zanuck', 'zap', 'zapper', 'zarkorr', 'zarkov', 'zasu', 'zatoichi', 'zay', 'zbignew', 'zeal', 'zealand', 'zealot', 'zealotri', 'zealou', 'zed', 'zedora', 'zeek', 'zeffirelli', 'zelah', 'zelda', 'zellweg', 'zemljic', 'zentropa', 'zeppelin', 'zero', 'zest', 'zeta', 'zeu', 'zhang', 'zhao', 'zhigang', 'zhivago', 'zhou', 'zhu', 'ziegfeld', 'ziller', 'zima', 'zimmer', 'zinger', 'zion', 'zionist', 'zip', 'ziploc', 'ziyi', 'znidars', 'zoe', 'zombi', 'zombiez', 'zombifi', 'zone', 'zoo', 'zooland', 'zoologist', 'zoom', 'zor', 'zorba', 'zu', 'zucco', 'zucker', 'zuckerman', 'zuniga', 'zurer', 'zwart', 'zweit', 'âº', 'â½', 'ã¼bermensch', 'ã¼bermenschlich']\n"
          ],
          "name": "stdout"
        }
      ]
    },
    {
      "cell_type": "code",
      "metadata": {
        "id": "91rN5pDWj67z",
        "colab": {
          "base_uri": "https://localhost:8080/",
          "height": 147
        },
        "outputId": "0dfd4dc8-fee1-4a5a-8a1e-447b007367b2"
      },
      "source": [
        "xt_vec = cv.transform(xt_clean).toarray()\n",
        "print(xt_vec)\n",
        "cv.get_feature_names()\n",
        "print(xt_vec.shape)"
      ],
      "execution_count": null,
      "outputs": [
        {
          "output_type": "stream",
          "text": [
            "[[0 0 0 ... 0 0 0]\n",
            " [0 0 0 ... 0 0 0]\n",
            " [0 0 0 ... 0 0 0]\n",
            " ...\n",
            " [0 0 0 ... 0 0 0]\n",
            " [0 0 0 ... 0 0 0]\n",
            " [0 0 0 ... 0 0 0]]\n",
            "(2000, 17760)\n"
          ],
          "name": "stdout"
        }
      ]
    },
    {
      "cell_type": "code",
      "metadata": {
        "id": "RCdRwdLFgTgH"
      },
      "source": [
        "from sklearn.naive_bayes import MultinomialNB, BernoulliNB, GaussianNB"
      ],
      "execution_count": null,
      "outputs": []
    },
    {
      "cell_type": "code",
      "metadata": {
        "id": "ogVWILAPgY7i",
        "colab": {
          "base_uri": "https://localhost:8080/",
          "height": 33
        },
        "outputId": "67e5dee6-8c9d-45d9-b9a4-0e1463f70bf6"
      },
      "source": [
        "mnb= MultinomialNB()\n",
        "print(mnb)"
      ],
      "execution_count": null,
      "outputs": [
        {
          "output_type": "stream",
          "text": [
            "MultinomialNB(alpha=1.0, class_prior=None, fit_prior=True)\n"
          ],
          "name": "stdout"
        }
      ]
    },
    {
      "cell_type": "code",
      "metadata": {
        "id": "TWsBLm8Lijjl",
        "colab": {
          "base_uri": "https://localhost:8080/",
          "height": 33
        },
        "outputId": "eeb24b7f-d332-4d74-b6bb-e7ef74814df2"
      },
      "source": [
        "mnb.fit(x_vec,y[0:2000])"
      ],
      "execution_count": null,
      "outputs": [
        {
          "output_type": "execute_result",
          "data": {
            "text/plain": [
              "MultinomialNB(alpha=1.0, class_prior=None, fit_prior=True)"
            ]
          },
          "metadata": {
            "tags": []
          },
          "execution_count": 32
        }
      ]
    },
    {
      "cell_type": "code",
      "metadata": {
        "id": "aaF6fNYhiooO",
        "colab": {
          "base_uri": "https://localhost:8080/",
          "height": 33
        },
        "outputId": "36d17e91-77ff-4c71-c585-20104de3ec9e"
      },
      "source": [
        "mnb.predict(xt_vec)"
      ],
      "execution_count": null,
      "outputs": [
        {
          "output_type": "execute_result",
          "data": {
            "text/plain": [
              "array(['pos', 'neg', 'pos', ..., 'pos', 'neg', 'neg'], dtype='<U3')"
            ]
          },
          "metadata": {
            "tags": []
          },
          "execution_count": 33
        }
      ]
    },
    {
      "cell_type": "code",
      "metadata": {
        "id": "CNdvkB-OkPk9"
      },
      "source": [
        "ans = mnb.predict_proba(xt_vec)"
      ],
      "execution_count": null,
      "outputs": []
    },
    {
      "cell_type": "code",
      "metadata": {
        "id": "x-R6O3r_kUL2"
      },
      "source": [
        "bnb = BernoulliNB(binarize = 0.0)"
      ],
      "execution_count": null,
      "outputs": []
    },
    {
      "cell_type": "code",
      "metadata": {
        "id": "Ni8XUcU2kUG_",
        "colab": {
          "base_uri": "https://localhost:8080/",
          "height": 33
        },
        "outputId": "e5d77135-ca72-47b4-c30c-50d52d481234"
      },
      "source": [
        "print(bnb)"
      ],
      "execution_count": null,
      "outputs": [
        {
          "output_type": "stream",
          "text": [
            "BernoulliNB(alpha=1.0, binarize=0.0, class_prior=None, fit_prior=True)\n"
          ],
          "name": "stdout"
        }
      ]
    },
    {
      "cell_type": "code",
      "metadata": {
        "id": "fU94XsrFkell",
        "colab": {
          "base_uri": "https://localhost:8080/",
          "height": 33
        },
        "outputId": "5d17e8f0-6725-410d-c87d-5bc1c0ce7654"
      },
      "source": [
        "bnb.fit(x_vec,y[0:2000])"
      ],
      "execution_count": null,
      "outputs": [
        {
          "output_type": "execute_result",
          "data": {
            "text/plain": [
              "BernoulliNB(alpha=1.0, binarize=0.0, class_prior=None, fit_prior=True)"
            ]
          },
          "metadata": {
            "tags": []
          },
          "execution_count": 38
        }
      ]
    },
    {
      "cell_type": "code",
      "metadata": {
        "id": "Uap-T5YykjWq",
        "colab": {
          "base_uri": "https://localhost:8080/",
          "height": 131
        },
        "outputId": "8aa7c4c4-7e2e-4155-a67a-d451a748fba6"
      },
      "source": [
        "bnb.predict_proba(xt_vec)"
      ],
      "execution_count": null,
      "outputs": [
        {
          "output_type": "execute_result",
          "data": {
            "text/plain": [
              "array([[7.79717632e-04, 9.99220282e-01],\n",
              "       [9.95494554e-01, 4.50544616e-03],\n",
              "       [5.86823240e-03, 9.94131768e-01],\n",
              "       ...,\n",
              "       [2.61894554e-03, 9.97381054e-01],\n",
              "       [9.99998661e-01, 1.33911457e-06],\n",
              "       [9.99278534e-01, 7.21465763e-04]])"
            ]
          },
          "metadata": {
            "tags": []
          },
          "execution_count": 39
        }
      ]
    },
    {
      "cell_type": "code",
      "metadata": {
        "id": "geijcNLUknyj",
        "colab": {
          "base_uri": "https://localhost:8080/",
          "height": 33
        },
        "outputId": "818090f4-727a-4126-f100-e40ccdeeecbf"
      },
      "source": [
        "bnb.score(xt_vec,y[2000:4000])"
      ],
      "execution_count": null,
      "outputs": [
        {
          "output_type": "execute_result",
          "data": {
            "text/plain": [
              "0.817"
            ]
          },
          "metadata": {
            "tags": []
          },
          "execution_count": 40
        }
      ]
    },
    {
      "cell_type": "code",
      "metadata": {
        "id": "AAx-yfQPktp8",
        "colab": {
          "base_uri": "https://localhost:8080/",
          "height": 33
        },
        "outputId": "70fbb05b-5e57-486d-f262-08ade3cc7d56"
      },
      "source": [
        "mnb.score(xt_vec,y[2000:4000])"
      ],
      "execution_count": null,
      "outputs": [
        {
          "output_type": "execute_result",
          "data": {
            "text/plain": [
              "0.826"
            ]
          },
          "metadata": {
            "tags": []
          },
          "execution_count": 41
        }
      ]
    },
    {
      "cell_type": "code",
      "metadata": {
        "id": "BhQ0ELzXky87"
      },
      "source": [
        "gnb = GaussianNB()"
      ],
      "execution_count": null,
      "outputs": []
    },
    {
      "cell_type": "code",
      "metadata": {
        "id": "xwT5tovEk4aM",
        "colab": {
          "base_uri": "https://localhost:8080/",
          "height": 33
        },
        "outputId": "c41c60fd-4688-47d6-c45a-54269339f62d"
      },
      "source": [
        "gnb.fit(x_vec,y[0:2000])"
      ],
      "execution_count": null,
      "outputs": [
        {
          "output_type": "execute_result",
          "data": {
            "text/plain": [
              "GaussianNB(priors=None, var_smoothing=1e-09)"
            ]
          },
          "metadata": {
            "tags": []
          },
          "execution_count": 44
        }
      ]
    },
    {
      "cell_type": "code",
      "metadata": {
        "id": "lP7k-AT_k-qb",
        "colab": {
          "base_uri": "https://localhost:8080/",
          "height": 131
        },
        "outputId": "bff073bd-4d7b-4e29-f88a-99856eac833b"
      },
      "source": [
        "gnb.predict_proba(xt_vec)"
      ],
      "execution_count": null,
      "outputs": [
        {
          "output_type": "execute_result",
          "data": {
            "text/plain": [
              "array([[0., 1.],\n",
              "       [0., 1.],\n",
              "       [1., 0.],\n",
              "       ...,\n",
              "       [0., 1.],\n",
              "       [0., 1.],\n",
              "       [1., 0.]])"
            ]
          },
          "metadata": {
            "tags": []
          },
          "execution_count": 45
        }
      ]
    },
    {
      "cell_type": "code",
      "metadata": {
        "id": "MZqqQhsYlDe5",
        "colab": {
          "base_uri": "https://localhost:8080/",
          "height": 33
        },
        "outputId": "5d183ef9-e2bf-490c-cdf5-94fbd9c070ba"
      },
      "source": [
        "gnb.score(xt_vec,y[2000:4000])"
      ],
      "execution_count": null,
      "outputs": [
        {
          "output_type": "execute_result",
          "data": {
            "text/plain": [
              "0.6495"
            ]
          },
          "metadata": {
            "tags": []
          },
          "execution_count": 47
        }
      ]
    },
    {
      "cell_type": "code",
      "metadata": {
        "id": "0YrpMgaNlTjg",
        "colab": {
          "base_uri": "https://localhost:8080/",
          "height": 66
        },
        "outputId": "f66dc81e-5edd-4098-9aaf-56d8d13a38a8"
      },
      "source": [
        "print(\"BERNAULLI NAIVE BAYES SCORE = \", bnb.score(xt_vec,y[2000:4000]))\n",
        "print(\"MULTINOMIAL NAIVE BAYES SCORE = \", mnb.score(xt_vec,y[2000:4000]))\n",
        "print(\"GAUSSIAN NAIVE BAYES SCORE = \", gnb.score(xt_vec,y[2000:4000]))"
      ],
      "execution_count": null,
      "outputs": [
        {
          "output_type": "stream",
          "text": [
            "BERNAULLI NAIVE BAYES SCORE =  0.817\n",
            "MULTINOMIAL NAIVE BAYES SCORE =  0.826\n",
            "GAUSSIAN NAIVE BAYES SCORE =  0.6495\n"
          ],
          "name": "stdout"
        }
      ]
    }
  ]
}